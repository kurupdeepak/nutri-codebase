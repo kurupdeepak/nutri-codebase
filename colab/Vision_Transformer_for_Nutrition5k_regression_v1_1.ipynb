{
 "cells": [
  {
   "cell_type": "markdown",
   "metadata": {
    "id": "PFxEnSfLYwRb"
   },
   "source": [
    "# About\n",
    "* This notebook contains a quick prototyp to load entire Nutrition5k data, both dish and dish_ingredients are available  \n",
    "* Callback Creator with default params\n",
    "* Sample size of 50\n",
    "* Shows how to upload the directory to tensorboard dev"
   ]
  },
  {
   "cell_type": "markdown",
   "metadata": {
    "id": "16Hb9HTtUCox"
   },
   "source": [
    "# Utility & Model Building Components"
   ]
  },
  {
   "cell_type": "code",
   "execution_count": 1,
   "metadata": {
    "colab": {
     "base_uri": "https://localhost:8080/"
    },
    "id": "RK5hv-LLXjlU",
    "outputId": "8933c1fb-c507-4ec3-d58a-47ac2b8d5280"
   },
   "outputs": [
    {
     "name": "stdout",
     "output_type": "stream",
     "text": [
      "Defaulting to user installation because normal site-packages is not writeable\n",
      "Requirement already satisfied: tensorflow_addons in ./.local/lib/python3.8/site-packages (0.18.0)\n",
      "Requirement already satisfied: typeguard>=2.7 in ./.local/lib/python3.8/site-packages (from tensorflow_addons) (2.13.3)\n",
      "Requirement already satisfied: packaging in ./.local/lib/python3.8/site-packages (from tensorflow_addons) (21.3)\n",
      "Requirement already satisfied: pyparsing!=3.0.5,>=2.0.2 in /usr/lib/python3/dist-packages (from packaging->tensorflow_addons) (2.4.6)\n"
     ]
    }
   ],
   "source": [
    "!pip install tensorflow_addons"
   ]
  },
  {
   "cell_type": "markdown",
   "metadata": {
    "id": "vzYoVtwPZREc"
   },
   "source": [
    "## CallbackHelper"
   ]
  },
  {
   "cell_type": "code",
   "execution_count": 2,
   "metadata": {
    "id": "6qclFjPuUEpL"
   },
   "outputs": [],
   "source": [
    "import tensorflow as tf\n",
    "import tensorflow_addons as tfa\n",
    "import datetime\n",
    "\n",
    "\n",
    "class CallbackHelper:\n",
    "    def __init__(self, base_dir, logs_dir=\"/logs\"):\n",
    "        self.base_dir = base_dir\n",
    "\n",
    "        self.logs_base_dir = base_dir + logs_dir\n",
    "\n",
    "        self.timestamp = datetime.datetime.now().strftime(\"%Y%m%d-%H%M%S\")\n",
    "\n",
    "    def create_callback(self, callback_name=None, experiment=None,  tb_write_images=True, tb_hist_freq=1,\n",
    "                        es_monitor=\"val_loss\", es_patience=10, lrs_schedule=None, lrs_verbose=0):\n",
    "        callback = None\n",
    "\n",
    "        if callback_name == 'MC':\n",
    "            log_file = self.get_log_file(callback_name, experiment)\n",
    "            callback = tf.keras.callbacks.ModelCheckpoint(log_file)\n",
    "            print(\"Log file used = \", log_file)\n",
    "\n",
    "        if callback_name == 'TB':\n",
    "            log_file = self.get_log_file(callback_name, experiment)\n",
    "            callback = tf.keras.callbacks.TensorBoard(log_dir=log_file,\n",
    "                                                      write_images=tb_write_images,\n",
    "                                                      histogram_freq=tb_hist_freq)\n",
    "            print(\"Log file used = \", log_file)\n",
    "            \n",
    "        if callback_name == 'ES':\n",
    "            callback = tf.keras.callbacks.EarlyStopping(monitor=es_monitor,\n",
    "                                                        patience=es_patience)\n",
    "        if callback_name == 'TQDM':\n",
    "            callback = tfa.callbacks.TQDMProgressBar()\n",
    "\n",
    "        if callback_name == 'LRS':\n",
    "            callback = tf.keras.callbacks.LearningRateScheduler(lrs_schedule, lrs_verbose=lrs_verbose)\n",
    "\n",
    "\n",
    "        return callback\n",
    "\n",
    "    def get_log_file(self, callback_name, experiment):\n",
    "        log_path = self.logs_base_dir + experiment + \"/\" + self.timestamp + \"/\" + callback_name\n",
    "        return log_path\n"
   ]
  },
  {
   "cell_type": "markdown",
   "metadata": {
    "id": "NtjcVZPNgyjh"
   },
   "source": [
    "## ImageProcessor"
   ]
  },
  {
   "cell_type": "code",
   "execution_count": 3,
   "metadata": {
    "id": "KMDuNsTSg1TW"
   },
   "outputs": [],
   "source": [
    "import numpy as np\n",
    "import matplotlib.pyplot as plt\n",
    "import cv2\n",
    "import random\n",
    "\n",
    "\n",
    "class ImagePreProcessor:\n",
    "    def __init__(self, dishes):\n",
    "        self.dishes = dishes\n",
    "\n",
    "    @staticmethod\n",
    "    def crop(img):\n",
    "        # argwhere will give you the coordinates of every non-zero point\n",
    "        true_points = np.argwhere(img)\n",
    "        # take the smallest points and use them as the top left of your crop\n",
    "        top_left = true_points.min(axis=0)\n",
    "        # take the largest points and use them as the bottom right of your crop\n",
    "        bottom_right = true_points.max(axis=0)\n",
    "        out = img[top_left[0]:bottom_right[0] + 1,  # plus 1 because slice isn't\n",
    "              top_left[1]:bottom_right[1] + 1]  # inclusive\n",
    "        return out\n",
    "\n",
    "    @staticmethod\n",
    "    def rectangular_mask(dish_path):\n",
    "        image_bgr = cv2.imread(dish_path)\n",
    "        mask = np.zeros(image_bgr.shape[:2], dtype=\"uint8\")\n",
    "        # mask = cv2.rectangle(mask, (0, 480), (180, 580), 255, -1)\n",
    "        mask = cv2.rectangle(mask, (180, 30), (600, 480), 255, -1)\n",
    "        masked = cv2.bitwise_or(image_bgr, image_bgr, mask=mask)\n",
    "        masked = cv2.cvtColor(masked, cv2.COLOR_BGR2RGB)\n",
    "        return image_bgr, mask, masked\n",
    "\n",
    "    @staticmethod\n",
    "    def remove_blue(hsv_image):\n",
    "        input_image = hsv_image.copy()\n",
    "\n",
    "        grayscale_image = cv2.cvtColor(input_image, cv2.COLOR_BGR2GRAY)\n",
    "\n",
    "        # Convert the BGR image to HSV:\n",
    "        hsv_image = cv2.cvtColor(input_image, cv2.COLOR_BGR2HSV)\n",
    "\n",
    "        # Create the HSV range for the blue ink:\n",
    "        # [128, 255, 255], [90, 50, 70]\n",
    "        lower_values = np.array([90, 50, 70])\n",
    "        upper_values = np.array([128, 255, 255])\n",
    "\n",
    "        # Get binary mask of the blue ink:\n",
    "        blue_mask = cv2.inRange(hsv_image, lower_values, upper_values)\n",
    "        # Use a little bit of morphology to clean the mask:\n",
    "        # Set kernel (structuring element) size:\n",
    "        kernel_size = 3\n",
    "        # Set morph operation iterations:\n",
    "        op_iterations = 1\n",
    "        # Get the structuring element:\n",
    "        morph_kernel = cv2.getStructuringElement(cv2.MORPH_RECT, (kernel_size, kernel_size))\n",
    "        # Perform closing:\n",
    "        blue_mask = cv2.morphologyEx(blue_mask, cv2.MORPH_CLOSE, morph_kernel, None, None, op_iterations,\n",
    "                                     cv2.BORDER_REFLECT101)\n",
    "\n",
    "        # Add the white mask to the grayscale image:\n",
    "        color_mask = cv2.add(grayscale_image, blue_mask)\n",
    "        _, binary_image = cv2.threshold(color_mask, 0, 255, cv2.THRESH_BINARY + cv2.THRESH_OTSU)\n",
    "        # cv2.imwrite('bwimage.jpg',binary_image)\n",
    "        thresh, im_bw = cv2.threshold(binary_image, 210, 230, cv2.THRESH_BINARY)\n",
    "        kernel = np.ones((1, 1), np.uint8)\n",
    "        image_final = cv2.dilate(im_bw, kernel=kernel, iterations=1)\n",
    "        return image_final\n",
    "\n",
    "    @staticmethod\n",
    "    def get_final_img(self, image_path, crop_only=False):\n",
    "        orig_bgr, mask, masked = self.rectangular_mask(image_path)\n",
    "        cropped_out = self.crop(masked)\n",
    "        out = []\n",
    "        if crop_only:\n",
    "            out.append([orig_bgr, mask, masked, cropped_out, None])\n",
    "        else:\n",
    "            rgb = cropped_out.copy()\n",
    "            hsv = cv2.cvtColor(cropped_out, cv2.COLOR_BGR2HSV)\n",
    "            imgfinal = self.remove_blue(hsv)\n",
    "            copy_of = imgfinal.copy()\n",
    "            # copy_of[copy_of > 0] = 255\n",
    "            final_img = cv2.bitwise_and(rgb, rgb, mask=copy_of)\n",
    "            out.append([orig_bgr, mask, masked, cropped_out, final_img])\n",
    "        return out\n",
    "\n",
    "    @staticmethod\n",
    "    def test(self, n=2, crop_only=False):\n",
    "        index = random.sample(list(np.arange(len(self.dishes))), n)\n",
    "        img_paths = [self.dishes[i] for i in index]\n",
    "        out = []\n",
    "        for i, path in enumerate(img_paths):\n",
    "            orig_bgr, mask, masked = self.rectangular_mask(path)\n",
    "            cropped_out = self.crop(masked)\n",
    "            if crop_only:\n",
    "                out.append([orig_bgr, mask, masked, cropped_out, None])\n",
    "            else:\n",
    "                rgb = cropped_out.copy()\n",
    "                hsv = cv2.cvtColor(cropped_out, cv2.COLOR_BGR2HSV)\n",
    "                imgfinal = self.remove_blue(hsv)\n",
    "                copy_of = imgfinal.copy()\n",
    "                # copy_of[copy_of > 0] = 255\n",
    "                final_img = cv2.bitwise_and(rgb, rgb, mask=copy_of)\n",
    "                out.append([orig_bgr, mask, masked, cropped_out, final_img])\n",
    "        return out\n",
    "\n",
    "    @staticmethod\n",
    "    def display_sample(self, sample, crop_only=False):\n",
    "        grid = 1\n",
    "        n = len(sample)\n",
    "        c = 4 if crop_only else 5\n",
    "        plt.figure(figsize=(15, 10))\n",
    "        for i, lst in enumerate(sample):\n",
    "            img = cv2.cvtColor(lst[0], cv2.COLOR_BGR2RGB)\n",
    "            plt.subplot(n, c, grid)\n",
    "            plt.imshow(img)\n",
    "            plt.title(\"original\")\n",
    "\n",
    "            grid += 1\n",
    "            plt.subplot(n, c, grid)\n",
    "            plt.imshow(lst[1])\n",
    "            plt.title(\"mask\")\n",
    "\n",
    "            grid += 1\n",
    "            plt.subplot(n, c, grid)\n",
    "            plt.imshow(lst[2])\n",
    "            plt.title(\"masked-out\")\n",
    "\n",
    "            grid += 1\n",
    "            plt.subplot(n, c, grid)\n",
    "            plt.imshow(lst[3])\n",
    "            plt.title(\"cropped\")\n",
    "\n",
    "            if not crop_only:\n",
    "                grid += 1\n",
    "                plt.subplot(n, c, grid)\n",
    "                plt.imshow(lst[4])\n",
    "                plt.title(\"final-out\")\n",
    "            grid += 1\n"
   ]
  },
  {
   "cell_type": "markdown",
   "metadata": {
    "id": "--mBFZgqh_Wb"
   },
   "source": [
    "## VITConfig"
   ]
  },
  {
   "cell_type": "code",
   "execution_count": 4,
   "metadata": {
    "id": "QRGPWZjKiJXE"
   },
   "outputs": [],
   "source": [
    "class VITConfig:\n",
    "    def __init__(self,\n",
    "                 image_size=None,\n",
    "                 patch_size=None,\n",
    "                 projection_dim=None,\n",
    "                 num_heads=None,\n",
    "                 transformer_layers=None,\n",
    "                 mlp_head_units=None,\n",
    "                 output_shape=None):\n",
    "        self.image_size = image_size\n",
    "        self.patch_size = patch_size\n",
    "        self.input_shape = (image_size, image_size, 3)  # input image shape\n",
    "        self.num_patches = (image_size // patch_size) ** 2\n",
    "        self.projection_dim = projection_dim\n",
    "        self.num_heads = num_heads\n",
    "        # Size of the transformer layers\n",
    "        self.transformer_units = [\n",
    "            projection_dim * 2,\n",
    "            projection_dim,\n",
    "        ]\n",
    "        self.transformer_layers = transformer_layers\n",
    "        self.mlp_head_units = mlp_head_units  # Size of the dense layers\n",
    "        self.output_size = output_shape\n",
    "\n",
    "    def data_augmentation_layers(self, inputs):\n",
    "        pass\n"
   ]
  },
  {
   "cell_type": "markdown",
   "metadata": {
    "id": "VHuylwqPg55t"
   },
   "source": [
    "## DatasetUtil"
   ]
  },
  {
   "cell_type": "code",
   "execution_count": 60,
   "metadata": {
    "id": "nSRumxtdg__v"
   },
   "outputs": [],
   "source": [
    "import pandas as pd\n",
    "import os\n",
    "import matplotlib.pyplot as plt\n",
    "\n",
    "\n",
    "class DatasetUtil:\n",
    "    @staticmethod\n",
    "    def get_top_30_ingredients(dish_ingredients):\n",
    "        dish_ing_by_count = dish_ingredients[['dish_id', 'name', 'id']] \\\n",
    "            .groupby('dish_id', as_index=False).id.count() \\\n",
    "            .sort_values(by=\"id\", ascending=False)\n",
    "        return dish_ing_by_count\n",
    "\n",
    "    @staticmethod\n",
    "    def check_dir(dish_ids, image_dir):\n",
    "        # print(\"Dish Shape\",dish_ids.shape)\n",
    "        df = pd.DataFrame(columns=['dish_id', 'exists'])\n",
    "        for dish_id in dish_ids:\n",
    "            # print(dish_images +  id)\n",
    "            df.loc[len(df.index)] = [dish_id, os.path.exists(image_dir + dish_id)]\n",
    "        return df\n",
    "\n",
    "    @staticmethod\n",
    "    def get_image_path(dish_ids,\n",
    "                       image_dir,\n",
    "                       file_name=\"/rgb.png\"):\n",
    "        print(\"Dish Shape\",dish_ids.shape)\n",
    "        print(\"Image path\",image_dir)\n",
    "        images = []\n",
    "        for dish_id in dish_ids:\n",
    "            if os.path.exists(image_dir + dish_id):\n",
    "                images.append({\"dish_id\": dish_id, \"image_path\": image_dir + dish_id + file_name})\n",
    "        df = pd.DataFrame(images, columns=[\"dish_id\", \"image_path\"])\n",
    "        return df\n",
    "\n",
    "    @staticmethod\n",
    "    def get_rgb_image(dish_ids,\n",
    "                      image_dir,\n",
    "                      file_name=\"/rgb.png\"):\n",
    "        # print(\"Dish Shape\",dish_ids)\n",
    "        images = []\n",
    "        for dish_id in dish_ids:\n",
    "            # print(\"Types = \",type(dish_images_path),type(dish_id))\n",
    "            if os.path.exists(image_dir + dish_id):\n",
    "                images.append({\"dish_id\": dish_id, \"image\": plt.imread(image_dir + dish_id + file_name)})\n",
    "        return images\n"
   ]
  },
  {
   "cell_type": "markdown",
   "metadata": {
    "id": "OxMrWltkhG_I"
   },
   "source": [
    "## DatasetConfig"
   ]
  },
  {
   "cell_type": "code",
   "execution_count": 47,
   "metadata": {
    "id": "9w8WunPJhMgi"
   },
   "outputs": [],
   "source": [
    "class DatasetConfig:\n",
    "    def __init__(self,\n",
    "                 base_dir=None,\n",
    "                 image_dir='',\n",
    "                 metadata_dir='',\n",
    "                 splits_dir='',\n",
    "                img_file_name='/rgb.png'):\n",
    "        self.workspace = base_dir\n",
    "        self.image_dir = self.workspace + image_dir\n",
    "        self.metadata_dir = self.workspace + metadata_dir\n",
    "        self.splits_dir = self.workspace + splits_dir\n",
    "        self.depth_train_file = \"/depth_train_ids.txt\"\n",
    "        self.depth_test_file = \"/depth_test_ids.txt\"\n",
    "        self.rgb_train_file = \"/rgb_train_ids.txt\"\n",
    "        self.rgb_test_file = \"/rgb_test_ids.txt\"\n",
    "        self.dish_cafe1_file = \"/dish_metadata_cafe1.csv\"\n",
    "        self.dish_cafe2_file = \"/dish_metadata_cafe2.csv\"\n",
    "        self.dish_ingredients_file = '/ingredients_metadata.csv'\n",
    "        self.dish_id_col = [\"dish_id\"]\n",
    "        self.image_file_name = img_file_name\n"
   ]
  },
  {
   "cell_type": "markdown",
   "metadata": {
    "id": "TNL6AEhphRJM"
   },
   "source": [
    "## DataLoader"
   ]
  },
  {
   "cell_type": "code",
   "execution_count": 65,
   "metadata": {
    "id": "4GkhORgohOfk"
   },
   "outputs": [],
   "source": [
    "import matplotlib.pyplot as plt\n",
    "import pandas as pd\n",
    "import random\n",
    "\n",
    "class DataLoader:\n",
    "    def __init__(self, data_config: DatasetConfig,\n",
    "                 debug: bool = False,subset=False):\n",
    "        self.rgb_train = None\n",
    "        self.rgb_test = None\n",
    "        self.depth_test = None\n",
    "        self.depth_train = None\n",
    "        self.test_dish_ids = None\n",
    "        self.train_dish_ids = None\n",
    "        self.data_config = data_config\n",
    "        self.cafe1_dish_info = DishInfo(data_config.metadata_dir + data_config.dish_cafe1_file)\n",
    "        self.cafe2_dish_info = DishInfo(data_config.metadata_dir + data_config.dish_cafe2_file)\n",
    "        self.dish_subset = None\n",
    "        self.dish_ing_subset = None\n",
    "        self.subset = subset\n",
    "        cafe_1, cafe1_ing = self.cafe1_dish_info.get_dish_info()\n",
    "        cafe_2, cafe2_ing = self.cafe2_dish_info.get_dish_info()\n",
    "        self.LOG_HANDLE = \"DataLoader -->\"\n",
    "        if debug:  # Display Information on the loaded files\n",
    "            print(self.LOG_HANDLE, \"Cafe = 1\", \"*\" * 50)\n",
    "            print(self.LOG_HANDLE, cafe_1.info())\n",
    "            print(self.LOG_HANDLE, cafe_1.shape)\n",
    "            print(self.LOG_HANDLE, \"Cafe = 1 Dish Ingredients\", \"*\" * 50)\n",
    "            print(self.LOG_HANDLE, cafe1_ing.info())\n",
    "            print(self.LOG_HANDLE, cafe1_ing.shape)\n",
    "\n",
    "            print(self.LOG_HANDLE, \"Cafe = 2\", \"*\" * 50)\n",
    "            print(self.LOG_HANDLE, cafe_2.info())\n",
    "            print(self.LOG_HANDLE, \"Shape = \", cafe_2.shape)\n",
    "            print(self.LOG_HANDLE, \"Cafe = 2 Dish Ingredients\", \"*\" * 50)\n",
    "            print(self.LOG_HANDLE, cafe2_ing.info())\n",
    "            print(self.LOG_HANDLE, \"Shape = \", cafe2_ing.shape)\n",
    "\n",
    "        self.dish = pd.concat([cafe_1, cafe_2])\n",
    "        self.dish_ingredients = pd.concat([cafe1_ing, cafe2_ing])\n",
    "        print(self.LOG_HANDLE, \"Total Dishes\", self.dish.shape)\n",
    "        print(self.LOG_HANDLE, \"Total Dish Ingredients\", self.dish_ingredients.shape)\n",
    "\n",
    "        self.__cast_astype_float()\n",
    "\n",
    "        self.__split_data(debug)\n",
    "\n",
    "        self.__filter_data_with_images(debug)\n",
    "\n",
    "    def get_dishes(self, subset=True):\n",
    "        if subset:\n",
    "            return self.dish_subset\n",
    "        return self.dish\n",
    "\n",
    "    def get_dish_ingredients(self, subset=True):\n",
    "        if subset:\n",
    "            return self.dish_ing_subset\n",
    "\n",
    "        return self.dish_ingredients\n",
    "\n",
    "    def get_data(self, subset=True):\n",
    "        if subset:\n",
    "            return self.dish_subset, self.dish_ing_subset\n",
    "\n",
    "        return self.dish, self.dish_ingredients\n",
    "\n",
    "    def get_splits(self):\n",
    "        return self.train_dish_ids, self.test_dish_ids\n",
    "\n",
    "    def __split_data(self, debug=False):\n",
    "        self.depth_train = pd.read_csv(self.data_config.splits_dir + self.data_config.depth_train_file,\n",
    "                                       header=None,\n",
    "                                       names=self.data_config.dish_id_col)\n",
    "\n",
    "        self.depth_test = pd.read_csv(self.data_config.splits_dir + self.data_config.depth_test_file,\n",
    "                                      header=None,\n",
    "                                      names=self.data_config.dish_id_col)\n",
    "\n",
    "        self.rgb_test = pd.read_csv(self.data_config.splits_dir + self.data_config.rgb_test_file,\n",
    "                                    header=None,\n",
    "                                    names=self.data_config.dish_id_col)\n",
    "        self.rgb_train = pd.read_csv(self.data_config.splits_dir + self.data_config.rgb_train_file,\n",
    "                                     header=None,\n",
    "                                     names=self.data_config.dish_id_col)\n",
    "        if debug:\n",
    "            print(self.LOG_HANDLE, \"Depth train split ids shape = \", self.depth_train.shape)\n",
    "            print(self.LOG_HANDLE, self.depth_train.head())\n",
    "            print(self.LOG_HANDLE, \"RGB train split ids shape = \", self.rgb_train.shape)\n",
    "            print(self.LOG_HANDLE, self.rgb_train.head())\n",
    "            print(self.LOG_HANDLE, \"Depth test split ids shape = \", self.depth_test.shape)\n",
    "            print(self.LOG_HANDLE, self.depth_test.head())\n",
    "            print(self.LOG_HANDLE, \"RGB test split ids shape = \", self.rgb_test.shape)\n",
    "            print(self.LOG_HANDLE, self.rgb_test.head())\n",
    "\n",
    "        self.train_dish_ids = pd.merge(self.depth_train, self.rgb_train)\n",
    "        self.test_dish_ids = pd.merge(self.depth_test, self.rgb_test)\n",
    "        if debug:\n",
    "            print(self.LOG_HANDLE, \"Train Dish Ids = \", self.train_dish_ids.shape)\n",
    "            print(self.LOG_HANDLE, \"Test Dish Ids = \", self.test_dish_ids.shape)\n",
    "\n",
    "    def __verify_images(self, debug):\n",
    "        s1 = DatasetUtil.check_dir(self.test_dish_ids.dish_id, self.data_config.image_dir)\n",
    "        s2 = DatasetUtil.check_dir(self.train_dish_ids.dish_id, self.data_config.image_dir)\n",
    "        s3 = DatasetUtil.check_dir(self.rgb_train.dish_id, self.data_config.image_dir)\n",
    "        s4 = DatasetUtil.check_dir(self.rgb_test.dish_id, self.data_config.image_dir)\n",
    "\n",
    "        if debug:\n",
    "            print(self.LOG_HANDLE, \"Test Dish Ids = \", self.test_dish_ids.shape, s1.shape,\n",
    "                  s1.exists.value_counts())\n",
    "            print(self.LOG_HANDLE, \"Train Dish Ids = \", self.train_dish_ids.shape, s2.shape,\n",
    "                  s2.exists.value_counts())\n",
    "            print(self.LOG_HANDLE, \"RGB Train Ids = \", self.rgb_train.shape, s3.shape,\n",
    "                  s3.exists.value_counts())\n",
    "            print(self.LOG_HANDLE, \"RGB Test Ids = \", self.rgb_test.shape, s4.shape,\n",
    "                  s4.exists.value_counts())\n",
    "\n",
    "            i = random.randrange(0, len(self.train_dish_ids))\n",
    "            # print(self.LOG_HANDLE,i,train_dish_ids.dish_id[i])\n",
    "            img_path = self.data_config.image_dir + self.train_dish_ids.dish_id[i]\n",
    "            # print(self.LOG_HANDLE,img_path)\n",
    "            f, a = plt.subplots(1, 3)\n",
    "\n",
    "            a[0].imshow(plt.imread(img_path + '/depth_color.png'))\n",
    "            a[1].imshow(plt.imread(img_path + '/depth_raw.png'))\n",
    "            a[2].imshow(plt.imread(img_path + '/rgb.png'))\n",
    "\n",
    "            plt.show()\n",
    "\n",
    "            i_test = random.randrange(0, len(self.test_dish_ids))\n",
    "            # print(self.LOG_HANDLE,i,train_dish_ids.dish_id[i])\n",
    "            img_path = self.data_config.image_dir + self.test_dish_ids.dish_id[i_test]\n",
    "            # print(self.LOG_HANDLE,img_path)\n",
    "            f, a = plt.subplots(1, 3)\n",
    "\n",
    "            a[0].imshow(plt.imread(img_path + '/depth_color.png'))\n",
    "            a[1].imshow(plt.imread(img_path + '/depth_raw.png'))\n",
    "            a[2].imshow(plt.imread(img_path + '/rgb.png'))\n",
    "\n",
    "            plt.show()\n",
    "\n",
    "        print(self.LOG_HANDLE, \"Dish Master\", self.dish.shape)\n",
    "        print(self.LOG_HANDLE, \"Dish Ingredients Master\", self.dish_ingredients.shape)\n",
    "        print(self.LOG_HANDLE, \"Training Dish Ids\", self.train_dish_ids.shape)\n",
    "        print(self.LOG_HANDLE, \"Test Dish Ids\", self.test_dish_ids.shape)\n",
    "\n",
    "    def __cast_astype_float(self):\n",
    "        self.dish_ingredients['grams'] = self.dish_ingredients.grams.astype(\"float32\")\n",
    "        self.dish_ingredients['calories'] = self.dish_ingredients.calories.astype(\"float32\")\n",
    "        self.dish_ingredients['fat'] = self.dish_ingredients.fat.astype(\"float32\")\n",
    "        self.dish_ingredients['carb'] = self.dish_ingredients.carb.astype(\"float32\")\n",
    "        self.dish_ingredients['protein'] = self.dish_ingredients.protein.astype(\"float32\")\n",
    "        self.dish[\"total_calories\"] = self.dish.total_calories.astype(\"float32\")\n",
    "        self.dish[\"total_mass\"] = self.dish.total_mass.astype(\"float32\")\n",
    "        self.dish[\"total_fat\"] = self.dish.total_fat.astype(\"float32\")\n",
    "        self.dish[\"total_carb\"] = self.dish.total_carb.astype(\"float32\")\n",
    "        self.dish[\"total_protein\"] = self.dish.total_protein.astype(\"float32\")\n",
    "\n",
    "    def __filter_data_with_images(self, debug):\n",
    "        if debug:\n",
    "          print(\"Going to filter the subset\")\n",
    "          print(\"Length of dish ids\",len(self.dish.dish_id))\n",
    "        dish_images = DatasetUtil.get_image_path(self.dish.dish_id,\n",
    "                                                 self.data_config.image_dir,\n",
    "                                                 self.data_config.image_file_name)\n",
    "        merged_ids = pd.concat([self.train_dish_ids.dish_id, self.test_dish_ids.dish_id])\n",
    "\n",
    "        if debug:\n",
    "          print(\"Total test ids = \" , len(merged_ids))\n",
    "          print(\"Total test ids = \" , dish_images.shape)\n",
    "        \n",
    "        tmp = self.dish[self.dish.dish_id.isin(merged_ids)]\n",
    "        \n",
    "        self.dish_ing_subset = self.dish_ingredients[self.dish_ingredients.dish_id.isin(merged_ids)]\n",
    "\n",
    "        self.dish_subset = tmp.merge(dish_images)\n",
    "            \n",
    "        if debug:\n",
    "          print(\"Images = \",dish_images.shape)\n",
    "          print(\"Filtered dish shape\",self.dish_subset.shape)\n",
    "          print(\"Filtered dish ing shape\",self.dish_ing_subset.shape)\n",
    "        \n",
    "\n",
    "\n"
   ]
  },
  {
   "cell_type": "markdown",
   "metadata": {
    "id": "CANs8hWYhWr1"
   },
   "source": [
    "## DishInfo"
   ]
  },
  {
   "cell_type": "code",
   "execution_count": 51,
   "metadata": {
    "id": "xxlZdt_2hYFP"
   },
   "outputs": [],
   "source": [
    "import pandas as pd\n",
    "import os\n",
    "\n",
    "\n",
    "class DishInfo:\n",
    "    def __init__(self, filepath):\n",
    "        self.file_path = filepath\n",
    "        lines = self.read_file()\n",
    "        self.dish_cols = [\"dish_id\",\n",
    "                          \"total_calories\",\n",
    "                          \"total_mass\",\n",
    "                          \"total_fat\",\n",
    "                          \"total_carb\",\n",
    "                          \"total_protein\"]\n",
    "\n",
    "        self.ingredients_col = [\"dish_id\",\n",
    "                                \"id\",\n",
    "                                \"name\",\n",
    "                                \"grams\",\n",
    "                                \"calories\",\n",
    "                                \"fat\",\n",
    "                                \"carb\",\n",
    "                                \"protein\"]\n",
    "        dish_info = []\n",
    "        dish_ingredients = []\n",
    "        s = 6\n",
    "        step = 7\n",
    "        line_num = 1\n",
    "        for line in lines:\n",
    "            # print(line)\n",
    "            dish_line = line.split(',')\n",
    "            dish = dish_line[:s]\n",
    "            # print(line_num,dish)\n",
    "            ing_len = len(dish_line[s:])\n",
    "            tkn = s\n",
    "            dish_info.append(pd.Series(dish, index=self.dish_cols))\n",
    "            # print(\"Going for ingredients\",tkn,ing_len)\n",
    "            while tkn < ing_len:\n",
    "                row = [dish[0]]\n",
    "                for c in dish_line[tkn:tkn + step]:\n",
    "                    row.append(c.strip())\n",
    "                # print(row)\n",
    "                dish_ingredients.append(pd.Series(row, index=self.ingredients_col))\n",
    "                tkn += step\n",
    "            line_num += 1\n",
    "            # break\n",
    "        self.dishes = pd.DataFrame(dish_info, columns=self.dish_cols)\n",
    "        self.dish_ingredients = pd.DataFrame(dish_ingredients, columns=self.ingredients_col)\n",
    "\n",
    "    def read_file(self):\n",
    "        print(\"Reading file \",self.file_path)\n",
    "        f = open(self.file_path, 'r')\n",
    "        lines = f.readlines()\n",
    "        return lines\n",
    "\n",
    "    def get_dishes(self):\n",
    "        return self.dishes\n",
    "\n",
    "    def get_dish_ingredients(self):\n",
    "        return self.dish_ingredients\n",
    "\n",
    "    def get_dish_info(self):\n",
    "        return self.dishes, self.dish_ingredients\n"
   ]
  },
  {
   "cell_type": "markdown",
   "metadata": {
    "id": "AP3pF5skhdCk"
   },
   "source": [
    "## MLP"
   ]
  },
  {
   "cell_type": "code",
   "execution_count": 9,
   "metadata": {
    "id": "V1CpwT2ihfem"
   },
   "outputs": [],
   "source": [
    "import tensorflow as tf\n",
    "\n",
    "\n",
    "def mlp(x, hidden_units, dropout_rate):\n",
    "    for units in hidden_units:\n",
    "        x = tf.keras.layers.Dense(units, activation=tf.nn.gelu)(x)\n",
    "        x = tf.keras.layers.Dropout(dropout_rate)(x)\n",
    "    return x"
   ]
  },
  {
   "cell_type": "markdown",
   "metadata": {
    "id": "T6F82GzDhk3w"
   },
   "source": [
    "## Patches"
   ]
  },
  {
   "cell_type": "code",
   "execution_count": 10,
   "metadata": {
    "id": "_0AiEE5hhseg"
   },
   "outputs": [],
   "source": [
    "import copy\n",
    "\n",
    "import tensorflow as tf\n",
    "\n",
    "class Patches(tf.keras.layers.Layer):\n",
    "\n",
    "    def __init__(self, vit_config: VITConfig):\n",
    "        super(Patches, self).__init__()\n",
    "        self.vit_config = copy.copy(vit_config)\n",
    "\n",
    "    #     Override function to avoid error while saving model\n",
    "    def get_config(self):\n",
    "        config = super().get_config().copy()\n",
    "        config.update(\n",
    "            {\n",
    "                \"input_shape\": self.vit_config.input_shape,\n",
    "                \"patch_size\": self.vit_config.patch_size,\n",
    "                \"num_patches\": self.vit_config.num_patches,\n",
    "                \"projection_dim\": self.vit_config.projection_dim,\n",
    "                \"num_heads\": self.vit_config.num_heads,\n",
    "                \"transformer_units\": self.vit_config.transformer_units,\n",
    "                \"transformer_layers\": self.vit_config.transformer_layers,\n",
    "                \"mlp_head_units\": self.vit_config.mlp_head_units,\n",
    "            }\n",
    "        )\n",
    "        return config\n",
    "\n",
    "    def call(self, images):\n",
    "        batch = tf.shape(images)[0]\n",
    "        patches = tf.image.extract_patches(\n",
    "            images=images,\n",
    "            sizes=[1, self.vit_config.patch_size, self.vit_config.patch_size, 1],\n",
    "            strides=[1, self.vit_config.patch_size, self.vit_config.patch_size, 1],\n",
    "            rates=[1, 1, 1, 1],\n",
    "            padding=\"VALID\",\n",
    "        )\n",
    "        # return patches\n",
    "        return tf.reshape(patches, [batch, -1, patches.shape[-1]])\n"
   ]
  },
  {
   "cell_type": "markdown",
   "metadata": {
    "id": "tk9lYihOh1AR"
   },
   "source": [
    "## PatchEncoder"
   ]
  },
  {
   "cell_type": "code",
   "execution_count": 11,
   "metadata": {
    "id": "iYq77SUHh7AN"
   },
   "outputs": [],
   "source": [
    "import copy\n",
    "\n",
    "import tensorflow as tf\n",
    "\n",
    "class PatchEncoder(tf.keras.layers.Layer):\n",
    "\n",
    "    def __init__(self, vit_config: VITConfig):\n",
    "        super(PatchEncoder, self).__init__()\n",
    "        self.vit_config = copy.copy(vit_config)\n",
    "        self.projection = tf.keras.layers.Dense(units=self.vit_config.projection_dim)\n",
    "        self.position_embedding = tf.keras.layers.Embedding(\n",
    "            input_dim=self.vit_config.num_patches, output_dim=self.vit_config.projection_dim\n",
    "        )\n",
    "\n",
    "    # Override function to avoid error while saving model\n",
    "    def get_config(self):\n",
    "        config = super().get_config().copy()\n",
    "        config.update(\n",
    "            {\n",
    "                \"input_shape\": self.vit_config.input_shape,\n",
    "                \"patch_size\": self.vit_config.patch_size,\n",
    "                \"num_patches\": self.vit_config.num_patches,\n",
    "                \"projection_dim\": self.vit_config.projection_dim,\n",
    "                \"num_heads\": self.vit_config.num_heads,\n",
    "                \"transformer_units\": self.vit_config.transformer_units,\n",
    "                \"transformer_layers\": self.vit_config.transformer_layers,\n",
    "                \"mlp_head_units\": self.vit_config.mlp_head_units,\n",
    "            }\n",
    "        )\n",
    "        return config\n",
    "\n",
    "    def call(self, patch):\n",
    "        positions = tf.range(start=0, limit=self.vit_config.num_patches, delta=1)\n",
    "        encoded = self.projection(patch) + self.position_embedding(positions)\n",
    "        return encoded\n"
   ]
  },
  {
   "cell_type": "markdown",
   "metadata": {
    "id": "0XYNRoGrkUKv"
   },
   "source": [
    "## ModelCreator"
   ]
  },
  {
   "cell_type": "code",
   "execution_count": 12,
   "metadata": {
    "id": "eLlE6qVzkWTY"
   },
   "outputs": [],
   "source": [
    "import copy\n",
    "\n",
    "import tensorflow as tf\n",
    "\n",
    "class ModelCreator:\n",
    "\n",
    "    @staticmethod\n",
    "    def create_vit(vit_config: VITConfig):\n",
    "        inputs = tf.keras.layers.Input(shape=vit_config.input_shape)\n",
    "        # Data Augmentation Layers\n",
    "        augmented = vit_config.data_augmentation_layers(inputs)\n",
    "        # Create patches\n",
    "        patches = Patches(vit_config)(inputs)\n",
    "        # Encode patches\n",
    "        encoded_patches = PatchEncoder(vit_config)(patches)\n",
    "\n",
    "        # Create multiple layers of the Transformer block.\n",
    "        for _ in range(vit_config.transformer_layers):\n",
    "            # Layer normalization 1.\n",
    "            x1 = tf.keras.layers.LayerNormalization(epsilon=1e-6)(encoded_patches)\n",
    "            # Create a multi-head attention layer.\n",
    "            attention_output = tf.keras.layers.MultiHeadAttention(\n",
    "                num_heads=vit_config.num_heads, key_dim=vit_config.projection_dim, dropout=0.1\n",
    "            )(x1, x1)\n",
    "            # Skip connection 1.\n",
    "            x2 = tf.keras.layers.Add()([attention_output, encoded_patches])\n",
    "            # Layer normalization 2.\n",
    "            x3 = tf.keras.layers.LayerNormalization(epsilon=1e-6)(x2)\n",
    "            # MLP\n",
    "            x3 = mlp(x3, hidden_units=vit_config.transformer_units, dropout_rate=0.1)\n",
    "            # Skip connection 2.\n",
    "            encoded_patches = tf.keras.layers.Add()([x3, x2])\n",
    "\n",
    "        # Create a [batch_size, projection_dim] tensor.\n",
    "        representation = tf.keras.layers.LayerNormalization(epsilon=1e-6)(encoded_patches)\n",
    "        representation = tf.keras.layers.Flatten()(representation)\n",
    "        representation = tf.keras.layers.Dropout(0.3)(representation)\n",
    "        # Add MLP.\n",
    "        features = mlp(representation, hidden_units=vit_config.mlp_head_units, dropout_rate=0.3)\n",
    "\n",
    "        logits = tf.keras.layers.Dense(vit_config.output_size)(features)\n",
    "        # return Keras model.\n",
    "        return tf.keras.Model(inputs=inputs, outputs=logits)\n"
   ]
  },
  {
   "cell_type": "markdown",
   "metadata": {
    "id": "yHhqEJMZh7UQ",
    "tags": []
   },
   "source": [
    "# Workflow"
   ]
  },
  {
   "cell_type": "code",
   "execution_count": 17,
   "metadata": {},
   "outputs": [
    {
     "name": "stdout",
     "output_type": "stream",
     "text": [
      "Thu Nov 24 17:14:34 2022       \n",
      "+-----------------------------------------------------------------------------+\n",
      "| NVIDIA-SMI 515.65.01    Driver Version: 515.65.01    CUDA Version: 11.7     |\n",
      "|-------------------------------+----------------------+----------------------+\n",
      "| GPU  Name        Persistence-M| Bus-Id        Disp.A | Volatile Uncorr. ECC |\n",
      "| Fan  Temp  Perf  Pwr:Usage/Cap|         Memory-Usage | GPU-Util  Compute M. |\n",
      "|                               |                      |               MIG M. |\n",
      "|===============================+======================+======================|\n",
      "|   0  NVIDIA A100-SXM...  On   | 00000000:06:00.0 Off |                    0 |\n",
      "| N/A   31C    P0    46W / 400W |      2MiB / 40960MiB |      0%      Default |\n",
      "|                               |                      |             Disabled |\n",
      "+-------------------------------+----------------------+----------------------+\n",
      "                                                                               \n",
      "+-----------------------------------------------------------------------------+\n",
      "| Processes:                                                                  |\n",
      "|  GPU   GI   CI        PID   Type   Process name                  GPU Memory |\n",
      "|        ID   ID                                                   Usage      |\n",
      "|=============================================================================|\n",
      "|  No running processes found                                                 |\n",
      "+-----------------------------------------------------------------------------+\n"
     ]
    }
   ],
   "source": [
    "!nvidia-smi"
   ]
  },
  {
   "cell_type": "markdown",
   "metadata": {
    "id": "-2ctLRHDiI0P"
   },
   "source": [
    "## Library Import"
   ]
  },
  {
   "cell_type": "code",
   "execution_count": 14,
   "metadata": {
    "id": "flEyIOYqh236"
   },
   "outputs": [],
   "source": [
    "import pandas as pd\n",
    "import numpy as np\n",
    "import tensorflow as tf\n",
    "import glob2 as glob\n",
    "import matplotlib.pyplot as plt\n",
    "import random\n",
    "import os\n",
    "import seaborn as sns\n",
    "import sys\n",
    "import cv2\n",
    "import datetime\n",
    "import tqdm"
   ]
  },
  {
   "cell_type": "code",
   "execution_count": 16,
   "metadata": {
    "colab": {
     "base_uri": "https://localhost:8080/"
    },
    "id": "l6SjdlvEHFtK",
    "outputId": "de0623a2-468e-4333-c459-76d7185a51a0"
   },
   "outputs": [
    {
     "name": "stdout",
     "output_type": "stream",
     "text": [
      "2.9.1\n"
     ]
    }
   ],
   "source": [
    "print(tf.__version__)"
   ]
  },
  {
   "cell_type": "code",
   "execution_count": null,
   "metadata": {
    "id": "Z02z6hVFiVZ5"
   },
   "outputs": [],
   "source": [
    "# sys.path"
   ]
  },
  {
   "cell_type": "code",
   "execution_count": null,
   "metadata": {
    "id": "wF9yFC-GjBlY"
   },
   "outputs": [],
   "source": [
    "#!git clone https://github.com/kurupdeepak/nutri-codebase.git '/content/drive/MyDrive/01_LJMU_UPGRAD/experiments/final-thesis-lab/workspace/notebooks-v1/nutri-codebase'"
   ]
  },
  {
   "cell_type": "code",
   "execution_count": null,
   "metadata": {
    "id": "YhKy3M3yjNj_"
   },
   "outputs": [],
   "source": [
    "# sys.path.append(workspace + nutrition_codebase)"
   ]
  },
  {
   "cell_type": "code",
   "execution_count": null,
   "metadata": {
    "id": "CH971vumkcNs"
   },
   "outputs": [],
   "source": [
    "# sys.path"
   ]
  },
  {
   "cell_type": "markdown",
   "metadata": {
    "id": "pPjOmeh8kxJ4"
   },
   "source": [
    "## Configure Path and Environment"
   ]
  },
  {
   "cell_type": "code",
   "execution_count": 27,
   "metadata": {
    "id": "FiTcGpBOiV8D"
   },
   "outputs": [],
   "source": [
    "workspace = '/home/ubuntu'\n",
    "nutrition_codebase = 'src'"
   ]
  },
  {
   "cell_type": "code",
   "execution_count": 19,
   "metadata": {
    "id": "qBoaExXNtXvq"
   },
   "outputs": [],
   "source": [
    "pd.set_option('display.max_rows', None)\n",
    "pd.set_option('display.max_columns', None)"
   ]
  },
  {
   "cell_type": "code",
   "execution_count": 20,
   "metadata": {
    "id": "jSz1YPJjFZYr"
   },
   "outputs": [],
   "source": [
    "# import os\n",
    "# os.environ['CUDA_VISIBLE_DEVICES'] = \"0\""
   ]
  },
  {
   "cell_type": "markdown",
   "metadata": {
    "id": "EdrNWuN-k5hb"
   },
   "source": [
    "### User Library Import"
   ]
  },
  {
   "cell_type": "code",
   "execution_count": null,
   "metadata": {
    "id": "bpEBluq1k9BR"
   },
   "outputs": [],
   "source": [
    "# from nutrition.core.data import DatasetConfig\n",
    "# from nutrition.core.data import DataLoader\n",
    "# from nutrition.core.transformer import VITConfig, ModelCreator\n",
    "# from nutrition.core.transformer.vit import Patches, PatchEncoder,mlp"
   ]
  },
  {
   "cell_type": "markdown",
   "metadata": {
    "id": "iRns-y-Mlo6R"
   },
   "source": [
    "### Dataset Configuration"
   ]
  },
  {
   "cell_type": "code",
   "execution_count": 63,
   "metadata": {
    "id": "ZktbwLVskwY6"
   },
   "outputs": [],
   "source": [
    "dataset_config = DatasetConfig(base_dir=workspace + '/dataset',\n",
    "                                image_dir='/processed_overhead/',\n",
    "                                img_file_name='/cropped.png'\n",
    "                               )"
   ]
  },
  {
   "cell_type": "markdown",
   "metadata": {
    "id": "pFwiYNmUniBW"
   },
   "source": [
    "### Load Data "
   ]
  },
  {
   "cell_type": "code",
   "execution_count": 66,
   "metadata": {
    "colab": {
     "base_uri": "https://localhost:8080/"
    },
    "id": "YVRovHa4kdoy",
    "outputId": "20b22b0f-1f65-431a-dd11-dbe442e89e8d"
   },
   "outputs": [
    {
     "name": "stdout",
     "output_type": "stream",
     "text": [
      "Reading file  /home/ubuntu/dataset/dish_metadata_cafe1.csv\n",
      "Reading file  /home/ubuntu/dataset/dish_metadata_cafe2.csv\n",
      "DataLoader --> Cafe = 1 **************************************************\n",
      "<class 'pandas.core.frame.DataFrame'>\n",
      "RangeIndex: 4768 entries, 0 to 4767\n",
      "Data columns (total 6 columns):\n",
      " #   Column          Non-Null Count  Dtype \n",
      "---  ------          --------------  ----- \n",
      " 0   dish_id         4768 non-null   object\n",
      " 1   total_calories  4768 non-null   object\n",
      " 2   total_mass      4768 non-null   object\n",
      " 3   total_fat       4768 non-null   object\n",
      " 4   total_carb      4768 non-null   object\n",
      " 5   total_protein   4768 non-null   object\n",
      "dtypes: object(6)\n",
      "memory usage: 223.6+ KB\n",
      "DataLoader --> None\n",
      "DataLoader --> (4768, 6)\n",
      "DataLoader --> Cafe = 1 Dish Ingredients **************************************************\n",
      "<class 'pandas.core.frame.DataFrame'>\n",
      "RangeIndex: 27225 entries, 0 to 27224\n",
      "Data columns (total 8 columns):\n",
      " #   Column    Non-Null Count  Dtype \n",
      "---  ------    --------------  ----- \n",
      " 0   dish_id   27225 non-null  object\n",
      " 1   id        27225 non-null  object\n",
      " 2   name      27225 non-null  object\n",
      " 3   grams     27225 non-null  object\n",
      " 4   calories  27225 non-null  object\n",
      " 5   fat       27225 non-null  object\n",
      " 6   carb      27225 non-null  object\n",
      " 7   protein   27225 non-null  object\n",
      "dtypes: object(8)\n",
      "memory usage: 1.7+ MB\n",
      "DataLoader --> None\n",
      "DataLoader --> (27225, 8)\n",
      "DataLoader --> Cafe = 2 **************************************************\n",
      "<class 'pandas.core.frame.DataFrame'>\n",
      "RangeIndex: 238 entries, 0 to 237\n",
      "Data columns (total 6 columns):\n",
      " #   Column          Non-Null Count  Dtype \n",
      "---  ------          --------------  ----- \n",
      " 0   dish_id         238 non-null    object\n",
      " 1   total_calories  238 non-null    object\n",
      " 2   total_mass      238 non-null    object\n",
      " 3   total_fat       238 non-null    object\n",
      " 4   total_carb      238 non-null    object\n",
      " 5   total_protein   238 non-null    object\n",
      "dtypes: object(6)\n",
      "memory usage: 11.3+ KB\n",
      "DataLoader --> None\n",
      "DataLoader --> Shape =  (238, 6)\n",
      "DataLoader --> Cafe = 2 Dish Ingredients **************************************************\n",
      "<class 'pandas.core.frame.DataFrame'>\n",
      "RangeIndex: 1230 entries, 0 to 1229\n",
      "Data columns (total 8 columns):\n",
      " #   Column    Non-Null Count  Dtype \n",
      "---  ------    --------------  ----- \n",
      " 0   dish_id   1230 non-null   object\n",
      " 1   id        1230 non-null   object\n",
      " 2   name      1230 non-null   object\n",
      " 3   grams     1230 non-null   object\n",
      " 4   calories  1230 non-null   object\n",
      " 5   fat       1230 non-null   object\n",
      " 6   carb      1230 non-null   object\n",
      " 7   protein   1230 non-null   object\n",
      "dtypes: object(8)\n",
      "memory usage: 77.0+ KB\n",
      "DataLoader --> None\n",
      "DataLoader --> Shape =  (1230, 8)\n",
      "DataLoader --> Total Dishes (5006, 6)\n",
      "DataLoader --> Total Dish Ingredients (28455, 8)\n",
      "DataLoader --> Depth train split ids shape =  (2758, 1)\n",
      "DataLoader -->            dish_id\n",
      "0  dish_1558641037\n",
      "1  dish_1562958721\n",
      "2  dish_1565799617\n",
      "3  dish_1561491210\n",
      "4  dish_1561661806\n",
      "DataLoader --> RGB train split ids shape =  (4059, 1)\n",
      "DataLoader -->            dish_id\n",
      "0  dish_1550862840\n",
      "1  dish_1558641037\n",
      "2  dish_1562958721\n",
      "3  dish_1565799617\n",
      "4  dish_1561491210\n",
      "DataLoader --> Depth test split ids shape =  (507, 1)\n",
      "DataLoader -->            dish_id\n",
      "0  dish_1565035746\n",
      "1  dish_1558639818\n",
      "2  dish_1558549605\n",
      "3  dish_1561663580\n",
      "4  dish_1565898402\n",
      "DataLoader --> RGB test split ids shape =  (709, 1)\n",
      "DataLoader -->            dish_id\n",
      "0  dish_1551235699\n",
      "1  dish_1551564176\n",
      "2  dish_1550873338\n",
      "3  dish_1565035746\n",
      "4  dish_1550859694\n",
      "DataLoader --> Train Dish Ids =  (2758, 1)\n",
      "DataLoader --> Test Dish Ids =  (507, 1)\n",
      "Going to filter the subset\n",
      "Length of dish ids 5006\n",
      "Dish Shape (5006,)\n",
      "Image path /home/ubuntu/dataset/processed_overhead/\n",
      "Total test ids =  3265\n",
      "Total test ids =  (3261, 2)\n",
      "Images =  (3261, 2)\n",
      "Filtered dish shape (3261, 7)\n",
      "Filtered dish ing shape (23859, 8)\n",
      "data-set-loader ->  Dishes from the subset of 3.5k shape = (3261, 7)\n",
      "data-set-loader ->  Dish Ingredient shape = (23859, 8)\n",
      "data-set-loader ->  Already split train ids = (2758, 1)\n",
      "data-set-loader ->  Already split test ids = (507, 1)\n"
     ]
    }
   ],
   "source": [
    "LOGGER = \"data-set-loader -> \"\n",
    "data_loader = DataLoader(data_config=dataset_config, debug=True)\n",
    "dish_info, dish_ingredients = data_loader.get_data()\n",
    "train, test = data_loader.get_splits()\n",
    "print(f\"{LOGGER} Dishes from the subset of 3.5k shape = {dish_info.shape}\")\n",
    "print(f\"{LOGGER} Dish Ingredient shape = {dish_ingredients.shape}\")\n",
    "print(f\"{LOGGER} Already split train ids = {train.shape}\")\n",
    "print(f\"{LOGGER} Already split test ids = {test.shape}\")"
   ]
  },
  {
   "cell_type": "code",
   "execution_count": 67,
   "metadata": {
    "colab": {
     "base_uri": "https://localhost:8080/"
    },
    "id": "4iDQ23fomg0K",
    "outputId": "089abb9d-9296-4581-8323-068ad18073ad"
   },
   "outputs": [
    {
     "name": "stdout",
     "output_type": "stream",
     "text": [
      "<class 'pandas.core.frame.DataFrame'>\n",
      "Int64Index: 3261 entries, 0 to 3260\n",
      "Data columns (total 7 columns):\n",
      " #   Column          Non-Null Count  Dtype  \n",
      "---  ------          --------------  -----  \n",
      " 0   dish_id         3261 non-null   object \n",
      " 1   total_calories  3261 non-null   float32\n",
      " 2   total_mass      3261 non-null   float32\n",
      " 3   total_fat       3261 non-null   float32\n",
      " 4   total_carb      3261 non-null   float32\n",
      " 5   total_protein   3261 non-null   float32\n",
      " 6   image_path      3261 non-null   object \n",
      "dtypes: float32(5), object(2)\n",
      "memory usage: 140.1+ KB\n"
     ]
    }
   ],
   "source": [
    "dish_info.info()"
   ]
  },
  {
   "cell_type": "code",
   "execution_count": 68,
   "metadata": {
    "colab": {
     "base_uri": "https://localhost:8080/",
     "height": 270
    },
    "id": "TZdEB79hnwPe",
    "outputId": "6b1624be-a7ff-4c47-fed4-94ae221693a6"
   },
   "outputs": [
    {
     "data": {
      "text/html": [
       "<div>\n",
       "<style scoped>\n",
       "    .dataframe tbody tr th:only-of-type {\n",
       "        vertical-align: middle;\n",
       "    }\n",
       "\n",
       "    .dataframe tbody tr th {\n",
       "        vertical-align: top;\n",
       "    }\n",
       "\n",
       "    .dataframe thead th {\n",
       "        text-align: right;\n",
       "    }\n",
       "</style>\n",
       "<table border=\"1\" class=\"dataframe\">\n",
       "  <thead>\n",
       "    <tr style=\"text-align: right;\">\n",
       "      <th></th>\n",
       "      <th>dish_id</th>\n",
       "      <th>total_calories</th>\n",
       "      <th>total_mass</th>\n",
       "      <th>total_fat</th>\n",
       "      <th>total_carb</th>\n",
       "      <th>total_protein</th>\n",
       "      <th>image_path</th>\n",
       "    </tr>\n",
       "  </thead>\n",
       "  <tbody>\n",
       "    <tr>\n",
       "      <th>0</th>\n",
       "      <td>dish_1561662216</td>\n",
       "      <td>300.794281</td>\n",
       "      <td>193.0</td>\n",
       "      <td>12.387489</td>\n",
       "      <td>28.218290</td>\n",
       "      <td>18.633970</td>\n",
       "      <td>/home/ubuntu/dataset/processed_overhead/dish_1...</td>\n",
       "    </tr>\n",
       "    <tr>\n",
       "      <th>1</th>\n",
       "      <td>dish_1561662054</td>\n",
       "      <td>419.438782</td>\n",
       "      <td>292.0</td>\n",
       "      <td>23.838249</td>\n",
       "      <td>26.351543</td>\n",
       "      <td>25.910593</td>\n",
       "      <td>/home/ubuntu/dataset/processed_overhead/dish_1...</td>\n",
       "    </tr>\n",
       "    <tr>\n",
       "      <th>2</th>\n",
       "      <td>dish_1562008979</td>\n",
       "      <td>382.936646</td>\n",
       "      <td>290.0</td>\n",
       "      <td>22.224644</td>\n",
       "      <td>10.173570</td>\n",
       "      <td>35.345387</td>\n",
       "      <td>/home/ubuntu/dataset/processed_overhead/dish_1...</td>\n",
       "    </tr>\n",
       "    <tr>\n",
       "      <th>3</th>\n",
       "      <td>dish_1560455030</td>\n",
       "      <td>20.590000</td>\n",
       "      <td>103.0</td>\n",
       "      <td>0.148000</td>\n",
       "      <td>4.625000</td>\n",
       "      <td>0.956000</td>\n",
       "      <td>/home/ubuntu/dataset/processed_overhead/dish_1...</td>\n",
       "    </tr>\n",
       "    <tr>\n",
       "      <th>4</th>\n",
       "      <td>dish_1558372433</td>\n",
       "      <td>74.360001</td>\n",
       "      <td>143.0</td>\n",
       "      <td>0.286000</td>\n",
       "      <td>0.429000</td>\n",
       "      <td>20.020000</td>\n",
       "      <td>/home/ubuntu/dataset/processed_overhead/dish_1...</td>\n",
       "    </tr>\n",
       "  </tbody>\n",
       "</table>\n",
       "</div>"
      ],
      "text/plain": [
       "           dish_id  total_calories  total_mass  total_fat  total_carb  \\\n",
       "0  dish_1561662216      300.794281       193.0  12.387489   28.218290   \n",
       "1  dish_1561662054      419.438782       292.0  23.838249   26.351543   \n",
       "2  dish_1562008979      382.936646       290.0  22.224644   10.173570   \n",
       "3  dish_1560455030       20.590000       103.0   0.148000    4.625000   \n",
       "4  dish_1558372433       74.360001       143.0   0.286000    0.429000   \n",
       "\n",
       "   total_protein                                         image_path  \n",
       "0      18.633970  /home/ubuntu/dataset/processed_overhead/dish_1...  \n",
       "1      25.910593  /home/ubuntu/dataset/processed_overhead/dish_1...  \n",
       "2      35.345387  /home/ubuntu/dataset/processed_overhead/dish_1...  \n",
       "3       0.956000  /home/ubuntu/dataset/processed_overhead/dish_1...  \n",
       "4      20.020000  /home/ubuntu/dataset/processed_overhead/dish_1...  "
      ]
     },
     "execution_count": 68,
     "metadata": {},
     "output_type": "execute_result"
    }
   ],
   "source": [
    "dish_info.head()"
   ]
  },
  {
   "cell_type": "code",
   "execution_count": 69,
   "metadata": {
    "colab": {
     "base_uri": "https://localhost:8080/"
    },
    "id": "akSYkoXXnzhL",
    "outputId": "8c05e1d7-4062-46ff-9dcb-97cb5f2926bd"
   },
   "outputs": [
    {
     "name": "stdout",
     "output_type": "stream",
     "text": [
      "<class 'pandas.core.frame.DataFrame'>\n",
      "Int64Index: 23859 entries, 0 to 27224\n",
      "Data columns (total 8 columns):\n",
      " #   Column    Non-Null Count  Dtype  \n",
      "---  ------    --------------  -----  \n",
      " 0   dish_id   23859 non-null  object \n",
      " 1   id        23859 non-null  object \n",
      " 2   name      23859 non-null  object \n",
      " 3   grams     23859 non-null  float32\n",
      " 4   calories  23859 non-null  float32\n",
      " 5   fat       23859 non-null  float32\n",
      " 6   carb      23859 non-null  float32\n",
      " 7   protein   23859 non-null  float32\n",
      "dtypes: float32(5), object(3)\n",
      "memory usage: 1.2+ MB\n"
     ]
    }
   ],
   "source": [
    "dish_ingredients.info()"
   ]
  },
  {
   "cell_type": "code",
   "execution_count": 70,
   "metadata": {
    "colab": {
     "base_uri": "https://localhost:8080/",
     "height": 206
    },
    "id": "hEyAIp8Xn1GQ",
    "outputId": "b415d7eb-d122-4b27-cf96-6ad1b0089ff4"
   },
   "outputs": [
    {
     "data": {
      "text/html": [
       "<div>\n",
       "<style scoped>\n",
       "    .dataframe tbody tr th:only-of-type {\n",
       "        vertical-align: middle;\n",
       "    }\n",
       "\n",
       "    .dataframe tbody tr th {\n",
       "        vertical-align: top;\n",
       "    }\n",
       "\n",
       "    .dataframe thead th {\n",
       "        text-align: right;\n",
       "    }\n",
       "</style>\n",
       "<table border=\"1\" class=\"dataframe\">\n",
       "  <thead>\n",
       "    <tr style=\"text-align: right;\">\n",
       "      <th></th>\n",
       "      <th>dish_id</th>\n",
       "      <th>id</th>\n",
       "      <th>name</th>\n",
       "      <th>grams</th>\n",
       "      <th>calories</th>\n",
       "      <th>fat</th>\n",
       "      <th>carb</th>\n",
       "      <th>protein</th>\n",
       "    </tr>\n",
       "  </thead>\n",
       "  <tbody>\n",
       "    <tr>\n",
       "      <th>0</th>\n",
       "      <td>dish_1561662216</td>\n",
       "      <td>ingr_0000000508</td>\n",
       "      <td>soy sauce</td>\n",
       "      <td>3.398568</td>\n",
       "      <td>1.801241</td>\n",
       "      <td>0.020391</td>\n",
       "      <td>0.166530</td>\n",
       "      <td>0.275284</td>\n",
       "    </tr>\n",
       "    <tr>\n",
       "      <th>1</th>\n",
       "      <td>dish_1561662216</td>\n",
       "      <td>ingr_0000000122</td>\n",
       "      <td>garlic</td>\n",
       "      <td>2.124105</td>\n",
       "      <td>3.164917</td>\n",
       "      <td>0.010621</td>\n",
       "      <td>0.700955</td>\n",
       "      <td>0.135943</td>\n",
       "    </tr>\n",
       "    <tr>\n",
       "      <th>2</th>\n",
       "      <td>dish_1561662216</td>\n",
       "      <td>ingr_0000000026</td>\n",
       "      <td>white rice</td>\n",
       "      <td>8.496420</td>\n",
       "      <td>11.045346</td>\n",
       "      <td>0.025489</td>\n",
       "      <td>2.378998</td>\n",
       "      <td>0.229403</td>\n",
       "    </tr>\n",
       "    <tr>\n",
       "      <th>3</th>\n",
       "      <td>dish_1561662216</td>\n",
       "      <td>ingr_0000000524</td>\n",
       "      <td>parsley</td>\n",
       "      <td>0.213397</td>\n",
       "      <td>0.079170</td>\n",
       "      <td>0.001707</td>\n",
       "      <td>0.013657</td>\n",
       "      <td>0.006189</td>\n",
       "    </tr>\n",
       "    <tr>\n",
       "      <th>4</th>\n",
       "      <td>dish_1561662216</td>\n",
       "      <td>ingr_0000000094</td>\n",
       "      <td>onions</td>\n",
       "      <td>1.707173</td>\n",
       "      <td>0.682869</td>\n",
       "      <td>0.001707</td>\n",
       "      <td>0.153646</td>\n",
       "      <td>0.018779</td>\n",
       "    </tr>\n",
       "  </tbody>\n",
       "</table>\n",
       "</div>"
      ],
      "text/plain": [
       "           dish_id               id        name     grams   calories  \\\n",
       "0  dish_1561662216  ingr_0000000508   soy sauce  3.398568   1.801241   \n",
       "1  dish_1561662216  ingr_0000000122      garlic  2.124105   3.164917   \n",
       "2  dish_1561662216  ingr_0000000026  white rice  8.496420  11.045346   \n",
       "3  dish_1561662216  ingr_0000000524     parsley  0.213397   0.079170   \n",
       "4  dish_1561662216  ingr_0000000094      onions  1.707173   0.682869   \n",
       "\n",
       "        fat      carb   protein  \n",
       "0  0.020391  0.166530  0.275284  \n",
       "1  0.010621  0.700955  0.135943  \n",
       "2  0.025489  2.378998  0.229403  \n",
       "3  0.001707  0.013657  0.006189  \n",
       "4  0.001707  0.153646  0.018779  "
      ]
     },
     "execution_count": 70,
     "metadata": {},
     "output_type": "execute_result"
    }
   ],
   "source": [
    "dish_ingredients.head()"
   ]
  },
  {
   "cell_type": "markdown",
   "metadata": {
    "id": "X59axsd5oFIE"
   },
   "source": [
    "## Analysis and Visualizations"
   ]
  },
  {
   "cell_type": "code",
   "execution_count": null,
   "metadata": {
    "id": "UCSixcDTn29c"
   },
   "outputs": [],
   "source": []
  },
  {
   "cell_type": "code",
   "execution_count": null,
   "metadata": {
    "id": "PUyvgYStoIeP"
   },
   "outputs": [],
   "source": []
  },
  {
   "cell_type": "code",
   "execution_count": null,
   "metadata": {
    "id": "4oik-kyxoerm"
   },
   "outputs": [],
   "source": []
  },
  {
   "cell_type": "markdown",
   "metadata": {
    "id": "ix2Ix1RTof14"
   },
   "source": [
    "## Sample 50 Images for Prototype"
   ]
  },
  {
   "cell_type": "markdown",
   "metadata": {
    "id": "kd0Tcf9H0BLF"
   },
   "source": [
    "### Train/Test Split"
   ]
  },
  {
   "cell_type": "code",
   "execution_count": 71,
   "metadata": {
    "colab": {
     "base_uri": "https://localhost:8080/"
    },
    "id": "rAwnGNU9z0sg",
    "outputId": "ad32deb1-0756-45bd-e309-83d6af403aa6"
   },
   "outputs": [
    {
     "name": "stdout",
     "output_type": "stream",
     "text": [
      "(50, 7)\n"
     ]
    }
   ],
   "source": [
    "SAMPLE_SIZE = 50\n",
    "sample50_data = dish_info.sample(n=50)\n",
    "print(sample50_data.shape)"
   ]
  },
  {
   "cell_type": "code",
   "execution_count": 72,
   "metadata": {
    "colab": {
     "base_uri": "https://localhost:8080/",
     "height": 270
    },
    "id": "qNP3hyWpvnQX",
    "outputId": "9c28b27c-5cc6-447d-ab8a-4b347f833286"
   },
   "outputs": [
    {
     "data": {
      "text/html": [
       "<div>\n",
       "<style scoped>\n",
       "    .dataframe tbody tr th:only-of-type {\n",
       "        vertical-align: middle;\n",
       "    }\n",
       "\n",
       "    .dataframe tbody tr th {\n",
       "        vertical-align: top;\n",
       "    }\n",
       "\n",
       "    .dataframe thead th {\n",
       "        text-align: right;\n",
       "    }\n",
       "</style>\n",
       "<table border=\"1\" class=\"dataframe\">\n",
       "  <thead>\n",
       "    <tr style=\"text-align: right;\">\n",
       "      <th></th>\n",
       "      <th>dish_id</th>\n",
       "      <th>total_calories</th>\n",
       "      <th>total_mass</th>\n",
       "      <th>total_fat</th>\n",
       "      <th>total_carb</th>\n",
       "      <th>total_protein</th>\n",
       "      <th>image_path</th>\n",
       "    </tr>\n",
       "  </thead>\n",
       "  <tbody>\n",
       "    <tr>\n",
       "      <th>3037</th>\n",
       "      <td>dish_1562963484</td>\n",
       "      <td>100.539413</td>\n",
       "      <td>80.0</td>\n",
       "      <td>8.570941</td>\n",
       "      <td>5.136471</td>\n",
       "      <td>2.084824</td>\n",
       "      <td>/home/ubuntu/dataset/processed_overhead/dish_1...</td>\n",
       "    </tr>\n",
       "    <tr>\n",
       "      <th>343</th>\n",
       "      <td>dish_1562007842</td>\n",
       "      <td>492.281372</td>\n",
       "      <td>434.0</td>\n",
       "      <td>15.187502</td>\n",
       "      <td>61.395573</td>\n",
       "      <td>27.796635</td>\n",
       "      <td>/home/ubuntu/dataset/processed_overhead/dish_1...</td>\n",
       "    </tr>\n",
       "    <tr>\n",
       "      <th>1522</th>\n",
       "      <td>dish_1559240875</td>\n",
       "      <td>116.116005</td>\n",
       "      <td>203.0</td>\n",
       "      <td>0.203000</td>\n",
       "      <td>30.855999</td>\n",
       "      <td>0.812000</td>\n",
       "      <td>/home/ubuntu/dataset/processed_overhead/dish_1...</td>\n",
       "    </tr>\n",
       "    <tr>\n",
       "      <th>2378</th>\n",
       "      <td>dish_1561146758</td>\n",
       "      <td>232.500000</td>\n",
       "      <td>93.0</td>\n",
       "      <td>1.395000</td>\n",
       "      <td>45.570000</td>\n",
       "      <td>9.393001</td>\n",
       "      <td>/home/ubuntu/dataset/processed_overhead/dish_1...</td>\n",
       "    </tr>\n",
       "    <tr>\n",
       "      <th>961</th>\n",
       "      <td>dish_1563395510</td>\n",
       "      <td>415.627411</td>\n",
       "      <td>372.0</td>\n",
       "      <td>19.100136</td>\n",
       "      <td>33.541649</td>\n",
       "      <td>34.771233</td>\n",
       "      <td>/home/ubuntu/dataset/processed_overhead/dish_1...</td>\n",
       "    </tr>\n",
       "  </tbody>\n",
       "</table>\n",
       "</div>"
      ],
      "text/plain": [
       "              dish_id  total_calories  total_mass  total_fat  total_carb  \\\n",
       "3037  dish_1562963484      100.539413        80.0   8.570941    5.136471   \n",
       "343   dish_1562007842      492.281372       434.0  15.187502   61.395573   \n",
       "1522  dish_1559240875      116.116005       203.0   0.203000   30.855999   \n",
       "2378  dish_1561146758      232.500000        93.0   1.395000   45.570000   \n",
       "961   dish_1563395510      415.627411       372.0  19.100136   33.541649   \n",
       "\n",
       "      total_protein                                         image_path  \n",
       "3037       2.084824  /home/ubuntu/dataset/processed_overhead/dish_1...  \n",
       "343       27.796635  /home/ubuntu/dataset/processed_overhead/dish_1...  \n",
       "1522       0.812000  /home/ubuntu/dataset/processed_overhead/dish_1...  \n",
       "2378       9.393001  /home/ubuntu/dataset/processed_overhead/dish_1...  \n",
       "961       34.771233  /home/ubuntu/dataset/processed_overhead/dish_1...  "
      ]
     },
     "execution_count": 72,
     "metadata": {},
     "output_type": "execute_result"
    }
   ],
   "source": [
    "sample50_data.head()"
   ]
  },
  {
   "cell_type": "code",
   "execution_count": 74,
   "metadata": {
    "id": "aFrzdtOUrm_-"
   },
   "outputs": [
    {
     "data": {
      "text/plain": [
       "'/home/ubuntu/processed_overhead/dish_1562963484/cropped.png'"
      ]
     },
     "execution_count": 74,
     "metadata": {},
     "output_type": "execute_result"
    }
   ],
   "source": [
    "# cropped_image_path = workspace + '/processed_overhead/'\n",
    "# sample50_data.dish_id.apply(lambda x :  cropped_image_path + x + '/cropped.png')"
   ]
  },
  {
   "cell_type": "code",
   "execution_count": 75,
   "metadata": {
    "colab": {
     "base_uri": "https://localhost:8080/",
     "height": 270
    },
    "id": "qFICzKFKvt-H",
    "outputId": "3cb32baf-a7d9-41d6-df30-0820c85635d3"
   },
   "outputs": [
    {
     "data": {
      "text/html": [
       "<div>\n",
       "<style scoped>\n",
       "    .dataframe tbody tr th:only-of-type {\n",
       "        vertical-align: middle;\n",
       "    }\n",
       "\n",
       "    .dataframe tbody tr th {\n",
       "        vertical-align: top;\n",
       "    }\n",
       "\n",
       "    .dataframe thead th {\n",
       "        text-align: right;\n",
       "    }\n",
       "</style>\n",
       "<table border=\"1\" class=\"dataframe\">\n",
       "  <thead>\n",
       "    <tr style=\"text-align: right;\">\n",
       "      <th></th>\n",
       "      <th>dish_id</th>\n",
       "      <th>total_calories</th>\n",
       "      <th>total_mass</th>\n",
       "      <th>total_fat</th>\n",
       "      <th>total_carb</th>\n",
       "      <th>total_protein</th>\n",
       "      <th>image_path</th>\n",
       "    </tr>\n",
       "  </thead>\n",
       "  <tbody>\n",
       "    <tr>\n",
       "      <th>3037</th>\n",
       "      <td>dish_1562963484</td>\n",
       "      <td>100.539413</td>\n",
       "      <td>80.0</td>\n",
       "      <td>8.570941</td>\n",
       "      <td>5.136471</td>\n",
       "      <td>2.084824</td>\n",
       "      <td>/home/ubuntu/dataset/processed_overhead/dish_1...</td>\n",
       "    </tr>\n",
       "    <tr>\n",
       "      <th>343</th>\n",
       "      <td>dish_1562007842</td>\n",
       "      <td>492.281372</td>\n",
       "      <td>434.0</td>\n",
       "      <td>15.187502</td>\n",
       "      <td>61.395573</td>\n",
       "      <td>27.796635</td>\n",
       "      <td>/home/ubuntu/dataset/processed_overhead/dish_1...</td>\n",
       "    </tr>\n",
       "    <tr>\n",
       "      <th>1522</th>\n",
       "      <td>dish_1559240875</td>\n",
       "      <td>116.116005</td>\n",
       "      <td>203.0</td>\n",
       "      <td>0.203000</td>\n",
       "      <td>30.855999</td>\n",
       "      <td>0.812000</td>\n",
       "      <td>/home/ubuntu/dataset/processed_overhead/dish_1...</td>\n",
       "    </tr>\n",
       "    <tr>\n",
       "      <th>2378</th>\n",
       "      <td>dish_1561146758</td>\n",
       "      <td>232.500000</td>\n",
       "      <td>93.0</td>\n",
       "      <td>1.395000</td>\n",
       "      <td>45.570000</td>\n",
       "      <td>9.393001</td>\n",
       "      <td>/home/ubuntu/dataset/processed_overhead/dish_1...</td>\n",
       "    </tr>\n",
       "    <tr>\n",
       "      <th>961</th>\n",
       "      <td>dish_1563395510</td>\n",
       "      <td>415.627411</td>\n",
       "      <td>372.0</td>\n",
       "      <td>19.100136</td>\n",
       "      <td>33.541649</td>\n",
       "      <td>34.771233</td>\n",
       "      <td>/home/ubuntu/dataset/processed_overhead/dish_1...</td>\n",
       "    </tr>\n",
       "  </tbody>\n",
       "</table>\n",
       "</div>"
      ],
      "text/plain": [
       "              dish_id  total_calories  total_mass  total_fat  total_carb  \\\n",
       "3037  dish_1562963484      100.539413        80.0   8.570941    5.136471   \n",
       "343   dish_1562007842      492.281372       434.0  15.187502   61.395573   \n",
       "1522  dish_1559240875      116.116005       203.0   0.203000   30.855999   \n",
       "2378  dish_1561146758      232.500000        93.0   1.395000   45.570000   \n",
       "961   dish_1563395510      415.627411       372.0  19.100136   33.541649   \n",
       "\n",
       "      total_protein                                         image_path  \n",
       "3037       2.084824  /home/ubuntu/dataset/processed_overhead/dish_1...  \n",
       "343       27.796635  /home/ubuntu/dataset/processed_overhead/dish_1...  \n",
       "1522       0.812000  /home/ubuntu/dataset/processed_overhead/dish_1...  \n",
       "2378       9.393001  /home/ubuntu/dataset/processed_overhead/dish_1...  \n",
       "961       34.771233  /home/ubuntu/dataset/processed_overhead/dish_1...  "
      ]
     },
     "execution_count": 75,
     "metadata": {},
     "output_type": "execute_result"
    }
   ],
   "source": [
    "sample50_data.head()"
   ]
  },
  {
   "cell_type": "code",
   "execution_count": 76,
   "metadata": {
    "colab": {
     "base_uri": "https://localhost:8080/"
    },
    "id": "s2O9sekkrTH3",
    "outputId": "04ec233b-bc86-4fe2-886c-41352d5310fd"
   },
   "outputs": [
    {
     "name": "stdout",
     "output_type": "stream",
     "text": [
      "(40, 7)\n",
      "(5, 7)\n",
      "(5, 7)\n"
     ]
    },
    {
     "data": {
      "text/plain": [
       "(45, 7)"
      ]
     },
     "execution_count": 76,
     "metadata": {},
     "output_type": "execute_result"
    }
   ],
   "source": [
    "fractions = np.array([0.8, 0.1, 0.1])\n",
    "# shuffle\n",
    "df = sample50_data.sample(frac=1) \n",
    "# split into 3 parts\n",
    "train_50, val_50, test_50 = np.array_split(\n",
    "    df, (fractions[:-1].cumsum() * len(df)).astype(int))\n",
    "print(train_50.shape)\n",
    "print(val_50.shape)\n",
    "print(test_50.shape)\n",
    "sample50_data = pd.concat([train_50,val_50])\n",
    "sample50_data.shape"
   ]
  },
  {
   "cell_type": "markdown",
   "metadata": {
    "id": "5q0ESo_boIyq"
   },
   "source": [
    "## Model -1 "
   ]
  },
  {
   "cell_type": "code",
   "execution_count": 77,
   "metadata": {
    "colab": {
     "base_uri": "https://localhost:8080/"
    },
    "id": "8EqFoT5Bp9Fn",
    "outputId": "1e777473-4d1c-4961-f33f-99f799c7dac0"
   },
   "outputs": [
    {
     "name": "stdout",
     "output_type": "stream",
     "text": [
      "VIT Model Created, summary below\n",
      "Model: \"model\"\n",
      "__________________________________________________________________________________________________\n",
      " Layer (type)                   Output Shape         Param #     Connected to                     \n",
      "==================================================================================================\n",
      " input_1 (InputLayer)           [(None, 256, 256, 3  0           []                               \n",
      "                                )]                                                                \n",
      "                                                                                                  \n",
      " patches (Patches)              (None, None, 768)    0           ['input_1[0][0]']                \n",
      "                                                                                                  \n",
      " patch_encoder (PatchEncoder)   (None, 256, 64)      65600       ['patches[0][0]']                \n",
      "                                                                                                  \n",
      " layer_normalization (LayerNorm  (None, 256, 64)     128         ['patch_encoder[0][0]']          \n",
      " alization)                                                                                       \n",
      "                                                                                                  \n",
      " multi_head_attention (MultiHea  (None, 256, 64)     132672      ['layer_normalization[0][0]',    \n",
      " dAttention)                                                      'layer_normalization[0][0]']    \n",
      "                                                                                                  \n",
      " add (Add)                      (None, 256, 64)      0           ['multi_head_attention[0][0]',   \n",
      "                                                                  'patch_encoder[0][0]']          \n",
      "                                                                                                  \n",
      " layer_normalization_1 (LayerNo  (None, 256, 64)     128         ['add[0][0]']                    \n",
      " rmalization)                                                                                     \n",
      "                                                                                                  \n",
      " dense_1 (Dense)                (None, 256, 128)     8320        ['layer_normalization_1[0][0]']  \n",
      "                                                                                                  \n",
      " dropout (Dropout)              (None, 256, 128)     0           ['dense_1[0][0]']                \n",
      "                                                                                                  \n",
      " dense_2 (Dense)                (None, 256, 64)      8256        ['dropout[0][0]']                \n",
      "                                                                                                  \n",
      " dropout_1 (Dropout)            (None, 256, 64)      0           ['dense_2[0][0]']                \n",
      "                                                                                                  \n",
      " add_1 (Add)                    (None, 256, 64)      0           ['dropout_1[0][0]',              \n",
      "                                                                  'add[0][0]']                    \n",
      "                                                                                                  \n",
      " layer_normalization_2 (LayerNo  (None, 256, 64)     128         ['add_1[0][0]']                  \n",
      " rmalization)                                                                                     \n",
      "                                                                                                  \n",
      " multi_head_attention_1 (MultiH  (None, 256, 64)     132672      ['layer_normalization_2[0][0]',  \n",
      " eadAttention)                                                    'layer_normalization_2[0][0]']  \n",
      "                                                                                                  \n",
      " add_2 (Add)                    (None, 256, 64)      0           ['multi_head_attention_1[0][0]', \n",
      "                                                                  'add_1[0][0]']                  \n",
      "                                                                                                  \n",
      " layer_normalization_3 (LayerNo  (None, 256, 64)     128         ['add_2[0][0]']                  \n",
      " rmalization)                                                                                     \n",
      "                                                                                                  \n",
      " dense_3 (Dense)                (None, 256, 128)     8320        ['layer_normalization_3[0][0]']  \n",
      "                                                                                                  \n",
      " dropout_2 (Dropout)            (None, 256, 128)     0           ['dense_3[0][0]']                \n",
      "                                                                                                  \n",
      " dense_4 (Dense)                (None, 256, 64)      8256        ['dropout_2[0][0]']              \n",
      "                                                                                                  \n",
      " dropout_3 (Dropout)            (None, 256, 64)      0           ['dense_4[0][0]']                \n",
      "                                                                                                  \n",
      " add_3 (Add)                    (None, 256, 64)      0           ['dropout_3[0][0]',              \n",
      "                                                                  'add_2[0][0]']                  \n",
      "                                                                                                  \n",
      " layer_normalization_4 (LayerNo  (None, 256, 64)     128         ['add_3[0][0]']                  \n",
      " rmalization)                                                                                     \n",
      "                                                                                                  \n",
      " multi_head_attention_2 (MultiH  (None, 256, 64)     132672      ['layer_normalization_4[0][0]',  \n",
      " eadAttention)                                                    'layer_normalization_4[0][0]']  \n",
      "                                                                                                  \n",
      " add_4 (Add)                    (None, 256, 64)      0           ['multi_head_attention_2[0][0]', \n",
      "                                                                  'add_3[0][0]']                  \n",
      "                                                                                                  \n",
      " layer_normalization_5 (LayerNo  (None, 256, 64)     128         ['add_4[0][0]']                  \n",
      " rmalization)                                                                                     \n",
      "                                                                                                  \n",
      " dense_5 (Dense)                (None, 256, 128)     8320        ['layer_normalization_5[0][0]']  \n",
      "                                                                                                  \n",
      " dropout_4 (Dropout)            (None, 256, 128)     0           ['dense_5[0][0]']                \n",
      "                                                                                                  \n",
      " dense_6 (Dense)                (None, 256, 64)      8256        ['dropout_4[0][0]']              \n",
      "                                                                                                  \n",
      " dropout_5 (Dropout)            (None, 256, 64)      0           ['dense_6[0][0]']                \n",
      "                                                                                                  \n",
      " add_5 (Add)                    (None, 256, 64)      0           ['dropout_5[0][0]',              \n",
      "                                                                  'add_4[0][0]']                  \n",
      "                                                                                                  \n",
      " layer_normalization_6 (LayerNo  (None, 256, 64)     128         ['add_5[0][0]']                  \n",
      " rmalization)                                                                                     \n",
      "                                                                                                  \n",
      " multi_head_attention_3 (MultiH  (None, 256, 64)     132672      ['layer_normalization_6[0][0]',  \n",
      " eadAttention)                                                    'layer_normalization_6[0][0]']  \n",
      "                                                                                                  \n",
      " add_6 (Add)                    (None, 256, 64)      0           ['multi_head_attention_3[0][0]', \n",
      "                                                                  'add_5[0][0]']                  \n",
      "                                                                                                  \n",
      " layer_normalization_7 (LayerNo  (None, 256, 64)     128         ['add_6[0][0]']                  \n",
      " rmalization)                                                                                     \n",
      "                                                                                                  \n",
      " dense_7 (Dense)                (None, 256, 128)     8320        ['layer_normalization_7[0][0]']  \n",
      "                                                                                                  \n",
      " dropout_6 (Dropout)            (None, 256, 128)     0           ['dense_7[0][0]']                \n",
      "                                                                                                  \n",
      " dense_8 (Dense)                (None, 256, 64)      8256        ['dropout_6[0][0]']              \n",
      "                                                                                                  \n",
      " dropout_7 (Dropout)            (None, 256, 64)      0           ['dense_8[0][0]']                \n",
      "                                                                                                  \n",
      " add_7 (Add)                    (None, 256, 64)      0           ['dropout_7[0][0]',              \n",
      "                                                                  'add_6[0][0]']                  \n",
      "                                                                                                  \n",
      " layer_normalization_8 (LayerNo  (None, 256, 64)     128         ['add_7[0][0]']                  \n",
      " rmalization)                                                                                     \n",
      "                                                                                                  \n",
      " flatten (Flatten)              (None, 16384)        0           ['layer_normalization_8[0][0]']  \n",
      "                                                                                                  \n",
      " dropout_8 (Dropout)            (None, 16384)        0           ['flatten[0][0]']                \n",
      "                                                                                                  \n",
      " dense_9 (Dense)                (None, 2048)         33556480    ['dropout_8[0][0]']              \n",
      "                                                                                                  \n",
      " dropout_9 (Dropout)            (None, 2048)         0           ['dense_9[0][0]']                \n",
      "                                                                                                  \n",
      " dense_10 (Dense)               (None, 1024)         2098176     ['dropout_9[0][0]']              \n",
      "                                                                                                  \n",
      " dropout_10 (Dropout)           (None, 1024)         0           ['dense_10[0][0]']               \n",
      "                                                                                                  \n",
      " dense_11 (Dense)               (None, 512)          524800      ['dropout_10[0][0]']             \n",
      "                                                                                                  \n",
      " dropout_11 (Dropout)           (None, 512)          0           ['dense_11[0][0]']               \n",
      "                                                                                                  \n",
      " dense_12 (Dense)               (None, 64)           32832       ['dropout_11[0][0]']             \n",
      "                                                                                                  \n",
      " dropout_12 (Dropout)           (None, 64)           0           ['dense_12[0][0]']               \n",
      "                                                                                                  \n",
      " dense_13 (Dense)               (None, 32)           2080        ['dropout_12[0][0]']             \n",
      "                                                                                                  \n",
      " dropout_13 (Dropout)           (None, 32)           0           ['dense_13[0][0]']               \n",
      "                                                                                                  \n",
      " dense_14 (Dense)               (None, 1)            33          ['dropout_13[0][0]']             \n",
      "                                                                                                  \n",
      "==================================================================================================\n",
      "Total params: 36,878,145\n",
      "Trainable params: 36,878,145\n",
      "Non-trainable params: 0\n",
      "__________________________________________________________________________________________________\n",
      "None\n"
     ]
    }
   ],
   "source": [
    "vit_config_1 = VITConfig(image_size=256,\n",
    "                           patch_size=16,\n",
    "                           projection_dim=64,\n",
    "                           num_heads=8,\n",
    "                           transformer_layers=4,\n",
    "                           mlp_head_units=[2048, 1024, 512, 64, 32],\n",
    "                           output_shape=1)\n",
    "vit_model_1 = ModelCreator.create_vit(vit_config_1)\n",
    "print(\"VIT Model Created, summary below\")\n",
    "print(vit_model_1.summary())"
   ]
  },
  {
   "cell_type": "markdown",
   "metadata": {
    "id": "6Pa2Imksq8dG"
   },
   "source": [
    "## Data Generator"
   ]
  },
  {
   "cell_type": "markdown",
   "metadata": {
    "id": "X947354mwJNR"
   },
   "source": [
    "## Normalize total_calories\n",
    "* Divide it by total_mass of the dish "
   ]
  },
  {
   "cell_type": "code",
   "execution_count": 78,
   "metadata": {
    "id": "PfzaNmy-wEng"
   },
   "outputs": [],
   "source": [
    "sample50_data[\"total_calories_norm\"] = round(sample50_data[\"total_calories\"]/sample50_data[\"total_mass\"],2)"
   ]
  },
  {
   "cell_type": "code",
   "execution_count": 79,
   "metadata": {
    "colab": {
     "base_uri": "https://localhost:8080/"
    },
    "id": "9I6A4uxtxecr",
    "outputId": "419e3cd9-1bbd-4d2c-e4ce-db75ac92a310"
   },
   "outputs": [
    {
     "name": "stdout",
     "output_type": "stream",
     "text": [
      "<class 'pandas.core.frame.DataFrame'>\n",
      "Int64Index: 45 entries, 2378 to 2720\n",
      "Data columns (total 8 columns):\n",
      " #   Column               Non-Null Count  Dtype  \n",
      "---  ------               --------------  -----  \n",
      " 0   dish_id              45 non-null     object \n",
      " 1   total_calories       45 non-null     float32\n",
      " 2   total_mass           45 non-null     float32\n",
      " 3   total_fat            45 non-null     float32\n",
      " 4   total_carb           45 non-null     float32\n",
      " 5   total_protein        45 non-null     float32\n",
      " 6   image_path           45 non-null     object \n",
      " 7   total_calories_norm  45 non-null     float32\n",
      "dtypes: float32(6), object(2)\n",
      "memory usage: 2.1+ KB\n"
     ]
    }
   ],
   "source": [
    "sample50_data.info()"
   ]
  },
  {
   "cell_type": "code",
   "execution_count": 80,
   "metadata": {
    "id": "jys71vBpqNMK"
   },
   "outputs": [],
   "source": [
    "generator = tf.keras.preprocessing.image.ImageDataGenerator(validation_split=0.2,\n",
    "                                                            horizontal_flip=True,\n",
    "                                                            vertical_flip=True,\n",
    "                                                            zoom_range=0.25,\n",
    "                                                            rotation_range=30,\n",
    "                                                            brightness_range=[0.6,1.0])"
   ]
  },
  {
   "cell_type": "code",
   "execution_count": 81,
   "metadata": {
    "colab": {
     "base_uri": "https://localhost:8080/"
    },
    "id": "y2NO7GQ6rCn1",
    "outputId": "7a4f7bc7-2a16-4f1d-f155-3d579ae0402f"
   },
   "outputs": [
    {
     "name": "stdout",
     "output_type": "stream",
     "text": [
      "Found 36 validated image filenames.\n",
      "Found 9 validated image filenames.\n"
     ]
    }
   ],
   "source": [
    "sample50_train_gen  = generator.flow_from_dataframe(dataframe=sample50_data,\n",
    "                              target_size=(256,256),\n",
    "                              x_col=\"image_path\",\n",
    "                              class_mode =\"raw\",\n",
    "                              directory=None,\n",
    "                              y_col = \"total_calories_norm\",\n",
    "                              batch_size=1,\n",
    "                              shuffle=True,\n",
    "                              subset=\"training\",\n",
    "                              seed=123,\n",
    "                              rescale=1.0/255)\n",
    "sample50_test_gen  = generator.flow_from_dataframe(dataframe=sample50_data,\n",
    "                              target_size=(256,256),\n",
    "                              x_col=\"image_path\",\n",
    "                              class_mode =\"raw\",\n",
    "                              directory=None,\n",
    "                              batch_size=1,\n",
    "                              seed=123,\n",
    "                              y_col = \"total_calories_norm\",\n",
    "                              subset=\"validation\",\n",
    "                              rescale=1.0/255)"
   ]
  },
  {
   "cell_type": "code",
   "execution_count": null,
   "metadata": {
    "id": "F4jNrg55xlrJ"
   },
   "outputs": [],
   "source": []
  },
  {
   "cell_type": "markdown",
   "metadata": {
    "id": "kbEwyjKXELpK"
   },
   "source": [
    "## Sample Batch Train Images"
   ]
  },
  {
   "cell_type": "code",
   "execution_count": 82,
   "metadata": {
    "colab": {
     "base_uri": "https://localhost:8080/",
     "height": 199
    },
    "id": "Prd0XPOWEPsq",
    "outputId": "5a3cfb45-2bd7-49f1-e7af-2341b210375e"
   },
   "outputs": [
    {
     "data": {
      "image/png": "[encoded data removed]",
      "text/plain": [
       "<Figure size 432x288 with 2 Axes>"
      ]
     },
     "metadata": {
      "needs_background": "light"
     },
     "output_type": "display_data"
    }
   ],
   "source": [
    "plt.figure(figsize=(6, 4))\n",
    "for i in range(2):\n",
    "  iterator = next(sample50_train_gen)\n",
    "  image = iterator[0]\n",
    "  tc = iterator[1]\n",
    "  image = np.squeeze(image)\n",
    "  plt.subplot(1,2,i+1)\n",
    "  plt.imshow(image.astype('uint8'))\n",
    "  plt.title(\"Total Calories = \" + str(tc))\n",
    "  plt.axis(\"off\")"
   ]
  },
  {
   "cell_type": "markdown",
   "metadata": {
    "id": "g44YGCGs5SFz"
   },
   "source": [
    "## Sample Batch Validation Images"
   ]
  },
  {
   "cell_type": "code",
   "execution_count": 83,
   "metadata": {
    "colab": {
     "base_uri": "https://localhost:8080/",
     "height": 199
    },
    "id": "1-OKaL085SFz",
    "outputId": "42ee8bbd-f01e-4cfe-f336-0882fda279bd"
   },
   "outputs": [
    {
     "data": {
      "image/png": "[encoded data removed]",
      "text/plain": [
       "<Figure size 432x288 with 2 Axes>"
      ]
     },
     "metadata": {
      "needs_background": "light"
     },
     "output_type": "display_data"
    }
   ],
   "source": [
    "plt.figure(figsize=(6, 4))\n",
    "for i in range(2):\n",
    "  iterator = next(sample50_test_gen)\n",
    "  image = iterator[0]\n",
    "  tc = iterator[1]\n",
    "  image = np.squeeze(image)\n",
    "  plt.subplot(1,2,i+1)\n",
    "  plt.imshow(image.astype('uint8'))\n",
    "  label = round(tc[0] ,2)\n",
    "  plt.title(\"Total Calories = \" + str(label))\n",
    "  plt.axis(\"off\")"
   ]
  },
  {
   "cell_type": "markdown",
   "metadata": {
    "id": "x7vde9WMEyG4"
   },
   "source": [
    "## Sample Patches (16 * 16)"
   ]
  },
  {
   "cell_type": "code",
   "execution_count": 84,
   "metadata": {
    "colab": {
     "base_uri": "https://localhost:8080/",
     "height": 550
    },
    "id": "zP3zYp_RE3Bf",
    "outputId": "972475a2-a53f-4de6-9ec7-8d933c4a1d4c"
   },
   "outputs": [
    {
     "name": "stdout",
     "output_type": "stream",
     "text": [
      "Image size: 256 X 256\n",
      "Patch size: 16 X 16\n",
      "256 patches per image \n",
      "768 elements per patch\n"
     ]
    },
    {
     "data": {
      "image/png": "[encoded data removed]",
      "text/plain": [
       "<Figure size 288x288 with 1 Axes>"
      ]
     },
     "metadata": {
      "needs_background": "light"
     },
     "output_type": "display_data"
    },
    {
     "data": {
      "image/png": "[encoded data removed]",
      "text/plain": [
       "<Figure size 288x288 with 256 Axes>"
      ]
     },
     "metadata": {
      "needs_background": "light"
     },
     "output_type": "display_data"
    }
   ],
   "source": [
    "patch_size = 16  # Size of the patches to be extracted from the input images\n",
    "image = next(sample50_train_gen)[0]\n",
    "image = np.squeeze(image)\n",
    "plt.figure(figsize=(4, 4))\n",
    "plt.imshow(image.astype('uint8'))\n",
    "plt.axis(\"off\")\n",
    "\n",
    "patches = Patches(vit_config_1)(tf.convert_to_tensor([image]))\n",
    "print(f\"Image size: {vit_config_1.image_size} X {vit_config_1.image_size}\")\n",
    "print(f\"Patch size: {vit_config_1.patch_size} X {vit_config_1.patch_size}\")\n",
    "print(f\"{patches.shape[1]} patches per image \\n{patches.shape[-1]} elements per patch\")\n",
    "\n",
    "\n",
    "n = int(np.sqrt(patches.shape[1]))\n",
    "plt.figure(figsize=(4, 4))\n",
    "for i, patch in enumerate(patches[0]):\n",
    "    ax = plt.subplot(n, n, i + 1)\n",
    "    patch_img = tf.reshape(patch, (patch_size, patch_size, 3))\n",
    "    plt.imshow(patch_img.numpy().astype(\"uint8\"))\n",
    "    plt.axis(\"off\")"
   ]
  },
  {
   "cell_type": "markdown",
   "metadata": {
    "id": "04BCTZXL3VuO"
   },
   "source": [
    "## Training Model - 1"
   ]
  },
  {
   "cell_type": "markdown",
   "metadata": {
    "id": "Gj6fpevH4EGo"
   },
   "source": [
    "### Callbacks"
   ]
  },
  {
   "cell_type": "code",
   "execution_count": 94,
   "metadata": {
    "colab": {
     "base_uri": "https://localhost:8080/"
    },
    "id": "COD3pNl1VFas",
    "outputId": "41a70274-b209-487e-ff38-a30729a33d03"
   },
   "outputs": [
    {
     "name": "stdout",
     "output_type": "stream",
     "text": [
      "Log file used =  /home/ubuntu/logs/model-1/20221124-185054/MC\n",
      "Log file used =  /home/ubuntu/logs/model-1/20221124-185054/TB\n"
     ]
    }
   ],
   "source": [
    "callbackHelper = CallbackHelper(workspace)\n",
    "model_checkpoint = callbackHelper.create_callback(callback_name=\"MC\",experiment=\"/model-1\")\n",
    "tensorboard_callback = callbackHelper.create_callback(callback_name=\"TB\",experiment=\"/model-1\")\n",
    "early_stop_callback = callbackHelper.create_callback(callback_name=\"ES\",es_patience=0)\n",
    "tqdm_callback = callbackHelper.create_callback(callback_name=\"TQDM\")\n",
    "callback_list = [tqdm_callback,model_checkpoint,tensorboard_callback]"
   ]
  },
  {
   "cell_type": "markdown",
   "metadata": {
    "id": "fSVn2GUs97S1"
   },
   "source": [
    "### Compile"
   ]
  },
  {
   "cell_type": "code",
   "execution_count": 95,
   "metadata": {
    "colab": {
     "base_uri": "https://localhost:8080/"
    },
    "id": "lBMbiFLv-9rT",
    "outputId": "4f377119-bc8c-4b23-ad40-1f489e057571"
   },
   "outputs": [
    {
     "data": {
      "text/plain": [
       "[<tensorflow_addons.callbacks.tqdm_progress_bar.TQDMProgressBar at 0x7f2308361520>,\n",
       " <keras.callbacks.ModelCheckpoint at 0x7f229c12ccd0>,\n",
       " <keras.callbacks.TensorBoard at 0x7f229c12c220>]"
      ]
     },
     "execution_count": 95,
     "metadata": {},
     "output_type": "execute_result"
    }
   ],
   "source": [
    "callback_list"
   ]
  },
  {
   "cell_type": "code",
   "execution_count": 96,
   "metadata": {
    "id": "YtvfjkFIx9kz"
   },
   "outputs": [],
   "source": [
    "vm_lr_1 = 1e-4\n",
    "vit_model_1.compile(optimizer=tf.keras.optimizers.RMSprop(learning_rate=vm_lr_1),\n",
    "              loss=\"mean_squared_error\",\n",
    "              metrics=\"mean_absolute_error\")"
   ]
  },
  {
   "cell_type": "markdown",
   "metadata": {
    "id": "eHKdJwcj91tw"
   },
   "source": [
    "### Fit Model"
   ]
  },
  {
   "cell_type": "code",
   "execution_count": 97,
   "metadata": {
    "colab": {
     "base_uri": "https://localhost:8080/",
     "height": 793,
     "referenced_widgets": [
      "4942fd87a8dd4db6bde34772544e33ea",
      "cbe0bb4d7fd844f59b1c140cee10dbdd",
      "c69e581a240f4c3ab437336bf01faa6d",
      "a8a28474b366423ca1fe46d9660b153d",
      "eb39f9fc6065464aa2c7c4ebfec7bf7d",
      "c6ee45d71be04ac394ca3561489fd6d2",
      "3f98117b84fe4380a7e99fb775e685d0",
      "0073c5712c6e4d04b1bf74946ab4044c",
      "d3c2293d08f94cdebdd79e33d7600fde",
      "2dac55d0c72e4e0280ac50d9238d98fc",
      "0fe52a8ab37746da8b1dc7b0625563e0",
      "4b5ff4dff9b14136af5edd4c5bf13819",
      "ee17df8632404392b9d411495261b364",
      "71f29b752d6040919c5d43b87ba32157",
      "21572977fe0c4d75b3f1e5fdebb45d7d",
      "22215fb412914712bccca9772910bdb0",
      "85f239bbe3b049f890fffba52066d197",
      "e517197cb55148e0b356a39ae8ba9328",
      "9f4b4682e3694ede8dc5abf6140bb309",
      "6e4cee4b29234b5bb6e8f8bcff2f42ed",
      "9cf0515b91f6414cba3eac730dc1abc5",
      "5c60a58ef9304a419d7c9b9e2d4f4478",
      "14f6e8af721b41dc9cdc547a3b031e6e",
      "409803d12cbd421c9215ac6b6be01ab7",
      "4784bcacf43e4eb6b13c20cc6d124094",
      "e2d3f8442d134eb28f8a95e6d500ed8e",
      "a8cf46f913984af6b91972691918be0e",
      "5d0957f21ca3488c95410b77dda7fabb",
      "69d4f043a2d54d5cac90919634d170a8",
      "40807c3719ff409596519e244c54ed3c",
      "33921484abdf46aa9c1c21b98d590c4b",
      "4902bd0c28254cce988772c98f836cef",
      "73a19a72178842ce8f6b50106bbb9c76",
      "e126e8b866f2401996fcb510f2ece154",
      "8876d9326487422989c94b986b8f008e",
      "be928391587f4f58854966363a2189bd",
      "10a6e2b3dddf42da8e044ca10079e324",
      "8da3afaa09ec41bea97fbab8cc15c78f",
      "ca123859ba8e4f45a300ae1e3be86e67",
      "e516c923ca5c43589840055a2e8285f7",
      "5398661649e44977ba18fe059cb0d557",
      "d37135a222fc45a69aa2092f83c3dece",
      "6858c90aaa6047cbb81f8d50a7563980",
      "540a5bd9234b48219334780519a3f12d",
      "8f2dc5c7620a4873af64889130d642cd",
      "cf78fa11a2804d26a47e5fd9d91ca3c4",
      "6abbb9bc64ff44ce9142185ba6f51aa0",
      "e94d1861029f4a3e9e6e2ebc910abdf5",
      "a4e92c325d0f42a6aac437ba93bc2c95",
      "b985a433beca49cc910e1c80aed8be3c",
      "2e130680f9ec4413b2a4b49f7497ee77",
      "4eed59190f6847039630afd52a6b460a",
      "58828cf940864f66b61025da58be4697",
      "6c7fd8a892b341209e1e1d29a70079be",
      "b308f2c37be9456db079e3d654e22a08",
      "03b8eb6475334b40bdb659033573ea34",
      "0f37f141f2dc4fd1b353f5e4a6200780",
      "59a3b92efd064aa38728befae8557b36",
      "458667decba7438cb1421c659eb49ce4",
      "069e8d147eba46ad877ee6ce3546cfd8",
      "98f711fd49cc405889f92f02c91782d3",
      "4e25c2f926ce4b89b97ec48b17327bdd",
      "57683ba057584b96bcc2dbee015a3e6c",
      "823103e9f54f4b16ba0928cbb8788dc1",
      "fa61f6e027894bc4a9ec1a8c7eda69f9",
      "2d7b86c42599489dbdca324122a2dce7",
      "23e0c8a2cee24f7ca844a9bf82bc37b8",
      "2cbf44bf94004b3ab9a4293ba87f0b9f",
      "6b7205e84d1c410583708e18a2f0cf7d",
      "0a4aec3557e94621b2359d370383512f",
      "443021aa6cea402bbe1e9927cd5272f5",
      "f7faca4216274bdd8a54ff99fc48d78c",
      "7caeb3bfd98346d3b741874d1f831fef",
      "6594c4e2b0da42a4b83e0d61076699d6",
      "bdf62450959e4e26ab9fdd06070a03ab",
      "8b199dab530f4b11b3bf5681433cde68",
      "869e8f0c83524f83a94e0f7ddcf17771",
      "717472d2e56e42e0a4ab23493caad358",
      "9e8dd7a3e53c4fbb945e40229cc7c01e",
      "e6125259c2cd4a8087b1e4508de551d5",
      "e8a1e75329e146d69a16af6bc4f4fe24",
      "655e1fd4dc15407c92f20e58246c0044",
      "41200885c8c54e889fb8ec3b9ac130ca",
      "33ddb9bc4ff04be1aa45c0f9b1457460",
      "1f14d1a7525243b2bb707eb2db3389e9",
      "ec8d3a6bc8ba4de6929f38f597704e1d",
      "43b080f50c82474380be4f4fcfe23803",
      "0256f114e97f4dad90b78c5467af8e8f"
     ]
    },
    "id": "c2T-VaKR790A",
    "outputId": "2bfa24c6-8f30-4f5f-ec37-9a3f6dc74778"
   },
   "outputs": [
    {
     "data": {
      "application/vnd.jupyter.widget-view+json": {
       "model_id": "40918b255e75440c8e559db157520df6",
       "version_major": 2,
       "version_minor": 0
      },
      "text/plain": [
       "Training:   0%|           0/20 ETA: ?s,  ?epochs/s"
      ]
     },
     "metadata": {},
     "output_type": "display_data"
    },
    {
     "name": "stdout",
     "output_type": "stream",
     "text": [
      "Epoch 1/20\n"
     ]
    },
    {
     "data": {
      "application/vnd.jupyter.widget-view+json": {
       "model_id": "560c7e0f6acc4a8aa47b63cb14989226",
       "version_major": 2,
       "version_minor": 0
      },
      "text/plain": [
       "0/36           ETA: ?s - "
      ]
     },
     "metadata": {},
     "output_type": "display_data"
    },
    {
     "name": "stdout",
     "output_type": "stream",
     "text": [
      "Epoch 1/20\n",
      " 4/36 [==>...........................] - ETA: 0s - loss: 0.7402 - mean_absolute_error: 0.7240  WARNING:tensorflow:Callback method `on_train_batch_end` is slow compared to the batch time (batch time: 0.0144s vs `on_train_batch_end` time: 0.0157s). Check your callbacks.\n"
     ]
    },
    {
     "name": "stderr",
     "output_type": "stream",
     "text": [
      "WARNING:tensorflow:Callback method `on_train_batch_end` is slow compared to the batch time (batch time: 0.0144s vs `on_train_batch_end` time: 0.0157s). Check your callbacks.\n"
     ]
    },
    {
     "name": "stdout",
     "output_type": "stream",
     "text": [
      "36/36 [==============================] - ETA: 0s - loss: 2.6076 - mean_absolute_error: 1.1449"
     ]
    },
    {
     "name": "stderr",
     "output_type": "stream",
     "text": [
      "WARNING:absl:Found untraced functions such as dense_layer_call_fn, dense_layer_call_and_return_conditional_losses, embedding_layer_call_fn, embedding_layer_call_and_return_conditional_losses, query_layer_call_fn while saving (showing 5 of 52). These functions will not be directly callable after loading.\n"
     ]
    },
    {
     "name": "stdout",
     "output_type": "stream",
     "text": [
      "INFO:tensorflow:Assets written to: /home/ubuntu/logs/model-1/20221124-185054/MC/assets\n"
     ]
    },
    {
     "name": "stderr",
     "output_type": "stream",
     "text": [
      "INFO:tensorflow:Assets written to: /home/ubuntu/logs/model-1/20221124-185054/MC/assets\n"
     ]
    },
    {
     "name": "stdout",
     "output_type": "stream",
     "text": [
      "36/36 [==============================] - 20s 412ms/step - loss: 2.6076 - mean_absolute_error: 1.1449 - val_loss: 0.8423 - val_mean_absolute_error: 0.5900\n",
      "Epoch 2/20\n"
     ]
    },
    {
     "data": {
      "application/vnd.jupyter.widget-view+json": {
       "model_id": "6412bfbd6e2b4a59bc1daa218e617c7a",
       "version_major": 2,
       "version_minor": 0
      },
      "text/plain": [
       "0/36           ETA: ?s - "
      ]
     },
     "metadata": {},
     "output_type": "display_data"
    },
    {
     "name": "stdout",
     "output_type": "stream",
     "text": [
      "Epoch 2/20\n",
      "33/36 [==========================>...] - ETA: 0s - loss: 2.6419 - mean_absolute_error: 1.3105"
     ]
    },
    {
     "name": "stderr",
     "output_type": "stream",
     "text": [
      "WARNING:absl:Found untraced functions such as dense_layer_call_fn, dense_layer_call_and_return_conditional_losses, embedding_layer_call_fn, embedding_layer_call_and_return_conditional_losses, query_layer_call_fn while saving (showing 5 of 52). These functions will not be directly callable after loading.\n"
     ]
    },
    {
     "name": "stdout",
     "output_type": "stream",
     "text": [
      "INFO:tensorflow:Assets written to: /home/ubuntu/logs/model-1/20221124-185054/MC/assets\n"
     ]
    },
    {
     "name": "stderr",
     "output_type": "stream",
     "text": [
      "INFO:tensorflow:Assets written to: /home/ubuntu/logs/model-1/20221124-185054/MC/assets\n"
     ]
    },
    {
     "name": "stdout",
     "output_type": "stream",
     "text": [
      "36/36 [==============================] - 15s 420ms/step - loss: 2.5318 - mean_absolute_error: 1.2839 - val_loss: 0.6863 - val_mean_absolute_error: 0.5217\n",
      "Epoch 3/20\n"
     ]
    },
    {
     "data": {
      "application/vnd.jupyter.widget-view+json": {
       "model_id": "d83d76f71f44406ab00b939afb544e58",
       "version_major": 2,
       "version_minor": 0
      },
      "text/plain": [
       "0/36           ETA: ?s - "
      ]
     },
     "metadata": {},
     "output_type": "display_data"
    },
    {
     "name": "stdout",
     "output_type": "stream",
     "text": [
      "Epoch 3/20\n",
      "33/36 [==========================>...] - ETA: 0s - loss: 1.7655 - mean_absolute_error: 0.9084"
     ]
    },
    {
     "name": "stderr",
     "output_type": "stream",
     "text": [
      "WARNING:absl:Found untraced functions such as dense_layer_call_fn, dense_layer_call_and_return_conditional_losses, embedding_layer_call_fn, embedding_layer_call_and_return_conditional_losses, query_layer_call_fn while saving (showing 5 of 52). These functions will not be directly callable after loading.\n"
     ]
    },
    {
     "name": "stdout",
     "output_type": "stream",
     "text": [
      "INFO:tensorflow:Assets written to: /home/ubuntu/logs/model-1/20221124-185054/MC/assets\n"
     ]
    },
    {
     "name": "stderr",
     "output_type": "stream",
     "text": [
      "INFO:tensorflow:Assets written to: /home/ubuntu/logs/model-1/20221124-185054/MC/assets\n"
     ]
    },
    {
     "name": "stdout",
     "output_type": "stream",
     "text": [
      "36/36 [==============================] - 15s 424ms/step - loss: 1.7759 - mean_absolute_error: 0.9413 - val_loss: 0.7885 - val_mean_absolute_error: 0.5543\n",
      "Epoch 4/20\n"
     ]
    },
    {
     "data": {
      "application/vnd.jupyter.widget-view+json": {
       "model_id": "90eed2f760a04c1fb3593a50b8bf0905",
       "version_major": 2,
       "version_minor": 0
      },
      "text/plain": [
       "0/36           ETA: ?s - "
      ]
     },
     "metadata": {},
     "output_type": "display_data"
    },
    {
     "name": "stdout",
     "output_type": "stream",
     "text": [
      "Epoch 4/20\n",
      "34/36 [===========================>..] - ETA: 0s - loss: 3.6074 - mean_absolute_error: 1.4766"
     ]
    },
    {
     "name": "stderr",
     "output_type": "stream",
     "text": [
      "WARNING:absl:Found untraced functions such as dense_layer_call_fn, dense_layer_call_and_return_conditional_losses, embedding_layer_call_fn, embedding_layer_call_and_return_conditional_losses, query_layer_call_fn while saving (showing 5 of 52). These functions will not be directly callable after loading.\n"
     ]
    },
    {
     "name": "stdout",
     "output_type": "stream",
     "text": [
      "INFO:tensorflow:Assets written to: /home/ubuntu/logs/model-1/20221124-185054/MC/assets\n"
     ]
    },
    {
     "name": "stderr",
     "output_type": "stream",
     "text": [
      "INFO:tensorflow:Assets written to: /home/ubuntu/logs/model-1/20221124-185054/MC/assets\n"
     ]
    },
    {
     "name": "stdout",
     "output_type": "stream",
     "text": [
      "36/36 [==============================] - 14s 404ms/step - loss: 3.4351 - mean_absolute_error: 1.4331 - val_loss: 1.0659 - val_mean_absolute_error: 0.7636\n",
      "Epoch 5/20\n"
     ]
    },
    {
     "data": {
      "application/vnd.jupyter.widget-view+json": {
       "model_id": "2550123f006f4587b43a93b1222d0308",
       "version_major": 2,
       "version_minor": 0
      },
      "text/plain": [
       "0/36           ETA: ?s - "
      ]
     },
     "metadata": {},
     "output_type": "display_data"
    },
    {
     "name": "stdout",
     "output_type": "stream",
     "text": [
      "Epoch 5/20\n",
      "33/36 [==========================>...] - ETA: 0s - loss: 1.5305 - mean_absolute_error: 0.8871"
     ]
    },
    {
     "name": "stderr",
     "output_type": "stream",
     "text": [
      "WARNING:absl:Found untraced functions such as dense_layer_call_fn, dense_layer_call_and_return_conditional_losses, embedding_layer_call_fn, embedding_layer_call_and_return_conditional_losses, query_layer_call_fn while saving (showing 5 of 52). These functions will not be directly callable after loading.\n"
     ]
    },
    {
     "name": "stdout",
     "output_type": "stream",
     "text": [
      "INFO:tensorflow:Assets written to: /home/ubuntu/logs/model-1/20221124-185054/MC/assets\n"
     ]
    },
    {
     "name": "stderr",
     "output_type": "stream",
     "text": [
      "INFO:tensorflow:Assets written to: /home/ubuntu/logs/model-1/20221124-185054/MC/assets\n"
     ]
    },
    {
     "name": "stdout",
     "output_type": "stream",
     "text": [
      "36/36 [==============================] - 15s 427ms/step - loss: 1.4327 - mean_absolute_error: 0.8564 - val_loss: 0.9279 - val_mean_absolute_error: 0.6585\n",
      "Epoch 6/20\n"
     ]
    },
    {
     "data": {
      "application/vnd.jupyter.widget-view+json": {
       "model_id": "c3ed7b8ca2034fb5a415324b64c811fb",
       "version_major": 2,
       "version_minor": 0
      },
      "text/plain": [
       "0/36           ETA: ?s - "
      ]
     },
     "metadata": {},
     "output_type": "display_data"
    },
    {
     "name": "stdout",
     "output_type": "stream",
     "text": [
      "Epoch 6/20\n",
      "35/36 [============================>.] - ETA: 0s - loss: 2.2299 - mean_absolute_error: 1.1000"
     ]
    },
    {
     "name": "stderr",
     "output_type": "stream",
     "text": [
      "WARNING:absl:Found untraced functions such as dense_layer_call_fn, dense_layer_call_and_return_conditional_losses, embedding_layer_call_fn, embedding_layer_call_and_return_conditional_losses, query_layer_call_fn while saving (showing 5 of 52). These functions will not be directly callable after loading.\n"
     ]
    },
    {
     "name": "stdout",
     "output_type": "stream",
     "text": [
      "INFO:tensorflow:Assets written to: /home/ubuntu/logs/model-1/20221124-185054/MC/assets\n"
     ]
    },
    {
     "name": "stderr",
     "output_type": "stream",
     "text": [
      "INFO:tensorflow:Assets written to: /home/ubuntu/logs/model-1/20221124-185054/MC/assets\n"
     ]
    },
    {
     "name": "stdout",
     "output_type": "stream",
     "text": [
      "36/36 [==============================] - 14s 405ms/step - loss: 2.1733 - mean_absolute_error: 1.0816 - val_loss: 0.9920 - val_mean_absolute_error: 0.7024\n",
      "Epoch 7/20\n"
     ]
    },
    {
     "data": {
      "application/vnd.jupyter.widget-view+json": {
       "model_id": "840fa2aef9044612a37ad1dbbebabf6b",
       "version_major": 2,
       "version_minor": 0
      },
      "text/plain": [
       "0/36           ETA: ?s - "
      ]
     },
     "metadata": {},
     "output_type": "display_data"
    },
    {
     "name": "stdout",
     "output_type": "stream",
     "text": [
      "Epoch 7/20\n",
      "35/36 [============================>.] - ETA: 0s - loss: 2.8587 - mean_absolute_error: 1.1843"
     ]
    },
    {
     "name": "stderr",
     "output_type": "stream",
     "text": [
      "WARNING:absl:Found untraced functions such as dense_layer_call_fn, dense_layer_call_and_return_conditional_losses, embedding_layer_call_fn, embedding_layer_call_and_return_conditional_losses, query_layer_call_fn while saving (showing 5 of 52). These functions will not be directly callable after loading.\n"
     ]
    },
    {
     "name": "stdout",
     "output_type": "stream",
     "text": [
      "INFO:tensorflow:Assets written to: /home/ubuntu/logs/model-1/20221124-185054/MC/assets\n"
     ]
    },
    {
     "name": "stderr",
     "output_type": "stream",
     "text": [
      "INFO:tensorflow:Assets written to: /home/ubuntu/logs/model-1/20221124-185054/MC/assets\n"
     ]
    },
    {
     "name": "stdout",
     "output_type": "stream",
     "text": [
      "36/36 [==============================] - 15s 427ms/step - loss: 2.7856 - mean_absolute_error: 1.1647 - val_loss: 0.6875 - val_mean_absolute_error: 0.5180\n",
      "Epoch 8/20\n"
     ]
    },
    {
     "data": {
      "application/vnd.jupyter.widget-view+json": {
       "model_id": "f3a3c90a21b84195b9737a1616e6e3f0",
       "version_major": 2,
       "version_minor": 0
      },
      "text/plain": [
       "0/36           ETA: ?s - "
      ]
     },
     "metadata": {},
     "output_type": "display_data"
    },
    {
     "name": "stdout",
     "output_type": "stream",
     "text": [
      "Epoch 8/20\n",
      "36/36 [==============================] - ETA: 0s - loss: 1.8119 - mean_absolute_error: 1.0434"
     ]
    },
    {
     "name": "stderr",
     "output_type": "stream",
     "text": [
      "WARNING:absl:Found untraced functions such as dense_layer_call_fn, dense_layer_call_and_return_conditional_losses, embedding_layer_call_fn, embedding_layer_call_and_return_conditional_losses, query_layer_call_fn while saving (showing 5 of 52). These functions will not be directly callable after loading.\n"
     ]
    },
    {
     "name": "stdout",
     "output_type": "stream",
     "text": [
      "INFO:tensorflow:Assets written to: /home/ubuntu/logs/model-1/20221124-185054/MC/assets\n"
     ]
    },
    {
     "name": "stderr",
     "output_type": "stream",
     "text": [
      "INFO:tensorflow:Assets written to: /home/ubuntu/logs/model-1/20221124-185054/MC/assets\n"
     ]
    },
    {
     "name": "stdout",
     "output_type": "stream",
     "text": [
      "36/36 [==============================] - 15s 419ms/step - loss: 1.8119 - mean_absolute_error: 1.0434 - val_loss: 0.7787 - val_mean_absolute_error: 0.5657\n",
      "Epoch 9/20\n"
     ]
    },
    {
     "data": {
      "application/vnd.jupyter.widget-view+json": {
       "model_id": "4d618d3bff4e46b18600da2b9d0c6732",
       "version_major": 2,
       "version_minor": 0
      },
      "text/plain": [
       "0/36           ETA: ?s - "
      ]
     },
     "metadata": {},
     "output_type": "display_data"
    },
    {
     "name": "stdout",
     "output_type": "stream",
     "text": [
      "Epoch 9/20\n",
      "35/36 [============================>.] - ETA: 0s - loss: 2.2136 - mean_absolute_error: 1.0697"
     ]
    },
    {
     "name": "stderr",
     "output_type": "stream",
     "text": [
      "WARNING:absl:Found untraced functions such as dense_layer_call_fn, dense_layer_call_and_return_conditional_losses, embedding_layer_call_fn, embedding_layer_call_and_return_conditional_losses, query_layer_call_fn while saving (showing 5 of 52). These functions will not be directly callable after loading.\n"
     ]
    },
    {
     "name": "stdout",
     "output_type": "stream",
     "text": [
      "INFO:tensorflow:Assets written to: /home/ubuntu/logs/model-1/20221124-185054/MC/assets\n"
     ]
    },
    {
     "name": "stderr",
     "output_type": "stream",
     "text": [
      "INFO:tensorflow:Assets written to: /home/ubuntu/logs/model-1/20221124-185054/MC/assets\n"
     ]
    },
    {
     "name": "stdout",
     "output_type": "stream",
     "text": [
      "36/36 [==============================] - 14s 406ms/step - loss: 2.2166 - mean_absolute_error: 1.0823 - val_loss: 0.9186 - val_mean_absolute_error: 0.6537\n",
      "Epoch 10/20\n"
     ]
    },
    {
     "data": {
      "application/vnd.jupyter.widget-view+json": {
       "model_id": "329f37d000234d67ae0e90c35829f699",
       "version_major": 2,
       "version_minor": 0
      },
      "text/plain": [
       "0/36           ETA: ?s - "
      ]
     },
     "metadata": {},
     "output_type": "display_data"
    },
    {
     "name": "stdout",
     "output_type": "stream",
     "text": [
      "Epoch 10/20\n",
      "33/36 [==========================>...] - ETA: 0s - loss: 2.3016 - mean_absolute_error: 1.0378"
     ]
    },
    {
     "name": "stderr",
     "output_type": "stream",
     "text": [
      "WARNING:absl:Found untraced functions such as dense_layer_call_fn, dense_layer_call_and_return_conditional_losses, embedding_layer_call_fn, embedding_layer_call_and_return_conditional_losses, query_layer_call_fn while saving (showing 5 of 52). These functions will not be directly callable after loading.\n"
     ]
    },
    {
     "name": "stdout",
     "output_type": "stream",
     "text": [
      "INFO:tensorflow:Assets written to: /home/ubuntu/logs/model-1/20221124-185054/MC/assets\n"
     ]
    },
    {
     "name": "stderr",
     "output_type": "stream",
     "text": [
      "INFO:tensorflow:Assets written to: /home/ubuntu/logs/model-1/20221124-185054/MC/assets\n"
     ]
    },
    {
     "name": "stdout",
     "output_type": "stream",
     "text": [
      "36/36 [==============================] - 15s 428ms/step - loss: 2.1238 - mean_absolute_error: 0.9817 - val_loss: 1.0359 - val_mean_absolute_error: 0.7393\n",
      "Epoch 11/20\n"
     ]
    },
    {
     "data": {
      "application/vnd.jupyter.widget-view+json": {
       "model_id": "b6966dbc99264a749b5f090187773cec",
       "version_major": 2,
       "version_minor": 0
      },
      "text/plain": [
       "0/36           ETA: ?s - "
      ]
     },
     "metadata": {},
     "output_type": "display_data"
    },
    {
     "name": "stdout",
     "output_type": "stream",
     "text": [
      "Epoch 11/20\n",
      "33/36 [==========================>...] - ETA: 0s - loss: 2.3848 - mean_absolute_error: 1.1186"
     ]
    },
    {
     "name": "stderr",
     "output_type": "stream",
     "text": [
      "WARNING:absl:Found untraced functions such as dense_layer_call_fn, dense_layer_call_and_return_conditional_losses, embedding_layer_call_fn, embedding_layer_call_and_return_conditional_losses, query_layer_call_fn while saving (showing 5 of 52). These functions will not be directly callable after loading.\n"
     ]
    },
    {
     "name": "stdout",
     "output_type": "stream",
     "text": [
      "INFO:tensorflow:Assets written to: /home/ubuntu/logs/model-1/20221124-185054/MC/assets\n"
     ]
    },
    {
     "name": "stderr",
     "output_type": "stream",
     "text": [
      "INFO:tensorflow:Assets written to: /home/ubuntu/logs/model-1/20221124-185054/MC/assets\n"
     ]
    },
    {
     "name": "stdout",
     "output_type": "stream",
     "text": [
      "36/36 [==============================] - 14s 402ms/step - loss: 2.3038 - mean_absolute_error: 1.1099 - val_loss: 1.0852 - val_mean_absolute_error: 0.7726\n",
      "Epoch 12/20\n"
     ]
    },
    {
     "data": {
      "application/vnd.jupyter.widget-view+json": {
       "model_id": "ef2f119415274f3c8b87d1b88a1f1c15",
       "version_major": 2,
       "version_minor": 0
      },
      "text/plain": [
       "0/36           ETA: ?s - "
      ]
     },
     "metadata": {},
     "output_type": "display_data"
    },
    {
     "name": "stdout",
     "output_type": "stream",
     "text": [
      "Epoch 12/20\n",
      "33/36 [==========================>...] - ETA: 0s - loss: 1.8964 - mean_absolute_error: 1.0256"
     ]
    },
    {
     "name": "stderr",
     "output_type": "stream",
     "text": [
      "WARNING:absl:Found untraced functions such as dense_layer_call_fn, dense_layer_call_and_return_conditional_losses, embedding_layer_call_fn, embedding_layer_call_and_return_conditional_losses, query_layer_call_fn while saving (showing 5 of 52). These functions will not be directly callable after loading.\n"
     ]
    },
    {
     "name": "stdout",
     "output_type": "stream",
     "text": [
      "INFO:tensorflow:Assets written to: /home/ubuntu/logs/model-1/20221124-185054/MC/assets\n"
     ]
    },
    {
     "name": "stderr",
     "output_type": "stream",
     "text": [
      "INFO:tensorflow:Assets written to: /home/ubuntu/logs/model-1/20221124-185054/MC/assets\n"
     ]
    },
    {
     "name": "stdout",
     "output_type": "stream",
     "text": [
      "36/36 [==============================] - 15s 424ms/step - loss: 1.8257 - mean_absolute_error: 1.0178 - val_loss: 1.6898 - val_mean_absolute_error: 1.0968\n",
      "Epoch 13/20\n"
     ]
    },
    {
     "data": {
      "application/vnd.jupyter.widget-view+json": {
       "model_id": "7c663c733d8348f59d8ea2f6f365f7e6",
       "version_major": 2,
       "version_minor": 0
      },
      "text/plain": [
       "0/36           ETA: ?s - "
      ]
     },
     "metadata": {},
     "output_type": "display_data"
    },
    {
     "name": "stdout",
     "output_type": "stream",
     "text": [
      "Epoch 13/20\n",
      "35/36 [============================>.] - ETA: 0s - loss: 1.7250 - mean_absolute_error: 0.9796"
     ]
    },
    {
     "name": "stderr",
     "output_type": "stream",
     "text": [
      "WARNING:absl:Found untraced functions such as dense_layer_call_fn, dense_layer_call_and_return_conditional_losses, embedding_layer_call_fn, embedding_layer_call_and_return_conditional_losses, query_layer_call_fn while saving (showing 5 of 52). These functions will not be directly callable after loading.\n"
     ]
    },
    {
     "name": "stdout",
     "output_type": "stream",
     "text": [
      "INFO:tensorflow:Assets written to: /home/ubuntu/logs/model-1/20221124-185054/MC/assets\n"
     ]
    },
    {
     "name": "stderr",
     "output_type": "stream",
     "text": [
      "INFO:tensorflow:Assets written to: /home/ubuntu/logs/model-1/20221124-185054/MC/assets\n"
     ]
    },
    {
     "name": "stdout",
     "output_type": "stream",
     "text": [
      "36/36 [==============================] - 14s 402ms/step - loss: 1.7023 - mean_absolute_error: 0.9789 - val_loss: 0.8181 - val_mean_absolute_error: 0.5823\n",
      "Epoch 14/20\n"
     ]
    },
    {
     "data": {
      "application/vnd.jupyter.widget-view+json": {
       "model_id": "32cd55ba82c54684b869c5a329921311",
       "version_major": 2,
       "version_minor": 0
      },
      "text/plain": [
       "0/36           ETA: ?s - "
      ]
     },
     "metadata": {},
     "output_type": "display_data"
    },
    {
     "name": "stdout",
     "output_type": "stream",
     "text": [
      "Epoch 14/20\n",
      "33/36 [==========================>...] - ETA: 0s - loss: 1.4138 - mean_absolute_error: 0.8462"
     ]
    },
    {
     "name": "stderr",
     "output_type": "stream",
     "text": [
      "WARNING:absl:Found untraced functions such as dense_layer_call_fn, dense_layer_call_and_return_conditional_losses, embedding_layer_call_fn, embedding_layer_call_and_return_conditional_losses, query_layer_call_fn while saving (showing 5 of 52). These functions will not be directly callable after loading.\n"
     ]
    },
    {
     "name": "stdout",
     "output_type": "stream",
     "text": [
      "INFO:tensorflow:Assets written to: /home/ubuntu/logs/model-1/20221124-185054/MC/assets\n"
     ]
    },
    {
     "name": "stderr",
     "output_type": "stream",
     "text": [
      "INFO:tensorflow:Assets written to: /home/ubuntu/logs/model-1/20221124-185054/MC/assets\n"
     ]
    },
    {
     "name": "stdout",
     "output_type": "stream",
     "text": [
      "36/36 [==============================] - 15s 424ms/step - loss: 1.3276 - mean_absolute_error: 0.8110 - val_loss: 1.0168 - val_mean_absolute_error: 0.7136\n",
      "Epoch 15/20\n"
     ]
    },
    {
     "data": {
      "application/vnd.jupyter.widget-view+json": {
       "model_id": "393452a9eedf4b2dad63732b7118a786",
       "version_major": 2,
       "version_minor": 0
      },
      "text/plain": [
       "0/36           ETA: ?s - "
      ]
     },
     "metadata": {},
     "output_type": "display_data"
    },
    {
     "name": "stdout",
     "output_type": "stream",
     "text": [
      "Epoch 15/20\n",
      "35/36 [============================>.] - ETA: 0s - loss: 1.7278 - mean_absolute_error: 0.9583"
     ]
    },
    {
     "name": "stderr",
     "output_type": "stream",
     "text": [
      "WARNING:absl:Found untraced functions such as dense_layer_call_fn, dense_layer_call_and_return_conditional_losses, embedding_layer_call_fn, embedding_layer_call_and_return_conditional_losses, query_layer_call_fn while saving (showing 5 of 52). These functions will not be directly callable after loading.\n"
     ]
    },
    {
     "name": "stdout",
     "output_type": "stream",
     "text": [
      "INFO:tensorflow:Assets written to: /home/ubuntu/logs/model-1/20221124-185054/MC/assets\n"
     ]
    },
    {
     "name": "stderr",
     "output_type": "stream",
     "text": [
      "INFO:tensorflow:Assets written to: /home/ubuntu/logs/model-1/20221124-185054/MC/assets\n"
     ]
    },
    {
     "name": "stdout",
     "output_type": "stream",
     "text": [
      "36/36 [==============================] - 15s 423ms/step - loss: 1.6964 - mean_absolute_error: 0.9532 - val_loss: 0.8935 - val_mean_absolute_error: 0.6347\n",
      "Epoch 16/20\n"
     ]
    },
    {
     "data": {
      "application/vnd.jupyter.widget-view+json": {
       "model_id": "5441d8c58d5544f9b953e1327f6b0ae9",
       "version_major": 2,
       "version_minor": 0
      },
      "text/plain": [
       "0/36           ETA: ?s - "
      ]
     },
     "metadata": {},
     "output_type": "display_data"
    },
    {
     "name": "stdout",
     "output_type": "stream",
     "text": [
      "Epoch 16/20\n",
      "36/36 [==============================] - ETA: 0s - loss: 1.7312 - mean_absolute_error: 0.9214"
     ]
    },
    {
     "name": "stderr",
     "output_type": "stream",
     "text": [
      "WARNING:absl:Found untraced functions such as dense_layer_call_fn, dense_layer_call_and_return_conditional_losses, embedding_layer_call_fn, embedding_layer_call_and_return_conditional_losses, query_layer_call_fn while saving (showing 5 of 52). These functions will not be directly callable after loading.\n"
     ]
    },
    {
     "name": "stdout",
     "output_type": "stream",
     "text": [
      "INFO:tensorflow:Assets written to: /home/ubuntu/logs/model-1/20221124-185054/MC/assets\n"
     ]
    },
    {
     "name": "stderr",
     "output_type": "stream",
     "text": [
      "INFO:tensorflow:Assets written to: /home/ubuntu/logs/model-1/20221124-185054/MC/assets\n"
     ]
    },
    {
     "name": "stdout",
     "output_type": "stream",
     "text": [
      "36/36 [==============================] - 14s 403ms/step - loss: 1.7312 - mean_absolute_error: 0.9214 - val_loss: 0.6204 - val_mean_absolute_error: 0.5328\n",
      "Epoch 17/20\n"
     ]
    },
    {
     "data": {
      "application/vnd.jupyter.widget-view+json": {
       "model_id": "e1a91fbb0ecc4626b89822c3e5b0f912",
       "version_major": 2,
       "version_minor": 0
      },
      "text/plain": [
       "0/36           ETA: ?s - "
      ]
     },
     "metadata": {},
     "output_type": "display_data"
    },
    {
     "name": "stdout",
     "output_type": "stream",
     "text": [
      "Epoch 17/20\n",
      "36/36 [==============================] - ETA: 0s - loss: 1.7125 - mean_absolute_error: 1.0208"
     ]
    },
    {
     "name": "stderr",
     "output_type": "stream",
     "text": [
      "WARNING:absl:Found untraced functions such as dense_layer_call_fn, dense_layer_call_and_return_conditional_losses, embedding_layer_call_fn, embedding_layer_call_and_return_conditional_losses, query_layer_call_fn while saving (showing 5 of 52). These functions will not be directly callable after loading.\n"
     ]
    },
    {
     "name": "stdout",
     "output_type": "stream",
     "text": [
      "INFO:tensorflow:Assets written to: /home/ubuntu/logs/model-1/20221124-185054/MC/assets\n"
     ]
    },
    {
     "name": "stderr",
     "output_type": "stream",
     "text": [
      "INFO:tensorflow:Assets written to: /home/ubuntu/logs/model-1/20221124-185054/MC/assets\n"
     ]
    },
    {
     "name": "stdout",
     "output_type": "stream",
     "text": [
      "36/36 [==============================] - 15s 427ms/step - loss: 1.7125 - mean_absolute_error: 1.0208 - val_loss: 0.6085 - val_mean_absolute_error: 0.5287\n",
      "Epoch 18/20\n"
     ]
    },
    {
     "data": {
      "application/vnd.jupyter.widget-view+json": {
       "model_id": "5719d393710942aa9ae113bfabd83cd5",
       "version_major": 2,
       "version_minor": 0
      },
      "text/plain": [
       "0/36           ETA: ?s - "
      ]
     },
     "metadata": {},
     "output_type": "display_data"
    },
    {
     "name": "stdout",
     "output_type": "stream",
     "text": [
      "Epoch 18/20\n",
      "36/36 [==============================] - ETA: 0s - loss: 2.4142 - mean_absolute_error: 1.0678"
     ]
    },
    {
     "name": "stderr",
     "output_type": "stream",
     "text": [
      "WARNING:absl:Found untraced functions such as dense_layer_call_fn, dense_layer_call_and_return_conditional_losses, embedding_layer_call_fn, embedding_layer_call_and_return_conditional_losses, query_layer_call_fn while saving (showing 5 of 52). These functions will not be directly callable after loading.\n"
     ]
    },
    {
     "name": "stdout",
     "output_type": "stream",
     "text": [
      "INFO:tensorflow:Assets written to: /home/ubuntu/logs/model-1/20221124-185054/MC/assets\n"
     ]
    },
    {
     "name": "stderr",
     "output_type": "stream",
     "text": [
      "INFO:tensorflow:Assets written to: /home/ubuntu/logs/model-1/20221124-185054/MC/assets\n"
     ]
    },
    {
     "name": "stdout",
     "output_type": "stream",
     "text": [
      "36/36 [==============================] - 14s 403ms/step - loss: 2.4142 - mean_absolute_error: 1.0678 - val_loss: 0.9991 - val_mean_absolute_error: 0.7082\n",
      "Epoch 19/20\n"
     ]
    },
    {
     "data": {
      "application/vnd.jupyter.widget-view+json": {
       "model_id": "fb515addd13d4a0582451ff63e98b97c",
       "version_major": 2,
       "version_minor": 0
      },
      "text/plain": [
       "0/36           ETA: ?s - "
      ]
     },
     "metadata": {},
     "output_type": "display_data"
    },
    {
     "name": "stdout",
     "output_type": "stream",
     "text": [
      "Epoch 19/20\n",
      "33/36 [==========================>...] - ETA: 0s - loss: 2.6013 - mean_absolute_error: 1.1574"
     ]
    },
    {
     "name": "stderr",
     "output_type": "stream",
     "text": [
      "WARNING:absl:Found untraced functions such as dense_layer_call_fn, dense_layer_call_and_return_conditional_losses, embedding_layer_call_fn, embedding_layer_call_and_return_conditional_losses, query_layer_call_fn while saving (showing 5 of 52). These functions will not be directly callable after loading.\n"
     ]
    },
    {
     "name": "stdout",
     "output_type": "stream",
     "text": [
      "INFO:tensorflow:Assets written to: /home/ubuntu/logs/model-1/20221124-185054/MC/assets\n"
     ]
    },
    {
     "name": "stderr",
     "output_type": "stream",
     "text": [
      "INFO:tensorflow:Assets written to: /home/ubuntu/logs/model-1/20221124-185054/MC/assets\n"
     ]
    },
    {
     "name": "stdout",
     "output_type": "stream",
     "text": [
      "36/36 [==============================] - 15s 425ms/step - loss: 2.4107 - mean_absolute_error: 1.1028 - val_loss: 0.6824 - val_mean_absolute_error: 0.5270\n",
      "Epoch 20/20\n"
     ]
    },
    {
     "data": {
      "application/vnd.jupyter.widget-view+json": {
       "model_id": "db21acc33a654174920e93e037e072c8",
       "version_major": 2,
       "version_minor": 0
      },
      "text/plain": [
       "0/36           ETA: ?s - "
      ]
     },
     "metadata": {},
     "output_type": "display_data"
    },
    {
     "name": "stdout",
     "output_type": "stream",
     "text": [
      "Epoch 20/20\n",
      "33/36 [==========================>...] - ETA: 0s - loss: 1.7069 - mean_absolute_error: 0.8981"
     ]
    },
    {
     "name": "stderr",
     "output_type": "stream",
     "text": [
      "WARNING:absl:Found untraced functions such as dense_layer_call_fn, dense_layer_call_and_return_conditional_losses, embedding_layer_call_fn, embedding_layer_call_and_return_conditional_losses, query_layer_call_fn while saving (showing 5 of 52). These functions will not be directly callable after loading.\n"
     ]
    },
    {
     "name": "stdout",
     "output_type": "stream",
     "text": [
      "INFO:tensorflow:Assets written to: /home/ubuntu/logs/model-1/20221124-185054/MC/assets\n"
     ]
    },
    {
     "name": "stderr",
     "output_type": "stream",
     "text": [
      "INFO:tensorflow:Assets written to: /home/ubuntu/logs/model-1/20221124-185054/MC/assets\n"
     ]
    },
    {
     "name": "stdout",
     "output_type": "stream",
     "text": [
      "36/36 [==============================] - 15s 425ms/step - loss: 1.6125 - mean_absolute_error: 0.8825 - val_loss: 1.1308 - val_mean_absolute_error: 0.7894\n"
     ]
    }
   ],
   "source": [
    "batch = 10\n",
    "num_epochs = 20\n",
    "\n",
    "hist_model_1 = vit_model_1.fit(\n",
    "        sample50_train_gen,\n",
    "        validation_data = sample50_test_gen,\n",
    "        batch_size=batch,\n",
    "        epochs=num_epochs,\n",
    "        callbacks= callback_list\n",
    "    )"
   ]
  },
  {
   "cell_type": "code",
   "execution_count": null,
   "metadata": {
    "colab": {
     "base_uri": "https://localhost:8080/",
     "height": 134
    },
    "id": "qDmgcaZ7bXRY",
    "outputId": "04aaf76c-c1c3-4b44-9c01-f1d249f2a36f"
   },
   "outputs": [],
   "source": [
    "print(STOP HERE)"
   ]
  },
  {
   "cell_type": "markdown",
   "metadata": {
    "id": "aRd6Mia3OmRZ"
   },
   "source": [
    "## Tensorboard"
   ]
  },
  {
   "cell_type": "markdown",
   "metadata": {
    "id": "VHl63Ow8-Bbw"
   },
   "source": [
    "### Upload to tensorboard"
   ]
  },
  {
   "cell_type": "code",
   "execution_count": 98,
   "metadata": {
    "id": "u4YKezbZFg1e"
   },
   "outputs": [],
   "source": [
    "%load_ext tensorboard"
   ]
  },
  {
   "cell_type": "code",
   "execution_count": 99,
   "metadata": {
    "id": "5Z9_usNWOOkZ"
   },
   "outputs": [
    {
     "data": {
      "text/html": [
       "\n",
       "      <iframe id=\"tensorboard-frame-edc3b558ff6618d2\" width=\"100%\" height=\"800\" frameborder=\"0\">\n",
       "      </iframe>\n",
       "      <script>\n",
       "        (function() {\n",
       "          const frame = document.getElementById(\"tensorboard-frame-edc3b558ff6618d2\");\n",
       "          const url = new URL(\"/\", window.location);\n",
       "          const port = 6006;\n",
       "          if (port) {\n",
       "            url.port = port;\n",
       "          }\n",
       "          frame.src = url;\n",
       "        })();\n",
       "      </script>\n",
       "    "
      ],
      "text/plain": [
       "<IPython.core.display.HTML object>"
      ]
     },
     "metadata": {},
     "output_type": "display_data"
    }
   ],
   "source": [
    "%tensorboard --logdir '/home/ubuntu/logs/model-1/20221124-185054/TB/' "
   ]
  },
  {
   "cell_type": "code",
   "execution_count": 100,
   "metadata": {
    "id": "_dbaPXSo9nDP"
   },
   "outputs": [
    {
     "name": "stdout",
     "output_type": "stream",
     "text": [
      "^C\n"
     ]
    }
   ],
   "source": [
    "!tensorboard dev upload --logdir '/home/ubuntu/logs/model-1/20221124-185054/TB/'  --name \"Prototype - 50\" --description \"Training on 50 sample dish images\" "
   ]
  },
  {
   "cell_type": "code",
   "execution_count": 102,
   "metadata": {
    "id": "l_90ItN69SED"
   },
   "outputs": [
    {
     "data": {
      "text/plain": [
       "<keras.callbacks.History at 0x7f245f85dbb0>"
      ]
     },
     "execution_count": 102,
     "metadata": {},
     "output_type": "execute_result"
    }
   ],
   "source": [
    "hist_model_1"
   ]
  },
  {
   "cell_type": "markdown",
   "metadata": {
    "id": "XRVt3Dzx8jvI"
   },
   "source": [
    "### Plot Function"
   ]
  },
  {
   "cell_type": "code",
   "execution_count": 103,
   "metadata": {
    "id": "HxDj0Bb79HHy"
   },
   "outputs": [
    {
     "data": {
      "image/png": "[encoded data removed]",
      "text/plain": [
       "<Figure size 432x288 with 1 Axes>"
      ]
     },
     "metadata": {
      "needs_background": "light"
     },
     "output_type": "display_data"
    }
   ],
   "source": [
    "plt.plot(hist_model_1.history[\"loss\"], label=\"train_loss\")\n",
    "plt.plot(hist_model_1.history[\"val_loss\"], label=\"val_loss\")\n",
    "plt.plot(hist_model_1.history[\"mean_absolute_error\"], label=\"MAE\")\n",
    "plt.plot(hist_model_1.history[\"val_mean_absolute_error\"], label=\"VAL MAE\")\n",
    "plt.xlabel(\"Epochs\")\n",
    "plt.ylabel(\"Loss\")\n",
    "plt.title(\"Train and Validation Losses Over Epochs\", fontsize=14)\n",
    "plt.legend()\n",
    "plt.grid()\n",
    "plt.show()"
   ]
  },
  {
   "cell_type": "code",
   "execution_count": null,
   "metadata": {
    "id": "hZK3JkDu88DR"
   },
   "outputs": [],
   "source": [
    "batch = 10\n",
    "num_epochs = 20\n",
    "\n",
    "hist_model_1 = vit_model_1.fit(\n",
    "        sample50_train_gen,\n",
    "        validation_data = sample50_test_gen,\n",
    "        batch_size=batch,\n",
    "        epochs=num_epochs,\n",
    "        callbacks= callback_list\n",
    "    )"
   ]
  },
  {
   "cell_type": "markdown",
   "metadata": {
    "id": "04BCTZXL3VuO",
    "tags": []
   },
   "source": [
    "## Training Model - 1 with 100 records"
   ]
  },
  {
   "cell_type": "markdown",
   "metadata": {
    "id": "ix2Ix1RTof14"
   },
   "source": [
    "### Sample 100 Images for Prototype"
   ]
  },
  {
   "cell_type": "markdown",
   "metadata": {
    "id": "kd0Tcf9H0BLF"
   },
   "source": [
    "### Train/Test Split"
   ]
  },
  {
   "cell_type": "code",
   "execution_count": 111,
   "metadata": {
    "colab": {
     "base_uri": "https://localhost:8080/"
    },
    "id": "rAwnGNU9z0sg",
    "outputId": "ad32deb1-0756-45bd-e309-83d6af403aa6"
   },
   "outputs": [
    {
     "name": "stdout",
     "output_type": "stream",
     "text": [
      "(100, 7)\n"
     ]
    }
   ],
   "source": [
    "SAMPLE_SIZE = 100\n",
    "sample100_data = dish_info.sample(n=SAMPLE_SIZE)\n",
    "print(sample100_data.shape)"
   ]
  },
  {
   "cell_type": "code",
   "execution_count": 112,
   "metadata": {
    "colab": {
     "base_uri": "https://localhost:8080/",
     "height": 270
    },
    "id": "qNP3hyWpvnQX",
    "outputId": "9c28b27c-5cc6-447d-ab8a-4b347f833286"
   },
   "outputs": [
    {
     "data": {
      "text/html": [
       "<div>\n",
       "<style scoped>\n",
       "    .dataframe tbody tr th:only-of-type {\n",
       "        vertical-align: middle;\n",
       "    }\n",
       "\n",
       "    .dataframe tbody tr th {\n",
       "        vertical-align: top;\n",
       "    }\n",
       "\n",
       "    .dataframe thead th {\n",
       "        text-align: right;\n",
       "    }\n",
       "</style>\n",
       "<table border=\"1\" class=\"dataframe\">\n",
       "  <thead>\n",
       "    <tr style=\"text-align: right;\">\n",
       "      <th></th>\n",
       "      <th>dish_id</th>\n",
       "      <th>total_calories</th>\n",
       "      <th>total_mass</th>\n",
       "      <th>total_fat</th>\n",
       "      <th>total_carb</th>\n",
       "      <th>total_protein</th>\n",
       "      <th>image_path</th>\n",
       "    </tr>\n",
       "  </thead>\n",
       "  <tbody>\n",
       "    <tr>\n",
       "      <th>251</th>\n",
       "      <td>dish_1563996279</td>\n",
       "      <td>98.490021</td>\n",
       "      <td>278.0</td>\n",
       "      <td>1.893741</td>\n",
       "      <td>19.736820</td>\n",
       "      <td>3.910173</td>\n",
       "      <td>/home/ubuntu/dataset/processed_overhead/dish_1...</td>\n",
       "    </tr>\n",
       "    <tr>\n",
       "      <th>2612</th>\n",
       "      <td>dish_1562686664</td>\n",
       "      <td>119.129997</td>\n",
       "      <td>209.0</td>\n",
       "      <td>0.627000</td>\n",
       "      <td>29.260000</td>\n",
       "      <td>1.463000</td>\n",
       "      <td>/home/ubuntu/dataset/processed_overhead/dish_1...</td>\n",
       "    </tr>\n",
       "    <tr>\n",
       "      <th>3190</th>\n",
       "      <td>dish_1566849895</td>\n",
       "      <td>112.309998</td>\n",
       "      <td>153.0</td>\n",
       "      <td>7.341000</td>\n",
       "      <td>12.821001</td>\n",
       "      <td>1.310000</td>\n",
       "      <td>/home/ubuntu/dataset/processed_overhead/dish_1...</td>\n",
       "    </tr>\n",
       "    <tr>\n",
       "      <th>362</th>\n",
       "      <td>dish_1562788010</td>\n",
       "      <td>67.643532</td>\n",
       "      <td>182.0</td>\n",
       "      <td>1.845235</td>\n",
       "      <td>11.571823</td>\n",
       "      <td>2.979530</td>\n",
       "      <td>/home/ubuntu/dataset/processed_overhead/dish_1...</td>\n",
       "    </tr>\n",
       "    <tr>\n",
       "      <th>1088</th>\n",
       "      <td>dish_1562960472</td>\n",
       "      <td>139.970001</td>\n",
       "      <td>166.0</td>\n",
       "      <td>6.729000</td>\n",
       "      <td>16.591000</td>\n",
       "      <td>4.553000</td>\n",
       "      <td>/home/ubuntu/dataset/processed_overhead/dish_1...</td>\n",
       "    </tr>\n",
       "  </tbody>\n",
       "</table>\n",
       "</div>"
      ],
      "text/plain": [
       "              dish_id  total_calories  total_mass  total_fat  total_carb  \\\n",
       "251   dish_1563996279       98.490021       278.0   1.893741   19.736820   \n",
       "2612  dish_1562686664      119.129997       209.0   0.627000   29.260000   \n",
       "3190  dish_1566849895      112.309998       153.0   7.341000   12.821001   \n",
       "362   dish_1562788010       67.643532       182.0   1.845235   11.571823   \n",
       "1088  dish_1562960472      139.970001       166.0   6.729000   16.591000   \n",
       "\n",
       "      total_protein                                         image_path  \n",
       "251        3.910173  /home/ubuntu/dataset/processed_overhead/dish_1...  \n",
       "2612       1.463000  /home/ubuntu/dataset/processed_overhead/dish_1...  \n",
       "3190       1.310000  /home/ubuntu/dataset/processed_overhead/dish_1...  \n",
       "362        2.979530  /home/ubuntu/dataset/processed_overhead/dish_1...  \n",
       "1088       4.553000  /home/ubuntu/dataset/processed_overhead/dish_1...  "
      ]
     },
     "execution_count": 112,
     "metadata": {},
     "output_type": "execute_result"
    }
   ],
   "source": [
    "sample100_data.head()"
   ]
  },
  {
   "cell_type": "code",
   "execution_count": 74,
   "metadata": {
    "id": "aFrzdtOUrm_-"
   },
   "outputs": [
    {
     "data": {
      "text/plain": [
       "'/home/ubuntu/processed_overhead/dish_1562963484/cropped.png'"
      ]
     },
     "execution_count": 74,
     "metadata": {},
     "output_type": "execute_result"
    }
   ],
   "source": [
    "# cropped_image_path = workspace + '/processed_overhead/'\n",
    "# sample50_data.dish_id.apply(lambda x :  cropped_image_path + x + '/cropped.png')"
   ]
  },
  {
   "cell_type": "code",
   "execution_count": 113,
   "metadata": {
    "colab": {
     "base_uri": "https://localhost:8080/"
    },
    "id": "s2O9sekkrTH3",
    "outputId": "04ec233b-bc86-4fe2-886c-41352d5310fd"
   },
   "outputs": [
    {
     "name": "stdout",
     "output_type": "stream",
     "text": [
      "(80, 7)\n",
      "(10, 7)\n",
      "(10, 7)\n"
     ]
    },
    {
     "data": {
      "text/plain": [
       "(90, 7)"
      ]
     },
     "execution_count": 113,
     "metadata": {},
     "output_type": "execute_result"
    }
   ],
   "source": [
    "fractions = np.array([0.8, 0.1, 0.1])\n",
    "# shuffle\n",
    "df = sample100_data.sample(frac=1) \n",
    "# split into 3 parts\n",
    "train_100, val_100, test_100 = np.array_split(\n",
    "    df, (fractions[:-1].cumsum() * len(df)).astype(int))\n",
    "print(train_100.shape)\n",
    "print(val_100.shape)\n",
    "print(test_100.shape)\n",
    "sample100_data = pd.concat([train_100,val_100])\n",
    "sample100_data.shape"
   ]
  },
  {
   "cell_type": "markdown",
   "metadata": {
    "id": "X947354mwJNR"
   },
   "source": [
    "### Normalize total_calories\n",
    "* Divide it by total_mass of the dish "
   ]
  },
  {
   "cell_type": "code",
   "execution_count": 114,
   "metadata": {
    "id": "PfzaNmy-wEng"
   },
   "outputs": [],
   "source": [
    "sample100_data[\"total_calories_norm\"] = round(sample100_data[\"total_calories\"]/sample100_data[\"total_mass\"],2)"
   ]
  },
  {
   "cell_type": "code",
   "execution_count": 115,
   "metadata": {
    "colab": {
     "base_uri": "https://localhost:8080/"
    },
    "id": "9I6A4uxtxecr",
    "outputId": "419e3cd9-1bbd-4d2c-e4ce-db75ac92a310"
   },
   "outputs": [
    {
     "name": "stdout",
     "output_type": "stream",
     "text": [
      "<class 'pandas.core.frame.DataFrame'>\n",
      "Int64Index: 90 entries, 3220 to 2469\n",
      "Data columns (total 8 columns):\n",
      " #   Column               Non-Null Count  Dtype  \n",
      "---  ------               --------------  -----  \n",
      " 0   dish_id              90 non-null     object \n",
      " 1   total_calories       90 non-null     float32\n",
      " 2   total_mass           90 non-null     float32\n",
      " 3   total_fat            90 non-null     float32\n",
      " 4   total_carb           90 non-null     float32\n",
      " 5   total_protein        90 non-null     float32\n",
      " 6   image_path           90 non-null     object \n",
      " 7   total_calories_norm  90 non-null     float32\n",
      "dtypes: float32(6), object(2)\n",
      "memory usage: 4.2+ KB\n"
     ]
    }
   ],
   "source": [
    "sample100_data.info()"
   ]
  },
  {
   "cell_type": "markdown",
   "metadata": {
    "id": "6Pa2Imksq8dG"
   },
   "source": [
    "### Data Generator"
   ]
  },
  {
   "cell_type": "code",
   "execution_count": 116,
   "metadata": {
    "colab": {
     "base_uri": "https://localhost:8080/"
    },
    "id": "y2NO7GQ6rCn1",
    "outputId": "7a4f7bc7-2a16-4f1d-f155-3d579ae0402f"
   },
   "outputs": [
    {
     "name": "stdout",
     "output_type": "stream",
     "text": [
      "Found 72 validated image filenames.\n",
      "Found 18 validated image filenames.\n"
     ]
    }
   ],
   "source": [
    "sample100_train_gen  = generator.flow_from_dataframe(dataframe=sample100_data,\n",
    "                              target_size=(256,256),\n",
    "                              x_col=\"image_path\",\n",
    "                              class_mode =\"raw\",\n",
    "                              directory=None,\n",
    "                              y_col = \"total_calories_norm\",\n",
    "                              batch_size=1,\n",
    "                              shuffle=True,\n",
    "                              subset=\"training\",\n",
    "                              seed=123,\n",
    "                              rescale=1.0/255)\n",
    "sample100_test_gen  = generator.flow_from_dataframe(dataframe=sample100_data,\n",
    "                              target_size=(256,256),\n",
    "                              x_col=\"image_path\",\n",
    "                              class_mode =\"raw\",\n",
    "                              directory=None,\n",
    "                              batch_size=1,\n",
    "                              seed=123,\n",
    "                              y_col = \"total_calories_norm\",\n",
    "                              subset=\"validation\",\n",
    "                              rescale=1.0/255)"
   ]
  },
  {
   "cell_type": "markdown",
   "metadata": {
    "id": "Gj6fpevH4EGo"
   },
   "source": [
    "### Callbacks"
   ]
  },
  {
   "cell_type": "code",
   "execution_count": 117,
   "metadata": {
    "colab": {
     "base_uri": "https://localhost:8080/"
    },
    "id": "COD3pNl1VFas",
    "outputId": "41a70274-b209-487e-ff38-a30729a33d03"
   },
   "outputs": [
    {
     "name": "stdout",
     "output_type": "stream",
     "text": [
      "Log file used =  /home/ubuntu/logs/model-1_100/20221124-185054/MC\n",
      "Log file used =  /home/ubuntu/logs/model-1_100/20221124-185054/TB\n"
     ]
    }
   ],
   "source": [
    "callbackHelper1 = CallbackHelper(workspace)\n",
    "model_checkpoint1 = callbackHelper.create_callback(callback_name=\"MC\",experiment=\"/model-1_100\")\n",
    "tensorboard_callback1 = callbackHelper.create_callback(callback_name=\"TB\",experiment=\"/model-1_100\")\n",
    "early_stop_callback1 = callbackHelper.create_callback(callback_name=\"ES\",es_patience=0)\n",
    "tqdm_callback1 = callbackHelper.create_callback(callback_name=\"TQDM\")\n",
    "callback_list1 = [tqdm_callback1,model_checkpoint1,tensorboard_callback1]"
   ]
  },
  {
   "cell_type": "code",
   "execution_count": 118,
   "metadata": {
    "colab": {
     "base_uri": "https://localhost:8080/"
    },
    "id": "lBMbiFLv-9rT",
    "outputId": "4f377119-bc8c-4b23-ad40-1f489e057571"
   },
   "outputs": [
    {
     "data": {
      "text/plain": [
       "[<tensorflow_addons.callbacks.tqdm_progress_bar.TQDMProgressBar at 0x7f229c0c42e0>,\n",
       " <keras.callbacks.ModelCheckpoint at 0x7f244ddf5c10>,\n",
       " <keras.callbacks.TensorBoard at 0x7f22246dbbb0>]"
      ]
     },
     "execution_count": 118,
     "metadata": {},
     "output_type": "execute_result"
    }
   ],
   "source": [
    "callback_list1"
   ]
  },
  {
   "cell_type": "markdown",
   "metadata": {
    "id": "fSVn2GUs97S1"
   },
   "source": [
    "### Compile"
   ]
  },
  {
   "cell_type": "code",
   "execution_count": 119,
   "metadata": {
    "id": "YtvfjkFIx9kz"
   },
   "outputs": [],
   "source": [
    "vm_lr_1 = 1e-4\n",
    "vit_model_1.compile(optimizer=tf.keras.optimizers.RMSprop(learning_rate=vm_lr_1),\n",
    "              loss=\"mean_squared_error\",\n",
    "              metrics=\"mean_absolute_error\")"
   ]
  },
  {
   "cell_type": "markdown",
   "metadata": {
    "id": "eHKdJwcj91tw"
   },
   "source": [
    "### Fit Model"
   ]
  },
  {
   "cell_type": "markdown",
   "metadata": {
    "colab": {
     "base_uri": "https://localhost:8080/",
     "height": 793,
     "referenced_widgets": [
      "4942fd87a8dd4db6bde34772544e33ea",
      "cbe0bb4d7fd844f59b1c140cee10dbdd",
      "c69e581a240f4c3ab437336bf01faa6d",
      "a8a28474b366423ca1fe46d9660b153d",
      "eb39f9fc6065464aa2c7c4ebfec7bf7d",
      "c6ee45d71be04ac394ca3561489fd6d2",
      "3f98117b84fe4380a7e99fb775e685d0",
      "0073c5712c6e4d04b1bf74946ab4044c",
      "d3c2293d08f94cdebdd79e33d7600fde",
      "2dac55d0c72e4e0280ac50d9238d98fc",
      "0fe52a8ab37746da8b1dc7b0625563e0",
      "4b5ff4dff9b14136af5edd4c5bf13819",
      "ee17df8632404392b9d411495261b364",
      "71f29b752d6040919c5d43b87ba32157",
      "21572977fe0c4d75b3f1e5fdebb45d7d",
      "22215fb412914712bccca9772910bdb0",
      "85f239bbe3b049f890fffba52066d197",
      "e517197cb55148e0b356a39ae8ba9328",
      "9f4b4682e3694ede8dc5abf6140bb309",
      "6e4cee4b29234b5bb6e8f8bcff2f42ed",
      "9cf0515b91f6414cba3eac730dc1abc5",
      "5c60a58ef9304a419d7c9b9e2d4f4478",
      "14f6e8af721b41dc9cdc547a3b031e6e",
      "409803d12cbd421c9215ac6b6be01ab7",
      "4784bcacf43e4eb6b13c20cc6d124094",
      "e2d3f8442d134eb28f8a95e6d500ed8e",
      "a8cf46f913984af6b91972691918be0e",
      "5d0957f21ca3488c95410b77dda7fabb",
      "69d4f043a2d54d5cac90919634d170a8",
      "40807c3719ff409596519e244c54ed3c",
      "33921484abdf46aa9c1c21b98d590c4b",
      "4902bd0c28254cce988772c98f836cef",
      "73a19a72178842ce8f6b50106bbb9c76",
      "e126e8b866f2401996fcb510f2ece154",
      "8876d9326487422989c94b986b8f008e",
      "be928391587f4f58854966363a2189bd",
      "10a6e2b3dddf42da8e044ca10079e324",
      "8da3afaa09ec41bea97fbab8cc15c78f",
      "ca123859ba8e4f45a300ae1e3be86e67",
      "e516c923ca5c43589840055a2e8285f7",
      "5398661649e44977ba18fe059cb0d557",
      "d37135a222fc45a69aa2092f83c3dece",
      "6858c90aaa6047cbb81f8d50a7563980",
      "540a5bd9234b48219334780519a3f12d",
      "8f2dc5c7620a4873af64889130d642cd",
      "cf78fa11a2804d26a47e5fd9d91ca3c4",
      "6abbb9bc64ff44ce9142185ba6f51aa0",
      "e94d1861029f4a3e9e6e2ebc910abdf5",
      "a4e92c325d0f42a6aac437ba93bc2c95",
      "b985a433beca49cc910e1c80aed8be3c",
      "2e130680f9ec4413b2a4b49f7497ee77",
      "4eed59190f6847039630afd52a6b460a",
      "58828cf940864f66b61025da58be4697",
      "6c7fd8a892b341209e1e1d29a70079be",
      "b308f2c37be9456db079e3d654e22a08",
      "03b8eb6475334b40bdb659033573ea34",
      "0f37f141f2dc4fd1b353f5e4a6200780",
      "59a3b92efd064aa38728befae8557b36",
      "458667decba7438cb1421c659eb49ce4",
      "069e8d147eba46ad877ee6ce3546cfd8",
      "98f711fd49cc405889f92f02c91782d3",
      "4e25c2f926ce4b89b97ec48b17327bdd",
      "57683ba057584b96bcc2dbee015a3e6c",
      "823103e9f54f4b16ba0928cbb8788dc1",
      "fa61f6e027894bc4a9ec1a8c7eda69f9",
      "2d7b86c42599489dbdca324122a2dce7",
      "23e0c8a2cee24f7ca844a9bf82bc37b8",
      "2cbf44bf94004b3ab9a4293ba87f0b9f",
      "6b7205e84d1c410583708e18a2f0cf7d",
      "0a4aec3557e94621b2359d370383512f",
      "443021aa6cea402bbe1e9927cd5272f5",
      "f7faca4216274bdd8a54ff99fc48d78c",
      "7caeb3bfd98346d3b741874d1f831fef",
      "6594c4e2b0da42a4b83e0d61076699d6",
      "bdf62450959e4e26ab9fdd06070a03ab",
      "8b199dab530f4b11b3bf5681433cde68",
      "869e8f0c83524f83a94e0f7ddcf17771",
      "717472d2e56e42e0a4ab23493caad358",
      "9e8dd7a3e53c4fbb945e40229cc7c01e",
      "e6125259c2cd4a8087b1e4508de551d5",
      "e8a1e75329e146d69a16af6bc4f4fe24",
      "655e1fd4dc15407c92f20e58246c0044",
      "41200885c8c54e889fb8ec3b9ac130ca",
      "33ddb9bc4ff04be1aa45c0f9b1457460",
      "1f14d1a7525243b2bb707eb2db3389e9",
      "ec8d3a6bc8ba4de6929f38f597704e1d",
      "43b080f50c82474380be4f4fcfe23803",
      "0256f114e97f4dad90b78c5467af8e8f"
     ]
    },
    "id": "c2T-VaKR790A",
    "outputId": "2bfa24c6-8f30-4f5f-ec37-9a3f6dc74778"
   },
   "source": [
    "batch1 = 10\n",
    "num_epochs1 = 20\n",
    "\n",
    "model_1_hist1 = vit_model_1.fit(\n",
    "        sample100_train_gen,\n",
    "        validation_data = sample100_test_gen,\n",
    "        batch_size=batch1,\n",
    "        epochs=num_epochs1,\n",
    "        callbacks= callback_list1\n",
    "    )"
   ]
  },
  {
   "cell_type": "code",
   "execution_count": null,
   "metadata": {},
   "outputs": [],
   "source": [
    "### Plots"
   ]
  },
  {
   "cell_type": "code",
   "execution_count": 121,
   "metadata": {},
   "outputs": [
    {
     "data": {
      "image/png": "[encoded data removed]",
      "text/plain": [
       "<Figure size 432x288 with 1 Axes>"
      ]
     },
     "metadata": {
      "needs_background": "light"
     },
     "output_type": "display_data"
    }
   ],
   "source": [
    "plt.plot(model_1_hist1.history[\"loss\"], label=\"train_loss\")\n",
    "plt.plot(model_1_hist1.history[\"val_loss\"], label=\"val_loss\")\n",
    "plt.plot(model_1_hist1.history[\"mean_absolute_error\"], label=\"MAE\")\n",
    "plt.plot(model_1_hist1.history[\"val_mean_absolute_error\"], label=\"VAL MAE\")\n",
    "plt.xlabel(\"Epochs\")\n",
    "plt.ylabel(\"Loss\")\n",
    "plt.title(\"Train and Validation Losses Over Epochs\", fontsize=14)\n",
    "plt.legend()\n",
    "plt.grid()\n",
    "plt.show()"
   ]
  },
  {
   "cell_type": "code",
   "execution_count": null,
   "metadata": {},
   "outputs": [],
   "source": []
  }
 ],
 "metadata": {
  "accelerator": "TPU",
  "colab": {
   "machine_shape": "hm",
   "provenance": [],
   "toc_visible": true
  },
  "gpuClass": "premium",
  "kernelspec": {
   "display_name": "Python 3",
   "language": "python",
   "name": "python3"
  },
  "language_info": {
   "codemirror_mode": {
    "name": "ipython",
    "version": 3
   },
   "file_extension": ".py",
   "mimetype": "text/x-python",
   "name": "python",
   "nbconvert_exporter": "python",
   "pygments_lexer": "ipython3",
   "version": "3.8.10"
  },
  "widgets": {
   "application/vnd.jupyter.widget-state+json": {
    "0073c5712c6e4d04b1bf74946ab4044c": {
     "model_module": "@jupyter-widgets/base",
     "model_module_version": "1.2.0",
     "model_name": "LayoutModel",
     "state": {
      "_model_module": "@jupyter-widgets/base",
      "_model_module_version": "1.2.0",
      "_model_name": "LayoutModel",
      "_view_count": null,
      "_view_module": "@jupyter-widgets/base",
      "_view_module_version": "1.2.0",
      "_view_name": "LayoutView",
      "align_content": null,
      "align_items": null,
      "align_self": null,
      "border": null,
      "bottom": null,
      "display": null,
      "flex": "2",
      "flex_flow": null,
      "grid_area": null,
      "grid_auto_columns": null,
      "grid_auto_flow": null,
      "grid_auto_rows": null,
      "grid_column": null,
      "grid_gap": null,
      "grid_row": null,
      "grid_template_areas": null,
      "grid_template_columns": null,
      "grid_template_rows": null,
      "height": null,
      "justify_content": null,
      "justify_items": null,
      "left": null,
      "margin": null,
      "max_height": null,
      "max_width": null,
      "min_height": null,
      "min_width": null,
      "object_fit": null,
      "object_position": null,
      "order": null,
      "overflow": null,
      "overflow_x": null,
      "overflow_y": null,
      "padding": null,
      "right": null,
      "top": null,
      "visibility": null,
      "width": null
     }
    },
    "0256f114e97f4dad90b78c5467af8e8f": {
     "model_module": "@jupyter-widgets/controls",
     "model_module_version": "1.5.0",
     "model_name": "DescriptionStyleModel",
     "state": {
      "_model_module": "@jupyter-widgets/controls",
      "_model_module_version": "1.5.0",
      "_model_name": "DescriptionStyleModel",
      "_view_count": null,
      "_view_module": "@jupyter-widgets/base",
      "_view_module_version": "1.2.0",
      "_view_name": "StyleView",
      "description_width": ""
     }
    },
    "03b8eb6475334b40bdb659033573ea34": {
     "model_module": "@jupyter-widgets/controls",
     "model_module_version": "1.5.0",
     "model_name": "HBoxModel",
     "state": {
      "_dom_classes": [],
      "_model_module": "@jupyter-widgets/controls",
      "_model_module_version": "1.5.0",
      "_model_name": "HBoxModel",
      "_view_count": null,
      "_view_module": "@jupyter-widgets/controls",
      "_view_module_version": "1.5.0",
      "_view_name": "HBoxView",
      "box_style": "",
      "children": [
       "IPY_MODEL_0f37f141f2dc4fd1b353f5e4a6200780",
       "IPY_MODEL_59a3b92efd064aa38728befae8557b36",
       "IPY_MODEL_458667decba7438cb1421c659eb49ce4"
      ],
      "layout": "IPY_MODEL_069e8d147eba46ad877ee6ce3546cfd8"
     }
    },
    "069e8d147eba46ad877ee6ce3546cfd8": {
     "model_module": "@jupyter-widgets/base",
     "model_module_version": "1.2.0",
     "model_name": "LayoutModel",
     "state": {
      "_model_module": "@jupyter-widgets/base",
      "_model_module_version": "1.2.0",
      "_model_name": "LayoutModel",
      "_view_count": null,
      "_view_module": "@jupyter-widgets/base",
      "_view_module_version": "1.2.0",
      "_view_name": "LayoutView",
      "align_content": null,
      "align_items": null,
      "align_self": null,
      "border": null,
      "bottom": null,
      "display": "inline-flex",
      "flex": null,
      "flex_flow": "row wrap",
      "grid_area": null,
      "grid_auto_columns": null,
      "grid_auto_flow": null,
      "grid_auto_rows": null,
      "grid_column": null,
      "grid_gap": null,
      "grid_row": null,
      "grid_template_areas": null,
      "grid_template_columns": null,
      "grid_template_rows": null,
      "height": null,
      "justify_content": null,
      "justify_items": null,
      "left": null,
      "margin": null,
      "max_height": null,
      "max_width": null,
      "min_height": null,
      "min_width": null,
      "object_fit": null,
      "object_position": null,
      "order": null,
      "overflow": null,
      "overflow_x": null,
      "overflow_y": null,
      "padding": null,
      "right": null,
      "top": null,
      "visibility": null,
      "width": "100%"
     }
    },
    "0a4aec3557e94621b2359d370383512f": {
     "model_module": "@jupyter-widgets/controls",
     "model_module_version": "1.5.0",
     "model_name": "HTMLModel",
     "state": {
      "_dom_classes": [],
      "_model_module": "@jupyter-widgets/controls",
      "_model_module_version": "1.5.0",
      "_model_name": "HTMLModel",
      "_view_count": null,
      "_view_module": "@jupyter-widgets/controls",
      "_view_module_version": "1.5.0",
      "_view_name": "HTMLView",
      "description": "",
      "description_tooltip": null,
      "layout": "IPY_MODEL_8b199dab530f4b11b3bf5681433cde68",
      "placeholder": "​",
      "style": "IPY_MODEL_869e8f0c83524f83a94e0f7ddcf17771",
      "value": " ETA: 00:00s - loss: 3.1531 - mean_absolute_error: 1.4048 - val_loss: 1.7975 - val_mean_absolute_error: 0.9653"
     }
    },
    "0f37f141f2dc4fd1b353f5e4a6200780": {
     "model_module": "@jupyter-widgets/controls",
     "model_module_version": "1.5.0",
     "model_name": "HTMLModel",
     "state": {
      "_dom_classes": [],
      "_model_module": "@jupyter-widgets/controls",
      "_model_module_version": "1.5.0",
      "_model_name": "HTMLModel",
      "_view_count": null,
      "_view_module": "@jupyter-widgets/controls",
      "_view_module_version": "1.5.0",
      "_view_name": "HTMLView",
      "description": "",
      "description_tooltip": null,
      "layout": "IPY_MODEL_98f711fd49cc405889f92f02c91782d3",
      "placeholder": "​",
      "style": "IPY_MODEL_4e25c2f926ce4b89b97ec48b17327bdd",
      "value": "36/36"
     }
    },
    "0fe52a8ab37746da8b1dc7b0625563e0": {
     "model_module": "@jupyter-widgets/controls",
     "model_module_version": "1.5.0",
     "model_name": "DescriptionStyleModel",
     "state": {
      "_model_module": "@jupyter-widgets/controls",
      "_model_module_version": "1.5.0",
      "_model_name": "DescriptionStyleModel",
      "_view_count": null,
      "_view_module": "@jupyter-widgets/base",
      "_view_module_version": "1.2.0",
      "_view_name": "StyleView",
      "description_width": ""
     }
    },
    "10a6e2b3dddf42da8e044ca10079e324": {
     "model_module": "@jupyter-widgets/controls",
     "model_module_version": "1.5.0",
     "model_name": "HTMLModel",
     "state": {
      "_dom_classes": [],
      "_model_module": "@jupyter-widgets/controls",
      "_model_module_version": "1.5.0",
      "_model_name": "HTMLModel",
      "_view_count": null,
      "_view_module": "@jupyter-widgets/controls",
      "_view_module_version": "1.5.0",
      "_view_name": "HTMLView",
      "description": "",
      "description_tooltip": null,
      "layout": "IPY_MODEL_6858c90aaa6047cbb81f8d50a7563980",
      "placeholder": "​",
      "style": "IPY_MODEL_540a5bd9234b48219334780519a3f12d",
      "value": " ETA: 00:00s - loss: 5.4256 - mean_absolute_error: 1.8478 - val_loss: 1.6064 - val_mean_absolute_error: 0.8868"
     }
    },
    "14f6e8af721b41dc9cdc547a3b031e6e": {
     "model_module": "@jupyter-widgets/controls",
     "model_module_version": "1.5.0",
     "model_name": "HBoxModel",
     "state": {
      "_dom_classes": [],
      "_model_module": "@jupyter-widgets/controls",
      "_model_module_version": "1.5.0",
      "_model_name": "HBoxModel",
      "_view_count": null,
      "_view_module": "@jupyter-widgets/controls",
      "_view_module_version": "1.5.0",
      "_view_name": "HBoxView",
      "box_style": "",
      "children": [
       "IPY_MODEL_409803d12cbd421c9215ac6b6be01ab7",
       "IPY_MODEL_4784bcacf43e4eb6b13c20cc6d124094",
       "IPY_MODEL_e2d3f8442d134eb28f8a95e6d500ed8e"
      ],
      "layout": "IPY_MODEL_a8cf46f913984af6b91972691918be0e"
     }
    },
    "1f14d1a7525243b2bb707eb2db3389e9": {
     "model_module": "@jupyter-widgets/base",
     "model_module_version": "1.2.0",
     "model_name": "LayoutModel",
     "state": {
      "_model_module": "@jupyter-widgets/base",
      "_model_module_version": "1.2.0",
      "_model_name": "LayoutModel",
      "_view_count": null,
      "_view_module": "@jupyter-widgets/base",
      "_view_module_version": "1.2.0",
      "_view_name": "LayoutView",
      "align_content": null,
      "align_items": null,
      "align_self": null,
      "border": null,
      "bottom": null,
      "display": null,
      "flex": "2",
      "flex_flow": null,
      "grid_area": null,
      "grid_auto_columns": null,
      "grid_auto_flow": null,
      "grid_auto_rows": null,
      "grid_column": null,
      "grid_gap": null,
      "grid_row": null,
      "grid_template_areas": null,
      "grid_template_columns": null,
      "grid_template_rows": null,
      "height": null,
      "justify_content": null,
      "justify_items": null,
      "left": null,
      "margin": null,
      "max_height": null,
      "max_width": null,
      "min_height": null,
      "min_width": null,
      "object_fit": null,
      "object_position": null,
      "order": null,
      "overflow": null,
      "overflow_x": null,
      "overflow_y": null,
      "padding": null,
      "right": null,
      "top": null,
      "visibility": null,
      "width": null
     }
    },
    "21572977fe0c4d75b3f1e5fdebb45d7d": {
     "model_module": "@jupyter-widgets/controls",
     "model_module_version": "1.5.0",
     "model_name": "HTMLModel",
     "state": {
      "_dom_classes": [],
      "_model_module": "@jupyter-widgets/controls",
      "_model_module_version": "1.5.0",
      "_model_name": "HTMLModel",
      "_view_count": null,
      "_view_module": "@jupyter-widgets/controls",
      "_view_module_version": "1.5.0",
      "_view_name": "HTMLView",
      "description": "",
      "description_tooltip": null,
      "layout": "IPY_MODEL_9cf0515b91f6414cba3eac730dc1abc5",
      "placeholder": "​",
      "style": "IPY_MODEL_5c60a58ef9304a419d7c9b9e2d4f4478",
      "value": " ETA: 00:00s - loss: 22.3503 - mean_absolute_error: 3.8873 - val_loss: 1.4547 - val_mean_absolute_error: 1.0726"
     }
    },
    "22215fb412914712bccca9772910bdb0": {
     "model_module": "@jupyter-widgets/base",
     "model_module_version": "1.2.0",
     "model_name": "LayoutModel",
     "state": {
      "_model_module": "@jupyter-widgets/base",
      "_model_module_version": "1.2.0",
      "_model_name": "LayoutModel",
      "_view_count": null,
      "_view_module": "@jupyter-widgets/base",
      "_view_module_version": "1.2.0",
      "_view_name": "LayoutView",
      "align_content": null,
      "align_items": null,
      "align_self": null,
      "border": null,
      "bottom": null,
      "display": "inline-flex",
      "flex": null,
      "flex_flow": "row wrap",
      "grid_area": null,
      "grid_auto_columns": null,
      "grid_auto_flow": null,
      "grid_auto_rows": null,
      "grid_column": null,
      "grid_gap": null,
      "grid_row": null,
      "grid_template_areas": null,
      "grid_template_columns": null,
      "grid_template_rows": null,
      "height": null,
      "justify_content": null,
      "justify_items": null,
      "left": null,
      "margin": null,
      "max_height": null,
      "max_width": null,
      "min_height": null,
      "min_width": null,
      "object_fit": null,
      "object_position": null,
      "order": null,
      "overflow": null,
      "overflow_x": null,
      "overflow_y": null,
      "padding": null,
      "right": null,
      "top": null,
      "visibility": null,
      "width": "100%"
     }
    },
    "23e0c8a2cee24f7ca844a9bf82bc37b8": {
     "model_module": "@jupyter-widgets/controls",
     "model_module_version": "1.5.0",
     "model_name": "HBoxModel",
     "state": {
      "_dom_classes": [],
      "_model_module": "@jupyter-widgets/controls",
      "_model_module_version": "1.5.0",
      "_model_name": "HBoxModel",
      "_view_count": null,
      "_view_module": "@jupyter-widgets/controls",
      "_view_module_version": "1.5.0",
      "_view_name": "HBoxView",
      "box_style": "",
      "children": [
       "IPY_MODEL_2cbf44bf94004b3ab9a4293ba87f0b9f",
       "IPY_MODEL_6b7205e84d1c410583708e18a2f0cf7d",
       "IPY_MODEL_0a4aec3557e94621b2359d370383512f"
      ],
      "layout": "IPY_MODEL_443021aa6cea402bbe1e9927cd5272f5"
     }
    },
    "2cbf44bf94004b3ab9a4293ba87f0b9f": {
     "model_module": "@jupyter-widgets/controls",
     "model_module_version": "1.5.0",
     "model_name": "HTMLModel",
     "state": {
      "_dom_classes": [],
      "_model_module": "@jupyter-widgets/controls",
      "_model_module_version": "1.5.0",
      "_model_name": "HTMLModel",
      "_view_count": null,
      "_view_module": "@jupyter-widgets/controls",
      "_view_module_version": "1.5.0",
      "_view_name": "HTMLView",
      "description": "",
      "description_tooltip": null,
      "layout": "IPY_MODEL_f7faca4216274bdd8a54ff99fc48d78c",
      "placeholder": "​",
      "style": "IPY_MODEL_7caeb3bfd98346d3b741874d1f831fef",
      "value": "36/36"
     }
    },
    "2d7b86c42599489dbdca324122a2dce7": {
     "model_module": "@jupyter-widgets/controls",
     "model_module_version": "1.5.0",
     "model_name": "DescriptionStyleModel",
     "state": {
      "_model_module": "@jupyter-widgets/controls",
      "_model_module_version": "1.5.0",
      "_model_name": "DescriptionStyleModel",
      "_view_count": null,
      "_view_module": "@jupyter-widgets/base",
      "_view_module_version": "1.2.0",
      "_view_name": "StyleView",
      "description_width": ""
     }
    },
    "2dac55d0c72e4e0280ac50d9238d98fc": {
     "model_module": "@jupyter-widgets/base",
     "model_module_version": "1.2.0",
     "model_name": "LayoutModel",
     "state": {
      "_model_module": "@jupyter-widgets/base",
      "_model_module_version": "1.2.0",
      "_model_name": "LayoutModel",
      "_view_count": null,
      "_view_module": "@jupyter-widgets/base",
      "_view_module_version": "1.2.0",
      "_view_name": "LayoutView",
      "align_content": null,
      "align_items": null,
      "align_self": null,
      "border": null,
      "bottom": null,
      "display": null,
      "flex": null,
      "flex_flow": null,
      "grid_area": null,
      "grid_auto_columns": null,
      "grid_auto_flow": null,
      "grid_auto_rows": null,
      "grid_column": null,
      "grid_gap": null,
      "grid_row": null,
      "grid_template_areas": null,
      "grid_template_columns": null,
      "grid_template_rows": null,
      "height": null,
      "justify_content": null,
      "justify_items": null,
      "left": null,
      "margin": null,
      "max_height": null,
      "max_width": null,
      "min_height": null,
      "min_width": null,
      "object_fit": null,
      "object_position": null,
      "order": null,
      "overflow": null,
      "overflow_x": null,
      "overflow_y": null,
      "padding": null,
      "right": null,
      "top": null,
      "visibility": null,
      "width": null
     }
    },
    "2e130680f9ec4413b2a4b49f7497ee77": {
     "model_module": "@jupyter-widgets/controls",
     "model_module_version": "1.5.0",
     "model_name": "DescriptionStyleModel",
     "state": {
      "_model_module": "@jupyter-widgets/controls",
      "_model_module_version": "1.5.0",
      "_model_name": "DescriptionStyleModel",
      "_view_count": null,
      "_view_module": "@jupyter-widgets/base",
      "_view_module_version": "1.2.0",
      "_view_name": "StyleView",
      "description_width": ""
     }
    },
    "33921484abdf46aa9c1c21b98d590c4b": {
     "model_module": "@jupyter-widgets/controls",
     "model_module_version": "1.5.0",
     "model_name": "ProgressStyleModel",
     "state": {
      "_model_module": "@jupyter-widgets/controls",
      "_model_module_version": "1.5.0",
      "_model_name": "ProgressStyleModel",
      "_view_count": null,
      "_view_module": "@jupyter-widgets/base",
      "_view_module_version": "1.2.0",
      "_view_name": "StyleView",
      "bar_color": null,
      "description_width": ""
     }
    },
    "33ddb9bc4ff04be1aa45c0f9b1457460": {
     "model_module": "@jupyter-widgets/controls",
     "model_module_version": "1.5.0",
     "model_name": "DescriptionStyleModel",
     "state": {
      "_model_module": "@jupyter-widgets/controls",
      "_model_module_version": "1.5.0",
      "_model_name": "DescriptionStyleModel",
      "_view_count": null,
      "_view_module": "@jupyter-widgets/base",
      "_view_module_version": "1.2.0",
      "_view_name": "StyleView",
      "description_width": ""
     }
    },
    "3f98117b84fe4380a7e99fb775e685d0": {
     "model_module": "@jupyter-widgets/controls",
     "model_module_version": "1.5.0",
     "model_name": "DescriptionStyleModel",
     "state": {
      "_model_module": "@jupyter-widgets/controls",
      "_model_module_version": "1.5.0",
      "_model_name": "DescriptionStyleModel",
      "_view_count": null,
      "_view_module": "@jupyter-widgets/base",
      "_view_module_version": "1.2.0",
      "_view_name": "StyleView",
      "description_width": ""
     }
    },
    "40807c3719ff409596519e244c54ed3c": {
     "model_module": "@jupyter-widgets/base",
     "model_module_version": "1.2.0",
     "model_name": "LayoutModel",
     "state": {
      "_model_module": "@jupyter-widgets/base",
      "_model_module_version": "1.2.0",
      "_model_name": "LayoutModel",
      "_view_count": null,
      "_view_module": "@jupyter-widgets/base",
      "_view_module_version": "1.2.0",
      "_view_name": "LayoutView",
      "align_content": null,
      "align_items": null,
      "align_self": null,
      "border": null,
      "bottom": null,
      "display": null,
      "flex": "2",
      "flex_flow": null,
      "grid_area": null,
      "grid_auto_columns": null,
      "grid_auto_flow": null,
      "grid_auto_rows": null,
      "grid_column": null,
      "grid_gap": null,
      "grid_row": null,
      "grid_template_areas": null,
      "grid_template_columns": null,
      "grid_template_rows": null,
      "height": null,
      "justify_content": null,
      "justify_items": null,
      "left": null,
      "margin": null,
      "max_height": null,
      "max_width": null,
      "min_height": null,
      "min_width": null,
      "object_fit": null,
      "object_position": null,
      "order": null,
      "overflow": null,
      "overflow_x": null,
      "overflow_y": null,
      "padding": null,
      "right": null,
      "top": null,
      "visibility": null,
      "width": null
     }
    },
    "409803d12cbd421c9215ac6b6be01ab7": {
     "model_module": "@jupyter-widgets/controls",
     "model_module_version": "1.5.0",
     "model_name": "HTMLModel",
     "state": {
      "_dom_classes": [],
      "_model_module": "@jupyter-widgets/controls",
      "_model_module_version": "1.5.0",
      "_model_name": "HTMLModel",
      "_view_count": null,
      "_view_module": "@jupyter-widgets/controls",
      "_view_module_version": "1.5.0",
      "_view_name": "HTMLView",
      "description": "",
      "description_tooltip": null,
      "layout": "IPY_MODEL_5d0957f21ca3488c95410b77dda7fabb",
      "placeholder": "​",
      "style": "IPY_MODEL_69d4f043a2d54d5cac90919634d170a8",
      "value": "36/36"
     }
    },
    "41200885c8c54e889fb8ec3b9ac130ca": {
     "model_module": "@jupyter-widgets/base",
     "model_module_version": "1.2.0",
     "model_name": "LayoutModel",
     "state": {
      "_model_module": "@jupyter-widgets/base",
      "_model_module_version": "1.2.0",
      "_model_name": "LayoutModel",
      "_view_count": null,
      "_view_module": "@jupyter-widgets/base",
      "_view_module_version": "1.2.0",
      "_view_name": "LayoutView",
      "align_content": null,
      "align_items": null,
      "align_self": null,
      "border": null,
      "bottom": null,
      "display": null,
      "flex": null,
      "flex_flow": null,
      "grid_area": null,
      "grid_auto_columns": null,
      "grid_auto_flow": null,
      "grid_auto_rows": null,
      "grid_column": null,
      "grid_gap": null,
      "grid_row": null,
      "grid_template_areas": null,
      "grid_template_columns": null,
      "grid_template_rows": null,
      "height": null,
      "justify_content": null,
      "justify_items": null,
      "left": null,
      "margin": null,
      "max_height": null,
      "max_width": null,
      "min_height": null,
      "min_width": null,
      "object_fit": null,
      "object_position": null,
      "order": null,
      "overflow": null,
      "overflow_x": null,
      "overflow_y": null,
      "padding": null,
      "right": null,
      "top": null,
      "visibility": null,
      "width": null
     }
    },
    "43b080f50c82474380be4f4fcfe23803": {
     "model_module": "@jupyter-widgets/base",
     "model_module_version": "1.2.0",
     "model_name": "LayoutModel",
     "state": {
      "_model_module": "@jupyter-widgets/base",
      "_model_module_version": "1.2.0",
      "_model_name": "LayoutModel",
      "_view_count": null,
      "_view_module": "@jupyter-widgets/base",
      "_view_module_version": "1.2.0",
      "_view_name": "LayoutView",
      "align_content": null,
      "align_items": null,
      "align_self": null,
      "border": null,
      "bottom": null,
      "display": null,
      "flex": null,
      "flex_flow": null,
      "grid_area": null,
      "grid_auto_columns": null,
      "grid_auto_flow": null,
      "grid_auto_rows": null,
      "grid_column": null,
      "grid_gap": null,
      "grid_row": null,
      "grid_template_areas": null,
      "grid_template_columns": null,
      "grid_template_rows": null,
      "height": null,
      "justify_content": null,
      "justify_items": null,
      "left": null,
      "margin": null,
      "max_height": null,
      "max_width": null,
      "min_height": null,
      "min_width": null,
      "object_fit": null,
      "object_position": null,
      "order": null,
      "overflow": null,
      "overflow_x": null,
      "overflow_y": null,
      "padding": null,
      "right": null,
      "top": null,
      "visibility": null,
      "width": null
     }
    },
    "443021aa6cea402bbe1e9927cd5272f5": {
     "model_module": "@jupyter-widgets/base",
     "model_module_version": "1.2.0",
     "model_name": "LayoutModel",
     "state": {
      "_model_module": "@jupyter-widgets/base",
      "_model_module_version": "1.2.0",
      "_model_name": "LayoutModel",
      "_view_count": null,
      "_view_module": "@jupyter-widgets/base",
      "_view_module_version": "1.2.0",
      "_view_name": "LayoutView",
      "align_content": null,
      "align_items": null,
      "align_self": null,
      "border": null,
      "bottom": null,
      "display": "inline-flex",
      "flex": null,
      "flex_flow": "row wrap",
      "grid_area": null,
      "grid_auto_columns": null,
      "grid_auto_flow": null,
      "grid_auto_rows": null,
      "grid_column": null,
      "grid_gap": null,
      "grid_row": null,
      "grid_template_areas": null,
      "grid_template_columns": null,
      "grid_template_rows": null,
      "height": null,
      "justify_content": null,
      "justify_items": null,
      "left": null,
      "margin": null,
      "max_height": null,
      "max_width": null,
      "min_height": null,
      "min_width": null,
      "object_fit": null,
      "object_position": null,
      "order": null,
      "overflow": null,
      "overflow_x": null,
      "overflow_y": null,
      "padding": null,
      "right": null,
      "top": null,
      "visibility": null,
      "width": "100%"
     }
    },
    "458667decba7438cb1421c659eb49ce4": {
     "model_module": "@jupyter-widgets/controls",
     "model_module_version": "1.5.0",
     "model_name": "HTMLModel",
     "state": {
      "_dom_classes": [],
      "_model_module": "@jupyter-widgets/controls",
      "_model_module_version": "1.5.0",
      "_model_name": "HTMLModel",
      "_view_count": null,
      "_view_module": "@jupyter-widgets/controls",
      "_view_module_version": "1.5.0",
      "_view_name": "HTMLView",
      "description": "",
      "description_tooltip": null,
      "layout": "IPY_MODEL_fa61f6e027894bc4a9ec1a8c7eda69f9",
      "placeholder": "​",
      "style": "IPY_MODEL_2d7b86c42599489dbdca324122a2dce7",
      "value": " ETA: 00:00s - loss: 3.5791 - mean_absolute_error: 1.5124 - val_loss: 1.9023 - val_mean_absolute_error: 1.2530"
     }
    },
    "4784bcacf43e4eb6b13c20cc6d124094": {
     "model_module": "@jupyter-widgets/controls",
     "model_module_version": "1.5.0",
     "model_name": "FloatProgressModel",
     "state": {
      "_dom_classes": [],
      "_model_module": "@jupyter-widgets/controls",
      "_model_module_version": "1.5.0",
      "_model_name": "FloatProgressModel",
      "_view_count": null,
      "_view_module": "@jupyter-widgets/controls",
      "_view_module_version": "1.5.0",
      "_view_name": "ProgressView",
      "bar_style": "success",
      "description": "",
      "description_tooltip": null,
      "layout": "IPY_MODEL_40807c3719ff409596519e244c54ed3c",
      "max": 36,
      "min": 0,
      "orientation": "horizontal",
      "style": "IPY_MODEL_33921484abdf46aa9c1c21b98d590c4b",
      "value": 36
     }
    },
    "4902bd0c28254cce988772c98f836cef": {
     "model_module": "@jupyter-widgets/base",
     "model_module_version": "1.2.0",
     "model_name": "LayoutModel",
     "state": {
      "_model_module": "@jupyter-widgets/base",
      "_model_module_version": "1.2.0",
      "_model_name": "LayoutModel",
      "_view_count": null,
      "_view_module": "@jupyter-widgets/base",
      "_view_module_version": "1.2.0",
      "_view_name": "LayoutView",
      "align_content": null,
      "align_items": null,
      "align_self": null,
      "border": null,
      "bottom": null,
      "display": null,
      "flex": null,
      "flex_flow": null,
      "grid_area": null,
      "grid_auto_columns": null,
      "grid_auto_flow": null,
      "grid_auto_rows": null,
      "grid_column": null,
      "grid_gap": null,
      "grid_row": null,
      "grid_template_areas": null,
      "grid_template_columns": null,
      "grid_template_rows": null,
      "height": null,
      "justify_content": null,
      "justify_items": null,
      "left": null,
      "margin": null,
      "max_height": null,
      "max_width": null,
      "min_height": null,
      "min_width": null,
      "object_fit": null,
      "object_position": null,
      "order": null,
      "overflow": null,
      "overflow_x": null,
      "overflow_y": null,
      "padding": null,
      "right": null,
      "top": null,
      "visibility": null,
      "width": null
     }
    },
    "4942fd87a8dd4db6bde34772544e33ea": {
     "model_module": "@jupyter-widgets/controls",
     "model_module_version": "1.5.0",
     "model_name": "HBoxModel",
     "state": {
      "_dom_classes": [],
      "_model_module": "@jupyter-widgets/controls",
      "_model_module_version": "1.5.0",
      "_model_name": "HBoxModel",
      "_view_count": null,
      "_view_module": "@jupyter-widgets/controls",
      "_view_module_version": "1.5.0",
      "_view_name": "HBoxView",
      "box_style": "",
      "children": [
       "IPY_MODEL_cbe0bb4d7fd844f59b1c140cee10dbdd",
       "IPY_MODEL_c69e581a240f4c3ab437336bf01faa6d",
       "IPY_MODEL_a8a28474b366423ca1fe46d9660b153d"
      ],
      "layout": "IPY_MODEL_eb39f9fc6065464aa2c7c4ebfec7bf7d"
     }
    },
    "4b5ff4dff9b14136af5edd4c5bf13819": {
     "model_module": "@jupyter-widgets/controls",
     "model_module_version": "1.5.0",
     "model_name": "HBoxModel",
     "state": {
      "_dom_classes": [],
      "_model_module": "@jupyter-widgets/controls",
      "_model_module_version": "1.5.0",
      "_model_name": "HBoxModel",
      "_view_count": null,
      "_view_module": "@jupyter-widgets/controls",
      "_view_module_version": "1.5.0",
      "_view_name": "HBoxView",
      "box_style": "",
      "children": [
       "IPY_MODEL_ee17df8632404392b9d411495261b364",
       "IPY_MODEL_71f29b752d6040919c5d43b87ba32157",
       "IPY_MODEL_21572977fe0c4d75b3f1e5fdebb45d7d"
      ],
      "layout": "IPY_MODEL_22215fb412914712bccca9772910bdb0"
     }
    },
    "4e25c2f926ce4b89b97ec48b17327bdd": {
     "model_module": "@jupyter-widgets/controls",
     "model_module_version": "1.5.0",
     "model_name": "DescriptionStyleModel",
     "state": {
      "_model_module": "@jupyter-widgets/controls",
      "_model_module_version": "1.5.0",
      "_model_name": "DescriptionStyleModel",
      "_view_count": null,
      "_view_module": "@jupyter-widgets/base",
      "_view_module_version": "1.2.0",
      "_view_name": "StyleView",
      "description_width": ""
     }
    },
    "4eed59190f6847039630afd52a6b460a": {
     "model_module": "@jupyter-widgets/base",
     "model_module_version": "1.2.0",
     "model_name": "LayoutModel",
     "state": {
      "_model_module": "@jupyter-widgets/base",
      "_model_module_version": "1.2.0",
      "_model_name": "LayoutModel",
      "_view_count": null,
      "_view_module": "@jupyter-widgets/base",
      "_view_module_version": "1.2.0",
      "_view_name": "LayoutView",
      "align_content": null,
      "align_items": null,
      "align_self": null,
      "border": null,
      "bottom": null,
      "display": null,
      "flex": "2",
      "flex_flow": null,
      "grid_area": null,
      "grid_auto_columns": null,
      "grid_auto_flow": null,
      "grid_auto_rows": null,
      "grid_column": null,
      "grid_gap": null,
      "grid_row": null,
      "grid_template_areas": null,
      "grid_template_columns": null,
      "grid_template_rows": null,
      "height": null,
      "justify_content": null,
      "justify_items": null,
      "left": null,
      "margin": null,
      "max_height": null,
      "max_width": null,
      "min_height": null,
      "min_width": null,
      "object_fit": null,
      "object_position": null,
      "order": null,
      "overflow": null,
      "overflow_x": null,
      "overflow_y": null,
      "padding": null,
      "right": null,
      "top": null,
      "visibility": null,
      "width": null
     }
    },
    "5398661649e44977ba18fe059cb0d557": {
     "model_module": "@jupyter-widgets/base",
     "model_module_version": "1.2.0",
     "model_name": "LayoutModel",
     "state": {
      "_model_module": "@jupyter-widgets/base",
      "_model_module_version": "1.2.0",
      "_model_name": "LayoutModel",
      "_view_count": null,
      "_view_module": "@jupyter-widgets/base",
      "_view_module_version": "1.2.0",
      "_view_name": "LayoutView",
      "align_content": null,
      "align_items": null,
      "align_self": null,
      "border": null,
      "bottom": null,
      "display": null,
      "flex": "2",
      "flex_flow": null,
      "grid_area": null,
      "grid_auto_columns": null,
      "grid_auto_flow": null,
      "grid_auto_rows": null,
      "grid_column": null,
      "grid_gap": null,
      "grid_row": null,
      "grid_template_areas": null,
      "grid_template_columns": null,
      "grid_template_rows": null,
      "height": null,
      "justify_content": null,
      "justify_items": null,
      "left": null,
      "margin": null,
      "max_height": null,
      "max_width": null,
      "min_height": null,
      "min_width": null,
      "object_fit": null,
      "object_position": null,
      "order": null,
      "overflow": null,
      "overflow_x": null,
      "overflow_y": null,
      "padding": null,
      "right": null,
      "top": null,
      "visibility": null,
      "width": null
     }
    },
    "540a5bd9234b48219334780519a3f12d": {
     "model_module": "@jupyter-widgets/controls",
     "model_module_version": "1.5.0",
     "model_name": "DescriptionStyleModel",
     "state": {
      "_model_module": "@jupyter-widgets/controls",
      "_model_module_version": "1.5.0",
      "_model_name": "DescriptionStyleModel",
      "_view_count": null,
      "_view_module": "@jupyter-widgets/base",
      "_view_module_version": "1.2.0",
      "_view_name": "StyleView",
      "description_width": ""
     }
    },
    "57683ba057584b96bcc2dbee015a3e6c": {
     "model_module": "@jupyter-widgets/base",
     "model_module_version": "1.2.0",
     "model_name": "LayoutModel",
     "state": {
      "_model_module": "@jupyter-widgets/base",
      "_model_module_version": "1.2.0",
      "_model_name": "LayoutModel",
      "_view_count": null,
      "_view_module": "@jupyter-widgets/base",
      "_view_module_version": "1.2.0",
      "_view_name": "LayoutView",
      "align_content": null,
      "align_items": null,
      "align_self": null,
      "border": null,
      "bottom": null,
      "display": null,
      "flex": "2",
      "flex_flow": null,
      "grid_area": null,
      "grid_auto_columns": null,
      "grid_auto_flow": null,
      "grid_auto_rows": null,
      "grid_column": null,
      "grid_gap": null,
      "grid_row": null,
      "grid_template_areas": null,
      "grid_template_columns": null,
      "grid_template_rows": null,
      "height": null,
      "justify_content": null,
      "justify_items": null,
      "left": null,
      "margin": null,
      "max_height": null,
      "max_width": null,
      "min_height": null,
      "min_width": null,
      "object_fit": null,
      "object_position": null,
      "order": null,
      "overflow": null,
      "overflow_x": null,
      "overflow_y": null,
      "padding": null,
      "right": null,
      "top": null,
      "visibility": null,
      "width": null
     }
    },
    "58828cf940864f66b61025da58be4697": {
     "model_module": "@jupyter-widgets/controls",
     "model_module_version": "1.5.0",
     "model_name": "ProgressStyleModel",
     "state": {
      "_model_module": "@jupyter-widgets/controls",
      "_model_module_version": "1.5.0",
      "_model_name": "ProgressStyleModel",
      "_view_count": null,
      "_view_module": "@jupyter-widgets/base",
      "_view_module_version": "1.2.0",
      "_view_name": "StyleView",
      "bar_color": null,
      "description_width": ""
     }
    },
    "59a3b92efd064aa38728befae8557b36": {
     "model_module": "@jupyter-widgets/controls",
     "model_module_version": "1.5.0",
     "model_name": "FloatProgressModel",
     "state": {
      "_dom_classes": [],
      "_model_module": "@jupyter-widgets/controls",
      "_model_module_version": "1.5.0",
      "_model_name": "FloatProgressModel",
      "_view_count": null,
      "_view_module": "@jupyter-widgets/controls",
      "_view_module_version": "1.5.0",
      "_view_name": "ProgressView",
      "bar_style": "success",
      "description": "",
      "description_tooltip": null,
      "layout": "IPY_MODEL_57683ba057584b96bcc2dbee015a3e6c",
      "max": 36,
      "min": 0,
      "orientation": "horizontal",
      "style": "IPY_MODEL_823103e9f54f4b16ba0928cbb8788dc1",
      "value": 36
     }
    },
    "5c60a58ef9304a419d7c9b9e2d4f4478": {
     "model_module": "@jupyter-widgets/controls",
     "model_module_version": "1.5.0",
     "model_name": "DescriptionStyleModel",
     "state": {
      "_model_module": "@jupyter-widgets/controls",
      "_model_module_version": "1.5.0",
      "_model_name": "DescriptionStyleModel",
      "_view_count": null,
      "_view_module": "@jupyter-widgets/base",
      "_view_module_version": "1.2.0",
      "_view_name": "StyleView",
      "description_width": ""
     }
    },
    "5d0957f21ca3488c95410b77dda7fabb": {
     "model_module": "@jupyter-widgets/base",
     "model_module_version": "1.2.0",
     "model_name": "LayoutModel",
     "state": {
      "_model_module": "@jupyter-widgets/base",
      "_model_module_version": "1.2.0",
      "_model_name": "LayoutModel",
      "_view_count": null,
      "_view_module": "@jupyter-widgets/base",
      "_view_module_version": "1.2.0",
      "_view_name": "LayoutView",
      "align_content": null,
      "align_items": null,
      "align_self": null,
      "border": null,
      "bottom": null,
      "display": null,
      "flex": null,
      "flex_flow": null,
      "grid_area": null,
      "grid_auto_columns": null,
      "grid_auto_flow": null,
      "grid_auto_rows": null,
      "grid_column": null,
      "grid_gap": null,
      "grid_row": null,
      "grid_template_areas": null,
      "grid_template_columns": null,
      "grid_template_rows": null,
      "height": null,
      "justify_content": null,
      "justify_items": null,
      "left": null,
      "margin": null,
      "max_height": null,
      "max_width": null,
      "min_height": null,
      "min_width": null,
      "object_fit": null,
      "object_position": null,
      "order": null,
      "overflow": null,
      "overflow_x": null,
      "overflow_y": null,
      "padding": null,
      "right": null,
      "top": null,
      "visibility": null,
      "width": null
     }
    },
    "655e1fd4dc15407c92f20e58246c0044": {
     "model_module": "@jupyter-widgets/base",
     "model_module_version": "1.2.0",
     "model_name": "LayoutModel",
     "state": {
      "_model_module": "@jupyter-widgets/base",
      "_model_module_version": "1.2.0",
      "_model_name": "LayoutModel",
      "_view_count": null,
      "_view_module": "@jupyter-widgets/base",
      "_view_module_version": "1.2.0",
      "_view_name": "LayoutView",
      "align_content": null,
      "align_items": null,
      "align_self": null,
      "border": null,
      "bottom": null,
      "display": "inline-flex",
      "flex": null,
      "flex_flow": "row wrap",
      "grid_area": null,
      "grid_auto_columns": null,
      "grid_auto_flow": null,
      "grid_auto_rows": null,
      "grid_column": null,
      "grid_gap": null,
      "grid_row": null,
      "grid_template_areas": null,
      "grid_template_columns": null,
      "grid_template_rows": null,
      "height": null,
      "justify_content": null,
      "justify_items": null,
      "left": null,
      "margin": null,
      "max_height": null,
      "max_width": null,
      "min_height": null,
      "min_width": null,
      "object_fit": null,
      "object_position": null,
      "order": null,
      "overflow": null,
      "overflow_x": null,
      "overflow_y": null,
      "padding": null,
      "right": null,
      "top": null,
      "visibility": null,
      "width": "100%"
     }
    },
    "6594c4e2b0da42a4b83e0d61076699d6": {
     "model_module": "@jupyter-widgets/base",
     "model_module_version": "1.2.0",
     "model_name": "LayoutModel",
     "state": {
      "_model_module": "@jupyter-widgets/base",
      "_model_module_version": "1.2.0",
      "_model_name": "LayoutModel",
      "_view_count": null,
      "_view_module": "@jupyter-widgets/base",
      "_view_module_version": "1.2.0",
      "_view_name": "LayoutView",
      "align_content": null,
      "align_items": null,
      "align_self": null,
      "border": null,
      "bottom": null,
      "display": null,
      "flex": "2",
      "flex_flow": null,
      "grid_area": null,
      "grid_auto_columns": null,
      "grid_auto_flow": null,
      "grid_auto_rows": null,
      "grid_column": null,
      "grid_gap": null,
      "grid_row": null,
      "grid_template_areas": null,
      "grid_template_columns": null,
      "grid_template_rows": null,
      "height": null,
      "justify_content": null,
      "justify_items": null,
      "left": null,
      "margin": null,
      "max_height": null,
      "max_width": null,
      "min_height": null,
      "min_width": null,
      "object_fit": null,
      "object_position": null,
      "order": null,
      "overflow": null,
      "overflow_x": null,
      "overflow_y": null,
      "padding": null,
      "right": null,
      "top": null,
      "visibility": null,
      "width": null
     }
    },
    "6858c90aaa6047cbb81f8d50a7563980": {
     "model_module": "@jupyter-widgets/base",
     "model_module_version": "1.2.0",
     "model_name": "LayoutModel",
     "state": {
      "_model_module": "@jupyter-widgets/base",
      "_model_module_version": "1.2.0",
      "_model_name": "LayoutModel",
      "_view_count": null,
      "_view_module": "@jupyter-widgets/base",
      "_view_module_version": "1.2.0",
      "_view_name": "LayoutView",
      "align_content": null,
      "align_items": null,
      "align_self": null,
      "border": null,
      "bottom": null,
      "display": null,
      "flex": null,
      "flex_flow": null,
      "grid_area": null,
      "grid_auto_columns": null,
      "grid_auto_flow": null,
      "grid_auto_rows": null,
      "grid_column": null,
      "grid_gap": null,
      "grid_row": null,
      "grid_template_areas": null,
      "grid_template_columns": null,
      "grid_template_rows": null,
      "height": null,
      "justify_content": null,
      "justify_items": null,
      "left": null,
      "margin": null,
      "max_height": null,
      "max_width": null,
      "min_height": null,
      "min_width": null,
      "object_fit": null,
      "object_position": null,
      "order": null,
      "overflow": null,
      "overflow_x": null,
      "overflow_y": null,
      "padding": null,
      "right": null,
      "top": null,
      "visibility": null,
      "width": null
     }
    },
    "69d4f043a2d54d5cac90919634d170a8": {
     "model_module": "@jupyter-widgets/controls",
     "model_module_version": "1.5.0",
     "model_name": "DescriptionStyleModel",
     "state": {
      "_model_module": "@jupyter-widgets/controls",
      "_model_module_version": "1.5.0",
      "_model_name": "DescriptionStyleModel",
      "_view_count": null,
      "_view_module": "@jupyter-widgets/base",
      "_view_module_version": "1.2.0",
      "_view_name": "StyleView",
      "description_width": ""
     }
    },
    "6abbb9bc64ff44ce9142185ba6f51aa0": {
     "model_module": "@jupyter-widgets/controls",
     "model_module_version": "1.5.0",
     "model_name": "FloatProgressModel",
     "state": {
      "_dom_classes": [],
      "_model_module": "@jupyter-widgets/controls",
      "_model_module_version": "1.5.0",
      "_model_name": "FloatProgressModel",
      "_view_count": null,
      "_view_module": "@jupyter-widgets/controls",
      "_view_module_version": "1.5.0",
      "_view_name": "ProgressView",
      "bar_style": "success",
      "description": "",
      "description_tooltip": null,
      "layout": "IPY_MODEL_4eed59190f6847039630afd52a6b460a",
      "max": 36,
      "min": 0,
      "orientation": "horizontal",
      "style": "IPY_MODEL_58828cf940864f66b61025da58be4697",
      "value": 36
     }
    },
    "6b7205e84d1c410583708e18a2f0cf7d": {
     "model_module": "@jupyter-widgets/controls",
     "model_module_version": "1.5.0",
     "model_name": "FloatProgressModel",
     "state": {
      "_dom_classes": [],
      "_model_module": "@jupyter-widgets/controls",
      "_model_module_version": "1.5.0",
      "_model_name": "FloatProgressModel",
      "_view_count": null,
      "_view_module": "@jupyter-widgets/controls",
      "_view_module_version": "1.5.0",
      "_view_name": "ProgressView",
      "bar_style": "success",
      "description": "",
      "description_tooltip": null,
      "layout": "IPY_MODEL_6594c4e2b0da42a4b83e0d61076699d6",
      "max": 36,
      "min": 0,
      "orientation": "horizontal",
      "style": "IPY_MODEL_bdf62450959e4e26ab9fdd06070a03ab",
      "value": 36
     }
    },
    "6c7fd8a892b341209e1e1d29a70079be": {
     "model_module": "@jupyter-widgets/base",
     "model_module_version": "1.2.0",
     "model_name": "LayoutModel",
     "state": {
      "_model_module": "@jupyter-widgets/base",
      "_model_module_version": "1.2.0",
      "_model_name": "LayoutModel",
      "_view_count": null,
      "_view_module": "@jupyter-widgets/base",
      "_view_module_version": "1.2.0",
      "_view_name": "LayoutView",
      "align_content": null,
      "align_items": null,
      "align_self": null,
      "border": null,
      "bottom": null,
      "display": null,
      "flex": null,
      "flex_flow": null,
      "grid_area": null,
      "grid_auto_columns": null,
      "grid_auto_flow": null,
      "grid_auto_rows": null,
      "grid_column": null,
      "grid_gap": null,
      "grid_row": null,
      "grid_template_areas": null,
      "grid_template_columns": null,
      "grid_template_rows": null,
      "height": null,
      "justify_content": null,
      "justify_items": null,
      "left": null,
      "margin": null,
      "max_height": null,
      "max_width": null,
      "min_height": null,
      "min_width": null,
      "object_fit": null,
      "object_position": null,
      "order": null,
      "overflow": null,
      "overflow_x": null,
      "overflow_y": null,
      "padding": null,
      "right": null,
      "top": null,
      "visibility": null,
      "width": null
     }
    },
    "6e4cee4b29234b5bb6e8f8bcff2f42ed": {
     "model_module": "@jupyter-widgets/controls",
     "model_module_version": "1.5.0",
     "model_name": "ProgressStyleModel",
     "state": {
      "_model_module": "@jupyter-widgets/controls",
      "_model_module_version": "1.5.0",
      "_model_name": "ProgressStyleModel",
      "_view_count": null,
      "_view_module": "@jupyter-widgets/base",
      "_view_module_version": "1.2.0",
      "_view_name": "StyleView",
      "bar_color": null,
      "description_width": ""
     }
    },
    "717472d2e56e42e0a4ab23493caad358": {
     "model_module": "@jupyter-widgets/controls",
     "model_module_version": "1.5.0",
     "model_name": "HBoxModel",
     "state": {
      "_dom_classes": [],
      "_model_module": "@jupyter-widgets/controls",
      "_model_module_version": "1.5.0",
      "_model_name": "HBoxModel",
      "_view_count": null,
      "_view_module": "@jupyter-widgets/controls",
      "_view_module_version": "1.5.0",
      "_view_name": "HBoxView",
      "box_style": "",
      "children": [
       "IPY_MODEL_9e8dd7a3e53c4fbb945e40229cc7c01e",
       "IPY_MODEL_e6125259c2cd4a8087b1e4508de551d5",
       "IPY_MODEL_e8a1e75329e146d69a16af6bc4f4fe24"
      ],
      "layout": "IPY_MODEL_655e1fd4dc15407c92f20e58246c0044"
     }
    },
    "71f29b752d6040919c5d43b87ba32157": {
     "model_module": "@jupyter-widgets/controls",
     "model_module_version": "1.5.0",
     "model_name": "FloatProgressModel",
     "state": {
      "_dom_classes": [],
      "_model_module": "@jupyter-widgets/controls",
      "_model_module_version": "1.5.0",
      "_model_name": "FloatProgressModel",
      "_view_count": null,
      "_view_module": "@jupyter-widgets/controls",
      "_view_module_version": "1.5.0",
      "_view_name": "ProgressView",
      "bar_style": "success",
      "description": "",
      "description_tooltip": null,
      "layout": "IPY_MODEL_9f4b4682e3694ede8dc5abf6140bb309",
      "max": 36,
      "min": 0,
      "orientation": "horizontal",
      "style": "IPY_MODEL_6e4cee4b29234b5bb6e8f8bcff2f42ed",
      "value": 36
     }
    },
    "73a19a72178842ce8f6b50106bbb9c76": {
     "model_module": "@jupyter-widgets/controls",
     "model_module_version": "1.5.0",
     "model_name": "DescriptionStyleModel",
     "state": {
      "_model_module": "@jupyter-widgets/controls",
      "_model_module_version": "1.5.0",
      "_model_name": "DescriptionStyleModel",
      "_view_count": null,
      "_view_module": "@jupyter-widgets/base",
      "_view_module_version": "1.2.0",
      "_view_name": "StyleView",
      "description_width": ""
     }
    },
    "7caeb3bfd98346d3b741874d1f831fef": {
     "model_module": "@jupyter-widgets/controls",
     "model_module_version": "1.5.0",
     "model_name": "DescriptionStyleModel",
     "state": {
      "_model_module": "@jupyter-widgets/controls",
      "_model_module_version": "1.5.0",
      "_model_name": "DescriptionStyleModel",
      "_view_count": null,
      "_view_module": "@jupyter-widgets/base",
      "_view_module_version": "1.2.0",
      "_view_name": "StyleView",
      "description_width": ""
     }
    },
    "823103e9f54f4b16ba0928cbb8788dc1": {
     "model_module": "@jupyter-widgets/controls",
     "model_module_version": "1.5.0",
     "model_name": "ProgressStyleModel",
     "state": {
      "_model_module": "@jupyter-widgets/controls",
      "_model_module_version": "1.5.0",
      "_model_name": "ProgressStyleModel",
      "_view_count": null,
      "_view_module": "@jupyter-widgets/base",
      "_view_module_version": "1.2.0",
      "_view_name": "StyleView",
      "bar_color": null,
      "description_width": ""
     }
    },
    "85f239bbe3b049f890fffba52066d197": {
     "model_module": "@jupyter-widgets/base",
     "model_module_version": "1.2.0",
     "model_name": "LayoutModel",
     "state": {
      "_model_module": "@jupyter-widgets/base",
      "_model_module_version": "1.2.0",
      "_model_name": "LayoutModel",
      "_view_count": null,
      "_view_module": "@jupyter-widgets/base",
      "_view_module_version": "1.2.0",
      "_view_name": "LayoutView",
      "align_content": null,
      "align_items": null,
      "align_self": null,
      "border": null,
      "bottom": null,
      "display": null,
      "flex": null,
      "flex_flow": null,
      "grid_area": null,
      "grid_auto_columns": null,
      "grid_auto_flow": null,
      "grid_auto_rows": null,
      "grid_column": null,
      "grid_gap": null,
      "grid_row": null,
      "grid_template_areas": null,
      "grid_template_columns": null,
      "grid_template_rows": null,
      "height": null,
      "justify_content": null,
      "justify_items": null,
      "left": null,
      "margin": null,
      "max_height": null,
      "max_width": null,
      "min_height": null,
      "min_width": null,
      "object_fit": null,
      "object_position": null,
      "order": null,
      "overflow": null,
      "overflow_x": null,
      "overflow_y": null,
      "padding": null,
      "right": null,
      "top": null,
      "visibility": null,
      "width": null
     }
    },
    "869e8f0c83524f83a94e0f7ddcf17771": {
     "model_module": "@jupyter-widgets/controls",
     "model_module_version": "1.5.0",
     "model_name": "DescriptionStyleModel",
     "state": {
      "_model_module": "@jupyter-widgets/controls",
      "_model_module_version": "1.5.0",
      "_model_name": "DescriptionStyleModel",
      "_view_count": null,
      "_view_module": "@jupyter-widgets/base",
      "_view_module_version": "1.2.0",
      "_view_name": "StyleView",
      "description_width": ""
     }
    },
    "8876d9326487422989c94b986b8f008e": {
     "model_module": "@jupyter-widgets/controls",
     "model_module_version": "1.5.0",
     "model_name": "HTMLModel",
     "state": {
      "_dom_classes": [],
      "_model_module": "@jupyter-widgets/controls",
      "_model_module_version": "1.5.0",
      "_model_name": "HTMLModel",
      "_view_count": null,
      "_view_module": "@jupyter-widgets/controls",
      "_view_module_version": "1.5.0",
      "_view_name": "HTMLView",
      "description": "",
      "description_tooltip": null,
      "layout": "IPY_MODEL_ca123859ba8e4f45a300ae1e3be86e67",
      "placeholder": "​",
      "style": "IPY_MODEL_e516c923ca5c43589840055a2e8285f7",
      "value": "36/36"
     }
    },
    "8b199dab530f4b11b3bf5681433cde68": {
     "model_module": "@jupyter-widgets/base",
     "model_module_version": "1.2.0",
     "model_name": "LayoutModel",
     "state": {
      "_model_module": "@jupyter-widgets/base",
      "_model_module_version": "1.2.0",
      "_model_name": "LayoutModel",
      "_view_count": null,
      "_view_module": "@jupyter-widgets/base",
      "_view_module_version": "1.2.0",
      "_view_name": "LayoutView",
      "align_content": null,
      "align_items": null,
      "align_self": null,
      "border": null,
      "bottom": null,
      "display": null,
      "flex": null,
      "flex_flow": null,
      "grid_area": null,
      "grid_auto_columns": null,
      "grid_auto_flow": null,
      "grid_auto_rows": null,
      "grid_column": null,
      "grid_gap": null,
      "grid_row": null,
      "grid_template_areas": null,
      "grid_template_columns": null,
      "grid_template_rows": null,
      "height": null,
      "justify_content": null,
      "justify_items": null,
      "left": null,
      "margin": null,
      "max_height": null,
      "max_width": null,
      "min_height": null,
      "min_width": null,
      "object_fit": null,
      "object_position": null,
      "order": null,
      "overflow": null,
      "overflow_x": null,
      "overflow_y": null,
      "padding": null,
      "right": null,
      "top": null,
      "visibility": null,
      "width": null
     }
    },
    "8da3afaa09ec41bea97fbab8cc15c78f": {
     "model_module": "@jupyter-widgets/base",
     "model_module_version": "1.2.0",
     "model_name": "LayoutModel",
     "state": {
      "_model_module": "@jupyter-widgets/base",
      "_model_module_version": "1.2.0",
      "_model_name": "LayoutModel",
      "_view_count": null,
      "_view_module": "@jupyter-widgets/base",
      "_view_module_version": "1.2.0",
      "_view_name": "LayoutView",
      "align_content": null,
      "align_items": null,
      "align_self": null,
      "border": null,
      "bottom": null,
      "display": "inline-flex",
      "flex": null,
      "flex_flow": "row wrap",
      "grid_area": null,
      "grid_auto_columns": null,
      "grid_auto_flow": null,
      "grid_auto_rows": null,
      "grid_column": null,
      "grid_gap": null,
      "grid_row": null,
      "grid_template_areas": null,
      "grid_template_columns": null,
      "grid_template_rows": null,
      "height": null,
      "justify_content": null,
      "justify_items": null,
      "left": null,
      "margin": null,
      "max_height": null,
      "max_width": null,
      "min_height": null,
      "min_width": null,
      "object_fit": null,
      "object_position": null,
      "order": null,
      "overflow": null,
      "overflow_x": null,
      "overflow_y": null,
      "padding": null,
      "right": null,
      "top": null,
      "visibility": null,
      "width": "100%"
     }
    },
    "8f2dc5c7620a4873af64889130d642cd": {
     "model_module": "@jupyter-widgets/controls",
     "model_module_version": "1.5.0",
     "model_name": "HBoxModel",
     "state": {
      "_dom_classes": [],
      "_model_module": "@jupyter-widgets/controls",
      "_model_module_version": "1.5.0",
      "_model_name": "HBoxModel",
      "_view_count": null,
      "_view_module": "@jupyter-widgets/controls",
      "_view_module_version": "1.5.0",
      "_view_name": "HBoxView",
      "box_style": "",
      "children": [
       "IPY_MODEL_cf78fa11a2804d26a47e5fd9d91ca3c4",
       "IPY_MODEL_6abbb9bc64ff44ce9142185ba6f51aa0",
       "IPY_MODEL_e94d1861029f4a3e9e6e2ebc910abdf5"
      ],
      "layout": "IPY_MODEL_a4e92c325d0f42a6aac437ba93bc2c95"
     }
    },
    "98f711fd49cc405889f92f02c91782d3": {
     "model_module": "@jupyter-widgets/base",
     "model_module_version": "1.2.0",
     "model_name": "LayoutModel",
     "state": {
      "_model_module": "@jupyter-widgets/base",
      "_model_module_version": "1.2.0",
      "_model_name": "LayoutModel",
      "_view_count": null,
      "_view_module": "@jupyter-widgets/base",
      "_view_module_version": "1.2.0",
      "_view_name": "LayoutView",
      "align_content": null,
      "align_items": null,
      "align_self": null,
      "border": null,
      "bottom": null,
      "display": null,
      "flex": null,
      "flex_flow": null,
      "grid_area": null,
      "grid_auto_columns": null,
      "grid_auto_flow": null,
      "grid_auto_rows": null,
      "grid_column": null,
      "grid_gap": null,
      "grid_row": null,
      "grid_template_areas": null,
      "grid_template_columns": null,
      "grid_template_rows": null,
      "height": null,
      "justify_content": null,
      "justify_items": null,
      "left": null,
      "margin": null,
      "max_height": null,
      "max_width": null,
      "min_height": null,
      "min_width": null,
      "object_fit": null,
      "object_position": null,
      "order": null,
      "overflow": null,
      "overflow_x": null,
      "overflow_y": null,
      "padding": null,
      "right": null,
      "top": null,
      "visibility": null,
      "width": null
     }
    },
    "9cf0515b91f6414cba3eac730dc1abc5": {
     "model_module": "@jupyter-widgets/base",
     "model_module_version": "1.2.0",
     "model_name": "LayoutModel",
     "state": {
      "_model_module": "@jupyter-widgets/base",
      "_model_module_version": "1.2.0",
      "_model_name": "LayoutModel",
      "_view_count": null,
      "_view_module": "@jupyter-widgets/base",
      "_view_module_version": "1.2.0",
      "_view_name": "LayoutView",
      "align_content": null,
      "align_items": null,
      "align_self": null,
      "border": null,
      "bottom": null,
      "display": null,
      "flex": null,
      "flex_flow": null,
      "grid_area": null,
      "grid_auto_columns": null,
      "grid_auto_flow": null,
      "grid_auto_rows": null,
      "grid_column": null,
      "grid_gap": null,
      "grid_row": null,
      "grid_template_areas": null,
      "grid_template_columns": null,
      "grid_template_rows": null,
      "height": null,
      "justify_content": null,
      "justify_items": null,
      "left": null,
      "margin": null,
      "max_height": null,
      "max_width": null,
      "min_height": null,
      "min_width": null,
      "object_fit": null,
      "object_position": null,
      "order": null,
      "overflow": null,
      "overflow_x": null,
      "overflow_y": null,
      "padding": null,
      "right": null,
      "top": null,
      "visibility": null,
      "width": null
     }
    },
    "9e8dd7a3e53c4fbb945e40229cc7c01e": {
     "model_module": "@jupyter-widgets/controls",
     "model_module_version": "1.5.0",
     "model_name": "HTMLModel",
     "state": {
      "_dom_classes": [],
      "_model_module": "@jupyter-widgets/controls",
      "_model_module_version": "1.5.0",
      "_model_name": "HTMLModel",
      "_view_count": null,
      "_view_module": "@jupyter-widgets/controls",
      "_view_module_version": "1.5.0",
      "_view_name": "HTMLView",
      "description": "",
      "description_tooltip": null,
      "layout": "IPY_MODEL_41200885c8c54e889fb8ec3b9ac130ca",
      "placeholder": "​",
      "style": "IPY_MODEL_33ddb9bc4ff04be1aa45c0f9b1457460",
      "value": "36/36"
     }
    },
    "9f4b4682e3694ede8dc5abf6140bb309": {
     "model_module": "@jupyter-widgets/base",
     "model_module_version": "1.2.0",
     "model_name": "LayoutModel",
     "state": {
      "_model_module": "@jupyter-widgets/base",
      "_model_module_version": "1.2.0",
      "_model_name": "LayoutModel",
      "_view_count": null,
      "_view_module": "@jupyter-widgets/base",
      "_view_module_version": "1.2.0",
      "_view_name": "LayoutView",
      "align_content": null,
      "align_items": null,
      "align_self": null,
      "border": null,
      "bottom": null,
      "display": null,
      "flex": "2",
      "flex_flow": null,
      "grid_area": null,
      "grid_auto_columns": null,
      "grid_auto_flow": null,
      "grid_auto_rows": null,
      "grid_column": null,
      "grid_gap": null,
      "grid_row": null,
      "grid_template_areas": null,
      "grid_template_columns": null,
      "grid_template_rows": null,
      "height": null,
      "justify_content": null,
      "justify_items": null,
      "left": null,
      "margin": null,
      "max_height": null,
      "max_width": null,
      "min_height": null,
      "min_width": null,
      "object_fit": null,
      "object_position": null,
      "order": null,
      "overflow": null,
      "overflow_x": null,
      "overflow_y": null,
      "padding": null,
      "right": null,
      "top": null,
      "visibility": null,
      "width": null
     }
    },
    "a4e92c325d0f42a6aac437ba93bc2c95": {
     "model_module": "@jupyter-widgets/base",
     "model_module_version": "1.2.0",
     "model_name": "LayoutModel",
     "state": {
      "_model_module": "@jupyter-widgets/base",
      "_model_module_version": "1.2.0",
      "_model_name": "LayoutModel",
      "_view_count": null,
      "_view_module": "@jupyter-widgets/base",
      "_view_module_version": "1.2.0",
      "_view_name": "LayoutView",
      "align_content": null,
      "align_items": null,
      "align_self": null,
      "border": null,
      "bottom": null,
      "display": "inline-flex",
      "flex": null,
      "flex_flow": "row wrap",
      "grid_area": null,
      "grid_auto_columns": null,
      "grid_auto_flow": null,
      "grid_auto_rows": null,
      "grid_column": null,
      "grid_gap": null,
      "grid_row": null,
      "grid_template_areas": null,
      "grid_template_columns": null,
      "grid_template_rows": null,
      "height": null,
      "justify_content": null,
      "justify_items": null,
      "left": null,
      "margin": null,
      "max_height": null,
      "max_width": null,
      "min_height": null,
      "min_width": null,
      "object_fit": null,
      "object_position": null,
      "order": null,
      "overflow": null,
      "overflow_x": null,
      "overflow_y": null,
      "padding": null,
      "right": null,
      "top": null,
      "visibility": null,
      "width": "100%"
     }
    },
    "a8a28474b366423ca1fe46d9660b153d": {
     "model_module": "@jupyter-widgets/controls",
     "model_module_version": "1.5.0",
     "model_name": "HTMLModel",
     "state": {
      "_dom_classes": [],
      "_model_module": "@jupyter-widgets/controls",
      "_model_module_version": "1.5.0",
      "_model_name": "HTMLModel",
      "_view_count": null,
      "_view_module": "@jupyter-widgets/controls",
      "_view_module_version": "1.5.0",
      "_view_name": "HTMLView",
      "description": "",
      "description_tooltip": null,
      "layout": "IPY_MODEL_2dac55d0c72e4e0280ac50d9238d98fc",
      "placeholder": "​",
      "style": "IPY_MODEL_0fe52a8ab37746da8b1dc7b0625563e0",
      "value": " 7/20 ETA: 06:49s,  31.52s/epochs"
     }
    },
    "a8cf46f913984af6b91972691918be0e": {
     "model_module": "@jupyter-widgets/base",
     "model_module_version": "1.2.0",
     "model_name": "LayoutModel",
     "state": {
      "_model_module": "@jupyter-widgets/base",
      "_model_module_version": "1.2.0",
      "_model_name": "LayoutModel",
      "_view_count": null,
      "_view_module": "@jupyter-widgets/base",
      "_view_module_version": "1.2.0",
      "_view_name": "LayoutView",
      "align_content": null,
      "align_items": null,
      "align_self": null,
      "border": null,
      "bottom": null,
      "display": "inline-flex",
      "flex": null,
      "flex_flow": "row wrap",
      "grid_area": null,
      "grid_auto_columns": null,
      "grid_auto_flow": null,
      "grid_auto_rows": null,
      "grid_column": null,
      "grid_gap": null,
      "grid_row": null,
      "grid_template_areas": null,
      "grid_template_columns": null,
      "grid_template_rows": null,
      "height": null,
      "justify_content": null,
      "justify_items": null,
      "left": null,
      "margin": null,
      "max_height": null,
      "max_width": null,
      "min_height": null,
      "min_width": null,
      "object_fit": null,
      "object_position": null,
      "order": null,
      "overflow": null,
      "overflow_x": null,
      "overflow_y": null,
      "padding": null,
      "right": null,
      "top": null,
      "visibility": null,
      "width": "100%"
     }
    },
    "b308f2c37be9456db079e3d654e22a08": {
     "model_module": "@jupyter-widgets/controls",
     "model_module_version": "1.5.0",
     "model_name": "DescriptionStyleModel",
     "state": {
      "_model_module": "@jupyter-widgets/controls",
      "_model_module_version": "1.5.0",
      "_model_name": "DescriptionStyleModel",
      "_view_count": null,
      "_view_module": "@jupyter-widgets/base",
      "_view_module_version": "1.2.0",
      "_view_name": "StyleView",
      "description_width": ""
     }
    },
    "b985a433beca49cc910e1c80aed8be3c": {
     "model_module": "@jupyter-widgets/base",
     "model_module_version": "1.2.0",
     "model_name": "LayoutModel",
     "state": {
      "_model_module": "@jupyter-widgets/base",
      "_model_module_version": "1.2.0",
      "_model_name": "LayoutModel",
      "_view_count": null,
      "_view_module": "@jupyter-widgets/base",
      "_view_module_version": "1.2.0",
      "_view_name": "LayoutView",
      "align_content": null,
      "align_items": null,
      "align_self": null,
      "border": null,
      "bottom": null,
      "display": null,
      "flex": null,
      "flex_flow": null,
      "grid_area": null,
      "grid_auto_columns": null,
      "grid_auto_flow": null,
      "grid_auto_rows": null,
      "grid_column": null,
      "grid_gap": null,
      "grid_row": null,
      "grid_template_areas": null,
      "grid_template_columns": null,
      "grid_template_rows": null,
      "height": null,
      "justify_content": null,
      "justify_items": null,
      "left": null,
      "margin": null,
      "max_height": null,
      "max_width": null,
      "min_height": null,
      "min_width": null,
      "object_fit": null,
      "object_position": null,
      "order": null,
      "overflow": null,
      "overflow_x": null,
      "overflow_y": null,
      "padding": null,
      "right": null,
      "top": null,
      "visibility": null,
      "width": null
     }
    },
    "bdf62450959e4e26ab9fdd06070a03ab": {
     "model_module": "@jupyter-widgets/controls",
     "model_module_version": "1.5.0",
     "model_name": "ProgressStyleModel",
     "state": {
      "_model_module": "@jupyter-widgets/controls",
      "_model_module_version": "1.5.0",
      "_model_name": "ProgressStyleModel",
      "_view_count": null,
      "_view_module": "@jupyter-widgets/base",
      "_view_module_version": "1.2.0",
      "_view_name": "StyleView",
      "bar_color": null,
      "description_width": ""
     }
    },
    "be928391587f4f58854966363a2189bd": {
     "model_module": "@jupyter-widgets/controls",
     "model_module_version": "1.5.0",
     "model_name": "FloatProgressModel",
     "state": {
      "_dom_classes": [],
      "_model_module": "@jupyter-widgets/controls",
      "_model_module_version": "1.5.0",
      "_model_name": "FloatProgressModel",
      "_view_count": null,
      "_view_module": "@jupyter-widgets/controls",
      "_view_module_version": "1.5.0",
      "_view_name": "ProgressView",
      "bar_style": "success",
      "description": "",
      "description_tooltip": null,
      "layout": "IPY_MODEL_5398661649e44977ba18fe059cb0d557",
      "max": 36,
      "min": 0,
      "orientation": "horizontal",
      "style": "IPY_MODEL_d37135a222fc45a69aa2092f83c3dece",
      "value": 36
     }
    },
    "c69e581a240f4c3ab437336bf01faa6d": {
     "model_module": "@jupyter-widgets/controls",
     "model_module_version": "1.5.0",
     "model_name": "FloatProgressModel",
     "state": {
      "_dom_classes": [],
      "_model_module": "@jupyter-widgets/controls",
      "_model_module_version": "1.5.0",
      "_model_name": "FloatProgressModel",
      "_view_count": null,
      "_view_module": "@jupyter-widgets/controls",
      "_view_module_version": "1.5.0",
      "_view_name": "ProgressView",
      "bar_style": "danger",
      "description": "",
      "description_tooltip": null,
      "layout": "IPY_MODEL_0073c5712c6e4d04b1bf74946ab4044c",
      "max": 20,
      "min": 0,
      "orientation": "horizontal",
      "style": "IPY_MODEL_d3c2293d08f94cdebdd79e33d7600fde",
      "value": 7
     }
    },
    "c6ee45d71be04ac394ca3561489fd6d2": {
     "model_module": "@jupyter-widgets/base",
     "model_module_version": "1.2.0",
     "model_name": "LayoutModel",
     "state": {
      "_model_module": "@jupyter-widgets/base",
      "_model_module_version": "1.2.0",
      "_model_name": "LayoutModel",
      "_view_count": null,
      "_view_module": "@jupyter-widgets/base",
      "_view_module_version": "1.2.0",
      "_view_name": "LayoutView",
      "align_content": null,
      "align_items": null,
      "align_self": null,
      "border": null,
      "bottom": null,
      "display": null,
      "flex": null,
      "flex_flow": null,
      "grid_area": null,
      "grid_auto_columns": null,
      "grid_auto_flow": null,
      "grid_auto_rows": null,
      "grid_column": null,
      "grid_gap": null,
      "grid_row": null,
      "grid_template_areas": null,
      "grid_template_columns": null,
      "grid_template_rows": null,
      "height": null,
      "justify_content": null,
      "justify_items": null,
      "left": null,
      "margin": null,
      "max_height": null,
      "max_width": null,
      "min_height": null,
      "min_width": null,
      "object_fit": null,
      "object_position": null,
      "order": null,
      "overflow": null,
      "overflow_x": null,
      "overflow_y": null,
      "padding": null,
      "right": null,
      "top": null,
      "visibility": null,
      "width": null
     }
    },
    "ca123859ba8e4f45a300ae1e3be86e67": {
     "model_module": "@jupyter-widgets/base",
     "model_module_version": "1.2.0",
     "model_name": "LayoutModel",
     "state": {
      "_model_module": "@jupyter-widgets/base",
      "_model_module_version": "1.2.0",
      "_model_name": "LayoutModel",
      "_view_count": null,
      "_view_module": "@jupyter-widgets/base",
      "_view_module_version": "1.2.0",
      "_view_name": "LayoutView",
      "align_content": null,
      "align_items": null,
      "align_self": null,
      "border": null,
      "bottom": null,
      "display": null,
      "flex": null,
      "flex_flow": null,
      "grid_area": null,
      "grid_auto_columns": null,
      "grid_auto_flow": null,
      "grid_auto_rows": null,
      "grid_column": null,
      "grid_gap": null,
      "grid_row": null,
      "grid_template_areas": null,
      "grid_template_columns": null,
      "grid_template_rows": null,
      "height": null,
      "justify_content": null,
      "justify_items": null,
      "left": null,
      "margin": null,
      "max_height": null,
      "max_width": null,
      "min_height": null,
      "min_width": null,
      "object_fit": null,
      "object_position": null,
      "order": null,
      "overflow": null,
      "overflow_x": null,
      "overflow_y": null,
      "padding": null,
      "right": null,
      "top": null,
      "visibility": null,
      "width": null
     }
    },
    "cbe0bb4d7fd844f59b1c140cee10dbdd": {
     "model_module": "@jupyter-widgets/controls",
     "model_module_version": "1.5.0",
     "model_name": "HTMLModel",
     "state": {
      "_dom_classes": [],
      "_model_module": "@jupyter-widgets/controls",
      "_model_module_version": "1.5.0",
      "_model_name": "HTMLModel",
      "_view_count": null,
      "_view_module": "@jupyter-widgets/controls",
      "_view_module_version": "1.5.0",
      "_view_name": "HTMLView",
      "description": "",
      "description_tooltip": null,
      "layout": "IPY_MODEL_c6ee45d71be04ac394ca3561489fd6d2",
      "placeholder": "​",
      "style": "IPY_MODEL_3f98117b84fe4380a7e99fb775e685d0",
      "value": "Training:  35%"
     }
    },
    "cf78fa11a2804d26a47e5fd9d91ca3c4": {
     "model_module": "@jupyter-widgets/controls",
     "model_module_version": "1.5.0",
     "model_name": "HTMLModel",
     "state": {
      "_dom_classes": [],
      "_model_module": "@jupyter-widgets/controls",
      "_model_module_version": "1.5.0",
      "_model_name": "HTMLModel",
      "_view_count": null,
      "_view_module": "@jupyter-widgets/controls",
      "_view_module_version": "1.5.0",
      "_view_name": "HTMLView",
      "description": "",
      "description_tooltip": null,
      "layout": "IPY_MODEL_b985a433beca49cc910e1c80aed8be3c",
      "placeholder": "​",
      "style": "IPY_MODEL_2e130680f9ec4413b2a4b49f7497ee77",
      "value": "36/36"
     }
    },
    "d37135a222fc45a69aa2092f83c3dece": {
     "model_module": "@jupyter-widgets/controls",
     "model_module_version": "1.5.0",
     "model_name": "ProgressStyleModel",
     "state": {
      "_model_module": "@jupyter-widgets/controls",
      "_model_module_version": "1.5.0",
      "_model_name": "ProgressStyleModel",
      "_view_count": null,
      "_view_module": "@jupyter-widgets/base",
      "_view_module_version": "1.2.0",
      "_view_name": "StyleView",
      "bar_color": null,
      "description_width": ""
     }
    },
    "d3c2293d08f94cdebdd79e33d7600fde": {
     "model_module": "@jupyter-widgets/controls",
     "model_module_version": "1.5.0",
     "model_name": "ProgressStyleModel",
     "state": {
      "_model_module": "@jupyter-widgets/controls",
      "_model_module_version": "1.5.0",
      "_model_name": "ProgressStyleModel",
      "_view_count": null,
      "_view_module": "@jupyter-widgets/base",
      "_view_module_version": "1.2.0",
      "_view_name": "StyleView",
      "bar_color": null,
      "description_width": ""
     }
    },
    "e126e8b866f2401996fcb510f2ece154": {
     "model_module": "@jupyter-widgets/controls",
     "model_module_version": "1.5.0",
     "model_name": "HBoxModel",
     "state": {
      "_dom_classes": [],
      "_model_module": "@jupyter-widgets/controls",
      "_model_module_version": "1.5.0",
      "_model_name": "HBoxModel",
      "_view_count": null,
      "_view_module": "@jupyter-widgets/controls",
      "_view_module_version": "1.5.0",
      "_view_name": "HBoxView",
      "box_style": "",
      "children": [
       "IPY_MODEL_8876d9326487422989c94b986b8f008e",
       "IPY_MODEL_be928391587f4f58854966363a2189bd",
       "IPY_MODEL_10a6e2b3dddf42da8e044ca10079e324"
      ],
      "layout": "IPY_MODEL_8da3afaa09ec41bea97fbab8cc15c78f"
     }
    },
    "e2d3f8442d134eb28f8a95e6d500ed8e": {
     "model_module": "@jupyter-widgets/controls",
     "model_module_version": "1.5.0",
     "model_name": "HTMLModel",
     "state": {
      "_dom_classes": [],
      "_model_module": "@jupyter-widgets/controls",
      "_model_module_version": "1.5.0",
      "_model_name": "HTMLModel",
      "_view_count": null,
      "_view_module": "@jupyter-widgets/controls",
      "_view_module_version": "1.5.0",
      "_view_name": "HTMLView",
      "description": "",
      "description_tooltip": null,
      "layout": "IPY_MODEL_4902bd0c28254cce988772c98f836cef",
      "placeholder": "​",
      "style": "IPY_MODEL_73a19a72178842ce8f6b50106bbb9c76",
      "value": " ETA: 00:00s - loss: 12.3798 - mean_absolute_error: 2.8575 - val_loss: 0.9731 - val_mean_absolute_error: 0.7624"
     }
    },
    "e516c923ca5c43589840055a2e8285f7": {
     "model_module": "@jupyter-widgets/controls",
     "model_module_version": "1.5.0",
     "model_name": "DescriptionStyleModel",
     "state": {
      "_model_module": "@jupyter-widgets/controls",
      "_model_module_version": "1.5.0",
      "_model_name": "DescriptionStyleModel",
      "_view_count": null,
      "_view_module": "@jupyter-widgets/base",
      "_view_module_version": "1.2.0",
      "_view_name": "StyleView",
      "description_width": ""
     }
    },
    "e517197cb55148e0b356a39ae8ba9328": {
     "model_module": "@jupyter-widgets/controls",
     "model_module_version": "1.5.0",
     "model_name": "DescriptionStyleModel",
     "state": {
      "_model_module": "@jupyter-widgets/controls",
      "_model_module_version": "1.5.0",
      "_model_name": "DescriptionStyleModel",
      "_view_count": null,
      "_view_module": "@jupyter-widgets/base",
      "_view_module_version": "1.2.0",
      "_view_name": "StyleView",
      "description_width": ""
     }
    },
    "e6125259c2cd4a8087b1e4508de551d5": {
     "model_module": "@jupyter-widgets/controls",
     "model_module_version": "1.5.0",
     "model_name": "FloatProgressModel",
     "state": {
      "_dom_classes": [],
      "_model_module": "@jupyter-widgets/controls",
      "_model_module_version": "1.5.0",
      "_model_name": "FloatProgressModel",
      "_view_count": null,
      "_view_module": "@jupyter-widgets/controls",
      "_view_module_version": "1.5.0",
      "_view_name": "ProgressView",
      "bar_style": "success",
      "description": "",
      "description_tooltip": null,
      "layout": "IPY_MODEL_1f14d1a7525243b2bb707eb2db3389e9",
      "max": 36,
      "min": 0,
      "orientation": "horizontal",
      "style": "IPY_MODEL_ec8d3a6bc8ba4de6929f38f597704e1d",
      "value": 36
     }
    },
    "e8a1e75329e146d69a16af6bc4f4fe24": {
     "model_module": "@jupyter-widgets/controls",
     "model_module_version": "1.5.0",
     "model_name": "HTMLModel",
     "state": {
      "_dom_classes": [],
      "_model_module": "@jupyter-widgets/controls",
      "_model_module_version": "1.5.0",
      "_model_name": "HTMLModel",
      "_view_count": null,
      "_view_module": "@jupyter-widgets/controls",
      "_view_module_version": "1.5.0",
      "_view_name": "HTMLView",
      "description": "",
      "description_tooltip": null,
      "layout": "IPY_MODEL_43b080f50c82474380be4f4fcfe23803",
      "placeholder": "​",
      "style": "IPY_MODEL_0256f114e97f4dad90b78c5467af8e8f",
      "value": " ETA: 00:00s - loss: 2.7122 - mean_absolute_error: 1.2739 - val_loss: 1.1268 - val_mean_absolute_error: 0.7840"
     }
    },
    "e94d1861029f4a3e9e6e2ebc910abdf5": {
     "model_module": "@jupyter-widgets/controls",
     "model_module_version": "1.5.0",
     "model_name": "HTMLModel",
     "state": {
      "_dom_classes": [],
      "_model_module": "@jupyter-widgets/controls",
      "_model_module_version": "1.5.0",
      "_model_name": "HTMLModel",
      "_view_count": null,
      "_view_module": "@jupyter-widgets/controls",
      "_view_module_version": "1.5.0",
      "_view_name": "HTMLView",
      "description": "",
      "description_tooltip": null,
      "layout": "IPY_MODEL_6c7fd8a892b341209e1e1d29a70079be",
      "placeholder": "​",
      "style": "IPY_MODEL_b308f2c37be9456db079e3d654e22a08",
      "value": " ETA: 00:00s - loss: 3.3589 - mean_absolute_error: 1.4640 - val_loss: 1.7880 - val_mean_absolute_error: 0.9541"
     }
    },
    "eb39f9fc6065464aa2c7c4ebfec7bf7d": {
     "model_module": "@jupyter-widgets/base",
     "model_module_version": "1.2.0",
     "model_name": "LayoutModel",
     "state": {
      "_model_module": "@jupyter-widgets/base",
      "_model_module_version": "1.2.0",
      "_model_name": "LayoutModel",
      "_view_count": null,
      "_view_module": "@jupyter-widgets/base",
      "_view_module_version": "1.2.0",
      "_view_name": "LayoutView",
      "align_content": null,
      "align_items": null,
      "align_self": null,
      "border": null,
      "bottom": null,
      "display": "inline-flex",
      "flex": null,
      "flex_flow": "row wrap",
      "grid_area": null,
      "grid_auto_columns": null,
      "grid_auto_flow": null,
      "grid_auto_rows": null,
      "grid_column": null,
      "grid_gap": null,
      "grid_row": null,
      "grid_template_areas": null,
      "grid_template_columns": null,
      "grid_template_rows": null,
      "height": null,
      "justify_content": null,
      "justify_items": null,
      "left": null,
      "margin": null,
      "max_height": null,
      "max_width": null,
      "min_height": null,
      "min_width": null,
      "object_fit": null,
      "object_position": null,
      "order": null,
      "overflow": null,
      "overflow_x": null,
      "overflow_y": null,
      "padding": null,
      "right": null,
      "top": null,
      "visibility": null,
      "width": "100%"
     }
    },
    "ec8d3a6bc8ba4de6929f38f597704e1d": {
     "model_module": "@jupyter-widgets/controls",
     "model_module_version": "1.5.0",
     "model_name": "ProgressStyleModel",
     "state": {
      "_model_module": "@jupyter-widgets/controls",
      "_model_module_version": "1.5.0",
      "_model_name": "ProgressStyleModel",
      "_view_count": null,
      "_view_module": "@jupyter-widgets/base",
      "_view_module_version": "1.2.0",
      "_view_name": "StyleView",
      "bar_color": null,
      "description_width": ""
     }
    },
    "ee17df8632404392b9d411495261b364": {
     "model_module": "@jupyter-widgets/controls",
     "model_module_version": "1.5.0",
     "model_name": "HTMLModel",
     "state": {
      "_dom_classes": [],
      "_model_module": "@jupyter-widgets/controls",
      "_model_module_version": "1.5.0",
      "_model_name": "HTMLModel",
      "_view_count": null,
      "_view_module": "@jupyter-widgets/controls",
      "_view_module_version": "1.5.0",
      "_view_name": "HTMLView",
      "description": "",
      "description_tooltip": null,
      "layout": "IPY_MODEL_85f239bbe3b049f890fffba52066d197",
      "placeholder": "​",
      "style": "IPY_MODEL_e517197cb55148e0b356a39ae8ba9328",
      "value": "36/36"
     }
    },
    "f7faca4216274bdd8a54ff99fc48d78c": {
     "model_module": "@jupyter-widgets/base",
     "model_module_version": "1.2.0",
     "model_name": "LayoutModel",
     "state": {
      "_model_module": "@jupyter-widgets/base",
      "_model_module_version": "1.2.0",
      "_model_name": "LayoutModel",
      "_view_count": null,
      "_view_module": "@jupyter-widgets/base",
      "_view_module_version": "1.2.0",
      "_view_name": "LayoutView",
      "align_content": null,
      "align_items": null,
      "align_self": null,
      "border": null,
      "bottom": null,
      "display": null,
      "flex": null,
      "flex_flow": null,
      "grid_area": null,
      "grid_auto_columns": null,
      "grid_auto_flow": null,
      "grid_auto_rows": null,
      "grid_column": null,
      "grid_gap": null,
      "grid_row": null,
      "grid_template_areas": null,
      "grid_template_columns": null,
      "grid_template_rows": null,
      "height": null,
      "justify_content": null,
      "justify_items": null,
      "left": null,
      "margin": null,
      "max_height": null,
      "max_width": null,
      "min_height": null,
      "min_width": null,
      "object_fit": null,
      "object_position": null,
      "order": null,
      "overflow": null,
      "overflow_x": null,
      "overflow_y": null,
      "padding": null,
      "right": null,
      "top": null,
      "visibility": null,
      "width": null
     }
    },
    "fa61f6e027894bc4a9ec1a8c7eda69f9": {
     "model_module": "@jupyter-widgets/base",
     "model_module_version": "1.2.0",
     "model_name": "LayoutModel",
     "state": {
      "_model_module": "@jupyter-widgets/base",
      "_model_module_version": "1.2.0",
      "_model_name": "LayoutModel",
      "_view_count": null,
      "_view_module": "@jupyter-widgets/base",
      "_view_module_version": "1.2.0",
      "_view_name": "LayoutView",
      "align_content": null,
      "align_items": null,
      "align_self": null,
      "border": null,
      "bottom": null,
      "display": null,
      "flex": null,
      "flex_flow": null,
      "grid_area": null,
      "grid_auto_columns": null,
      "grid_auto_flow": null,
      "grid_auto_rows": null,
      "grid_column": null,
      "grid_gap": null,
      "grid_row": null,
      "grid_template_areas": null,
      "grid_template_columns": null,
      "grid_template_rows": null,
      "height": null,
      "justify_content": null,
      "justify_items": null,
      "left": null,
      "margin": null,
      "max_height": null,
      "max_width": null,
      "min_height": null,
      "min_width": null,
      "object_fit": null,
      "object_position": null,
      "order": null,
      "overflow": null,
      "overflow_x": null,
      "overflow_y": null,
      "padding": null,
      "right": null,
      "top": null,
      "visibility": null,
      "width": null
     }
    }
   }
  }
 },
 "nbformat": 4,
 "nbformat_minor": 4
}
