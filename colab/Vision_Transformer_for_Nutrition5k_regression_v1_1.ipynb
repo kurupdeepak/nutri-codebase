{
  "nbformat": 4,
  "nbformat_minor": 0,
  "metadata": {
    "colab": {
      "provenance": [],
      "toc_visible": true,
      "machine_shape": "hm"
    },
    "kernelspec": {
      "name": "python3",
      "display_name": "Python 3"
    },
    "language_info": {
      "name": "python"
    },
    "accelerator": "TPU",
    "gpuClass": "premium",
    "widgets": {
      "application/vnd.jupyter.widget-state+json": {
        "4942fd87a8dd4db6bde34772544e33ea": {
          "model_module": "@jupyter-widgets/controls",
          "model_name": "HBoxModel",
          "model_module_version": "1.5.0",
          "state": {
            "_dom_classes": [],
            "_model_module": "@jupyter-widgets/controls",
            "_model_module_version": "1.5.0",
            "_model_name": "HBoxModel",
            "_view_count": null,
            "_view_module": "@jupyter-widgets/controls",
            "_view_module_version": "1.5.0",
            "_view_name": "HBoxView",
            "box_style": "",
            "children": [
              "IPY_MODEL_cbe0bb4d7fd844f59b1c140cee10dbdd",
              "IPY_MODEL_c69e581a240f4c3ab437336bf01faa6d",
              "IPY_MODEL_a8a28474b366423ca1fe46d9660b153d"
            ],
            "layout": "IPY_MODEL_eb39f9fc6065464aa2c7c4ebfec7bf7d"
          }
        },
        "cbe0bb4d7fd844f59b1c140cee10dbdd": {
          "model_module": "@jupyter-widgets/controls",
          "model_name": "HTMLModel",
          "model_module_version": "1.5.0",
          "state": {
            "_dom_classes": [],
            "_model_module": "@jupyter-widgets/controls",
            "_model_module_version": "1.5.0",
            "_model_name": "HTMLModel",
            "_view_count": null,
            "_view_module": "@jupyter-widgets/controls",
            "_view_module_version": "1.5.0",
            "_view_name": "HTMLView",
            "description": "",
            "description_tooltip": null,
            "layout": "IPY_MODEL_c6ee45d71be04ac394ca3561489fd6d2",
            "placeholder": "​",
            "style": "IPY_MODEL_3f98117b84fe4380a7e99fb775e685d0",
            "value": "Training:  35%"
          }
        },
        "c69e581a240f4c3ab437336bf01faa6d": {
          "model_module": "@jupyter-widgets/controls",
          "model_name": "FloatProgressModel",
          "model_module_version": "1.5.0",
          "state": {
            "_dom_classes": [],
            "_model_module": "@jupyter-widgets/controls",
            "_model_module_version": "1.5.0",
            "_model_name": "FloatProgressModel",
            "_view_count": null,
            "_view_module": "@jupyter-widgets/controls",
            "_view_module_version": "1.5.0",
            "_view_name": "ProgressView",
            "bar_style": "danger",
            "description": "",
            "description_tooltip": null,
            "layout": "IPY_MODEL_0073c5712c6e4d04b1bf74946ab4044c",
            "max": 20,
            "min": 0,
            "orientation": "horizontal",
            "style": "IPY_MODEL_d3c2293d08f94cdebdd79e33d7600fde",
            "value": 7
          }
        },
        "a8a28474b366423ca1fe46d9660b153d": {
          "model_module": "@jupyter-widgets/controls",
          "model_name": "HTMLModel",
          "model_module_version": "1.5.0",
          "state": {
            "_dom_classes": [],
            "_model_module": "@jupyter-widgets/controls",
            "_model_module_version": "1.5.0",
            "_model_name": "HTMLModel",
            "_view_count": null,
            "_view_module": "@jupyter-widgets/controls",
            "_view_module_version": "1.5.0",
            "_view_name": "HTMLView",
            "description": "",
            "description_tooltip": null,
            "layout": "IPY_MODEL_2dac55d0c72e4e0280ac50d9238d98fc",
            "placeholder": "​",
            "style": "IPY_MODEL_0fe52a8ab37746da8b1dc7b0625563e0",
            "value": " 7/20 ETA: 06:49s,  31.52s/epochs"
          }
        },
        "eb39f9fc6065464aa2c7c4ebfec7bf7d": {
          "model_module": "@jupyter-widgets/base",
          "model_name": "LayoutModel",
          "model_module_version": "1.2.0",
          "state": {
            "_model_module": "@jupyter-widgets/base",
            "_model_module_version": "1.2.0",
            "_model_name": "LayoutModel",
            "_view_count": null,
            "_view_module": "@jupyter-widgets/base",
            "_view_module_version": "1.2.0",
            "_view_name": "LayoutView",
            "align_content": null,
            "align_items": null,
            "align_self": null,
            "border": null,
            "bottom": null,
            "display": "inline-flex",
            "flex": null,
            "flex_flow": "row wrap",
            "grid_area": null,
            "grid_auto_columns": null,
            "grid_auto_flow": null,
            "grid_auto_rows": null,
            "grid_column": null,
            "grid_gap": null,
            "grid_row": null,
            "grid_template_areas": null,
            "grid_template_columns": null,
            "grid_template_rows": null,
            "height": null,
            "justify_content": null,
            "justify_items": null,
            "left": null,
            "margin": null,
            "max_height": null,
            "max_width": null,
            "min_height": null,
            "min_width": null,
            "object_fit": null,
            "object_position": null,
            "order": null,
            "overflow": null,
            "overflow_x": null,
            "overflow_y": null,
            "padding": null,
            "right": null,
            "top": null,
            "visibility": null,
            "width": "100%"
          }
        },
        "c6ee45d71be04ac394ca3561489fd6d2": {
          "model_module": "@jupyter-widgets/base",
          "model_name": "LayoutModel",
          "model_module_version": "1.2.0",
          "state": {
            "_model_module": "@jupyter-widgets/base",
            "_model_module_version": "1.2.0",
            "_model_name": "LayoutModel",
            "_view_count": null,
            "_view_module": "@jupyter-widgets/base",
            "_view_module_version": "1.2.0",
            "_view_name": "LayoutView",
            "align_content": null,
            "align_items": null,
            "align_self": null,
            "border": null,
            "bottom": null,
            "display": null,
            "flex": null,
            "flex_flow": null,
            "grid_area": null,
            "grid_auto_columns": null,
            "grid_auto_flow": null,
            "grid_auto_rows": null,
            "grid_column": null,
            "grid_gap": null,
            "grid_row": null,
            "grid_template_areas": null,
            "grid_template_columns": null,
            "grid_template_rows": null,
            "height": null,
            "justify_content": null,
            "justify_items": null,
            "left": null,
            "margin": null,
            "max_height": null,
            "max_width": null,
            "min_height": null,
            "min_width": null,
            "object_fit": null,
            "object_position": null,
            "order": null,
            "overflow": null,
            "overflow_x": null,
            "overflow_y": null,
            "padding": null,
            "right": null,
            "top": null,
            "visibility": null,
            "width": null
          }
        },
        "3f98117b84fe4380a7e99fb775e685d0": {
          "model_module": "@jupyter-widgets/controls",
          "model_name": "DescriptionStyleModel",
          "model_module_version": "1.5.0",
          "state": {
            "_model_module": "@jupyter-widgets/controls",
            "_model_module_version": "1.5.0",
            "_model_name": "DescriptionStyleModel",
            "_view_count": null,
            "_view_module": "@jupyter-widgets/base",
            "_view_module_version": "1.2.0",
            "_view_name": "StyleView",
            "description_width": ""
          }
        },
        "0073c5712c6e4d04b1bf74946ab4044c": {
          "model_module": "@jupyter-widgets/base",
          "model_name": "LayoutModel",
          "model_module_version": "1.2.0",
          "state": {
            "_model_module": "@jupyter-widgets/base",
            "_model_module_version": "1.2.0",
            "_model_name": "LayoutModel",
            "_view_count": null,
            "_view_module": "@jupyter-widgets/base",
            "_view_module_version": "1.2.0",
            "_view_name": "LayoutView",
            "align_content": null,
            "align_items": null,
            "align_self": null,
            "border": null,
            "bottom": null,
            "display": null,
            "flex": "2",
            "flex_flow": null,
            "grid_area": null,
            "grid_auto_columns": null,
            "grid_auto_flow": null,
            "grid_auto_rows": null,
            "grid_column": null,
            "grid_gap": null,
            "grid_row": null,
            "grid_template_areas": null,
            "grid_template_columns": null,
            "grid_template_rows": null,
            "height": null,
            "justify_content": null,
            "justify_items": null,
            "left": null,
            "margin": null,
            "max_height": null,
            "max_width": null,
            "min_height": null,
            "min_width": null,
            "object_fit": null,
            "object_position": null,
            "order": null,
            "overflow": null,
            "overflow_x": null,
            "overflow_y": null,
            "padding": null,
            "right": null,
            "top": null,
            "visibility": null,
            "width": null
          }
        },
        "d3c2293d08f94cdebdd79e33d7600fde": {
          "model_module": "@jupyter-widgets/controls",
          "model_name": "ProgressStyleModel",
          "model_module_version": "1.5.0",
          "state": {
            "_model_module": "@jupyter-widgets/controls",
            "_model_module_version": "1.5.0",
            "_model_name": "ProgressStyleModel",
            "_view_count": null,
            "_view_module": "@jupyter-widgets/base",
            "_view_module_version": "1.2.0",
            "_view_name": "StyleView",
            "bar_color": null,
            "description_width": ""
          }
        },
        "2dac55d0c72e4e0280ac50d9238d98fc": {
          "model_module": "@jupyter-widgets/base",
          "model_name": "LayoutModel",
          "model_module_version": "1.2.0",
          "state": {
            "_model_module": "@jupyter-widgets/base",
            "_model_module_version": "1.2.0",
            "_model_name": "LayoutModel",
            "_view_count": null,
            "_view_module": "@jupyter-widgets/base",
            "_view_module_version": "1.2.0",
            "_view_name": "LayoutView",
            "align_content": null,
            "align_items": null,
            "align_self": null,
            "border": null,
            "bottom": null,
            "display": null,
            "flex": null,
            "flex_flow": null,
            "grid_area": null,
            "grid_auto_columns": null,
            "grid_auto_flow": null,
            "grid_auto_rows": null,
            "grid_column": null,
            "grid_gap": null,
            "grid_row": null,
            "grid_template_areas": null,
            "grid_template_columns": null,
            "grid_template_rows": null,
            "height": null,
            "justify_content": null,
            "justify_items": null,
            "left": null,
            "margin": null,
            "max_height": null,
            "max_width": null,
            "min_height": null,
            "min_width": null,
            "object_fit": null,
            "object_position": null,
            "order": null,
            "overflow": null,
            "overflow_x": null,
            "overflow_y": null,
            "padding": null,
            "right": null,
            "top": null,
            "visibility": null,
            "width": null
          }
        },
        "0fe52a8ab37746da8b1dc7b0625563e0": {
          "model_module": "@jupyter-widgets/controls",
          "model_name": "DescriptionStyleModel",
          "model_module_version": "1.5.0",
          "state": {
            "_model_module": "@jupyter-widgets/controls",
            "_model_module_version": "1.5.0",
            "_model_name": "DescriptionStyleModel",
            "_view_count": null,
            "_view_module": "@jupyter-widgets/base",
            "_view_module_version": "1.2.0",
            "_view_name": "StyleView",
            "description_width": ""
          }
        },
        "4b5ff4dff9b14136af5edd4c5bf13819": {
          "model_module": "@jupyter-widgets/controls",
          "model_name": "HBoxModel",
          "model_module_version": "1.5.0",
          "state": {
            "_dom_classes": [],
            "_model_module": "@jupyter-widgets/controls",
            "_model_module_version": "1.5.0",
            "_model_name": "HBoxModel",
            "_view_count": null,
            "_view_module": "@jupyter-widgets/controls",
            "_view_module_version": "1.5.0",
            "_view_name": "HBoxView",
            "box_style": "",
            "children": [
              "IPY_MODEL_ee17df8632404392b9d411495261b364",
              "IPY_MODEL_71f29b752d6040919c5d43b87ba32157",
              "IPY_MODEL_21572977fe0c4d75b3f1e5fdebb45d7d"
            ],
            "layout": "IPY_MODEL_22215fb412914712bccca9772910bdb0"
          }
        },
        "ee17df8632404392b9d411495261b364": {
          "model_module": "@jupyter-widgets/controls",
          "model_name": "HTMLModel",
          "model_module_version": "1.5.0",
          "state": {
            "_dom_classes": [],
            "_model_module": "@jupyter-widgets/controls",
            "_model_module_version": "1.5.0",
            "_model_name": "HTMLModel",
            "_view_count": null,
            "_view_module": "@jupyter-widgets/controls",
            "_view_module_version": "1.5.0",
            "_view_name": "HTMLView",
            "description": "",
            "description_tooltip": null,
            "layout": "IPY_MODEL_85f239bbe3b049f890fffba52066d197",
            "placeholder": "​",
            "style": "IPY_MODEL_e517197cb55148e0b356a39ae8ba9328",
            "value": "36/36"
          }
        },
        "71f29b752d6040919c5d43b87ba32157": {
          "model_module": "@jupyter-widgets/controls",
          "model_name": "FloatProgressModel",
          "model_module_version": "1.5.0",
          "state": {
            "_dom_classes": [],
            "_model_module": "@jupyter-widgets/controls",
            "_model_module_version": "1.5.0",
            "_model_name": "FloatProgressModel",
            "_view_count": null,
            "_view_module": "@jupyter-widgets/controls",
            "_view_module_version": "1.5.0",
            "_view_name": "ProgressView",
            "bar_style": "success",
            "description": "",
            "description_tooltip": null,
            "layout": "IPY_MODEL_9f4b4682e3694ede8dc5abf6140bb309",
            "max": 36,
            "min": 0,
            "orientation": "horizontal",
            "style": "IPY_MODEL_6e4cee4b29234b5bb6e8f8bcff2f42ed",
            "value": 36
          }
        },
        "21572977fe0c4d75b3f1e5fdebb45d7d": {
          "model_module": "@jupyter-widgets/controls",
          "model_name": "HTMLModel",
          "model_module_version": "1.5.0",
          "state": {
            "_dom_classes": [],
            "_model_module": "@jupyter-widgets/controls",
            "_model_module_version": "1.5.0",
            "_model_name": "HTMLModel",
            "_view_count": null,
            "_view_module": "@jupyter-widgets/controls",
            "_view_module_version": "1.5.0",
            "_view_name": "HTMLView",
            "description": "",
            "description_tooltip": null,
            "layout": "IPY_MODEL_9cf0515b91f6414cba3eac730dc1abc5",
            "placeholder": "​",
            "style": "IPY_MODEL_5c60a58ef9304a419d7c9b9e2d4f4478",
            "value": " ETA: 00:00s - loss: 22.3503 - mean_absolute_error: 3.8873 - val_loss: 1.4547 - val_mean_absolute_error: 1.0726"
          }
        },
        "22215fb412914712bccca9772910bdb0": {
          "model_module": "@jupyter-widgets/base",
          "model_name": "LayoutModel",
          "model_module_version": "1.2.0",
          "state": {
            "_model_module": "@jupyter-widgets/base",
            "_model_module_version": "1.2.0",
            "_model_name": "LayoutModel",
            "_view_count": null,
            "_view_module": "@jupyter-widgets/base",
            "_view_module_version": "1.2.0",
            "_view_name": "LayoutView",
            "align_content": null,
            "align_items": null,
            "align_self": null,
            "border": null,
            "bottom": null,
            "display": "inline-flex",
            "flex": null,
            "flex_flow": "row wrap",
            "grid_area": null,
            "grid_auto_columns": null,
            "grid_auto_flow": null,
            "grid_auto_rows": null,
            "grid_column": null,
            "grid_gap": null,
            "grid_row": null,
            "grid_template_areas": null,
            "grid_template_columns": null,
            "grid_template_rows": null,
            "height": null,
            "justify_content": null,
            "justify_items": null,
            "left": null,
            "margin": null,
            "max_height": null,
            "max_width": null,
            "min_height": null,
            "min_width": null,
            "object_fit": null,
            "object_position": null,
            "order": null,
            "overflow": null,
            "overflow_x": null,
            "overflow_y": null,
            "padding": null,
            "right": null,
            "top": null,
            "visibility": null,
            "width": "100%"
          }
        },
        "85f239bbe3b049f890fffba52066d197": {
          "model_module": "@jupyter-widgets/base",
          "model_name": "LayoutModel",
          "model_module_version": "1.2.0",
          "state": {
            "_model_module": "@jupyter-widgets/base",
            "_model_module_version": "1.2.0",
            "_model_name": "LayoutModel",
            "_view_count": null,
            "_view_module": "@jupyter-widgets/base",
            "_view_module_version": "1.2.0",
            "_view_name": "LayoutView",
            "align_content": null,
            "align_items": null,
            "align_self": null,
            "border": null,
            "bottom": null,
            "display": null,
            "flex": null,
            "flex_flow": null,
            "grid_area": null,
            "grid_auto_columns": null,
            "grid_auto_flow": null,
            "grid_auto_rows": null,
            "grid_column": null,
            "grid_gap": null,
            "grid_row": null,
            "grid_template_areas": null,
            "grid_template_columns": null,
            "grid_template_rows": null,
            "height": null,
            "justify_content": null,
            "justify_items": null,
            "left": null,
            "margin": null,
            "max_height": null,
            "max_width": null,
            "min_height": null,
            "min_width": null,
            "object_fit": null,
            "object_position": null,
            "order": null,
            "overflow": null,
            "overflow_x": null,
            "overflow_y": null,
            "padding": null,
            "right": null,
            "top": null,
            "visibility": null,
            "width": null
          }
        },
        "e517197cb55148e0b356a39ae8ba9328": {
          "model_module": "@jupyter-widgets/controls",
          "model_name": "DescriptionStyleModel",
          "model_module_version": "1.5.0",
          "state": {
            "_model_module": "@jupyter-widgets/controls",
            "_model_module_version": "1.5.0",
            "_model_name": "DescriptionStyleModel",
            "_view_count": null,
            "_view_module": "@jupyter-widgets/base",
            "_view_module_version": "1.2.0",
            "_view_name": "StyleView",
            "description_width": ""
          }
        },
        "9f4b4682e3694ede8dc5abf6140bb309": {
          "model_module": "@jupyter-widgets/base",
          "model_name": "LayoutModel",
          "model_module_version": "1.2.0",
          "state": {
            "_model_module": "@jupyter-widgets/base",
            "_model_module_version": "1.2.0",
            "_model_name": "LayoutModel",
            "_view_count": null,
            "_view_module": "@jupyter-widgets/base",
            "_view_module_version": "1.2.0",
            "_view_name": "LayoutView",
            "align_content": null,
            "align_items": null,
            "align_self": null,
            "border": null,
            "bottom": null,
            "display": null,
            "flex": "2",
            "flex_flow": null,
            "grid_area": null,
            "grid_auto_columns": null,
            "grid_auto_flow": null,
            "grid_auto_rows": null,
            "grid_column": null,
            "grid_gap": null,
            "grid_row": null,
            "grid_template_areas": null,
            "grid_template_columns": null,
            "grid_template_rows": null,
            "height": null,
            "justify_content": null,
            "justify_items": null,
            "left": null,
            "margin": null,
            "max_height": null,
            "max_width": null,
            "min_height": null,
            "min_width": null,
            "object_fit": null,
            "object_position": null,
            "order": null,
            "overflow": null,
            "overflow_x": null,
            "overflow_y": null,
            "padding": null,
            "right": null,
            "top": null,
            "visibility": null,
            "width": null
          }
        },
        "6e4cee4b29234b5bb6e8f8bcff2f42ed": {
          "model_module": "@jupyter-widgets/controls",
          "model_name": "ProgressStyleModel",
          "model_module_version": "1.5.0",
          "state": {
            "_model_module": "@jupyter-widgets/controls",
            "_model_module_version": "1.5.0",
            "_model_name": "ProgressStyleModel",
            "_view_count": null,
            "_view_module": "@jupyter-widgets/base",
            "_view_module_version": "1.2.0",
            "_view_name": "StyleView",
            "bar_color": null,
            "description_width": ""
          }
        },
        "9cf0515b91f6414cba3eac730dc1abc5": {
          "model_module": "@jupyter-widgets/base",
          "model_name": "LayoutModel",
          "model_module_version": "1.2.0",
          "state": {
            "_model_module": "@jupyter-widgets/base",
            "_model_module_version": "1.2.0",
            "_model_name": "LayoutModel",
            "_view_count": null,
            "_view_module": "@jupyter-widgets/base",
            "_view_module_version": "1.2.0",
            "_view_name": "LayoutView",
            "align_content": null,
            "align_items": null,
            "align_self": null,
            "border": null,
            "bottom": null,
            "display": null,
            "flex": null,
            "flex_flow": null,
            "grid_area": null,
            "grid_auto_columns": null,
            "grid_auto_flow": null,
            "grid_auto_rows": null,
            "grid_column": null,
            "grid_gap": null,
            "grid_row": null,
            "grid_template_areas": null,
            "grid_template_columns": null,
            "grid_template_rows": null,
            "height": null,
            "justify_content": null,
            "justify_items": null,
            "left": null,
            "margin": null,
            "max_height": null,
            "max_width": null,
            "min_height": null,
            "min_width": null,
            "object_fit": null,
            "object_position": null,
            "order": null,
            "overflow": null,
            "overflow_x": null,
            "overflow_y": null,
            "padding": null,
            "right": null,
            "top": null,
            "visibility": null,
            "width": null
          }
        },
        "5c60a58ef9304a419d7c9b9e2d4f4478": {
          "model_module": "@jupyter-widgets/controls",
          "model_name": "DescriptionStyleModel",
          "model_module_version": "1.5.0",
          "state": {
            "_model_module": "@jupyter-widgets/controls",
            "_model_module_version": "1.5.0",
            "_model_name": "DescriptionStyleModel",
            "_view_count": null,
            "_view_module": "@jupyter-widgets/base",
            "_view_module_version": "1.2.0",
            "_view_name": "StyleView",
            "description_width": ""
          }
        },
        "14f6e8af721b41dc9cdc547a3b031e6e": {
          "model_module": "@jupyter-widgets/controls",
          "model_name": "HBoxModel",
          "model_module_version": "1.5.0",
          "state": {
            "_dom_classes": [],
            "_model_module": "@jupyter-widgets/controls",
            "_model_module_version": "1.5.0",
            "_model_name": "HBoxModel",
            "_view_count": null,
            "_view_module": "@jupyter-widgets/controls",
            "_view_module_version": "1.5.0",
            "_view_name": "HBoxView",
            "box_style": "",
            "children": [
              "IPY_MODEL_409803d12cbd421c9215ac6b6be01ab7",
              "IPY_MODEL_4784bcacf43e4eb6b13c20cc6d124094",
              "IPY_MODEL_e2d3f8442d134eb28f8a95e6d500ed8e"
            ],
            "layout": "IPY_MODEL_a8cf46f913984af6b91972691918be0e"
          }
        },
        "409803d12cbd421c9215ac6b6be01ab7": {
          "model_module": "@jupyter-widgets/controls",
          "model_name": "HTMLModel",
          "model_module_version": "1.5.0",
          "state": {
            "_dom_classes": [],
            "_model_module": "@jupyter-widgets/controls",
            "_model_module_version": "1.5.0",
            "_model_name": "HTMLModel",
            "_view_count": null,
            "_view_module": "@jupyter-widgets/controls",
            "_view_module_version": "1.5.0",
            "_view_name": "HTMLView",
            "description": "",
            "description_tooltip": null,
            "layout": "IPY_MODEL_5d0957f21ca3488c95410b77dda7fabb",
            "placeholder": "​",
            "style": "IPY_MODEL_69d4f043a2d54d5cac90919634d170a8",
            "value": "36/36"
          }
        },
        "4784bcacf43e4eb6b13c20cc6d124094": {
          "model_module": "@jupyter-widgets/controls",
          "model_name": "FloatProgressModel",
          "model_module_version": "1.5.0",
          "state": {
            "_dom_classes": [],
            "_model_module": "@jupyter-widgets/controls",
            "_model_module_version": "1.5.0",
            "_model_name": "FloatProgressModel",
            "_view_count": null,
            "_view_module": "@jupyter-widgets/controls",
            "_view_module_version": "1.5.0",
            "_view_name": "ProgressView",
            "bar_style": "success",
            "description": "",
            "description_tooltip": null,
            "layout": "IPY_MODEL_40807c3719ff409596519e244c54ed3c",
            "max": 36,
            "min": 0,
            "orientation": "horizontal",
            "style": "IPY_MODEL_33921484abdf46aa9c1c21b98d590c4b",
            "value": 36
          }
        },
        "e2d3f8442d134eb28f8a95e6d500ed8e": {
          "model_module": "@jupyter-widgets/controls",
          "model_name": "HTMLModel",
          "model_module_version": "1.5.0",
          "state": {
            "_dom_classes": [],
            "_model_module": "@jupyter-widgets/controls",
            "_model_module_version": "1.5.0",
            "_model_name": "HTMLModel",
            "_view_count": null,
            "_view_module": "@jupyter-widgets/controls",
            "_view_module_version": "1.5.0",
            "_view_name": "HTMLView",
            "description": "",
            "description_tooltip": null,
            "layout": "IPY_MODEL_4902bd0c28254cce988772c98f836cef",
            "placeholder": "​",
            "style": "IPY_MODEL_73a19a72178842ce8f6b50106bbb9c76",
            "value": " ETA: 00:00s - loss: 12.3798 - mean_absolute_error: 2.8575 - val_loss: 0.9731 - val_mean_absolute_error: 0.7624"
          }
        },
        "a8cf46f913984af6b91972691918be0e": {
          "model_module": "@jupyter-widgets/base",
          "model_name": "LayoutModel",
          "model_module_version": "1.2.0",
          "state": {
            "_model_module": "@jupyter-widgets/base",
            "_model_module_version": "1.2.0",
            "_model_name": "LayoutModel",
            "_view_count": null,
            "_view_module": "@jupyter-widgets/base",
            "_view_module_version": "1.2.0",
            "_view_name": "LayoutView",
            "align_content": null,
            "align_items": null,
            "align_self": null,
            "border": null,
            "bottom": null,
            "display": "inline-flex",
            "flex": null,
            "flex_flow": "row wrap",
            "grid_area": null,
            "grid_auto_columns": null,
            "grid_auto_flow": null,
            "grid_auto_rows": null,
            "grid_column": null,
            "grid_gap": null,
            "grid_row": null,
            "grid_template_areas": null,
            "grid_template_columns": null,
            "grid_template_rows": null,
            "height": null,
            "justify_content": null,
            "justify_items": null,
            "left": null,
            "margin": null,
            "max_height": null,
            "max_width": null,
            "min_height": null,
            "min_width": null,
            "object_fit": null,
            "object_position": null,
            "order": null,
            "overflow": null,
            "overflow_x": null,
            "overflow_y": null,
            "padding": null,
            "right": null,
            "top": null,
            "visibility": null,
            "width": "100%"
          }
        },
        "5d0957f21ca3488c95410b77dda7fabb": {
          "model_module": "@jupyter-widgets/base",
          "model_name": "LayoutModel",
          "model_module_version": "1.2.0",
          "state": {
            "_model_module": "@jupyter-widgets/base",
            "_model_module_version": "1.2.0",
            "_model_name": "LayoutModel",
            "_view_count": null,
            "_view_module": "@jupyter-widgets/base",
            "_view_module_version": "1.2.0",
            "_view_name": "LayoutView",
            "align_content": null,
            "align_items": null,
            "align_self": null,
            "border": null,
            "bottom": null,
            "display": null,
            "flex": null,
            "flex_flow": null,
            "grid_area": null,
            "grid_auto_columns": null,
            "grid_auto_flow": null,
            "grid_auto_rows": null,
            "grid_column": null,
            "grid_gap": null,
            "grid_row": null,
            "grid_template_areas": null,
            "grid_template_columns": null,
            "grid_template_rows": null,
            "height": null,
            "justify_content": null,
            "justify_items": null,
            "left": null,
            "margin": null,
            "max_height": null,
            "max_width": null,
            "min_height": null,
            "min_width": null,
            "object_fit": null,
            "object_position": null,
            "order": null,
            "overflow": null,
            "overflow_x": null,
            "overflow_y": null,
            "padding": null,
            "right": null,
            "top": null,
            "visibility": null,
            "width": null
          }
        },
        "69d4f043a2d54d5cac90919634d170a8": {
          "model_module": "@jupyter-widgets/controls",
          "model_name": "DescriptionStyleModel",
          "model_module_version": "1.5.0",
          "state": {
            "_model_module": "@jupyter-widgets/controls",
            "_model_module_version": "1.5.0",
            "_model_name": "DescriptionStyleModel",
            "_view_count": null,
            "_view_module": "@jupyter-widgets/base",
            "_view_module_version": "1.2.0",
            "_view_name": "StyleView",
            "description_width": ""
          }
        },
        "40807c3719ff409596519e244c54ed3c": {
          "model_module": "@jupyter-widgets/base",
          "model_name": "LayoutModel",
          "model_module_version": "1.2.0",
          "state": {
            "_model_module": "@jupyter-widgets/base",
            "_model_module_version": "1.2.0",
            "_model_name": "LayoutModel",
            "_view_count": null,
            "_view_module": "@jupyter-widgets/base",
            "_view_module_version": "1.2.0",
            "_view_name": "LayoutView",
            "align_content": null,
            "align_items": null,
            "align_self": null,
            "border": null,
            "bottom": null,
            "display": null,
            "flex": "2",
            "flex_flow": null,
            "grid_area": null,
            "grid_auto_columns": null,
            "grid_auto_flow": null,
            "grid_auto_rows": null,
            "grid_column": null,
            "grid_gap": null,
            "grid_row": null,
            "grid_template_areas": null,
            "grid_template_columns": null,
            "grid_template_rows": null,
            "height": null,
            "justify_content": null,
            "justify_items": null,
            "left": null,
            "margin": null,
            "max_height": null,
            "max_width": null,
            "min_height": null,
            "min_width": null,
            "object_fit": null,
            "object_position": null,
            "order": null,
            "overflow": null,
            "overflow_x": null,
            "overflow_y": null,
            "padding": null,
            "right": null,
            "top": null,
            "visibility": null,
            "width": null
          }
        },
        "33921484abdf46aa9c1c21b98d590c4b": {
          "model_module": "@jupyter-widgets/controls",
          "model_name": "ProgressStyleModel",
          "model_module_version": "1.5.0",
          "state": {
            "_model_module": "@jupyter-widgets/controls",
            "_model_module_version": "1.5.0",
            "_model_name": "ProgressStyleModel",
            "_view_count": null,
            "_view_module": "@jupyter-widgets/base",
            "_view_module_version": "1.2.0",
            "_view_name": "StyleView",
            "bar_color": null,
            "description_width": ""
          }
        },
        "4902bd0c28254cce988772c98f836cef": {
          "model_module": "@jupyter-widgets/base",
          "model_name": "LayoutModel",
          "model_module_version": "1.2.0",
          "state": {
            "_model_module": "@jupyter-widgets/base",
            "_model_module_version": "1.2.0",
            "_model_name": "LayoutModel",
            "_view_count": null,
            "_view_module": "@jupyter-widgets/base",
            "_view_module_version": "1.2.0",
            "_view_name": "LayoutView",
            "align_content": null,
            "align_items": null,
            "align_self": null,
            "border": null,
            "bottom": null,
            "display": null,
            "flex": null,
            "flex_flow": null,
            "grid_area": null,
            "grid_auto_columns": null,
            "grid_auto_flow": null,
            "grid_auto_rows": null,
            "grid_column": null,
            "grid_gap": null,
            "grid_row": null,
            "grid_template_areas": null,
            "grid_template_columns": null,
            "grid_template_rows": null,
            "height": null,
            "justify_content": null,
            "justify_items": null,
            "left": null,
            "margin": null,
            "max_height": null,
            "max_width": null,
            "min_height": null,
            "min_width": null,
            "object_fit": null,
            "object_position": null,
            "order": null,
            "overflow": null,
            "overflow_x": null,
            "overflow_y": null,
            "padding": null,
            "right": null,
            "top": null,
            "visibility": null,
            "width": null
          }
        },
        "73a19a72178842ce8f6b50106bbb9c76": {
          "model_module": "@jupyter-widgets/controls",
          "model_name": "DescriptionStyleModel",
          "model_module_version": "1.5.0",
          "state": {
            "_model_module": "@jupyter-widgets/controls",
            "_model_module_version": "1.5.0",
            "_model_name": "DescriptionStyleModel",
            "_view_count": null,
            "_view_module": "@jupyter-widgets/base",
            "_view_module_version": "1.2.0",
            "_view_name": "StyleView",
            "description_width": ""
          }
        },
        "e126e8b866f2401996fcb510f2ece154": {
          "model_module": "@jupyter-widgets/controls",
          "model_name": "HBoxModel",
          "model_module_version": "1.5.0",
          "state": {
            "_dom_classes": [],
            "_model_module": "@jupyter-widgets/controls",
            "_model_module_version": "1.5.0",
            "_model_name": "HBoxModel",
            "_view_count": null,
            "_view_module": "@jupyter-widgets/controls",
            "_view_module_version": "1.5.0",
            "_view_name": "HBoxView",
            "box_style": "",
            "children": [
              "IPY_MODEL_8876d9326487422989c94b986b8f008e",
              "IPY_MODEL_be928391587f4f58854966363a2189bd",
              "IPY_MODEL_10a6e2b3dddf42da8e044ca10079e324"
            ],
            "layout": "IPY_MODEL_8da3afaa09ec41bea97fbab8cc15c78f"
          }
        },
        "8876d9326487422989c94b986b8f008e": {
          "model_module": "@jupyter-widgets/controls",
          "model_name": "HTMLModel",
          "model_module_version": "1.5.0",
          "state": {
            "_dom_classes": [],
            "_model_module": "@jupyter-widgets/controls",
            "_model_module_version": "1.5.0",
            "_model_name": "HTMLModel",
            "_view_count": null,
            "_view_module": "@jupyter-widgets/controls",
            "_view_module_version": "1.5.0",
            "_view_name": "HTMLView",
            "description": "",
            "description_tooltip": null,
            "layout": "IPY_MODEL_ca123859ba8e4f45a300ae1e3be86e67",
            "placeholder": "​",
            "style": "IPY_MODEL_e516c923ca5c43589840055a2e8285f7",
            "value": "36/36"
          }
        },
        "be928391587f4f58854966363a2189bd": {
          "model_module": "@jupyter-widgets/controls",
          "model_name": "FloatProgressModel",
          "model_module_version": "1.5.0",
          "state": {
            "_dom_classes": [],
            "_model_module": "@jupyter-widgets/controls",
            "_model_module_version": "1.5.0",
            "_model_name": "FloatProgressModel",
            "_view_count": null,
            "_view_module": "@jupyter-widgets/controls",
            "_view_module_version": "1.5.0",
            "_view_name": "ProgressView",
            "bar_style": "success",
            "description": "",
            "description_tooltip": null,
            "layout": "IPY_MODEL_5398661649e44977ba18fe059cb0d557",
            "max": 36,
            "min": 0,
            "orientation": "horizontal",
            "style": "IPY_MODEL_d37135a222fc45a69aa2092f83c3dece",
            "value": 36
          }
        },
        "10a6e2b3dddf42da8e044ca10079e324": {
          "model_module": "@jupyter-widgets/controls",
          "model_name": "HTMLModel",
          "model_module_version": "1.5.0",
          "state": {
            "_dom_classes": [],
            "_model_module": "@jupyter-widgets/controls",
            "_model_module_version": "1.5.0",
            "_model_name": "HTMLModel",
            "_view_count": null,
            "_view_module": "@jupyter-widgets/controls",
            "_view_module_version": "1.5.0",
            "_view_name": "HTMLView",
            "description": "",
            "description_tooltip": null,
            "layout": "IPY_MODEL_6858c90aaa6047cbb81f8d50a7563980",
            "placeholder": "​",
            "style": "IPY_MODEL_540a5bd9234b48219334780519a3f12d",
            "value": " ETA: 00:00s - loss: 5.4256 - mean_absolute_error: 1.8478 - val_loss: 1.6064 - val_mean_absolute_error: 0.8868"
          }
        },
        "8da3afaa09ec41bea97fbab8cc15c78f": {
          "model_module": "@jupyter-widgets/base",
          "model_name": "LayoutModel",
          "model_module_version": "1.2.0",
          "state": {
            "_model_module": "@jupyter-widgets/base",
            "_model_module_version": "1.2.0",
            "_model_name": "LayoutModel",
            "_view_count": null,
            "_view_module": "@jupyter-widgets/base",
            "_view_module_version": "1.2.0",
            "_view_name": "LayoutView",
            "align_content": null,
            "align_items": null,
            "align_self": null,
            "border": null,
            "bottom": null,
            "display": "inline-flex",
            "flex": null,
            "flex_flow": "row wrap",
            "grid_area": null,
            "grid_auto_columns": null,
            "grid_auto_flow": null,
            "grid_auto_rows": null,
            "grid_column": null,
            "grid_gap": null,
            "grid_row": null,
            "grid_template_areas": null,
            "grid_template_columns": null,
            "grid_template_rows": null,
            "height": null,
            "justify_content": null,
            "justify_items": null,
            "left": null,
            "margin": null,
            "max_height": null,
            "max_width": null,
            "min_height": null,
            "min_width": null,
            "object_fit": null,
            "object_position": null,
            "order": null,
            "overflow": null,
            "overflow_x": null,
            "overflow_y": null,
            "padding": null,
            "right": null,
            "top": null,
            "visibility": null,
            "width": "100%"
          }
        },
        "ca123859ba8e4f45a300ae1e3be86e67": {
          "model_module": "@jupyter-widgets/base",
          "model_name": "LayoutModel",
          "model_module_version": "1.2.0",
          "state": {
            "_model_module": "@jupyter-widgets/base",
            "_model_module_version": "1.2.0",
            "_model_name": "LayoutModel",
            "_view_count": null,
            "_view_module": "@jupyter-widgets/base",
            "_view_module_version": "1.2.0",
            "_view_name": "LayoutView",
            "align_content": null,
            "align_items": null,
            "align_self": null,
            "border": null,
            "bottom": null,
            "display": null,
            "flex": null,
            "flex_flow": null,
            "grid_area": null,
            "grid_auto_columns": null,
            "grid_auto_flow": null,
            "grid_auto_rows": null,
            "grid_column": null,
            "grid_gap": null,
            "grid_row": null,
            "grid_template_areas": null,
            "grid_template_columns": null,
            "grid_template_rows": null,
            "height": null,
            "justify_content": null,
            "justify_items": null,
            "left": null,
            "margin": null,
            "max_height": null,
            "max_width": null,
            "min_height": null,
            "min_width": null,
            "object_fit": null,
            "object_position": null,
            "order": null,
            "overflow": null,
            "overflow_x": null,
            "overflow_y": null,
            "padding": null,
            "right": null,
            "top": null,
            "visibility": null,
            "width": null
          }
        },
        "e516c923ca5c43589840055a2e8285f7": {
          "model_module": "@jupyter-widgets/controls",
          "model_name": "DescriptionStyleModel",
          "model_module_version": "1.5.0",
          "state": {
            "_model_module": "@jupyter-widgets/controls",
            "_model_module_version": "1.5.0",
            "_model_name": "DescriptionStyleModel",
            "_view_count": null,
            "_view_module": "@jupyter-widgets/base",
            "_view_module_version": "1.2.0",
            "_view_name": "StyleView",
            "description_width": ""
          }
        },
        "5398661649e44977ba18fe059cb0d557": {
          "model_module": "@jupyter-widgets/base",
          "model_name": "LayoutModel",
          "model_module_version": "1.2.0",
          "state": {
            "_model_module": "@jupyter-widgets/base",
            "_model_module_version": "1.2.0",
            "_model_name": "LayoutModel",
            "_view_count": null,
            "_view_module": "@jupyter-widgets/base",
            "_view_module_version": "1.2.0",
            "_view_name": "LayoutView",
            "align_content": null,
            "align_items": null,
            "align_self": null,
            "border": null,
            "bottom": null,
            "display": null,
            "flex": "2",
            "flex_flow": null,
            "grid_area": null,
            "grid_auto_columns": null,
            "grid_auto_flow": null,
            "grid_auto_rows": null,
            "grid_column": null,
            "grid_gap": null,
            "grid_row": null,
            "grid_template_areas": null,
            "grid_template_columns": null,
            "grid_template_rows": null,
            "height": null,
            "justify_content": null,
            "justify_items": null,
            "left": null,
            "margin": null,
            "max_height": null,
            "max_width": null,
            "min_height": null,
            "min_width": null,
            "object_fit": null,
            "object_position": null,
            "order": null,
            "overflow": null,
            "overflow_x": null,
            "overflow_y": null,
            "padding": null,
            "right": null,
            "top": null,
            "visibility": null,
            "width": null
          }
        },
        "d37135a222fc45a69aa2092f83c3dece": {
          "model_module": "@jupyter-widgets/controls",
          "model_name": "ProgressStyleModel",
          "model_module_version": "1.5.0",
          "state": {
            "_model_module": "@jupyter-widgets/controls",
            "_model_module_version": "1.5.0",
            "_model_name": "ProgressStyleModel",
            "_view_count": null,
            "_view_module": "@jupyter-widgets/base",
            "_view_module_version": "1.2.0",
            "_view_name": "StyleView",
            "bar_color": null,
            "description_width": ""
          }
        },
        "6858c90aaa6047cbb81f8d50a7563980": {
          "model_module": "@jupyter-widgets/base",
          "model_name": "LayoutModel",
          "model_module_version": "1.2.0",
          "state": {
            "_model_module": "@jupyter-widgets/base",
            "_model_module_version": "1.2.0",
            "_model_name": "LayoutModel",
            "_view_count": null,
            "_view_module": "@jupyter-widgets/base",
            "_view_module_version": "1.2.0",
            "_view_name": "LayoutView",
            "align_content": null,
            "align_items": null,
            "align_self": null,
            "border": null,
            "bottom": null,
            "display": null,
            "flex": null,
            "flex_flow": null,
            "grid_area": null,
            "grid_auto_columns": null,
            "grid_auto_flow": null,
            "grid_auto_rows": null,
            "grid_column": null,
            "grid_gap": null,
            "grid_row": null,
            "grid_template_areas": null,
            "grid_template_columns": null,
            "grid_template_rows": null,
            "height": null,
            "justify_content": null,
            "justify_items": null,
            "left": null,
            "margin": null,
            "max_height": null,
            "max_width": null,
            "min_height": null,
            "min_width": null,
            "object_fit": null,
            "object_position": null,
            "order": null,
            "overflow": null,
            "overflow_x": null,
            "overflow_y": null,
            "padding": null,
            "right": null,
            "top": null,
            "visibility": null,
            "width": null
          }
        },
        "540a5bd9234b48219334780519a3f12d": {
          "model_module": "@jupyter-widgets/controls",
          "model_name": "DescriptionStyleModel",
          "model_module_version": "1.5.0",
          "state": {
            "_model_module": "@jupyter-widgets/controls",
            "_model_module_version": "1.5.0",
            "_model_name": "DescriptionStyleModel",
            "_view_count": null,
            "_view_module": "@jupyter-widgets/base",
            "_view_module_version": "1.2.0",
            "_view_name": "StyleView",
            "description_width": ""
          }
        },
        "8f2dc5c7620a4873af64889130d642cd": {
          "model_module": "@jupyter-widgets/controls",
          "model_name": "HBoxModel",
          "model_module_version": "1.5.0",
          "state": {
            "_dom_classes": [],
            "_model_module": "@jupyter-widgets/controls",
            "_model_module_version": "1.5.0",
            "_model_name": "HBoxModel",
            "_view_count": null,
            "_view_module": "@jupyter-widgets/controls",
            "_view_module_version": "1.5.0",
            "_view_name": "HBoxView",
            "box_style": "",
            "children": [
              "IPY_MODEL_cf78fa11a2804d26a47e5fd9d91ca3c4",
              "IPY_MODEL_6abbb9bc64ff44ce9142185ba6f51aa0",
              "IPY_MODEL_e94d1861029f4a3e9e6e2ebc910abdf5"
            ],
            "layout": "IPY_MODEL_a4e92c325d0f42a6aac437ba93bc2c95"
          }
        },
        "cf78fa11a2804d26a47e5fd9d91ca3c4": {
          "model_module": "@jupyter-widgets/controls",
          "model_name": "HTMLModel",
          "model_module_version": "1.5.0",
          "state": {
            "_dom_classes": [],
            "_model_module": "@jupyter-widgets/controls",
            "_model_module_version": "1.5.0",
            "_model_name": "HTMLModel",
            "_view_count": null,
            "_view_module": "@jupyter-widgets/controls",
            "_view_module_version": "1.5.0",
            "_view_name": "HTMLView",
            "description": "",
            "description_tooltip": null,
            "layout": "IPY_MODEL_b985a433beca49cc910e1c80aed8be3c",
            "placeholder": "​",
            "style": "IPY_MODEL_2e130680f9ec4413b2a4b49f7497ee77",
            "value": "36/36"
          }
        },
        "6abbb9bc64ff44ce9142185ba6f51aa0": {
          "model_module": "@jupyter-widgets/controls",
          "model_name": "FloatProgressModel",
          "model_module_version": "1.5.0",
          "state": {
            "_dom_classes": [],
            "_model_module": "@jupyter-widgets/controls",
            "_model_module_version": "1.5.0",
            "_model_name": "FloatProgressModel",
            "_view_count": null,
            "_view_module": "@jupyter-widgets/controls",
            "_view_module_version": "1.5.0",
            "_view_name": "ProgressView",
            "bar_style": "success",
            "description": "",
            "description_tooltip": null,
            "layout": "IPY_MODEL_4eed59190f6847039630afd52a6b460a",
            "max": 36,
            "min": 0,
            "orientation": "horizontal",
            "style": "IPY_MODEL_58828cf940864f66b61025da58be4697",
            "value": 36
          }
        },
        "e94d1861029f4a3e9e6e2ebc910abdf5": {
          "model_module": "@jupyter-widgets/controls",
          "model_name": "HTMLModel",
          "model_module_version": "1.5.0",
          "state": {
            "_dom_classes": [],
            "_model_module": "@jupyter-widgets/controls",
            "_model_module_version": "1.5.0",
            "_model_name": "HTMLModel",
            "_view_count": null,
            "_view_module": "@jupyter-widgets/controls",
            "_view_module_version": "1.5.0",
            "_view_name": "HTMLView",
            "description": "",
            "description_tooltip": null,
            "layout": "IPY_MODEL_6c7fd8a892b341209e1e1d29a70079be",
            "placeholder": "​",
            "style": "IPY_MODEL_b308f2c37be9456db079e3d654e22a08",
            "value": " ETA: 00:00s - loss: 3.3589 - mean_absolute_error: 1.4640 - val_loss: 1.7880 - val_mean_absolute_error: 0.9541"
          }
        },
        "a4e92c325d0f42a6aac437ba93bc2c95": {
          "model_module": "@jupyter-widgets/base",
          "model_name": "LayoutModel",
          "model_module_version": "1.2.0",
          "state": {
            "_model_module": "@jupyter-widgets/base",
            "_model_module_version": "1.2.0",
            "_model_name": "LayoutModel",
            "_view_count": null,
            "_view_module": "@jupyter-widgets/base",
            "_view_module_version": "1.2.0",
            "_view_name": "LayoutView",
            "align_content": null,
            "align_items": null,
            "align_self": null,
            "border": null,
            "bottom": null,
            "display": "inline-flex",
            "flex": null,
            "flex_flow": "row wrap",
            "grid_area": null,
            "grid_auto_columns": null,
            "grid_auto_flow": null,
            "grid_auto_rows": null,
            "grid_column": null,
            "grid_gap": null,
            "grid_row": null,
            "grid_template_areas": null,
            "grid_template_columns": null,
            "grid_template_rows": null,
            "height": null,
            "justify_content": null,
            "justify_items": null,
            "left": null,
            "margin": null,
            "max_height": null,
            "max_width": null,
            "min_height": null,
            "min_width": null,
            "object_fit": null,
            "object_position": null,
            "order": null,
            "overflow": null,
            "overflow_x": null,
            "overflow_y": null,
            "padding": null,
            "right": null,
            "top": null,
            "visibility": null,
            "width": "100%"
          }
        },
        "b985a433beca49cc910e1c80aed8be3c": {
          "model_module": "@jupyter-widgets/base",
          "model_name": "LayoutModel",
          "model_module_version": "1.2.0",
          "state": {
            "_model_module": "@jupyter-widgets/base",
            "_model_module_version": "1.2.0",
            "_model_name": "LayoutModel",
            "_view_count": null,
            "_view_module": "@jupyter-widgets/base",
            "_view_module_version": "1.2.0",
            "_view_name": "LayoutView",
            "align_content": null,
            "align_items": null,
            "align_self": null,
            "border": null,
            "bottom": null,
            "display": null,
            "flex": null,
            "flex_flow": null,
            "grid_area": null,
            "grid_auto_columns": null,
            "grid_auto_flow": null,
            "grid_auto_rows": null,
            "grid_column": null,
            "grid_gap": null,
            "grid_row": null,
            "grid_template_areas": null,
            "grid_template_columns": null,
            "grid_template_rows": null,
            "height": null,
            "justify_content": null,
            "justify_items": null,
            "left": null,
            "margin": null,
            "max_height": null,
            "max_width": null,
            "min_height": null,
            "min_width": null,
            "object_fit": null,
            "object_position": null,
            "order": null,
            "overflow": null,
            "overflow_x": null,
            "overflow_y": null,
            "padding": null,
            "right": null,
            "top": null,
            "visibility": null,
            "width": null
          }
        },
        "2e130680f9ec4413b2a4b49f7497ee77": {
          "model_module": "@jupyter-widgets/controls",
          "model_name": "DescriptionStyleModel",
          "model_module_version": "1.5.0",
          "state": {
            "_model_module": "@jupyter-widgets/controls",
            "_model_module_version": "1.5.0",
            "_model_name": "DescriptionStyleModel",
            "_view_count": null,
            "_view_module": "@jupyter-widgets/base",
            "_view_module_version": "1.2.0",
            "_view_name": "StyleView",
            "description_width": ""
          }
        },
        "4eed59190f6847039630afd52a6b460a": {
          "model_module": "@jupyter-widgets/base",
          "model_name": "LayoutModel",
          "model_module_version": "1.2.0",
          "state": {
            "_model_module": "@jupyter-widgets/base",
            "_model_module_version": "1.2.0",
            "_model_name": "LayoutModel",
            "_view_count": null,
            "_view_module": "@jupyter-widgets/base",
            "_view_module_version": "1.2.0",
            "_view_name": "LayoutView",
            "align_content": null,
            "align_items": null,
            "align_self": null,
            "border": null,
            "bottom": null,
            "display": null,
            "flex": "2",
            "flex_flow": null,
            "grid_area": null,
            "grid_auto_columns": null,
            "grid_auto_flow": null,
            "grid_auto_rows": null,
            "grid_column": null,
            "grid_gap": null,
            "grid_row": null,
            "grid_template_areas": null,
            "grid_template_columns": null,
            "grid_template_rows": null,
            "height": null,
            "justify_content": null,
            "justify_items": null,
            "left": null,
            "margin": null,
            "max_height": null,
            "max_width": null,
            "min_height": null,
            "min_width": null,
            "object_fit": null,
            "object_position": null,
            "order": null,
            "overflow": null,
            "overflow_x": null,
            "overflow_y": null,
            "padding": null,
            "right": null,
            "top": null,
            "visibility": null,
            "width": null
          }
        },
        "58828cf940864f66b61025da58be4697": {
          "model_module": "@jupyter-widgets/controls",
          "model_name": "ProgressStyleModel",
          "model_module_version": "1.5.0",
          "state": {
            "_model_module": "@jupyter-widgets/controls",
            "_model_module_version": "1.5.0",
            "_model_name": "ProgressStyleModel",
            "_view_count": null,
            "_view_module": "@jupyter-widgets/base",
            "_view_module_version": "1.2.0",
            "_view_name": "StyleView",
            "bar_color": null,
            "description_width": ""
          }
        },
        "6c7fd8a892b341209e1e1d29a70079be": {
          "model_module": "@jupyter-widgets/base",
          "model_name": "LayoutModel",
          "model_module_version": "1.2.0",
          "state": {
            "_model_module": "@jupyter-widgets/base",
            "_model_module_version": "1.2.0",
            "_model_name": "LayoutModel",
            "_view_count": null,
            "_view_module": "@jupyter-widgets/base",
            "_view_module_version": "1.2.0",
            "_view_name": "LayoutView",
            "align_content": null,
            "align_items": null,
            "align_self": null,
            "border": null,
            "bottom": null,
            "display": null,
            "flex": null,
            "flex_flow": null,
            "grid_area": null,
            "grid_auto_columns": null,
            "grid_auto_flow": null,
            "grid_auto_rows": null,
            "grid_column": null,
            "grid_gap": null,
            "grid_row": null,
            "grid_template_areas": null,
            "grid_template_columns": null,
            "grid_template_rows": null,
            "height": null,
            "justify_content": null,
            "justify_items": null,
            "left": null,
            "margin": null,
            "max_height": null,
            "max_width": null,
            "min_height": null,
            "min_width": null,
            "object_fit": null,
            "object_position": null,
            "order": null,
            "overflow": null,
            "overflow_x": null,
            "overflow_y": null,
            "padding": null,
            "right": null,
            "top": null,
            "visibility": null,
            "width": null
          }
        },
        "b308f2c37be9456db079e3d654e22a08": {
          "model_module": "@jupyter-widgets/controls",
          "model_name": "DescriptionStyleModel",
          "model_module_version": "1.5.0",
          "state": {
            "_model_module": "@jupyter-widgets/controls",
            "_model_module_version": "1.5.0",
            "_model_name": "DescriptionStyleModel",
            "_view_count": null,
            "_view_module": "@jupyter-widgets/base",
            "_view_module_version": "1.2.0",
            "_view_name": "StyleView",
            "description_width": ""
          }
        },
        "03b8eb6475334b40bdb659033573ea34": {
          "model_module": "@jupyter-widgets/controls",
          "model_name": "HBoxModel",
          "model_module_version": "1.5.0",
          "state": {
            "_dom_classes": [],
            "_model_module": "@jupyter-widgets/controls",
            "_model_module_version": "1.5.0",
            "_model_name": "HBoxModel",
            "_view_count": null,
            "_view_module": "@jupyter-widgets/controls",
            "_view_module_version": "1.5.0",
            "_view_name": "HBoxView",
            "box_style": "",
            "children": [
              "IPY_MODEL_0f37f141f2dc4fd1b353f5e4a6200780",
              "IPY_MODEL_59a3b92efd064aa38728befae8557b36",
              "IPY_MODEL_458667decba7438cb1421c659eb49ce4"
            ],
            "layout": "IPY_MODEL_069e8d147eba46ad877ee6ce3546cfd8"
          }
        },
        "0f37f141f2dc4fd1b353f5e4a6200780": {
          "model_module": "@jupyter-widgets/controls",
          "model_name": "HTMLModel",
          "model_module_version": "1.5.0",
          "state": {
            "_dom_classes": [],
            "_model_module": "@jupyter-widgets/controls",
            "_model_module_version": "1.5.0",
            "_model_name": "HTMLModel",
            "_view_count": null,
            "_view_module": "@jupyter-widgets/controls",
            "_view_module_version": "1.5.0",
            "_view_name": "HTMLView",
            "description": "",
            "description_tooltip": null,
            "layout": "IPY_MODEL_98f711fd49cc405889f92f02c91782d3",
            "placeholder": "​",
            "style": "IPY_MODEL_4e25c2f926ce4b89b97ec48b17327bdd",
            "value": "36/36"
          }
        },
        "59a3b92efd064aa38728befae8557b36": {
          "model_module": "@jupyter-widgets/controls",
          "model_name": "FloatProgressModel",
          "model_module_version": "1.5.0",
          "state": {
            "_dom_classes": [],
            "_model_module": "@jupyter-widgets/controls",
            "_model_module_version": "1.5.0",
            "_model_name": "FloatProgressModel",
            "_view_count": null,
            "_view_module": "@jupyter-widgets/controls",
            "_view_module_version": "1.5.0",
            "_view_name": "ProgressView",
            "bar_style": "success",
            "description": "",
            "description_tooltip": null,
            "layout": "IPY_MODEL_57683ba057584b96bcc2dbee015a3e6c",
            "max": 36,
            "min": 0,
            "orientation": "horizontal",
            "style": "IPY_MODEL_823103e9f54f4b16ba0928cbb8788dc1",
            "value": 36
          }
        },
        "458667decba7438cb1421c659eb49ce4": {
          "model_module": "@jupyter-widgets/controls",
          "model_name": "HTMLModel",
          "model_module_version": "1.5.0",
          "state": {
            "_dom_classes": [],
            "_model_module": "@jupyter-widgets/controls",
            "_model_module_version": "1.5.0",
            "_model_name": "HTMLModel",
            "_view_count": null,
            "_view_module": "@jupyter-widgets/controls",
            "_view_module_version": "1.5.0",
            "_view_name": "HTMLView",
            "description": "",
            "description_tooltip": null,
            "layout": "IPY_MODEL_fa61f6e027894bc4a9ec1a8c7eda69f9",
            "placeholder": "​",
            "style": "IPY_MODEL_2d7b86c42599489dbdca324122a2dce7",
            "value": " ETA: 00:00s - loss: 3.5791 - mean_absolute_error: 1.5124 - val_loss: 1.9023 - val_mean_absolute_error: 1.2530"
          }
        },
        "069e8d147eba46ad877ee6ce3546cfd8": {
          "model_module": "@jupyter-widgets/base",
          "model_name": "LayoutModel",
          "model_module_version": "1.2.0",
          "state": {
            "_model_module": "@jupyter-widgets/base",
            "_model_module_version": "1.2.0",
            "_model_name": "LayoutModel",
            "_view_count": null,
            "_view_module": "@jupyter-widgets/base",
            "_view_module_version": "1.2.0",
            "_view_name": "LayoutView",
            "align_content": null,
            "align_items": null,
            "align_self": null,
            "border": null,
            "bottom": null,
            "display": "inline-flex",
            "flex": null,
            "flex_flow": "row wrap",
            "grid_area": null,
            "grid_auto_columns": null,
            "grid_auto_flow": null,
            "grid_auto_rows": null,
            "grid_column": null,
            "grid_gap": null,
            "grid_row": null,
            "grid_template_areas": null,
            "grid_template_columns": null,
            "grid_template_rows": null,
            "height": null,
            "justify_content": null,
            "justify_items": null,
            "left": null,
            "margin": null,
            "max_height": null,
            "max_width": null,
            "min_height": null,
            "min_width": null,
            "object_fit": null,
            "object_position": null,
            "order": null,
            "overflow": null,
            "overflow_x": null,
            "overflow_y": null,
            "padding": null,
            "right": null,
            "top": null,
            "visibility": null,
            "width": "100%"
          }
        },
        "98f711fd49cc405889f92f02c91782d3": {
          "model_module": "@jupyter-widgets/base",
          "model_name": "LayoutModel",
          "model_module_version": "1.2.0",
          "state": {
            "_model_module": "@jupyter-widgets/base",
            "_model_module_version": "1.2.0",
            "_model_name": "LayoutModel",
            "_view_count": null,
            "_view_module": "@jupyter-widgets/base",
            "_view_module_version": "1.2.0",
            "_view_name": "LayoutView",
            "align_content": null,
            "align_items": null,
            "align_self": null,
            "border": null,
            "bottom": null,
            "display": null,
            "flex": null,
            "flex_flow": null,
            "grid_area": null,
            "grid_auto_columns": null,
            "grid_auto_flow": null,
            "grid_auto_rows": null,
            "grid_column": null,
            "grid_gap": null,
            "grid_row": null,
            "grid_template_areas": null,
            "grid_template_columns": null,
            "grid_template_rows": null,
            "height": null,
            "justify_content": null,
            "justify_items": null,
            "left": null,
            "margin": null,
            "max_height": null,
            "max_width": null,
            "min_height": null,
            "min_width": null,
            "object_fit": null,
            "object_position": null,
            "order": null,
            "overflow": null,
            "overflow_x": null,
            "overflow_y": null,
            "padding": null,
            "right": null,
            "top": null,
            "visibility": null,
            "width": null
          }
        },
        "4e25c2f926ce4b89b97ec48b17327bdd": {
          "model_module": "@jupyter-widgets/controls",
          "model_name": "DescriptionStyleModel",
          "model_module_version": "1.5.0",
          "state": {
            "_model_module": "@jupyter-widgets/controls",
            "_model_module_version": "1.5.0",
            "_model_name": "DescriptionStyleModel",
            "_view_count": null,
            "_view_module": "@jupyter-widgets/base",
            "_view_module_version": "1.2.0",
            "_view_name": "StyleView",
            "description_width": ""
          }
        },
        "57683ba057584b96bcc2dbee015a3e6c": {
          "model_module": "@jupyter-widgets/base",
          "model_name": "LayoutModel",
          "model_module_version": "1.2.0",
          "state": {
            "_model_module": "@jupyter-widgets/base",
            "_model_module_version": "1.2.0",
            "_model_name": "LayoutModel",
            "_view_count": null,
            "_view_module": "@jupyter-widgets/base",
            "_view_module_version": "1.2.0",
            "_view_name": "LayoutView",
            "align_content": null,
            "align_items": null,
            "align_self": null,
            "border": null,
            "bottom": null,
            "display": null,
            "flex": "2",
            "flex_flow": null,
            "grid_area": null,
            "grid_auto_columns": null,
            "grid_auto_flow": null,
            "grid_auto_rows": null,
            "grid_column": null,
            "grid_gap": null,
            "grid_row": null,
            "grid_template_areas": null,
            "grid_template_columns": null,
            "grid_template_rows": null,
            "height": null,
            "justify_content": null,
            "justify_items": null,
            "left": null,
            "margin": null,
            "max_height": null,
            "max_width": null,
            "min_height": null,
            "min_width": null,
            "object_fit": null,
            "object_position": null,
            "order": null,
            "overflow": null,
            "overflow_x": null,
            "overflow_y": null,
            "padding": null,
            "right": null,
            "top": null,
            "visibility": null,
            "width": null
          }
        },
        "823103e9f54f4b16ba0928cbb8788dc1": {
          "model_module": "@jupyter-widgets/controls",
          "model_name": "ProgressStyleModel",
          "model_module_version": "1.5.0",
          "state": {
            "_model_module": "@jupyter-widgets/controls",
            "_model_module_version": "1.5.0",
            "_model_name": "ProgressStyleModel",
            "_view_count": null,
            "_view_module": "@jupyter-widgets/base",
            "_view_module_version": "1.2.0",
            "_view_name": "StyleView",
            "bar_color": null,
            "description_width": ""
          }
        },
        "fa61f6e027894bc4a9ec1a8c7eda69f9": {
          "model_module": "@jupyter-widgets/base",
          "model_name": "LayoutModel",
          "model_module_version": "1.2.0",
          "state": {
            "_model_module": "@jupyter-widgets/base",
            "_model_module_version": "1.2.0",
            "_model_name": "LayoutModel",
            "_view_count": null,
            "_view_module": "@jupyter-widgets/base",
            "_view_module_version": "1.2.0",
            "_view_name": "LayoutView",
            "align_content": null,
            "align_items": null,
            "align_self": null,
            "border": null,
            "bottom": null,
            "display": null,
            "flex": null,
            "flex_flow": null,
            "grid_area": null,
            "grid_auto_columns": null,
            "grid_auto_flow": null,
            "grid_auto_rows": null,
            "grid_column": null,
            "grid_gap": null,
            "grid_row": null,
            "grid_template_areas": null,
            "grid_template_columns": null,
            "grid_template_rows": null,
            "height": null,
            "justify_content": null,
            "justify_items": null,
            "left": null,
            "margin": null,
            "max_height": null,
            "max_width": null,
            "min_height": null,
            "min_width": null,
            "object_fit": null,
            "object_position": null,
            "order": null,
            "overflow": null,
            "overflow_x": null,
            "overflow_y": null,
            "padding": null,
            "right": null,
            "top": null,
            "visibility": null,
            "width": null
          }
        },
        "2d7b86c42599489dbdca324122a2dce7": {
          "model_module": "@jupyter-widgets/controls",
          "model_name": "DescriptionStyleModel",
          "model_module_version": "1.5.0",
          "state": {
            "_model_module": "@jupyter-widgets/controls",
            "_model_module_version": "1.5.0",
            "_model_name": "DescriptionStyleModel",
            "_view_count": null,
            "_view_module": "@jupyter-widgets/base",
            "_view_module_version": "1.2.0",
            "_view_name": "StyleView",
            "description_width": ""
          }
        },
        "23e0c8a2cee24f7ca844a9bf82bc37b8": {
          "model_module": "@jupyter-widgets/controls",
          "model_name": "HBoxModel",
          "model_module_version": "1.5.0",
          "state": {
            "_dom_classes": [],
            "_model_module": "@jupyter-widgets/controls",
            "_model_module_version": "1.5.0",
            "_model_name": "HBoxModel",
            "_view_count": null,
            "_view_module": "@jupyter-widgets/controls",
            "_view_module_version": "1.5.0",
            "_view_name": "HBoxView",
            "box_style": "",
            "children": [
              "IPY_MODEL_2cbf44bf94004b3ab9a4293ba87f0b9f",
              "IPY_MODEL_6b7205e84d1c410583708e18a2f0cf7d",
              "IPY_MODEL_0a4aec3557e94621b2359d370383512f"
            ],
            "layout": "IPY_MODEL_443021aa6cea402bbe1e9927cd5272f5"
          }
        },
        "2cbf44bf94004b3ab9a4293ba87f0b9f": {
          "model_module": "@jupyter-widgets/controls",
          "model_name": "HTMLModel",
          "model_module_version": "1.5.0",
          "state": {
            "_dom_classes": [],
            "_model_module": "@jupyter-widgets/controls",
            "_model_module_version": "1.5.0",
            "_model_name": "HTMLModel",
            "_view_count": null,
            "_view_module": "@jupyter-widgets/controls",
            "_view_module_version": "1.5.0",
            "_view_name": "HTMLView",
            "description": "",
            "description_tooltip": null,
            "layout": "IPY_MODEL_f7faca4216274bdd8a54ff99fc48d78c",
            "placeholder": "​",
            "style": "IPY_MODEL_7caeb3bfd98346d3b741874d1f831fef",
            "value": "36/36"
          }
        },
        "6b7205e84d1c410583708e18a2f0cf7d": {
          "model_module": "@jupyter-widgets/controls",
          "model_name": "FloatProgressModel",
          "model_module_version": "1.5.0",
          "state": {
            "_dom_classes": [],
            "_model_module": "@jupyter-widgets/controls",
            "_model_module_version": "1.5.0",
            "_model_name": "FloatProgressModel",
            "_view_count": null,
            "_view_module": "@jupyter-widgets/controls",
            "_view_module_version": "1.5.0",
            "_view_name": "ProgressView",
            "bar_style": "success",
            "description": "",
            "description_tooltip": null,
            "layout": "IPY_MODEL_6594c4e2b0da42a4b83e0d61076699d6",
            "max": 36,
            "min": 0,
            "orientation": "horizontal",
            "style": "IPY_MODEL_bdf62450959e4e26ab9fdd06070a03ab",
            "value": 36
          }
        },
        "0a4aec3557e94621b2359d370383512f": {
          "model_module": "@jupyter-widgets/controls",
          "model_name": "HTMLModel",
          "model_module_version": "1.5.0",
          "state": {
            "_dom_classes": [],
            "_model_module": "@jupyter-widgets/controls",
            "_model_module_version": "1.5.0",
            "_model_name": "HTMLModel",
            "_view_count": null,
            "_view_module": "@jupyter-widgets/controls",
            "_view_module_version": "1.5.0",
            "_view_name": "HTMLView",
            "description": "",
            "description_tooltip": null,
            "layout": "IPY_MODEL_8b199dab530f4b11b3bf5681433cde68",
            "placeholder": "​",
            "style": "IPY_MODEL_869e8f0c83524f83a94e0f7ddcf17771",
            "value": " ETA: 00:00s - loss: 3.1531 - mean_absolute_error: 1.4048 - val_loss: 1.7975 - val_mean_absolute_error: 0.9653"
          }
        },
        "443021aa6cea402bbe1e9927cd5272f5": {
          "model_module": "@jupyter-widgets/base",
          "model_name": "LayoutModel",
          "model_module_version": "1.2.0",
          "state": {
            "_model_module": "@jupyter-widgets/base",
            "_model_module_version": "1.2.0",
            "_model_name": "LayoutModel",
            "_view_count": null,
            "_view_module": "@jupyter-widgets/base",
            "_view_module_version": "1.2.0",
            "_view_name": "LayoutView",
            "align_content": null,
            "align_items": null,
            "align_self": null,
            "border": null,
            "bottom": null,
            "display": "inline-flex",
            "flex": null,
            "flex_flow": "row wrap",
            "grid_area": null,
            "grid_auto_columns": null,
            "grid_auto_flow": null,
            "grid_auto_rows": null,
            "grid_column": null,
            "grid_gap": null,
            "grid_row": null,
            "grid_template_areas": null,
            "grid_template_columns": null,
            "grid_template_rows": null,
            "height": null,
            "justify_content": null,
            "justify_items": null,
            "left": null,
            "margin": null,
            "max_height": null,
            "max_width": null,
            "min_height": null,
            "min_width": null,
            "object_fit": null,
            "object_position": null,
            "order": null,
            "overflow": null,
            "overflow_x": null,
            "overflow_y": null,
            "padding": null,
            "right": null,
            "top": null,
            "visibility": null,
            "width": "100%"
          }
        },
        "f7faca4216274bdd8a54ff99fc48d78c": {
          "model_module": "@jupyter-widgets/base",
          "model_name": "LayoutModel",
          "model_module_version": "1.2.0",
          "state": {
            "_model_module": "@jupyter-widgets/base",
            "_model_module_version": "1.2.0",
            "_model_name": "LayoutModel",
            "_view_count": null,
            "_view_module": "@jupyter-widgets/base",
            "_view_module_version": "1.2.0",
            "_view_name": "LayoutView",
            "align_content": null,
            "align_items": null,
            "align_self": null,
            "border": null,
            "bottom": null,
            "display": null,
            "flex": null,
            "flex_flow": null,
            "grid_area": null,
            "grid_auto_columns": null,
            "grid_auto_flow": null,
            "grid_auto_rows": null,
            "grid_column": null,
            "grid_gap": null,
            "grid_row": null,
            "grid_template_areas": null,
            "grid_template_columns": null,
            "grid_template_rows": null,
            "height": null,
            "justify_content": null,
            "justify_items": null,
            "left": null,
            "margin": null,
            "max_height": null,
            "max_width": null,
            "min_height": null,
            "min_width": null,
            "object_fit": null,
            "object_position": null,
            "order": null,
            "overflow": null,
            "overflow_x": null,
            "overflow_y": null,
            "padding": null,
            "right": null,
            "top": null,
            "visibility": null,
            "width": null
          }
        },
        "7caeb3bfd98346d3b741874d1f831fef": {
          "model_module": "@jupyter-widgets/controls",
          "model_name": "DescriptionStyleModel",
          "model_module_version": "1.5.0",
          "state": {
            "_model_module": "@jupyter-widgets/controls",
            "_model_module_version": "1.5.0",
            "_model_name": "DescriptionStyleModel",
            "_view_count": null,
            "_view_module": "@jupyter-widgets/base",
            "_view_module_version": "1.2.0",
            "_view_name": "StyleView",
            "description_width": ""
          }
        },
        "6594c4e2b0da42a4b83e0d61076699d6": {
          "model_module": "@jupyter-widgets/base",
          "model_name": "LayoutModel",
          "model_module_version": "1.2.0",
          "state": {
            "_model_module": "@jupyter-widgets/base",
            "_model_module_version": "1.2.0",
            "_model_name": "LayoutModel",
            "_view_count": null,
            "_view_module": "@jupyter-widgets/base",
            "_view_module_version": "1.2.0",
            "_view_name": "LayoutView",
            "align_content": null,
            "align_items": null,
            "align_self": null,
            "border": null,
            "bottom": null,
            "display": null,
            "flex": "2",
            "flex_flow": null,
            "grid_area": null,
            "grid_auto_columns": null,
            "grid_auto_flow": null,
            "grid_auto_rows": null,
            "grid_column": null,
            "grid_gap": null,
            "grid_row": null,
            "grid_template_areas": null,
            "grid_template_columns": null,
            "grid_template_rows": null,
            "height": null,
            "justify_content": null,
            "justify_items": null,
            "left": null,
            "margin": null,
            "max_height": null,
            "max_width": null,
            "min_height": null,
            "min_width": null,
            "object_fit": null,
            "object_position": null,
            "order": null,
            "overflow": null,
            "overflow_x": null,
            "overflow_y": null,
            "padding": null,
            "right": null,
            "top": null,
            "visibility": null,
            "width": null
          }
        },
        "bdf62450959e4e26ab9fdd06070a03ab": {
          "model_module": "@jupyter-widgets/controls",
          "model_name": "ProgressStyleModel",
          "model_module_version": "1.5.0",
          "state": {
            "_model_module": "@jupyter-widgets/controls",
            "_model_module_version": "1.5.0",
            "_model_name": "ProgressStyleModel",
            "_view_count": null,
            "_view_module": "@jupyter-widgets/base",
            "_view_module_version": "1.2.0",
            "_view_name": "StyleView",
            "bar_color": null,
            "description_width": ""
          }
        },
        "8b199dab530f4b11b3bf5681433cde68": {
          "model_module": "@jupyter-widgets/base",
          "model_name": "LayoutModel",
          "model_module_version": "1.2.0",
          "state": {
            "_model_module": "@jupyter-widgets/base",
            "_model_module_version": "1.2.0",
            "_model_name": "LayoutModel",
            "_view_count": null,
            "_view_module": "@jupyter-widgets/base",
            "_view_module_version": "1.2.0",
            "_view_name": "LayoutView",
            "align_content": null,
            "align_items": null,
            "align_self": null,
            "border": null,
            "bottom": null,
            "display": null,
            "flex": null,
            "flex_flow": null,
            "grid_area": null,
            "grid_auto_columns": null,
            "grid_auto_flow": null,
            "grid_auto_rows": null,
            "grid_column": null,
            "grid_gap": null,
            "grid_row": null,
            "grid_template_areas": null,
            "grid_template_columns": null,
            "grid_template_rows": null,
            "height": null,
            "justify_content": null,
            "justify_items": null,
            "left": null,
            "margin": null,
            "max_height": null,
            "max_width": null,
            "min_height": null,
            "min_width": null,
            "object_fit": null,
            "object_position": null,
            "order": null,
            "overflow": null,
            "overflow_x": null,
            "overflow_y": null,
            "padding": null,
            "right": null,
            "top": null,
            "visibility": null,
            "width": null
          }
        },
        "869e8f0c83524f83a94e0f7ddcf17771": {
          "model_module": "@jupyter-widgets/controls",
          "model_name": "DescriptionStyleModel",
          "model_module_version": "1.5.0",
          "state": {
            "_model_module": "@jupyter-widgets/controls",
            "_model_module_version": "1.5.0",
            "_model_name": "DescriptionStyleModel",
            "_view_count": null,
            "_view_module": "@jupyter-widgets/base",
            "_view_module_version": "1.2.0",
            "_view_name": "StyleView",
            "description_width": ""
          }
        },
        "717472d2e56e42e0a4ab23493caad358": {
          "model_module": "@jupyter-widgets/controls",
          "model_name": "HBoxModel",
          "model_module_version": "1.5.0",
          "state": {
            "_dom_classes": [],
            "_model_module": "@jupyter-widgets/controls",
            "_model_module_version": "1.5.0",
            "_model_name": "HBoxModel",
            "_view_count": null,
            "_view_module": "@jupyter-widgets/controls",
            "_view_module_version": "1.5.0",
            "_view_name": "HBoxView",
            "box_style": "",
            "children": [
              "IPY_MODEL_9e8dd7a3e53c4fbb945e40229cc7c01e",
              "IPY_MODEL_e6125259c2cd4a8087b1e4508de551d5",
              "IPY_MODEL_e8a1e75329e146d69a16af6bc4f4fe24"
            ],
            "layout": "IPY_MODEL_655e1fd4dc15407c92f20e58246c0044"
          }
        },
        "9e8dd7a3e53c4fbb945e40229cc7c01e": {
          "model_module": "@jupyter-widgets/controls",
          "model_name": "HTMLModel",
          "model_module_version": "1.5.0",
          "state": {
            "_dom_classes": [],
            "_model_module": "@jupyter-widgets/controls",
            "_model_module_version": "1.5.0",
            "_model_name": "HTMLModel",
            "_view_count": null,
            "_view_module": "@jupyter-widgets/controls",
            "_view_module_version": "1.5.0",
            "_view_name": "HTMLView",
            "description": "",
            "description_tooltip": null,
            "layout": "IPY_MODEL_41200885c8c54e889fb8ec3b9ac130ca",
            "placeholder": "​",
            "style": "IPY_MODEL_33ddb9bc4ff04be1aa45c0f9b1457460",
            "value": "36/36"
          }
        },
        "e6125259c2cd4a8087b1e4508de551d5": {
          "model_module": "@jupyter-widgets/controls",
          "model_name": "FloatProgressModel",
          "model_module_version": "1.5.0",
          "state": {
            "_dom_classes": [],
            "_model_module": "@jupyter-widgets/controls",
            "_model_module_version": "1.5.0",
            "_model_name": "FloatProgressModel",
            "_view_count": null,
            "_view_module": "@jupyter-widgets/controls",
            "_view_module_version": "1.5.0",
            "_view_name": "ProgressView",
            "bar_style": "success",
            "description": "",
            "description_tooltip": null,
            "layout": "IPY_MODEL_1f14d1a7525243b2bb707eb2db3389e9",
            "max": 36,
            "min": 0,
            "orientation": "horizontal",
            "style": "IPY_MODEL_ec8d3a6bc8ba4de6929f38f597704e1d",
            "value": 36
          }
        },
        "e8a1e75329e146d69a16af6bc4f4fe24": {
          "model_module": "@jupyter-widgets/controls",
          "model_name": "HTMLModel",
          "model_module_version": "1.5.0",
          "state": {
            "_dom_classes": [],
            "_model_module": "@jupyter-widgets/controls",
            "_model_module_version": "1.5.0",
            "_model_name": "HTMLModel",
            "_view_count": null,
            "_view_module": "@jupyter-widgets/controls",
            "_view_module_version": "1.5.0",
            "_view_name": "HTMLView",
            "description": "",
            "description_tooltip": null,
            "layout": "IPY_MODEL_43b080f50c82474380be4f4fcfe23803",
            "placeholder": "​",
            "style": "IPY_MODEL_0256f114e97f4dad90b78c5467af8e8f",
            "value": " ETA: 00:00s - loss: 2.7122 - mean_absolute_error: 1.2739 - val_loss: 1.1268 - val_mean_absolute_error: 0.7840"
          }
        },
        "655e1fd4dc15407c92f20e58246c0044": {
          "model_module": "@jupyter-widgets/base",
          "model_name": "LayoutModel",
          "model_module_version": "1.2.0",
          "state": {
            "_model_module": "@jupyter-widgets/base",
            "_model_module_version": "1.2.0",
            "_model_name": "LayoutModel",
            "_view_count": null,
            "_view_module": "@jupyter-widgets/base",
            "_view_module_version": "1.2.0",
            "_view_name": "LayoutView",
            "align_content": null,
            "align_items": null,
            "align_self": null,
            "border": null,
            "bottom": null,
            "display": "inline-flex",
            "flex": null,
            "flex_flow": "row wrap",
            "grid_area": null,
            "grid_auto_columns": null,
            "grid_auto_flow": null,
            "grid_auto_rows": null,
            "grid_column": null,
            "grid_gap": null,
            "grid_row": null,
            "grid_template_areas": null,
            "grid_template_columns": null,
            "grid_template_rows": null,
            "height": null,
            "justify_content": null,
            "justify_items": null,
            "left": null,
            "margin": null,
            "max_height": null,
            "max_width": null,
            "min_height": null,
            "min_width": null,
            "object_fit": null,
            "object_position": null,
            "order": null,
            "overflow": null,
            "overflow_x": null,
            "overflow_y": null,
            "padding": null,
            "right": null,
            "top": null,
            "visibility": null,
            "width": "100%"
          }
        },
        "41200885c8c54e889fb8ec3b9ac130ca": {
          "model_module": "@jupyter-widgets/base",
          "model_name": "LayoutModel",
          "model_module_version": "1.2.0",
          "state": {
            "_model_module": "@jupyter-widgets/base",
            "_model_module_version": "1.2.0",
            "_model_name": "LayoutModel",
            "_view_count": null,
            "_view_module": "@jupyter-widgets/base",
            "_view_module_version": "1.2.0",
            "_view_name": "LayoutView",
            "align_content": null,
            "align_items": null,
            "align_self": null,
            "border": null,
            "bottom": null,
            "display": null,
            "flex": null,
            "flex_flow": null,
            "grid_area": null,
            "grid_auto_columns": null,
            "grid_auto_flow": null,
            "grid_auto_rows": null,
            "grid_column": null,
            "grid_gap": null,
            "grid_row": null,
            "grid_template_areas": null,
            "grid_template_columns": null,
            "grid_template_rows": null,
            "height": null,
            "justify_content": null,
            "justify_items": null,
            "left": null,
            "margin": null,
            "max_height": null,
            "max_width": null,
            "min_height": null,
            "min_width": null,
            "object_fit": null,
            "object_position": null,
            "order": null,
            "overflow": null,
            "overflow_x": null,
            "overflow_y": null,
            "padding": null,
            "right": null,
            "top": null,
            "visibility": null,
            "width": null
          }
        },
        "33ddb9bc4ff04be1aa45c0f9b1457460": {
          "model_module": "@jupyter-widgets/controls",
          "model_name": "DescriptionStyleModel",
          "model_module_version": "1.5.0",
          "state": {
            "_model_module": "@jupyter-widgets/controls",
            "_model_module_version": "1.5.0",
            "_model_name": "DescriptionStyleModel",
            "_view_count": null,
            "_view_module": "@jupyter-widgets/base",
            "_view_module_version": "1.2.0",
            "_view_name": "StyleView",
            "description_width": ""
          }
        },
        "1f14d1a7525243b2bb707eb2db3389e9": {
          "model_module": "@jupyter-widgets/base",
          "model_name": "LayoutModel",
          "model_module_version": "1.2.0",
          "state": {
            "_model_module": "@jupyter-widgets/base",
            "_model_module_version": "1.2.0",
            "_model_name": "LayoutModel",
            "_view_count": null,
            "_view_module": "@jupyter-widgets/base",
            "_view_module_version": "1.2.0",
            "_view_name": "LayoutView",
            "align_content": null,
            "align_items": null,
            "align_self": null,
            "border": null,
            "bottom": null,
            "display": null,
            "flex": "2",
            "flex_flow": null,
            "grid_area": null,
            "grid_auto_columns": null,
            "grid_auto_flow": null,
            "grid_auto_rows": null,
            "grid_column": null,
            "grid_gap": null,
            "grid_row": null,
            "grid_template_areas": null,
            "grid_template_columns": null,
            "grid_template_rows": null,
            "height": null,
            "justify_content": null,
            "justify_items": null,
            "left": null,
            "margin": null,
            "max_height": null,
            "max_width": null,
            "min_height": null,
            "min_width": null,
            "object_fit": null,
            "object_position": null,
            "order": null,
            "overflow": null,
            "overflow_x": null,
            "overflow_y": null,
            "padding": null,
            "right": null,
            "top": null,
            "visibility": null,
            "width": null
          }
        },
        "ec8d3a6bc8ba4de6929f38f597704e1d": {
          "model_module": "@jupyter-widgets/controls",
          "model_name": "ProgressStyleModel",
          "model_module_version": "1.5.0",
          "state": {
            "_model_module": "@jupyter-widgets/controls",
            "_model_module_version": "1.5.0",
            "_model_name": "ProgressStyleModel",
            "_view_count": null,
            "_view_module": "@jupyter-widgets/base",
            "_view_module_version": "1.2.0",
            "_view_name": "StyleView",
            "bar_color": null,
            "description_width": ""
          }
        },
        "43b080f50c82474380be4f4fcfe23803": {
          "model_module": "@jupyter-widgets/base",
          "model_name": "LayoutModel",
          "model_module_version": "1.2.0",
          "state": {
            "_model_module": "@jupyter-widgets/base",
            "_model_module_version": "1.2.0",
            "_model_name": "LayoutModel",
            "_view_count": null,
            "_view_module": "@jupyter-widgets/base",
            "_view_module_version": "1.2.0",
            "_view_name": "LayoutView",
            "align_content": null,
            "align_items": null,
            "align_self": null,
            "border": null,
            "bottom": null,
            "display": null,
            "flex": null,
            "flex_flow": null,
            "grid_area": null,
            "grid_auto_columns": null,
            "grid_auto_flow": null,
            "grid_auto_rows": null,
            "grid_column": null,
            "grid_gap": null,
            "grid_row": null,
            "grid_template_areas": null,
            "grid_template_columns": null,
            "grid_template_rows": null,
            "height": null,
            "justify_content": null,
            "justify_items": null,
            "left": null,
            "margin": null,
            "max_height": null,
            "max_width": null,
            "min_height": null,
            "min_width": null,
            "object_fit": null,
            "object_position": null,
            "order": null,
            "overflow": null,
            "overflow_x": null,
            "overflow_y": null,
            "padding": null,
            "right": null,
            "top": null,
            "visibility": null,
            "width": null
          }
        },
        "0256f114e97f4dad90b78c5467af8e8f": {
          "model_module": "@jupyter-widgets/controls",
          "model_name": "DescriptionStyleModel",
          "model_module_version": "1.5.0",
          "state": {
            "_model_module": "@jupyter-widgets/controls",
            "_model_module_version": "1.5.0",
            "_model_name": "DescriptionStyleModel",
            "_view_count": null,
            "_view_module": "@jupyter-widgets/base",
            "_view_module_version": "1.2.0",
            "_view_name": "StyleView",
            "description_width": ""
          }
        }
      }
    }
  },
  "cells": [
    {
      "cell_type": "markdown",
      "source": [
        "# About\n",
        "* This notebook contains a quick prototyp to load entire Nutrition5k data, both dish and dish_ingredients are available  \n",
        "* Callback Creator with default params\n",
        "* Sample size of 50\n",
        "* Shows how to upload the directory to tensorboard dev"
      ],
      "metadata": {
        "id": "PFxEnSfLYwRb"
      }
    },
    {
      "cell_type": "markdown",
      "source": [
        "# Utility & Model Building Components"
      ],
      "metadata": {
        "id": "16Hb9HTtUCox"
      }
    },
    {
      "cell_type": "code",
      "source": [
        "!pip install tensorflow_addons"
      ],
      "metadata": {
        "colab": {
          "base_uri": "https://localhost:8080/"
        },
        "id": "RK5hv-LLXjlU",
        "outputId": "8933c1fb-c507-4ec3-d58a-47ac2b8d5280"
      },
      "execution_count": 1,
      "outputs": [
        {
          "output_type": "stream",
          "name": "stdout",
          "text": [
            "Looking in indexes: https://pypi.org/simple, https://us-python.pkg.dev/colab-wheels/public/simple/\n",
            "Collecting tensorflow_addons\n",
            "  Downloading tensorflow_addons-0.18.0-cp37-cp37m-manylinux_2_17_x86_64.manylinux2014_x86_64.whl (1.1 MB)\n",
            "\u001b[K     |████████████████████████████████| 1.1 MB 5.2 MB/s \n",
            "\u001b[?25hRequirement already satisfied: packaging in /usr/local/lib/python3.7/dist-packages (from tensorflow_addons) (21.3)\n",
            "Requirement already satisfied: typeguard>=2.7 in /usr/local/lib/python3.7/dist-packages (from tensorflow_addons) (2.7.1)\n",
            "Requirement already satisfied: pyparsing!=3.0.5,>=2.0.2 in /usr/local/lib/python3.7/dist-packages (from packaging->tensorflow_addons) (3.0.9)\n",
            "Installing collected packages: tensorflow-addons\n",
            "Successfully installed tensorflow-addons-0.18.0\n"
          ]
        }
      ]
    },
    {
      "cell_type": "markdown",
      "source": [
        "## CallbackHelper"
      ],
      "metadata": {
        "id": "vzYoVtwPZREc"
      }
    },
    {
      "cell_type": "code",
      "source": [
        "import tensorflow as tf\n",
        "import tensorflow_addons as tfa\n",
        "import datetime\n",
        "\n",
        "\n",
        "class CallbackHelper:\n",
        "    def __init__(self, base_dir, logs_dir=\"/logs\"):\n",
        "        self.base_dir = base_dir\n",
        "\n",
        "        self.logs_base_dir = base_dir + logs_dir\n",
        "\n",
        "        self.timestamp = datetime.datetime.now().strftime(\"%Y%m%d-%H%M%S\")\n",
        "\n",
        "    def create_callback(self, callback_name=None, experiment=None,  tb_write_images=True, tb_hist_freq=1,\n",
        "                        es_monitor=\"val_loss\", es_patience=10, lrs_schedule=None, lrs_verbose=0):\n",
        "        callback = None\n",
        "\n",
        "        if callback_name == 'MC':\n",
        "            log_file = self.get_log_file(callback_name, experiment)\n",
        "            callback = tf.keras.callbacks.ModelCheckpoint(log_file)\n",
        "            print(\"Log file used = \", log_file)\n",
        "\n",
        "        if callback_name == 'TB':\n",
        "            log_file = self.get_log_file(callback_name, experiment)\n",
        "            callback = tf.keras.callbacks.TensorBoard(log_dir=log_file,\n",
        "                                                      write_images=tb_write_images,\n",
        "                                                      histogram_freq=tb_hist_freq)\n",
        "            print(\"Log file used = \", log_file)\n",
        "            \n",
        "        if callback_name == 'ES':\n",
        "            callback = tf.keras.callbacks.EarlyStopping(monitor=es_monitor,\n",
        "                                                        patience=es_patience)\n",
        "        if callback_name == 'TQDM':\n",
        "            callback = tfa.callbacks.TQDMProgressBar()\n",
        "\n",
        "        if callback_name == 'LRS':\n",
        "            callback = tf.keras.callbacks.LearningRateScheduler(lrs_schedule, lrs_verbose=lrs_verbose)\n",
        "\n",
        "\n",
        "        return callback\n",
        "\n",
        "    def get_log_file(self, callback_name, experiment):\n",
        "        log_path = self.logs_base_dir + experiment + \"/\" + self.timestamp + \"/\" + callback_name\n",
        "        return log_path\n"
      ],
      "metadata": {
        "id": "6qclFjPuUEpL"
      },
      "execution_count": 2,
      "outputs": []
    },
    {
      "cell_type": "markdown",
      "source": [
        "## ImageProcessor"
      ],
      "metadata": {
        "id": "NtjcVZPNgyjh"
      }
    },
    {
      "cell_type": "code",
      "source": [
        "import numpy as np\n",
        "import matplotlib.pyplot as plt\n",
        "import cv2\n",
        "import random\n",
        "\n",
        "\n",
        "class ImagePreProcessor:\n",
        "    def __init__(self, dishes):\n",
        "        self.dishes = dishes\n",
        "\n",
        "    @staticmethod\n",
        "    def crop(img):\n",
        "        # argwhere will give you the coordinates of every non-zero point\n",
        "        true_points = np.argwhere(img)\n",
        "        # take the smallest points and use them as the top left of your crop\n",
        "        top_left = true_points.min(axis=0)\n",
        "        # take the largest points and use them as the bottom right of your crop\n",
        "        bottom_right = true_points.max(axis=0)\n",
        "        out = img[top_left[0]:bottom_right[0] + 1,  # plus 1 because slice isn't\n",
        "              top_left[1]:bottom_right[1] + 1]  # inclusive\n",
        "        return out\n",
        "\n",
        "    @staticmethod\n",
        "    def rectangular_mask(dish_path):\n",
        "        image_bgr = cv2.imread(dish_path)\n",
        "        mask = np.zeros(image_bgr.shape[:2], dtype=\"uint8\")\n",
        "        # mask = cv2.rectangle(mask, (0, 480), (180, 580), 255, -1)\n",
        "        mask = cv2.rectangle(mask, (180, 30), (600, 480), 255, -1)\n",
        "        masked = cv2.bitwise_or(image_bgr, image_bgr, mask=mask)\n",
        "        masked = cv2.cvtColor(masked, cv2.COLOR_BGR2RGB)\n",
        "        return image_bgr, mask, masked\n",
        "\n",
        "    @staticmethod\n",
        "    def remove_blue(hsv_image):\n",
        "        input_image = hsv_image.copy()\n",
        "\n",
        "        grayscale_image = cv2.cvtColor(input_image, cv2.COLOR_BGR2GRAY)\n",
        "\n",
        "        # Convert the BGR image to HSV:\n",
        "        hsv_image = cv2.cvtColor(input_image, cv2.COLOR_BGR2HSV)\n",
        "\n",
        "        # Create the HSV range for the blue ink:\n",
        "        # [128, 255, 255], [90, 50, 70]\n",
        "        lower_values = np.array([90, 50, 70])\n",
        "        upper_values = np.array([128, 255, 255])\n",
        "\n",
        "        # Get binary mask of the blue ink:\n",
        "        blue_mask = cv2.inRange(hsv_image, lower_values, upper_values)\n",
        "        # Use a little bit of morphology to clean the mask:\n",
        "        # Set kernel (structuring element) size:\n",
        "        kernel_size = 3\n",
        "        # Set morph operation iterations:\n",
        "        op_iterations = 1\n",
        "        # Get the structuring element:\n",
        "        morph_kernel = cv2.getStructuringElement(cv2.MORPH_RECT, (kernel_size, kernel_size))\n",
        "        # Perform closing:\n",
        "        blue_mask = cv2.morphologyEx(blue_mask, cv2.MORPH_CLOSE, morph_kernel, None, None, op_iterations,\n",
        "                                     cv2.BORDER_REFLECT101)\n",
        "\n",
        "        # Add the white mask to the grayscale image:\n",
        "        color_mask = cv2.add(grayscale_image, blue_mask)\n",
        "        _, binary_image = cv2.threshold(color_mask, 0, 255, cv2.THRESH_BINARY + cv2.THRESH_OTSU)\n",
        "        # cv2.imwrite('bwimage.jpg',binary_image)\n",
        "        thresh, im_bw = cv2.threshold(binary_image, 210, 230, cv2.THRESH_BINARY)\n",
        "        kernel = np.ones((1, 1), np.uint8)\n",
        "        image_final = cv2.dilate(im_bw, kernel=kernel, iterations=1)\n",
        "        return image_final\n",
        "\n",
        "    @staticmethod\n",
        "    def get_final_img(self, image_path, crop_only=False):\n",
        "        orig_bgr, mask, masked = self.rectangular_mask(image_path)\n",
        "        cropped_out = self.crop(masked)\n",
        "        out = []\n",
        "        if crop_only:\n",
        "            out.append([orig_bgr, mask, masked, cropped_out, None])\n",
        "        else:\n",
        "            rgb = cropped_out.copy()\n",
        "            hsv = cv2.cvtColor(cropped_out, cv2.COLOR_BGR2HSV)\n",
        "            imgfinal = self.remove_blue(hsv)\n",
        "            copy_of = imgfinal.copy()\n",
        "            # copy_of[copy_of > 0] = 255\n",
        "            final_img = cv2.bitwise_and(rgb, rgb, mask=copy_of)\n",
        "            out.append([orig_bgr, mask, masked, cropped_out, final_img])\n",
        "        return out\n",
        "\n",
        "    @staticmethod\n",
        "    def test(self, n=2, crop_only=False):\n",
        "        index = random.sample(list(np.arange(len(self.dishes))), n)\n",
        "        img_paths = [self.dishes[i] for i in index]\n",
        "        out = []\n",
        "        for i, path in enumerate(img_paths):\n",
        "            orig_bgr, mask, masked = self.rectangular_mask(path)\n",
        "            cropped_out = self.crop(masked)\n",
        "            if crop_only:\n",
        "                out.append([orig_bgr, mask, masked, cropped_out, None])\n",
        "            else:\n",
        "                rgb = cropped_out.copy()\n",
        "                hsv = cv2.cvtColor(cropped_out, cv2.COLOR_BGR2HSV)\n",
        "                imgfinal = self.remove_blue(hsv)\n",
        "                copy_of = imgfinal.copy()\n",
        "                # copy_of[copy_of > 0] = 255\n",
        "                final_img = cv2.bitwise_and(rgb, rgb, mask=copy_of)\n",
        "                out.append([orig_bgr, mask, masked, cropped_out, final_img])\n",
        "        return out\n",
        "\n",
        "    @staticmethod\n",
        "    def display_sample(self, sample, crop_only=False):\n",
        "        grid = 1\n",
        "        n = len(sample)\n",
        "        c = 4 if crop_only else 5\n",
        "        plt.figure(figsize=(15, 10))\n",
        "        for i, lst in enumerate(sample):\n",
        "            img = cv2.cvtColor(lst[0], cv2.COLOR_BGR2RGB)\n",
        "            plt.subplot(n, c, grid)\n",
        "            plt.imshow(img)\n",
        "            plt.title(\"original\")\n",
        "\n",
        "            grid += 1\n",
        "            plt.subplot(n, c, grid)\n",
        "            plt.imshow(lst[1])\n",
        "            plt.title(\"mask\")\n",
        "\n",
        "            grid += 1\n",
        "            plt.subplot(n, c, grid)\n",
        "            plt.imshow(lst[2])\n",
        "            plt.title(\"masked-out\")\n",
        "\n",
        "            grid += 1\n",
        "            plt.subplot(n, c, grid)\n",
        "            plt.imshow(lst[3])\n",
        "            plt.title(\"cropped\")\n",
        "\n",
        "            if not crop_only:\n",
        "                grid += 1\n",
        "                plt.subplot(n, c, grid)\n",
        "                plt.imshow(lst[4])\n",
        "                plt.title(\"final-out\")\n",
        "            grid += 1\n"
      ],
      "metadata": {
        "id": "KMDuNsTSg1TW"
      },
      "execution_count": 3,
      "outputs": []
    },
    {
      "cell_type": "markdown",
      "source": [
        "## VITConfig"
      ],
      "metadata": {
        "id": "--mBFZgqh_Wb"
      }
    },
    {
      "cell_type": "code",
      "source": [
        "class VITConfig:\n",
        "    def __init__(self,\n",
        "                 image_size=None,\n",
        "                 patch_size=None,\n",
        "                 projection_dim=None,\n",
        "                 num_heads=None,\n",
        "                 transformer_layers=None,\n",
        "                 mlp_head_units=None,\n",
        "                 output_shape=None):\n",
        "        self.image_size = image_size\n",
        "        self.patch_size = patch_size\n",
        "        self.input_shape = (image_size, image_size, 3)  # input image shape\n",
        "        self.num_patches = (image_size // patch_size) ** 2\n",
        "        self.projection_dim = projection_dim\n",
        "        self.num_heads = num_heads\n",
        "        # Size of the transformer layers\n",
        "        self.transformer_units = [\n",
        "            projection_dim * 2,\n",
        "            projection_dim,\n",
        "        ]\n",
        "        self.transformer_layers = transformer_layers\n",
        "        self.mlp_head_units = mlp_head_units  # Size of the dense layers\n",
        "        self.output_size = output_shape\n",
        "\n",
        "    def data_augmentation_layers(self, inputs):\n",
        "        pass\n"
      ],
      "metadata": {
        "id": "QRGPWZjKiJXE"
      },
      "execution_count": 4,
      "outputs": []
    },
    {
      "cell_type": "markdown",
      "source": [
        "## DatasetUtil"
      ],
      "metadata": {
        "id": "VHuylwqPg55t"
      }
    },
    {
      "cell_type": "code",
      "source": [
        "import pandas as pd\n",
        "import os\n",
        "import matplotlib.pyplot as plt\n",
        "\n",
        "\n",
        "class DatasetUtil:\n",
        "    @staticmethod\n",
        "    def get_top_30_ingredients(dish_ingredients):\n",
        "        dish_ing_by_count = dish_ingredients[['dish_id', 'name', 'id']] \\\n",
        "            .groupby('dish_id', as_index=False).id.count() \\\n",
        "            .sort_values(by=\"id\", ascending=False)\n",
        "        return dish_ing_by_count\n",
        "\n",
        "    @staticmethod\n",
        "    def check_dir(dish_ids, image_dir):\n",
        "        # print(\"Dish Shape\",dish_ids.shape)\n",
        "        df = pd.DataFrame(columns=['dish_id', 'exists'])\n",
        "        for dish_id in dish_ids:\n",
        "            # print(dish_images +  id)\n",
        "            df.loc[len(df.index)] = [dish_id, os.path.exists(image_dir + dish_id)]\n",
        "        return df\n",
        "\n",
        "    @staticmethod\n",
        "    def get_image_path(dish_ids,\n",
        "                       image_dir,\n",
        "                       file_name=\"/rgb.png\"):\n",
        "        # print(\"Dish Shape\",dish_ids)\n",
        "        images = []\n",
        "        for dish_id in dish_ids:\n",
        "            if os.path.exists(image_dir + dish_id):\n",
        "                images.append({\"dish_id\": dish_id, \"image_path\": image_dir + dish_id + file_name})\n",
        "        df = pd.DataFrame(images, columns=[\"dish_id\", \"image_path\"])\n",
        "        return df\n",
        "\n",
        "    @staticmethod\n",
        "    def get_rgb_image(dish_ids,\n",
        "                      image_dir,\n",
        "                      file_name=\"/rgb.png\"):\n",
        "        # print(\"Dish Shape\",dish_ids)\n",
        "        images = []\n",
        "        for dish_id in dish_ids:\n",
        "            # print(\"Types = \",type(dish_images_path),type(dish_id))\n",
        "            if os.path.exists(image_dir + dish_id):\n",
        "                images.append({\"dish_id\": dish_id, \"image\": plt.imread(image_dir + dish_id + file_name)})\n",
        "        return images\n"
      ],
      "metadata": {
        "id": "nSRumxtdg__v"
      },
      "execution_count": 5,
      "outputs": []
    },
    {
      "cell_type": "markdown",
      "source": [
        "## DatasetConfig"
      ],
      "metadata": {
        "id": "OxMrWltkhG_I"
      }
    },
    {
      "cell_type": "code",
      "source": [
        "class DatasetConfig:\n",
        "    def __init__(self,\n",
        "                 base_dir=None,\n",
        "                 image_dir=None,\n",
        "                 metadata_dir=None,\n",
        "                 splits_dir=None):\n",
        "        self.workspace = base_dir\n",
        "        self.image_dir = self.workspace + image_dir\n",
        "        self.metadata_dir = self.workspace + metadata_dir\n",
        "        self.splits_dir = self.workspace + splits_dir\n",
        "        self.depth_train_file = \"/depth_train_ids.txt\"\n",
        "        self.depth_test_file = \"/depth_test_ids.txt\"\n",
        "        self.rgb_train_file = \"/rgb_train_ids.txt\"\n",
        "        self.rgb_test_file = \"/rgb_test_ids.txt\"\n",
        "        self.dish_cafe1_file = \"/dish_metadata_cafe1.csv\"\n",
        "        self.dish_cafe2_file = \"/dish_metadata_cafe2.csv\"\n",
        "        self.dish_ingredients_file = '/ingredients_metadata.csv'\n",
        "        self.dish_id_col = [\"dish_id\"]\n"
      ],
      "metadata": {
        "id": "9w8WunPJhMgi"
      },
      "execution_count": 6,
      "outputs": []
    },
    {
      "cell_type": "markdown",
      "source": [
        "## DataLoader"
      ],
      "metadata": {
        "id": "TNL6AEhphRJM"
      }
    },
    {
      "cell_type": "code",
      "source": [
        "import matplotlib.pyplot as plt\n",
        "import pandas as pd\n",
        "import random\n",
        "\n",
        "class DataLoader:\n",
        "    def __init__(self, data_config: DatasetConfig,\n",
        "                 debug: bool = False):\n",
        "        self.rgb_train = None\n",
        "        self.rgb_test = None\n",
        "        self.depth_test = None\n",
        "        self.depth_train = None\n",
        "        self.test_dish_ids = None\n",
        "        self.train_dish_ids = None\n",
        "        self.data_config = data_config\n",
        "        self.cafe1_dish_info = DishInfo(data_config.metadata_dir + data_config.dish_cafe1_file)\n",
        "        self.cafe2_dish_info = DishInfo(data_config.metadata_dir + data_config.dish_cafe2_file)\n",
        "        self.dish_subset = None\n",
        "        self.dish_ing_subset = None\n",
        "        cafe_1, cafe1_ing = self.cafe1_dish_info.get_dish_info()\n",
        "        cafe_2, cafe2_ing = self.cafe2_dish_info.get_dish_info()\n",
        "        self.LOG_HANDLE = \"DataLoader -->\"\n",
        "        if debug:  # Display Information on the loaded files\n",
        "            print(self.LOG_HANDLE, \"Cafe = 1\", \"*\" * 50)\n",
        "            print(self.LOG_HANDLE, cafe_1.info())\n",
        "            print(self.LOG_HANDLE, cafe_1.shape)\n",
        "            print(self.LOG_HANDLE, \"Cafe = 1 Dish Ingredients\", \"*\" * 50)\n",
        "            print(self.LOG_HANDLE, cafe1_ing.info())\n",
        "            print(self.LOG_HANDLE, cafe1_ing.shape)\n",
        "\n",
        "            print(self.LOG_HANDLE, \"Cafe = 2\", \"*\" * 50)\n",
        "            print(self.LOG_HANDLE, cafe_2.info())\n",
        "            print(self.LOG_HANDLE, \"Shape = \", cafe_2.shape)\n",
        "            print(self.LOG_HANDLE, \"Cafe = 2 Dish Ingredients\", \"*\" * 50)\n",
        "            print(self.LOG_HANDLE, cafe2_ing.info())\n",
        "            print(self.LOG_HANDLE, \"Shape = \", cafe2_ing.shape)\n",
        "\n",
        "        self.dish = pd.concat([cafe_1, cafe_2])\n",
        "        self.dish_ingredients = pd.concat([cafe1_ing, cafe2_ing])\n",
        "        print(self.LOG_HANDLE, \"Total Dishes\", self.dish.shape)\n",
        "        print(self.LOG_HANDLE, \"Total Dish Ingredients\", self.dish_ingredients.shape)\n",
        "\n",
        "        self.__cast_astype_float()\n",
        "\n",
        "        self.__split_data(debug)\n",
        "\n",
        "        self.__filter_data_with_images(debug)\n",
        "\n",
        "    def get_dishes(self, subset=True):\n",
        "        if subset:\n",
        "            return self.dish_subset\n",
        "        return self.dish\n",
        "\n",
        "    def get_dish_ingredients(self, subset=True):\n",
        "        if subset:\n",
        "            return self.dish_ing_subset\n",
        "\n",
        "        return self.dish_ingredients\n",
        "\n",
        "    def get_data(self, subset=True):\n",
        "        if subset:\n",
        "            return self.dish_subset, self.dish_ing_subset\n",
        "\n",
        "        return self.dish, self.dish_ingredients\n",
        "\n",
        "    def get_splits(self):\n",
        "        return self.train_dish_ids, self.test_dish_ids\n",
        "\n",
        "    def __split_data(self, debug=False):\n",
        "        self.depth_train = pd.read_csv(self.data_config.splits_dir + self.data_config.depth_train_file,\n",
        "                                       header=None,\n",
        "                                       names=self.data_config.dish_id_col)\n",
        "\n",
        "        self.depth_test = pd.read_csv(self.data_config.splits_dir + self.data_config.depth_test_file,\n",
        "                                      header=None,\n",
        "                                      names=self.data_config.dish_id_col)\n",
        "\n",
        "        self.rgb_test = pd.read_csv(self.data_config.splits_dir + self.data_config.rgb_test_file,\n",
        "                                    header=None,\n",
        "                                    names=self.data_config.dish_id_col)\n",
        "        self.rgb_train = pd.read_csv(self.data_config.splits_dir + self.data_config.rgb_train_file,\n",
        "                                     header=None,\n",
        "                                     names=self.data_config.dish_id_col)\n",
        "        if debug:\n",
        "            print(self.LOG_HANDLE, \"Depth train split ids shape = \", self.depth_train.shape)\n",
        "            print(self.LOG_HANDLE, self.depth_train.head())\n",
        "            print(self.LOG_HANDLE, \"RGB train split ids shape = \", self.rgb_train.shape)\n",
        "            print(self.LOG_HANDLE, self.rgb_train.head())\n",
        "            print(self.LOG_HANDLE, \"Depth test split ids shape = \", self.depth_test.shape)\n",
        "            print(self.LOG_HANDLE, self.depth_test.head())\n",
        "            print(self.LOG_HANDLE, \"RGB test split ids shape = \", self.rgb_test.shape)\n",
        "            print(self.LOG_HANDLE, self.rgb_test.head())\n",
        "\n",
        "        self.train_dish_ids = pd.merge(self.depth_train, self.rgb_train)\n",
        "        self.test_dish_ids = pd.merge(self.depth_test, self.rgb_test)\n",
        "        if debug:\n",
        "            print(self.LOG_HANDLE, \"Train Dish Ids = \", self.train_dish_ids.shape)\n",
        "            print(self.LOG_HANDLE, \"Test Dish Ids = \", self.test_dish_ids.shape)\n",
        "\n",
        "    def __verify_images(self, debug):\n",
        "        s1 = DatasetUtil.check_dir(self.test_dish_ids.dish_id, self.data_config.image_dir)\n",
        "        s2 = DatasetUtil.check_dir(self.train_dish_ids.dish_id, self.data_config.image_dir)\n",
        "        s3 = DatasetUtil.check_dir(self.rgb_train.dish_id, self.data_config.image_dir)\n",
        "        s4 = DatasetUtil.check_dir(self.rgb_test.dish_id, self.data_config.image_dir)\n",
        "\n",
        "        if debug:\n",
        "            print(self.LOG_HANDLE, \"Test Dish Ids = \", self.test_dish_ids.shape, s1.shape,\n",
        "                  s1.exists.value_counts())\n",
        "            print(self.LOG_HANDLE, \"Train Dish Ids = \", self.train_dish_ids.shape, s2.shape,\n",
        "                  s2.exists.value_counts())\n",
        "            print(self.LOG_HANDLE, \"RGB Train Ids = \", self.rgb_train.shape, s3.shape,\n",
        "                  s3.exists.value_counts())\n",
        "            print(self.LOG_HANDLE, \"RGB Test Ids = \", self.rgb_test.shape, s4.shape,\n",
        "                  s4.exists.value_counts())\n",
        "\n",
        "            i = random.randrange(0, len(self.train_dish_ids))\n",
        "            # print(self.LOG_HANDLE,i,train_dish_ids.dish_id[i])\n",
        "            img_path = self.data_config.image_dir + self.train_dish_ids.dish_id[i]\n",
        "            # print(self.LOG_HANDLE,img_path)\n",
        "            f, a = plt.subplots(1, 3)\n",
        "\n",
        "            a[0].imshow(plt.imread(img_path + '/depth_color.png'))\n",
        "            a[1].imshow(plt.imread(img_path + '/depth_raw.png'))\n",
        "            a[2].imshow(plt.imread(img_path + '/rgb.png'))\n",
        "\n",
        "            plt.show()\n",
        "\n",
        "            i_test = random.randrange(0, len(self.test_dish_ids))\n",
        "            # print(self.LOG_HANDLE,i,train_dish_ids.dish_id[i])\n",
        "            img_path = self.data_config.image_dir + self.test_dish_ids.dish_id[i_test]\n",
        "            # print(self.LOG_HANDLE,img_path)\n",
        "            f, a = plt.subplots(1, 3)\n",
        "\n",
        "            a[0].imshow(plt.imread(img_path + '/depth_color.png'))\n",
        "            a[1].imshow(plt.imread(img_path + '/depth_raw.png'))\n",
        "            a[2].imshow(plt.imread(img_path + '/rgb.png'))\n",
        "\n",
        "            plt.show()\n",
        "\n",
        "        print(self.LOG_HANDLE, \"Dish Master\", self.dish.shape)\n",
        "        print(self.LOG_HANDLE, \"Dish Ingredients Master\", self.dish_ingredients.shape)\n",
        "        print(self.LOG_HANDLE, \"Training Dish Ids\", self.train_dish_ids.shape)\n",
        "        print(self.LOG_HANDLE, \"Test Dish Ids\", self.test_dish_ids.shape)\n",
        "\n",
        "    def __cast_astype_float(self):\n",
        "        self.dish_ingredients['grams'] = self.dish_ingredients.grams.astype(\"float32\")\n",
        "        self.dish_ingredients['calories'] = self.dish_ingredients.calories.astype(\"float32\")\n",
        "        self.dish_ingredients['fat'] = self.dish_ingredients.fat.astype(\"float32\")\n",
        "        self.dish_ingredients['carb'] = self.dish_ingredients.carb.astype(\"float32\")\n",
        "        self.dish_ingredients['protein'] = self.dish_ingredients.protein.astype(\"float32\")\n",
        "        self.dish[\"total_calories\"] = self.dish.total_calories.astype(\"float32\")\n",
        "        self.dish[\"total_mass\"] = self.dish.total_mass.astype(\"float32\")\n",
        "        self.dish[\"total_fat\"] = self.dish.total_fat.astype(\"float32\")\n",
        "        self.dish[\"total_carb\"] = self.dish.total_carb.astype(\"float32\")\n",
        "        self.dish[\"total_protein\"] = self.dish.total_protein.astype(\"float32\")\n",
        "\n",
        "    def __filter_data_with_images(self, debug):\n",
        "        if debug:\n",
        "          print(\"Going to filter the subset\")\n",
        "        dish_images = DatasetUtil.get_image_path(self.dish.dish_id,self.data_config.image_dir)\n",
        "        merged_ids = pd.concat([self.train_dish_ids.dish_id, self.test_dish_ids.dish_id])\n",
        "\n",
        "        tmp = self.dish[self.dish.dish_id.isin(merged_ids)]\n",
        "        print(tmp.shape)\n",
        "        \n",
        "        self.dish_ing_subset = self.dish_ingredients[self.dish_ingredients.dish_id.isin(merged_ids)]\n",
        "        print(self.dish_ing_subset.shape)\n",
        "\n",
        "        self.dish_subset = tmp.merge(dish_images)\n",
        "\n"
      ],
      "metadata": {
        "id": "4GkhORgohOfk"
      },
      "execution_count": 7,
      "outputs": []
    },
    {
      "cell_type": "markdown",
      "source": [
        "## DishInfo"
      ],
      "metadata": {
        "id": "CANs8hWYhWr1"
      }
    },
    {
      "cell_type": "code",
      "source": [
        "import pandas as pd\n",
        "import os\n",
        "\n",
        "\n",
        "class DishInfo:\n",
        "    def __init__(self, filepath):\n",
        "        self.file_path = filepath\n",
        "        lines = self.read_file()\n",
        "        self.dish_cols = [\"dish_id\",\n",
        "                          \"total_calories\",\n",
        "                          \"total_mass\",\n",
        "                          \"total_fat\",\n",
        "                          \"total_carb\",\n",
        "                          \"total_protein\"]\n",
        "\n",
        "        self.ingredients_col = [\"dish_id\",\n",
        "                                \"id\",\n",
        "                                \"name\",\n",
        "                                \"grams\",\n",
        "                                \"calories\",\n",
        "                                \"fat\",\n",
        "                                \"carb\",\n",
        "                                \"protein\"]\n",
        "        dish_info = []\n",
        "        dish_ingredients = []\n",
        "        s = 6\n",
        "        step = 7\n",
        "        line_num = 1\n",
        "        for line in lines:\n",
        "            # print(line)\n",
        "            dish_line = line.split(',')\n",
        "            dish = dish_line[:s]\n",
        "            # print(line_num,dish)\n",
        "            ing_len = len(dish_line[s:])\n",
        "            tkn = s\n",
        "            dish_info.append(pd.Series(dish, index=self.dish_cols))\n",
        "            # print(\"Going for ingredients\",tkn,ing_len)\n",
        "            while tkn < ing_len:\n",
        "                row = [dish[0]]\n",
        "                for c in dish_line[tkn:tkn + step]:\n",
        "                    row.append(c.strip())\n",
        "                # print(row)\n",
        "                dish_ingredients.append(pd.Series(row, index=self.ingredients_col))\n",
        "                tkn += step\n",
        "            line_num += 1\n",
        "            # break\n",
        "        self.dishes = pd.DataFrame(dish_info, columns=self.dish_cols)\n",
        "        self.dish_ingredients = pd.DataFrame(dish_ingredients, columns=self.ingredients_col)\n",
        "\n",
        "    def read_file(self):\n",
        "        f = open(self.file_path, 'r')\n",
        "        lines = f.readlines()\n",
        "        return lines\n",
        "\n",
        "    def get_dishes(self):\n",
        "        return self.dishes\n",
        "\n",
        "    def get_dish_ingredients(self):\n",
        "        return self.dish_ingredients\n",
        "\n",
        "    def get_dish_info(self):\n",
        "        return self.dishes, self.dish_ingredients\n"
      ],
      "metadata": {
        "id": "xxlZdt_2hYFP"
      },
      "execution_count": 8,
      "outputs": []
    },
    {
      "cell_type": "markdown",
      "source": [
        "## MLP"
      ],
      "metadata": {
        "id": "AP3pF5skhdCk"
      }
    },
    {
      "cell_type": "code",
      "source": [
        "import tensorflow as tf\n",
        "\n",
        "\n",
        "def mlp(x, hidden_units, dropout_rate):\n",
        "    for units in hidden_units:\n",
        "        x = tf.keras.layers.Dense(units, activation=tf.nn.gelu)(x)\n",
        "        x = tf.keras.layers.Dropout(dropout_rate)(x)\n",
        "    return x"
      ],
      "metadata": {
        "id": "V1CpwT2ihfem"
      },
      "execution_count": 9,
      "outputs": []
    },
    {
      "cell_type": "markdown",
      "source": [
        "## Patches"
      ],
      "metadata": {
        "id": "T6F82GzDhk3w"
      }
    },
    {
      "cell_type": "code",
      "source": [
        "import copy\n",
        "\n",
        "import tensorflow as tf\n",
        "\n",
        "class Patches(tf.keras.layers.Layer):\n",
        "\n",
        "    def __init__(self, vit_config: VITConfig):\n",
        "        super(Patches, self).__init__()\n",
        "        self.vit_config = copy.copy(vit_config)\n",
        "\n",
        "    #     Override function to avoid error while saving model\n",
        "    def get_config(self):\n",
        "        config = super().get_config().copy()\n",
        "        config.update(\n",
        "            {\n",
        "                \"input_shape\": self.vit_config.input_shape,\n",
        "                \"patch_size\": self.vit_config.patch_size,\n",
        "                \"num_patches\": self.vit_config.num_patches,\n",
        "                \"projection_dim\": self.vit_config.projection_dim,\n",
        "                \"num_heads\": self.vit_config.num_heads,\n",
        "                \"transformer_units\": self.vit_config.transformer_units,\n",
        "                \"transformer_layers\": self.vit_config.transformer_layers,\n",
        "                \"mlp_head_units\": self.vit_config.mlp_head_units,\n",
        "            }\n",
        "        )\n",
        "        return config\n",
        "\n",
        "    def call(self, images):\n",
        "        batch = tf.shape(images)[0]\n",
        "        patches = tf.image.extract_patches(\n",
        "            images=images,\n",
        "            sizes=[1, self.vit_config.patch_size, self.vit_config.patch_size, 1],\n",
        "            strides=[1, self.vit_config.patch_size, self.vit_config.patch_size, 1],\n",
        "            rates=[1, 1, 1, 1],\n",
        "            padding=\"VALID\",\n",
        "        )\n",
        "        # return patches\n",
        "        return tf.reshape(patches, [batch, -1, patches.shape[-1]])\n"
      ],
      "metadata": {
        "id": "_0AiEE5hhseg"
      },
      "execution_count": 10,
      "outputs": []
    },
    {
      "cell_type": "markdown",
      "source": [
        "## PatchEncoder"
      ],
      "metadata": {
        "id": "tk9lYihOh1AR"
      }
    },
    {
      "cell_type": "code",
      "source": [
        "import copy\n",
        "\n",
        "import tensorflow as tf\n",
        "\n",
        "class PatchEncoder(tf.keras.layers.Layer):\n",
        "\n",
        "    def __init__(self, vit_config: VITConfig):\n",
        "        super(PatchEncoder, self).__init__()\n",
        "        self.vit_config = copy.copy(vit_config)\n",
        "        self.projection = tf.keras.layers.Dense(units=self.vit_config.projection_dim)\n",
        "        self.position_embedding = tf.keras.layers.Embedding(\n",
        "            input_dim=self.vit_config.num_patches, output_dim=self.vit_config.projection_dim\n",
        "        )\n",
        "\n",
        "    # Override function to avoid error while saving model\n",
        "    def get_config(self):\n",
        "        config = super().get_config().copy()\n",
        "        config.update(\n",
        "            {\n",
        "                \"input_shape\": self.vit_config.input_shape,\n",
        "                \"patch_size\": self.vit_config.patch_size,\n",
        "                \"num_patches\": self.vit_config.num_patches,\n",
        "                \"projection_dim\": self.vit_config.projection_dim,\n",
        "                \"num_heads\": self.vit_config.num_heads,\n",
        "                \"transformer_units\": self.vit_config.transformer_units,\n",
        "                \"transformer_layers\": self.vit_config.transformer_layers,\n",
        "                \"mlp_head_units\": self.vit_config.mlp_head_units,\n",
        "            }\n",
        "        )\n",
        "        return config\n",
        "\n",
        "    def call(self, patch):\n",
        "        positions = tf.range(start=0, limit=self.vit_config.num_patches, delta=1)\n",
        "        encoded = self.projection(patch) + self.position_embedding(positions)\n",
        "        return encoded\n"
      ],
      "metadata": {
        "id": "iYq77SUHh7AN"
      },
      "execution_count": 11,
      "outputs": []
    },
    {
      "cell_type": "markdown",
      "source": [
        "## ModelCreator"
      ],
      "metadata": {
        "id": "0XYNRoGrkUKv"
      }
    },
    {
      "cell_type": "code",
      "source": [
        "import copy\n",
        "\n",
        "import tensorflow as tf\n",
        "\n",
        "class ModelCreator:\n",
        "\n",
        "    @staticmethod\n",
        "    def create_vit(vit_config: VITConfig):\n",
        "        inputs = tf.keras.layers.Input(shape=vit_config.input_shape)\n",
        "        # Data Augmentation Layers\n",
        "        augmented = vit_config.data_augmentation_layers(inputs)\n",
        "        # Create patches\n",
        "        patches = Patches(vit_config)(inputs)\n",
        "        # Encode patches\n",
        "        encoded_patches = PatchEncoder(vit_config)(patches)\n",
        "\n",
        "        # Create multiple layers of the Transformer block.\n",
        "        for _ in range(vit_config.transformer_layers):\n",
        "            # Layer normalization 1.\n",
        "            x1 = tf.keras.layers.LayerNormalization(epsilon=1e-6)(encoded_patches)\n",
        "            # Create a multi-head attention layer.\n",
        "            attention_output = tf.keras.layers.MultiHeadAttention(\n",
        "                num_heads=vit_config.num_heads, key_dim=vit_config.projection_dim, dropout=0.1\n",
        "            )(x1, x1)\n",
        "            # Skip connection 1.\n",
        "            x2 = tf.keras.layers.Add()([attention_output, encoded_patches])\n",
        "            # Layer normalization 2.\n",
        "            x3 = tf.keras.layers.LayerNormalization(epsilon=1e-6)(x2)\n",
        "            # MLP\n",
        "            x3 = mlp(x3, hidden_units=vit_config.transformer_units, dropout_rate=0.1)\n",
        "            # Skip connection 2.\n",
        "            encoded_patches = tf.keras.layers.Add()([x3, x2])\n",
        "\n",
        "        # Create a [batch_size, projection_dim] tensor.\n",
        "        representation = tf.keras.layers.LayerNormalization(epsilon=1e-6)(encoded_patches)\n",
        "        representation = tf.keras.layers.Flatten()(representation)\n",
        "        representation = tf.keras.layers.Dropout(0.3)(representation)\n",
        "        # Add MLP.\n",
        "        features = mlp(representation, hidden_units=vit_config.mlp_head_units, dropout_rate=0.3)\n",
        "\n",
        "        logits = tf.keras.layers.Dense(vit_config.output_size)(features)\n",
        "        # return Keras model.\n",
        "        return tf.keras.Model(inputs=inputs, outputs=logits)\n"
      ],
      "metadata": {
        "id": "eLlE6qVzkWTY"
      },
      "execution_count": 12,
      "outputs": []
    },
    {
      "cell_type": "markdown",
      "source": [
        "# Workflow"
      ],
      "metadata": {
        "id": "yHhqEJMZh7UQ"
      }
    },
    {
      "cell_type": "markdown",
      "source": [
        "## Library Import"
      ],
      "metadata": {
        "id": "-2ctLRHDiI0P"
      }
    },
    {
      "cell_type": "code",
      "source": [
        "import pandas as pd\n",
        "import numpy as np\n",
        "import tensorflow as tf\n",
        "import glob2 as glob\n",
        "import matplotlib.pyplot as plt\n",
        "import random\n",
        "import os\n",
        "import seaborn as sns\n",
        "import sys\n",
        "import cv2\n",
        "import datetime\n",
        "import tqdm"
      ],
      "metadata": {
        "id": "flEyIOYqh236"
      },
      "execution_count": 13,
      "outputs": []
    },
    {
      "cell_type": "code",
      "source": [
        "print(tf.__version__)\n",
        "print()"
      ],
      "metadata": {
        "colab": {
          "base_uri": "https://localhost:8080/"
        },
        "id": "l6SjdlvEHFtK",
        "outputId": "de0623a2-468e-4333-c459-76d7185a51a0"
      },
      "execution_count": 14,
      "outputs": [
        {
          "output_type": "stream",
          "name": "stdout",
          "text": [
            "2.9.2\n",
            "\n"
          ]
        }
      ]
    },
    {
      "cell_type": "code",
      "source": [
        "# sys.path"
      ],
      "metadata": {
        "id": "Z02z6hVFiVZ5"
      },
      "execution_count": 15,
      "outputs": []
    },
    {
      "cell_type": "code",
      "source": [
        "workspace = '/content/drive/MyDrive/01_LJMU_UPGRAD/experiments/final-thesis-lab/workspace'\n",
        "nutrition_codebase = '/notebooks-v1/nutri-codebase'"
      ],
      "metadata": {
        "id": "FiTcGpBOiV8D"
      },
      "execution_count": 16,
      "outputs": []
    },
    {
      "cell_type": "code",
      "source": [
        "#!git clone https://github.com/kurupdeepak/nutri-codebase.git '/content/drive/MyDrive/01_LJMU_UPGRAD/experiments/final-thesis-lab/workspace/notebooks-v1/nutri-codebase'"
      ],
      "metadata": {
        "id": "wF9yFC-GjBlY"
      },
      "execution_count": 17,
      "outputs": []
    },
    {
      "cell_type": "code",
      "source": [
        "# sys.path.append(workspace + nutrition_codebase)"
      ],
      "metadata": {
        "id": "YhKy3M3yjNj_"
      },
      "execution_count": 18,
      "outputs": []
    },
    {
      "cell_type": "code",
      "source": [
        "# sys.path"
      ],
      "metadata": {
        "id": "CH971vumkcNs"
      },
      "execution_count": 19,
      "outputs": []
    },
    {
      "cell_type": "markdown",
      "source": [
        "## Configure Path and Environment"
      ],
      "metadata": {
        "id": "pPjOmeh8kxJ4"
      }
    },
    {
      "cell_type": "code",
      "source": [
        "pd.set_option('display.max_rows', None)\n",
        "pd.set_option('display.max_columns', None)"
      ],
      "metadata": {
        "id": "qBoaExXNtXvq"
      },
      "execution_count": 20,
      "outputs": []
    },
    {
      "cell_type": "code",
      "source": [
        "import os\n",
        "os.environ['CUDA_VISIBLE_DEVICES'] = \"0\""
      ],
      "metadata": {
        "id": "jSz1YPJjFZYr"
      },
      "execution_count": 21,
      "outputs": []
    },
    {
      "cell_type": "markdown",
      "source": [
        "### User Library Import"
      ],
      "metadata": {
        "id": "EdrNWuN-k5hb"
      }
    },
    {
      "cell_type": "code",
      "source": [
        "# from nutrition.core.data import DatasetConfig\n",
        "# from nutrition.core.data import DataLoader\n",
        "# from nutrition.core.transformer import VITConfig, ModelCreator\n",
        "# from nutrition.core.transformer.vit import Patches, PatchEncoder,mlp"
      ],
      "metadata": {
        "id": "bpEBluq1k9BR"
      },
      "execution_count": 22,
      "outputs": []
    },
    {
      "cell_type": "markdown",
      "source": [
        "### Dataset Configuration"
      ],
      "metadata": {
        "id": "iRns-y-Mlo6R"
      }
    },
    {
      "cell_type": "code",
      "source": [
        "dataset_config = DatasetConfig(base_dir=workspace + '/dataset',\n",
        "                                image_dir='/realsense_overhead/',\n",
        "                               metadata_dir='',\n",
        "                               splits_dir=''\n",
        "                               )"
      ],
      "metadata": {
        "id": "ZktbwLVskwY6"
      },
      "execution_count": 23,
      "outputs": []
    },
    {
      "cell_type": "markdown",
      "source": [
        "### Load Data "
      ],
      "metadata": {
        "id": "pFwiYNmUniBW"
      }
    },
    {
      "cell_type": "code",
      "source": [
        "LOGGER = \"data-set-loader -> \"\n",
        "data_loader = DataLoader(data_config=dataset_config, debug=False)\n",
        "dish_info, dish_ingredients = data_loader.get_data()\n",
        "train, test = data_loader.get_splits()\n",
        "print(f\"{LOGGER} Dishes from the subset of 3.5k shape = {dish_info.shape}\")\n",
        "print(f\"{LOGGER} Dish Ingredient shape = {dish_ingredients.shape}\")\n",
        "print(f\"{LOGGER} Already split train ids = {train.shape}\")\n",
        "print(f\"{LOGGER} Already split test ids = {test.shape}\")"
      ],
      "metadata": {
        "colab": {
          "base_uri": "https://localhost:8080/"
        },
        "id": "YVRovHa4kdoy",
        "outputId": "20b22b0f-1f65-431a-dd11-dbe442e89e8d"
      },
      "execution_count": 24,
      "outputs": [
        {
          "output_type": "stream",
          "name": "stdout",
          "text": [
            "DataLoader --> Total Dishes (5006, 6)\n",
            "DataLoader --> Total Dish Ingredients (28455, 8)\n",
            "(3265, 6)\n",
            "(23859, 8)\n",
            "data-set-loader ->  Dishes from the subset of 3.5k shape = (3265, 7)\n",
            "data-set-loader ->  Dish Ingredient shape = (23859, 8)\n",
            "data-set-loader ->  Already split train ids = (2758, 1)\n",
            "data-set-loader ->  Already split test ids = (507, 1)\n"
          ]
        }
      ]
    },
    {
      "cell_type": "code",
      "source": [
        "dish_info.info()"
      ],
      "metadata": {
        "colab": {
          "base_uri": "https://localhost:8080/"
        },
        "id": "4iDQ23fomg0K",
        "outputId": "089abb9d-9296-4581-8323-068ad18073ad"
      },
      "execution_count": 25,
      "outputs": [
        {
          "output_type": "stream",
          "name": "stdout",
          "text": [
            "<class 'pandas.core.frame.DataFrame'>\n",
            "Int64Index: 3265 entries, 0 to 3264\n",
            "Data columns (total 7 columns):\n",
            " #   Column          Non-Null Count  Dtype  \n",
            "---  ------          --------------  -----  \n",
            " 0   dish_id         3265 non-null   object \n",
            " 1   total_calories  3265 non-null   float32\n",
            " 2   total_mass      3265 non-null   float32\n",
            " 3   total_fat       3265 non-null   float32\n",
            " 4   total_carb      3265 non-null   float32\n",
            " 5   total_protein   3265 non-null   float32\n",
            " 6   image_path      3265 non-null   object \n",
            "dtypes: float32(5), object(2)\n",
            "memory usage: 140.3+ KB\n"
          ]
        }
      ]
    },
    {
      "cell_type": "code",
      "source": [
        "dish_info.head()"
      ],
      "metadata": {
        "colab": {
          "base_uri": "https://localhost:8080/",
          "height": 270
        },
        "id": "TZdEB79hnwPe",
        "outputId": "6b1624be-a7ff-4c47-fed4-94ae221693a6"
      },
      "execution_count": 26,
      "outputs": [
        {
          "output_type": "execute_result",
          "data": {
            "text/plain": [
              "           dish_id  total_calories  total_mass  total_fat  total_carb  \\\n",
              "0  dish_1561662216      300.794281       193.0  12.387489   28.218290   \n",
              "1  dish_1561662054      419.438782       292.0  23.838249   26.351543   \n",
              "2  dish_1562008979      382.936646       290.0  22.224644   10.173570   \n",
              "3  dish_1560455030       20.590000       103.0   0.148000    4.625000   \n",
              "4  dish_1558372433       74.360001       143.0   0.286000    0.429000   \n",
              "\n",
              "   total_protein                                         image_path  \n",
              "0      18.633970  /content/drive/MyDrive/01_LJMU_UPGRAD/experime...  \n",
              "1      25.910593  /content/drive/MyDrive/01_LJMU_UPGRAD/experime...  \n",
              "2      35.345387  /content/drive/MyDrive/01_LJMU_UPGRAD/experime...  \n",
              "3       0.956000  /content/drive/MyDrive/01_LJMU_UPGRAD/experime...  \n",
              "4      20.020000  /content/drive/MyDrive/01_LJMU_UPGRAD/experime...  "
            ],
            "text/html": [
              "\n",
              "  <div id=\"df-f3299c28-5a38-41e7-b2c0-3f79d09bdbeb\">\n",
              "    <div class=\"colab-df-container\">\n",
              "      <div>\n",
              "<style scoped>\n",
              "    .dataframe tbody tr th:only-of-type {\n",
              "        vertical-align: middle;\n",
              "    }\n",
              "\n",
              "    .dataframe tbody tr th {\n",
              "        vertical-align: top;\n",
              "    }\n",
              "\n",
              "    .dataframe thead th {\n",
              "        text-align: right;\n",
              "    }\n",
              "</style>\n",
              "<table border=\"1\" class=\"dataframe\">\n",
              "  <thead>\n",
              "    <tr style=\"text-align: right;\">\n",
              "      <th></th>\n",
              "      <th>dish_id</th>\n",
              "      <th>total_calories</th>\n",
              "      <th>total_mass</th>\n",
              "      <th>total_fat</th>\n",
              "      <th>total_carb</th>\n",
              "      <th>total_protein</th>\n",
              "      <th>image_path</th>\n",
              "    </tr>\n",
              "  </thead>\n",
              "  <tbody>\n",
              "    <tr>\n",
              "      <th>0</th>\n",
              "      <td>dish_1561662216</td>\n",
              "      <td>300.794281</td>\n",
              "      <td>193.0</td>\n",
              "      <td>12.387489</td>\n",
              "      <td>28.218290</td>\n",
              "      <td>18.633970</td>\n",
              "      <td>/content/drive/MyDrive/01_LJMU_UPGRAD/experime...</td>\n",
              "    </tr>\n",
              "    <tr>\n",
              "      <th>1</th>\n",
              "      <td>dish_1561662054</td>\n",
              "      <td>419.438782</td>\n",
              "      <td>292.0</td>\n",
              "      <td>23.838249</td>\n",
              "      <td>26.351543</td>\n",
              "      <td>25.910593</td>\n",
              "      <td>/content/drive/MyDrive/01_LJMU_UPGRAD/experime...</td>\n",
              "    </tr>\n",
              "    <tr>\n",
              "      <th>2</th>\n",
              "      <td>dish_1562008979</td>\n",
              "      <td>382.936646</td>\n",
              "      <td>290.0</td>\n",
              "      <td>22.224644</td>\n",
              "      <td>10.173570</td>\n",
              "      <td>35.345387</td>\n",
              "      <td>/content/drive/MyDrive/01_LJMU_UPGRAD/experime...</td>\n",
              "    </tr>\n",
              "    <tr>\n",
              "      <th>3</th>\n",
              "      <td>dish_1560455030</td>\n",
              "      <td>20.590000</td>\n",
              "      <td>103.0</td>\n",
              "      <td>0.148000</td>\n",
              "      <td>4.625000</td>\n",
              "      <td>0.956000</td>\n",
              "      <td>/content/drive/MyDrive/01_LJMU_UPGRAD/experime...</td>\n",
              "    </tr>\n",
              "    <tr>\n",
              "      <th>4</th>\n",
              "      <td>dish_1558372433</td>\n",
              "      <td>74.360001</td>\n",
              "      <td>143.0</td>\n",
              "      <td>0.286000</td>\n",
              "      <td>0.429000</td>\n",
              "      <td>20.020000</td>\n",
              "      <td>/content/drive/MyDrive/01_LJMU_UPGRAD/experime...</td>\n",
              "    </tr>\n",
              "  </tbody>\n",
              "</table>\n",
              "</div>\n",
              "      <button class=\"colab-df-convert\" onclick=\"convertToInteractive('df-f3299c28-5a38-41e7-b2c0-3f79d09bdbeb')\"\n",
              "              title=\"Convert this dataframe to an interactive table.\"\n",
              "              style=\"display:none;\">\n",
              "        \n",
              "  <svg xmlns=\"http://www.w3.org/2000/svg\" height=\"24px\"viewBox=\"0 0 24 24\"\n",
              "       width=\"24px\">\n",
              "    <path d=\"M0 0h24v24H0V0z\" fill=\"none\"/>\n",
              "    <path d=\"M18.56 5.44l.94 2.06.94-2.06 2.06-.94-2.06-.94-.94-2.06-.94 2.06-2.06.94zm-11 1L8.5 8.5l.94-2.06 2.06-.94-2.06-.94L8.5 2.5l-.94 2.06-2.06.94zm10 10l.94 2.06.94-2.06 2.06-.94-2.06-.94-.94-2.06-.94 2.06-2.06.94z\"/><path d=\"M17.41 7.96l-1.37-1.37c-.4-.4-.92-.59-1.43-.59-.52 0-1.04.2-1.43.59L10.3 9.45l-7.72 7.72c-.78.78-.78 2.05 0 2.83L4 21.41c.39.39.9.59 1.41.59.51 0 1.02-.2 1.41-.59l7.78-7.78 2.81-2.81c.8-.78.8-2.07 0-2.86zM5.41 20L4 18.59l7.72-7.72 1.47 1.35L5.41 20z\"/>\n",
              "  </svg>\n",
              "      </button>\n",
              "      \n",
              "  <style>\n",
              "    .colab-df-container {\n",
              "      display:flex;\n",
              "      flex-wrap:wrap;\n",
              "      gap: 12px;\n",
              "    }\n",
              "\n",
              "    .colab-df-convert {\n",
              "      background-color: #E8F0FE;\n",
              "      border: none;\n",
              "      border-radius: 50%;\n",
              "      cursor: pointer;\n",
              "      display: none;\n",
              "      fill: #1967D2;\n",
              "      height: 32px;\n",
              "      padding: 0 0 0 0;\n",
              "      width: 32px;\n",
              "    }\n",
              "\n",
              "    .colab-df-convert:hover {\n",
              "      background-color: #E2EBFA;\n",
              "      box-shadow: 0px 1px 2px rgba(60, 64, 67, 0.3), 0px 1px 3px 1px rgba(60, 64, 67, 0.15);\n",
              "      fill: #174EA6;\n",
              "    }\n",
              "\n",
              "    [theme=dark] .colab-df-convert {\n",
              "      background-color: #3B4455;\n",
              "      fill: #D2E3FC;\n",
              "    }\n",
              "\n",
              "    [theme=dark] .colab-df-convert:hover {\n",
              "      background-color: #434B5C;\n",
              "      box-shadow: 0px 1px 3px 1px rgba(0, 0, 0, 0.15);\n",
              "      filter: drop-shadow(0px 1px 2px rgba(0, 0, 0, 0.3));\n",
              "      fill: #FFFFFF;\n",
              "    }\n",
              "  </style>\n",
              "\n",
              "      <script>\n",
              "        const buttonEl =\n",
              "          document.querySelector('#df-f3299c28-5a38-41e7-b2c0-3f79d09bdbeb button.colab-df-convert');\n",
              "        buttonEl.style.display =\n",
              "          google.colab.kernel.accessAllowed ? 'block' : 'none';\n",
              "\n",
              "        async function convertToInteractive(key) {\n",
              "          const element = document.querySelector('#df-f3299c28-5a38-41e7-b2c0-3f79d09bdbeb');\n",
              "          const dataTable =\n",
              "            await google.colab.kernel.invokeFunction('convertToInteractive',\n",
              "                                                     [key], {});\n",
              "          if (!dataTable) return;\n",
              "\n",
              "          const docLinkHtml = 'Like what you see? Visit the ' +\n",
              "            '<a target=\"_blank\" href=https://colab.research.google.com/notebooks/data_table.ipynb>data table notebook</a>'\n",
              "            + ' to learn more about interactive tables.';\n",
              "          element.innerHTML = '';\n",
              "          dataTable['output_type'] = 'display_data';\n",
              "          await google.colab.output.renderOutput(dataTable, element);\n",
              "          const docLink = document.createElement('div');\n",
              "          docLink.innerHTML = docLinkHtml;\n",
              "          element.appendChild(docLink);\n",
              "        }\n",
              "      </script>\n",
              "    </div>\n",
              "  </div>\n",
              "  "
            ]
          },
          "metadata": {},
          "execution_count": 26
        }
      ]
    },
    {
      "cell_type": "code",
      "source": [
        "dish_ingredients.info()"
      ],
      "metadata": {
        "colab": {
          "base_uri": "https://localhost:8080/"
        },
        "id": "akSYkoXXnzhL",
        "outputId": "8c05e1d7-4062-46ff-9dcb-97cb5f2926bd"
      },
      "execution_count": 27,
      "outputs": [
        {
          "output_type": "stream",
          "name": "stdout",
          "text": [
            "<class 'pandas.core.frame.DataFrame'>\n",
            "Int64Index: 23859 entries, 0 to 27224\n",
            "Data columns (total 8 columns):\n",
            " #   Column    Non-Null Count  Dtype  \n",
            "---  ------    --------------  -----  \n",
            " 0   dish_id   23859 non-null  object \n",
            " 1   id        23859 non-null  object \n",
            " 2   name      23859 non-null  object \n",
            " 3   grams     23859 non-null  float32\n",
            " 4   calories  23859 non-null  float32\n",
            " 5   fat       23859 non-null  float32\n",
            " 6   carb      23859 non-null  float32\n",
            " 7   protein   23859 non-null  float32\n",
            "dtypes: float32(5), object(3)\n",
            "memory usage: 1.2+ MB\n"
          ]
        }
      ]
    },
    {
      "cell_type": "code",
      "source": [
        "dish_ingredients.head()"
      ],
      "metadata": {
        "colab": {
          "base_uri": "https://localhost:8080/",
          "height": 206
        },
        "id": "hEyAIp8Xn1GQ",
        "outputId": "b415d7eb-d122-4b27-cf96-6ad1b0089ff4"
      },
      "execution_count": 28,
      "outputs": [
        {
          "output_type": "execute_result",
          "data": {
            "text/plain": [
              "           dish_id               id        name     grams   calories  \\\n",
              "0  dish_1561662216  ingr_0000000508   soy sauce  3.398568   1.801241   \n",
              "1  dish_1561662216  ingr_0000000122      garlic  2.124105   3.164917   \n",
              "2  dish_1561662216  ingr_0000000026  white rice  8.496420  11.045346   \n",
              "3  dish_1561662216  ingr_0000000524     parsley  0.213397   0.079170   \n",
              "4  dish_1561662216  ingr_0000000094      onions  1.707173   0.682869   \n",
              "\n",
              "        fat      carb   protein  \n",
              "0  0.020391  0.166530  0.275284  \n",
              "1  0.010621  0.700955  0.135943  \n",
              "2  0.025489  2.378998  0.229403  \n",
              "3  0.001707  0.013657  0.006189  \n",
              "4  0.001707  0.153646  0.018779  "
            ],
            "text/html": [
              "\n",
              "  <div id=\"df-3ad93f1f-8d2d-4013-850c-fc3f6f0700fb\">\n",
              "    <div class=\"colab-df-container\">\n",
              "      <div>\n",
              "<style scoped>\n",
              "    .dataframe tbody tr th:only-of-type {\n",
              "        vertical-align: middle;\n",
              "    }\n",
              "\n",
              "    .dataframe tbody tr th {\n",
              "        vertical-align: top;\n",
              "    }\n",
              "\n",
              "    .dataframe thead th {\n",
              "        text-align: right;\n",
              "    }\n",
              "</style>\n",
              "<table border=\"1\" class=\"dataframe\">\n",
              "  <thead>\n",
              "    <tr style=\"text-align: right;\">\n",
              "      <th></th>\n",
              "      <th>dish_id</th>\n",
              "      <th>id</th>\n",
              "      <th>name</th>\n",
              "      <th>grams</th>\n",
              "      <th>calories</th>\n",
              "      <th>fat</th>\n",
              "      <th>carb</th>\n",
              "      <th>protein</th>\n",
              "    </tr>\n",
              "  </thead>\n",
              "  <tbody>\n",
              "    <tr>\n",
              "      <th>0</th>\n",
              "      <td>dish_1561662216</td>\n",
              "      <td>ingr_0000000508</td>\n",
              "      <td>soy sauce</td>\n",
              "      <td>3.398568</td>\n",
              "      <td>1.801241</td>\n",
              "      <td>0.020391</td>\n",
              "      <td>0.166530</td>\n",
              "      <td>0.275284</td>\n",
              "    </tr>\n",
              "    <tr>\n",
              "      <th>1</th>\n",
              "      <td>dish_1561662216</td>\n",
              "      <td>ingr_0000000122</td>\n",
              "      <td>garlic</td>\n",
              "      <td>2.124105</td>\n",
              "      <td>3.164917</td>\n",
              "      <td>0.010621</td>\n",
              "      <td>0.700955</td>\n",
              "      <td>0.135943</td>\n",
              "    </tr>\n",
              "    <tr>\n",
              "      <th>2</th>\n",
              "      <td>dish_1561662216</td>\n",
              "      <td>ingr_0000000026</td>\n",
              "      <td>white rice</td>\n",
              "      <td>8.496420</td>\n",
              "      <td>11.045346</td>\n",
              "      <td>0.025489</td>\n",
              "      <td>2.378998</td>\n",
              "      <td>0.229403</td>\n",
              "    </tr>\n",
              "    <tr>\n",
              "      <th>3</th>\n",
              "      <td>dish_1561662216</td>\n",
              "      <td>ingr_0000000524</td>\n",
              "      <td>parsley</td>\n",
              "      <td>0.213397</td>\n",
              "      <td>0.079170</td>\n",
              "      <td>0.001707</td>\n",
              "      <td>0.013657</td>\n",
              "      <td>0.006189</td>\n",
              "    </tr>\n",
              "    <tr>\n",
              "      <th>4</th>\n",
              "      <td>dish_1561662216</td>\n",
              "      <td>ingr_0000000094</td>\n",
              "      <td>onions</td>\n",
              "      <td>1.707173</td>\n",
              "      <td>0.682869</td>\n",
              "      <td>0.001707</td>\n",
              "      <td>0.153646</td>\n",
              "      <td>0.018779</td>\n",
              "    </tr>\n",
              "  </tbody>\n",
              "</table>\n",
              "</div>\n",
              "      <button class=\"colab-df-convert\" onclick=\"convertToInteractive('df-3ad93f1f-8d2d-4013-850c-fc3f6f0700fb')\"\n",
              "              title=\"Convert this dataframe to an interactive table.\"\n",
              "              style=\"display:none;\">\n",
              "        \n",
              "  <svg xmlns=\"http://www.w3.org/2000/svg\" height=\"24px\"viewBox=\"0 0 24 24\"\n",
              "       width=\"24px\">\n",
              "    <path d=\"M0 0h24v24H0V0z\" fill=\"none\"/>\n",
              "    <path d=\"M18.56 5.44l.94 2.06.94-2.06 2.06-.94-2.06-.94-.94-2.06-.94 2.06-2.06.94zm-11 1L8.5 8.5l.94-2.06 2.06-.94-2.06-.94L8.5 2.5l-.94 2.06-2.06.94zm10 10l.94 2.06.94-2.06 2.06-.94-2.06-.94-.94-2.06-.94 2.06-2.06.94z\"/><path d=\"M17.41 7.96l-1.37-1.37c-.4-.4-.92-.59-1.43-.59-.52 0-1.04.2-1.43.59L10.3 9.45l-7.72 7.72c-.78.78-.78 2.05 0 2.83L4 21.41c.39.39.9.59 1.41.59.51 0 1.02-.2 1.41-.59l7.78-7.78 2.81-2.81c.8-.78.8-2.07 0-2.86zM5.41 20L4 18.59l7.72-7.72 1.47 1.35L5.41 20z\"/>\n",
              "  </svg>\n",
              "      </button>\n",
              "      \n",
              "  <style>\n",
              "    .colab-df-container {\n",
              "      display:flex;\n",
              "      flex-wrap:wrap;\n",
              "      gap: 12px;\n",
              "    }\n",
              "\n",
              "    .colab-df-convert {\n",
              "      background-color: #E8F0FE;\n",
              "      border: none;\n",
              "      border-radius: 50%;\n",
              "      cursor: pointer;\n",
              "      display: none;\n",
              "      fill: #1967D2;\n",
              "      height: 32px;\n",
              "      padding: 0 0 0 0;\n",
              "      width: 32px;\n",
              "    }\n",
              "\n",
              "    .colab-df-convert:hover {\n",
              "      background-color: #E2EBFA;\n",
              "      box-shadow: 0px 1px 2px rgba(60, 64, 67, 0.3), 0px 1px 3px 1px rgba(60, 64, 67, 0.15);\n",
              "      fill: #174EA6;\n",
              "    }\n",
              "\n",
              "    [theme=dark] .colab-df-convert {\n",
              "      background-color: #3B4455;\n",
              "      fill: #D2E3FC;\n",
              "    }\n",
              "\n",
              "    [theme=dark] .colab-df-convert:hover {\n",
              "      background-color: #434B5C;\n",
              "      box-shadow: 0px 1px 3px 1px rgba(0, 0, 0, 0.15);\n",
              "      filter: drop-shadow(0px 1px 2px rgba(0, 0, 0, 0.3));\n",
              "      fill: #FFFFFF;\n",
              "    }\n",
              "  </style>\n",
              "\n",
              "      <script>\n",
              "        const buttonEl =\n",
              "          document.querySelector('#df-3ad93f1f-8d2d-4013-850c-fc3f6f0700fb button.colab-df-convert');\n",
              "        buttonEl.style.display =\n",
              "          google.colab.kernel.accessAllowed ? 'block' : 'none';\n",
              "\n",
              "        async function convertToInteractive(key) {\n",
              "          const element = document.querySelector('#df-3ad93f1f-8d2d-4013-850c-fc3f6f0700fb');\n",
              "          const dataTable =\n",
              "            await google.colab.kernel.invokeFunction('convertToInteractive',\n",
              "                                                     [key], {});\n",
              "          if (!dataTable) return;\n",
              "\n",
              "          const docLinkHtml = 'Like what you see? Visit the ' +\n",
              "            '<a target=\"_blank\" href=https://colab.research.google.com/notebooks/data_table.ipynb>data table notebook</a>'\n",
              "            + ' to learn more about interactive tables.';\n",
              "          element.innerHTML = '';\n",
              "          dataTable['output_type'] = 'display_data';\n",
              "          await google.colab.output.renderOutput(dataTable, element);\n",
              "          const docLink = document.createElement('div');\n",
              "          docLink.innerHTML = docLinkHtml;\n",
              "          element.appendChild(docLink);\n",
              "        }\n",
              "      </script>\n",
              "    </div>\n",
              "  </div>\n",
              "  "
            ]
          },
          "metadata": {},
          "execution_count": 28
        }
      ]
    },
    {
      "cell_type": "markdown",
      "source": [
        "## Analysis and Visualizations"
      ],
      "metadata": {
        "id": "X59axsd5oFIE"
      }
    },
    {
      "cell_type": "code",
      "source": [],
      "metadata": {
        "id": "UCSixcDTn29c"
      },
      "execution_count": 28,
      "outputs": []
    },
    {
      "cell_type": "code",
      "source": [],
      "metadata": {
        "id": "PUyvgYStoIeP"
      },
      "execution_count": 28,
      "outputs": []
    },
    {
      "cell_type": "code",
      "source": [],
      "metadata": {
        "id": "4oik-kyxoerm"
      },
      "execution_count": 28,
      "outputs": []
    },
    {
      "cell_type": "markdown",
      "source": [
        "## Sample 50 Images for Prototype"
      ],
      "metadata": {
        "id": "ix2Ix1RTof14"
      }
    },
    {
      "cell_type": "markdown",
      "source": [
        "### Train/Test Split"
      ],
      "metadata": {
        "id": "kd0Tcf9H0BLF"
      }
    },
    {
      "cell_type": "code",
      "source": [
        "SAMPLE_SIZE = 50\n",
        "sample50_data = dish_info.sample(n=50)\n",
        "print(sample50_data.shape)"
      ],
      "metadata": {
        "colab": {
          "base_uri": "https://localhost:8080/"
        },
        "id": "rAwnGNU9z0sg",
        "outputId": "ad32deb1-0756-45bd-e309-83d6af403aa6"
      },
      "execution_count": 29,
      "outputs": [
        {
          "output_type": "stream",
          "name": "stdout",
          "text": [
            "(50, 7)\n"
          ]
        }
      ]
    },
    {
      "cell_type": "code",
      "source": [
        "sample50_data.head()"
      ],
      "metadata": {
        "colab": {
          "base_uri": "https://localhost:8080/",
          "height": 270
        },
        "id": "qNP3hyWpvnQX",
        "outputId": "9c28b27c-5cc6-447d-ab8a-4b347f833286"
      },
      "execution_count": 30,
      "outputs": [
        {
          "output_type": "execute_result",
          "data": {
            "text/plain": [
              "              dish_id  total_calories  total_mass  total_fat  total_carb  \\\n",
              "3253  dish_1568314907      481.169434       281.0  29.956467   15.702341   \n",
              "3255  dish_1561578226      119.220253       289.0   6.628325   13.898274   \n",
              "2516  dish_1561661479      242.175690       166.0  10.854464   13.715836   \n",
              "1580  dish_1562963246      324.397980       122.0  11.467999   40.870003   \n",
              "2311  dish_1566838317      114.199997       284.0   0.423000   29.413998   \n",
              "\n",
              "      total_protein                                         image_path  \n",
              "3253      38.063328  /content/drive/MyDrive/01_LJMU_UPGRAD/experime...  \n",
              "3255       4.281533  /content/drive/MyDrive/01_LJMU_UPGRAD/experime...  \n",
              "2516      21.488853  /content/drive/MyDrive/01_LJMU_UPGRAD/experime...  \n",
              "1580      13.664001  /content/drive/MyDrive/01_LJMU_UPGRAD/experime...  \n",
              "2311       1.559000  /content/drive/MyDrive/01_LJMU_UPGRAD/experime...  "
            ],
            "text/html": [
              "\n",
              "  <div id=\"df-ce4a83e9-5739-4ff3-9c65-6f75eaf88b4e\">\n",
              "    <div class=\"colab-df-container\">\n",
              "      <div>\n",
              "<style scoped>\n",
              "    .dataframe tbody tr th:only-of-type {\n",
              "        vertical-align: middle;\n",
              "    }\n",
              "\n",
              "    .dataframe tbody tr th {\n",
              "        vertical-align: top;\n",
              "    }\n",
              "\n",
              "    .dataframe thead th {\n",
              "        text-align: right;\n",
              "    }\n",
              "</style>\n",
              "<table border=\"1\" class=\"dataframe\">\n",
              "  <thead>\n",
              "    <tr style=\"text-align: right;\">\n",
              "      <th></th>\n",
              "      <th>dish_id</th>\n",
              "      <th>total_calories</th>\n",
              "      <th>total_mass</th>\n",
              "      <th>total_fat</th>\n",
              "      <th>total_carb</th>\n",
              "      <th>total_protein</th>\n",
              "      <th>image_path</th>\n",
              "    </tr>\n",
              "  </thead>\n",
              "  <tbody>\n",
              "    <tr>\n",
              "      <th>3253</th>\n",
              "      <td>dish_1568314907</td>\n",
              "      <td>481.169434</td>\n",
              "      <td>281.0</td>\n",
              "      <td>29.956467</td>\n",
              "      <td>15.702341</td>\n",
              "      <td>38.063328</td>\n",
              "      <td>/content/drive/MyDrive/01_LJMU_UPGRAD/experime...</td>\n",
              "    </tr>\n",
              "    <tr>\n",
              "      <th>3255</th>\n",
              "      <td>dish_1561578226</td>\n",
              "      <td>119.220253</td>\n",
              "      <td>289.0</td>\n",
              "      <td>6.628325</td>\n",
              "      <td>13.898274</td>\n",
              "      <td>4.281533</td>\n",
              "      <td>/content/drive/MyDrive/01_LJMU_UPGRAD/experime...</td>\n",
              "    </tr>\n",
              "    <tr>\n",
              "      <th>2516</th>\n",
              "      <td>dish_1561661479</td>\n",
              "      <td>242.175690</td>\n",
              "      <td>166.0</td>\n",
              "      <td>10.854464</td>\n",
              "      <td>13.715836</td>\n",
              "      <td>21.488853</td>\n",
              "      <td>/content/drive/MyDrive/01_LJMU_UPGRAD/experime...</td>\n",
              "    </tr>\n",
              "    <tr>\n",
              "      <th>1580</th>\n",
              "      <td>dish_1562963246</td>\n",
              "      <td>324.397980</td>\n",
              "      <td>122.0</td>\n",
              "      <td>11.467999</td>\n",
              "      <td>40.870003</td>\n",
              "      <td>13.664001</td>\n",
              "      <td>/content/drive/MyDrive/01_LJMU_UPGRAD/experime...</td>\n",
              "    </tr>\n",
              "    <tr>\n",
              "      <th>2311</th>\n",
              "      <td>dish_1566838317</td>\n",
              "      <td>114.199997</td>\n",
              "      <td>284.0</td>\n",
              "      <td>0.423000</td>\n",
              "      <td>29.413998</td>\n",
              "      <td>1.559000</td>\n",
              "      <td>/content/drive/MyDrive/01_LJMU_UPGRAD/experime...</td>\n",
              "    </tr>\n",
              "  </tbody>\n",
              "</table>\n",
              "</div>\n",
              "      <button class=\"colab-df-convert\" onclick=\"convertToInteractive('df-ce4a83e9-5739-4ff3-9c65-6f75eaf88b4e')\"\n",
              "              title=\"Convert this dataframe to an interactive table.\"\n",
              "              style=\"display:none;\">\n",
              "        \n",
              "  <svg xmlns=\"http://www.w3.org/2000/svg\" height=\"24px\"viewBox=\"0 0 24 24\"\n",
              "       width=\"24px\">\n",
              "    <path d=\"M0 0h24v24H0V0z\" fill=\"none\"/>\n",
              "    <path d=\"M18.56 5.44l.94 2.06.94-2.06 2.06-.94-2.06-.94-.94-2.06-.94 2.06-2.06.94zm-11 1L8.5 8.5l.94-2.06 2.06-.94-2.06-.94L8.5 2.5l-.94 2.06-2.06.94zm10 10l.94 2.06.94-2.06 2.06-.94-2.06-.94-.94-2.06-.94 2.06-2.06.94z\"/><path d=\"M17.41 7.96l-1.37-1.37c-.4-.4-.92-.59-1.43-.59-.52 0-1.04.2-1.43.59L10.3 9.45l-7.72 7.72c-.78.78-.78 2.05 0 2.83L4 21.41c.39.39.9.59 1.41.59.51 0 1.02-.2 1.41-.59l7.78-7.78 2.81-2.81c.8-.78.8-2.07 0-2.86zM5.41 20L4 18.59l7.72-7.72 1.47 1.35L5.41 20z\"/>\n",
              "  </svg>\n",
              "      </button>\n",
              "      \n",
              "  <style>\n",
              "    .colab-df-container {\n",
              "      display:flex;\n",
              "      flex-wrap:wrap;\n",
              "      gap: 12px;\n",
              "    }\n",
              "\n",
              "    .colab-df-convert {\n",
              "      background-color: #E8F0FE;\n",
              "      border: none;\n",
              "      border-radius: 50%;\n",
              "      cursor: pointer;\n",
              "      display: none;\n",
              "      fill: #1967D2;\n",
              "      height: 32px;\n",
              "      padding: 0 0 0 0;\n",
              "      width: 32px;\n",
              "    }\n",
              "\n",
              "    .colab-df-convert:hover {\n",
              "      background-color: #E2EBFA;\n",
              "      box-shadow: 0px 1px 2px rgba(60, 64, 67, 0.3), 0px 1px 3px 1px rgba(60, 64, 67, 0.15);\n",
              "      fill: #174EA6;\n",
              "    }\n",
              "\n",
              "    [theme=dark] .colab-df-convert {\n",
              "      background-color: #3B4455;\n",
              "      fill: #D2E3FC;\n",
              "    }\n",
              "\n",
              "    [theme=dark] .colab-df-convert:hover {\n",
              "      background-color: #434B5C;\n",
              "      box-shadow: 0px 1px 3px 1px rgba(0, 0, 0, 0.15);\n",
              "      filter: drop-shadow(0px 1px 2px rgba(0, 0, 0, 0.3));\n",
              "      fill: #FFFFFF;\n",
              "    }\n",
              "  </style>\n",
              "\n",
              "      <script>\n",
              "        const buttonEl =\n",
              "          document.querySelector('#df-ce4a83e9-5739-4ff3-9c65-6f75eaf88b4e button.colab-df-convert');\n",
              "        buttonEl.style.display =\n",
              "          google.colab.kernel.accessAllowed ? 'block' : 'none';\n",
              "\n",
              "        async function convertToInteractive(key) {\n",
              "          const element = document.querySelector('#df-ce4a83e9-5739-4ff3-9c65-6f75eaf88b4e');\n",
              "          const dataTable =\n",
              "            await google.colab.kernel.invokeFunction('convertToInteractive',\n",
              "                                                     [key], {});\n",
              "          if (!dataTable) return;\n",
              "\n",
              "          const docLinkHtml = 'Like what you see? Visit the ' +\n",
              "            '<a target=\"_blank\" href=https://colab.research.google.com/notebooks/data_table.ipynb>data table notebook</a>'\n",
              "            + ' to learn more about interactive tables.';\n",
              "          element.innerHTML = '';\n",
              "          dataTable['output_type'] = 'display_data';\n",
              "          await google.colab.output.renderOutput(dataTable, element);\n",
              "          const docLink = document.createElement('div');\n",
              "          docLink.innerHTML = docLinkHtml;\n",
              "          element.appendChild(docLink);\n",
              "        }\n",
              "      </script>\n",
              "    </div>\n",
              "  </div>\n",
              "  "
            ]
          },
          "metadata": {},
          "execution_count": 30
        }
      ]
    },
    {
      "cell_type": "code",
      "source": [
        "cropped_image_path = '/content/drive/MyDrive/01_LJMU_UPGRAD/experiments/final-thesis-lab/workspace/dataset/processed_overhead/'\n",
        "sample50_data[\"cropped_image_path\"] = sample50_data.dish_id.apply(lambda x :  cropped_image_path + x + '/cropped.png')"
      ],
      "metadata": {
        "id": "aFrzdtOUrm_-"
      },
      "execution_count": 31,
      "outputs": []
    },
    {
      "cell_type": "code",
      "source": [
        "sample50_data.head()"
      ],
      "metadata": {
        "colab": {
          "base_uri": "https://localhost:8080/",
          "height": 270
        },
        "id": "qFICzKFKvt-H",
        "outputId": "3cb32baf-a7d9-41d6-df30-0820c85635d3"
      },
      "execution_count": 32,
      "outputs": [
        {
          "output_type": "execute_result",
          "data": {
            "text/plain": [
              "              dish_id  total_calories  total_mass  total_fat  total_carb  \\\n",
              "3253  dish_1568314907      481.169434       281.0  29.956467   15.702341   \n",
              "3255  dish_1561578226      119.220253       289.0   6.628325   13.898274   \n",
              "2516  dish_1561661479      242.175690       166.0  10.854464   13.715836   \n",
              "1580  dish_1562963246      324.397980       122.0  11.467999   40.870003   \n",
              "2311  dish_1566838317      114.199997       284.0   0.423000   29.413998   \n",
              "\n",
              "      total_protein                                         image_path  \\\n",
              "3253      38.063328  /content/drive/MyDrive/01_LJMU_UPGRAD/experime...   \n",
              "3255       4.281533  /content/drive/MyDrive/01_LJMU_UPGRAD/experime...   \n",
              "2516      21.488853  /content/drive/MyDrive/01_LJMU_UPGRAD/experime...   \n",
              "1580      13.664001  /content/drive/MyDrive/01_LJMU_UPGRAD/experime...   \n",
              "2311       1.559000  /content/drive/MyDrive/01_LJMU_UPGRAD/experime...   \n",
              "\n",
              "                                     cropped_image_path  \n",
              "3253  /content/drive/MyDrive/01_LJMU_UPGRAD/experime...  \n",
              "3255  /content/drive/MyDrive/01_LJMU_UPGRAD/experime...  \n",
              "2516  /content/drive/MyDrive/01_LJMU_UPGRAD/experime...  \n",
              "1580  /content/drive/MyDrive/01_LJMU_UPGRAD/experime...  \n",
              "2311  /content/drive/MyDrive/01_LJMU_UPGRAD/experime...  "
            ],
            "text/html": [
              "\n",
              "  <div id=\"df-8feabe2b-5a7f-4253-b1c3-fd3d403c5c39\">\n",
              "    <div class=\"colab-df-container\">\n",
              "      <div>\n",
              "<style scoped>\n",
              "    .dataframe tbody tr th:only-of-type {\n",
              "        vertical-align: middle;\n",
              "    }\n",
              "\n",
              "    .dataframe tbody tr th {\n",
              "        vertical-align: top;\n",
              "    }\n",
              "\n",
              "    .dataframe thead th {\n",
              "        text-align: right;\n",
              "    }\n",
              "</style>\n",
              "<table border=\"1\" class=\"dataframe\">\n",
              "  <thead>\n",
              "    <tr style=\"text-align: right;\">\n",
              "      <th></th>\n",
              "      <th>dish_id</th>\n",
              "      <th>total_calories</th>\n",
              "      <th>total_mass</th>\n",
              "      <th>total_fat</th>\n",
              "      <th>total_carb</th>\n",
              "      <th>total_protein</th>\n",
              "      <th>image_path</th>\n",
              "      <th>cropped_image_path</th>\n",
              "    </tr>\n",
              "  </thead>\n",
              "  <tbody>\n",
              "    <tr>\n",
              "      <th>3253</th>\n",
              "      <td>dish_1568314907</td>\n",
              "      <td>481.169434</td>\n",
              "      <td>281.0</td>\n",
              "      <td>29.956467</td>\n",
              "      <td>15.702341</td>\n",
              "      <td>38.063328</td>\n",
              "      <td>/content/drive/MyDrive/01_LJMU_UPGRAD/experime...</td>\n",
              "      <td>/content/drive/MyDrive/01_LJMU_UPGRAD/experime...</td>\n",
              "    </tr>\n",
              "    <tr>\n",
              "      <th>3255</th>\n",
              "      <td>dish_1561578226</td>\n",
              "      <td>119.220253</td>\n",
              "      <td>289.0</td>\n",
              "      <td>6.628325</td>\n",
              "      <td>13.898274</td>\n",
              "      <td>4.281533</td>\n",
              "      <td>/content/drive/MyDrive/01_LJMU_UPGRAD/experime...</td>\n",
              "      <td>/content/drive/MyDrive/01_LJMU_UPGRAD/experime...</td>\n",
              "    </tr>\n",
              "    <tr>\n",
              "      <th>2516</th>\n",
              "      <td>dish_1561661479</td>\n",
              "      <td>242.175690</td>\n",
              "      <td>166.0</td>\n",
              "      <td>10.854464</td>\n",
              "      <td>13.715836</td>\n",
              "      <td>21.488853</td>\n",
              "      <td>/content/drive/MyDrive/01_LJMU_UPGRAD/experime...</td>\n",
              "      <td>/content/drive/MyDrive/01_LJMU_UPGRAD/experime...</td>\n",
              "    </tr>\n",
              "    <tr>\n",
              "      <th>1580</th>\n",
              "      <td>dish_1562963246</td>\n",
              "      <td>324.397980</td>\n",
              "      <td>122.0</td>\n",
              "      <td>11.467999</td>\n",
              "      <td>40.870003</td>\n",
              "      <td>13.664001</td>\n",
              "      <td>/content/drive/MyDrive/01_LJMU_UPGRAD/experime...</td>\n",
              "      <td>/content/drive/MyDrive/01_LJMU_UPGRAD/experime...</td>\n",
              "    </tr>\n",
              "    <tr>\n",
              "      <th>2311</th>\n",
              "      <td>dish_1566838317</td>\n",
              "      <td>114.199997</td>\n",
              "      <td>284.0</td>\n",
              "      <td>0.423000</td>\n",
              "      <td>29.413998</td>\n",
              "      <td>1.559000</td>\n",
              "      <td>/content/drive/MyDrive/01_LJMU_UPGRAD/experime...</td>\n",
              "      <td>/content/drive/MyDrive/01_LJMU_UPGRAD/experime...</td>\n",
              "    </tr>\n",
              "  </tbody>\n",
              "</table>\n",
              "</div>\n",
              "      <button class=\"colab-df-convert\" onclick=\"convertToInteractive('df-8feabe2b-5a7f-4253-b1c3-fd3d403c5c39')\"\n",
              "              title=\"Convert this dataframe to an interactive table.\"\n",
              "              style=\"display:none;\">\n",
              "        \n",
              "  <svg xmlns=\"http://www.w3.org/2000/svg\" height=\"24px\"viewBox=\"0 0 24 24\"\n",
              "       width=\"24px\">\n",
              "    <path d=\"M0 0h24v24H0V0z\" fill=\"none\"/>\n",
              "    <path d=\"M18.56 5.44l.94 2.06.94-2.06 2.06-.94-2.06-.94-.94-2.06-.94 2.06-2.06.94zm-11 1L8.5 8.5l.94-2.06 2.06-.94-2.06-.94L8.5 2.5l-.94 2.06-2.06.94zm10 10l.94 2.06.94-2.06 2.06-.94-2.06-.94-.94-2.06-.94 2.06-2.06.94z\"/><path d=\"M17.41 7.96l-1.37-1.37c-.4-.4-.92-.59-1.43-.59-.52 0-1.04.2-1.43.59L10.3 9.45l-7.72 7.72c-.78.78-.78 2.05 0 2.83L4 21.41c.39.39.9.59 1.41.59.51 0 1.02-.2 1.41-.59l7.78-7.78 2.81-2.81c.8-.78.8-2.07 0-2.86zM5.41 20L4 18.59l7.72-7.72 1.47 1.35L5.41 20z\"/>\n",
              "  </svg>\n",
              "      </button>\n",
              "      \n",
              "  <style>\n",
              "    .colab-df-container {\n",
              "      display:flex;\n",
              "      flex-wrap:wrap;\n",
              "      gap: 12px;\n",
              "    }\n",
              "\n",
              "    .colab-df-convert {\n",
              "      background-color: #E8F0FE;\n",
              "      border: none;\n",
              "      border-radius: 50%;\n",
              "      cursor: pointer;\n",
              "      display: none;\n",
              "      fill: #1967D2;\n",
              "      height: 32px;\n",
              "      padding: 0 0 0 0;\n",
              "      width: 32px;\n",
              "    }\n",
              "\n",
              "    .colab-df-convert:hover {\n",
              "      background-color: #E2EBFA;\n",
              "      box-shadow: 0px 1px 2px rgba(60, 64, 67, 0.3), 0px 1px 3px 1px rgba(60, 64, 67, 0.15);\n",
              "      fill: #174EA6;\n",
              "    }\n",
              "\n",
              "    [theme=dark] .colab-df-convert {\n",
              "      background-color: #3B4455;\n",
              "      fill: #D2E3FC;\n",
              "    }\n",
              "\n",
              "    [theme=dark] .colab-df-convert:hover {\n",
              "      background-color: #434B5C;\n",
              "      box-shadow: 0px 1px 3px 1px rgba(0, 0, 0, 0.15);\n",
              "      filter: drop-shadow(0px 1px 2px rgba(0, 0, 0, 0.3));\n",
              "      fill: #FFFFFF;\n",
              "    }\n",
              "  </style>\n",
              "\n",
              "      <script>\n",
              "        const buttonEl =\n",
              "          document.querySelector('#df-8feabe2b-5a7f-4253-b1c3-fd3d403c5c39 button.colab-df-convert');\n",
              "        buttonEl.style.display =\n",
              "          google.colab.kernel.accessAllowed ? 'block' : 'none';\n",
              "\n",
              "        async function convertToInteractive(key) {\n",
              "          const element = document.querySelector('#df-8feabe2b-5a7f-4253-b1c3-fd3d403c5c39');\n",
              "          const dataTable =\n",
              "            await google.colab.kernel.invokeFunction('convertToInteractive',\n",
              "                                                     [key], {});\n",
              "          if (!dataTable) return;\n",
              "\n",
              "          const docLinkHtml = 'Like what you see? Visit the ' +\n",
              "            '<a target=\"_blank\" href=https://colab.research.google.com/notebooks/data_table.ipynb>data table notebook</a>'\n",
              "            + ' to learn more about interactive tables.';\n",
              "          element.innerHTML = '';\n",
              "          dataTable['output_type'] = 'display_data';\n",
              "          await google.colab.output.renderOutput(dataTable, element);\n",
              "          const docLink = document.createElement('div');\n",
              "          docLink.innerHTML = docLinkHtml;\n",
              "          element.appendChild(docLink);\n",
              "        }\n",
              "      </script>\n",
              "    </div>\n",
              "  </div>\n",
              "  "
            ]
          },
          "metadata": {},
          "execution_count": 32
        }
      ]
    },
    {
      "cell_type": "code",
      "source": [
        "fractions = np.array([0.8, 0.1, 0.1])\n",
        "# shuffle\n",
        "df = sample50_data.sample(frac=1) \n",
        "# split into 3 parts\n",
        "train_50, val_50, test_50 = np.array_split(\n",
        "    df, (fractions[:-1].cumsum() * len(df)).astype(int))\n",
        "print(train_50.shape)\n",
        "print(val_50.shape)\n",
        "print(test_50.shape)\n",
        "sample50_data = pd.concat([train_50,val_50])\n",
        "sample50_data.shape"
      ],
      "metadata": {
        "colab": {
          "base_uri": "https://localhost:8080/"
        },
        "id": "s2O9sekkrTH3",
        "outputId": "04ec233b-bc86-4fe2-886c-41352d5310fd"
      },
      "execution_count": 33,
      "outputs": [
        {
          "output_type": "stream",
          "name": "stdout",
          "text": [
            "(40, 8)\n",
            "(5, 8)\n",
            "(5, 8)\n"
          ]
        },
        {
          "output_type": "execute_result",
          "data": {
            "text/plain": [
              "(45, 8)"
            ]
          },
          "metadata": {},
          "execution_count": 33
        }
      ]
    },
    {
      "cell_type": "markdown",
      "source": [
        "## Model -1 "
      ],
      "metadata": {
        "id": "5q0ESo_boIyq"
      }
    },
    {
      "cell_type": "code",
      "source": [
        "vit_config_1 = VITConfig(image_size=256,\n",
        "                           patch_size=16,\n",
        "                           projection_dim=64,\n",
        "                           num_heads=8,\n",
        "                           transformer_layers=4,\n",
        "                           mlp_head_units=[2048, 1024, 512, 64, 32],\n",
        "                           output_shape=1)\n",
        "vit_model_1 = ModelCreator.create_vit(vit_config_1)\n",
        "print(\"VIT Model Created, summary below\")\n",
        "print(vit_model_1.summary())"
      ],
      "metadata": {
        "colab": {
          "base_uri": "https://localhost:8080/"
        },
        "id": "8EqFoT5Bp9Fn",
        "outputId": "1e777473-4d1c-4961-f33f-99f799c7dac0"
      },
      "execution_count": 34,
      "outputs": [
        {
          "output_type": "stream",
          "name": "stdout",
          "text": [
            "VIT Model Created, summary below\n",
            "Model: \"model\"\n",
            "__________________________________________________________________________________________________\n",
            " Layer (type)                   Output Shape         Param #     Connected to                     \n",
            "==================================================================================================\n",
            " input_1 (InputLayer)           [(None, 256, 256, 3  0           []                               \n",
            "                                )]                                                                \n",
            "                                                                                                  \n",
            " patches (Patches)              (None, None, 768)    0           ['input_1[0][0]']                \n",
            "                                                                                                  \n",
            " patch_encoder (PatchEncoder)   (None, 256, 64)      65600       ['patches[0][0]']                \n",
            "                                                                                                  \n",
            " layer_normalization (LayerNorm  (None, 256, 64)     128         ['patch_encoder[0][0]']          \n",
            " alization)                                                                                       \n",
            "                                                                                                  \n",
            " multi_head_attention (MultiHea  (None, 256, 64)     132672      ['layer_normalization[0][0]',    \n",
            " dAttention)                                                      'layer_normalization[0][0]']    \n",
            "                                                                                                  \n",
            " add (Add)                      (None, 256, 64)      0           ['multi_head_attention[0][0]',   \n",
            "                                                                  'patch_encoder[0][0]']          \n",
            "                                                                                                  \n",
            " layer_normalization_1 (LayerNo  (None, 256, 64)     128         ['add[0][0]']                    \n",
            " rmalization)                                                                                     \n",
            "                                                                                                  \n",
            " dense_1 (Dense)                (None, 256, 128)     8320        ['layer_normalization_1[0][0]']  \n",
            "                                                                                                  \n",
            " dropout (Dropout)              (None, 256, 128)     0           ['dense_1[0][0]']                \n",
            "                                                                                                  \n",
            " dense_2 (Dense)                (None, 256, 64)      8256        ['dropout[0][0]']                \n",
            "                                                                                                  \n",
            " dropout_1 (Dropout)            (None, 256, 64)      0           ['dense_2[0][0]']                \n",
            "                                                                                                  \n",
            " add_1 (Add)                    (None, 256, 64)      0           ['dropout_1[0][0]',              \n",
            "                                                                  'add[0][0]']                    \n",
            "                                                                                                  \n",
            " layer_normalization_2 (LayerNo  (None, 256, 64)     128         ['add_1[0][0]']                  \n",
            " rmalization)                                                                                     \n",
            "                                                                                                  \n",
            " multi_head_attention_1 (MultiH  (None, 256, 64)     132672      ['layer_normalization_2[0][0]',  \n",
            " eadAttention)                                                    'layer_normalization_2[0][0]']  \n",
            "                                                                                                  \n",
            " add_2 (Add)                    (None, 256, 64)      0           ['multi_head_attention_1[0][0]', \n",
            "                                                                  'add_1[0][0]']                  \n",
            "                                                                                                  \n",
            " layer_normalization_3 (LayerNo  (None, 256, 64)     128         ['add_2[0][0]']                  \n",
            " rmalization)                                                                                     \n",
            "                                                                                                  \n",
            " dense_3 (Dense)                (None, 256, 128)     8320        ['layer_normalization_3[0][0]']  \n",
            "                                                                                                  \n",
            " dropout_2 (Dropout)            (None, 256, 128)     0           ['dense_3[0][0]']                \n",
            "                                                                                                  \n",
            " dense_4 (Dense)                (None, 256, 64)      8256        ['dropout_2[0][0]']              \n",
            "                                                                                                  \n",
            " dropout_3 (Dropout)            (None, 256, 64)      0           ['dense_4[0][0]']                \n",
            "                                                                                                  \n",
            " add_3 (Add)                    (None, 256, 64)      0           ['dropout_3[0][0]',              \n",
            "                                                                  'add_2[0][0]']                  \n",
            "                                                                                                  \n",
            " layer_normalization_4 (LayerNo  (None, 256, 64)     128         ['add_3[0][0]']                  \n",
            " rmalization)                                                                                     \n",
            "                                                                                                  \n",
            " multi_head_attention_2 (MultiH  (None, 256, 64)     132672      ['layer_normalization_4[0][0]',  \n",
            " eadAttention)                                                    'layer_normalization_4[0][0]']  \n",
            "                                                                                                  \n",
            " add_4 (Add)                    (None, 256, 64)      0           ['multi_head_attention_2[0][0]', \n",
            "                                                                  'add_3[0][0]']                  \n",
            "                                                                                                  \n",
            " layer_normalization_5 (LayerNo  (None, 256, 64)     128         ['add_4[0][0]']                  \n",
            " rmalization)                                                                                     \n",
            "                                                                                                  \n",
            " dense_5 (Dense)                (None, 256, 128)     8320        ['layer_normalization_5[0][0]']  \n",
            "                                                                                                  \n",
            " dropout_4 (Dropout)            (None, 256, 128)     0           ['dense_5[0][0]']                \n",
            "                                                                                                  \n",
            " dense_6 (Dense)                (None, 256, 64)      8256        ['dropout_4[0][0]']              \n",
            "                                                                                                  \n",
            " dropout_5 (Dropout)            (None, 256, 64)      0           ['dense_6[0][0]']                \n",
            "                                                                                                  \n",
            " add_5 (Add)                    (None, 256, 64)      0           ['dropout_5[0][0]',              \n",
            "                                                                  'add_4[0][0]']                  \n",
            "                                                                                                  \n",
            " layer_normalization_6 (LayerNo  (None, 256, 64)     128         ['add_5[0][0]']                  \n",
            " rmalization)                                                                                     \n",
            "                                                                                                  \n",
            " multi_head_attention_3 (MultiH  (None, 256, 64)     132672      ['layer_normalization_6[0][0]',  \n",
            " eadAttention)                                                    'layer_normalization_6[0][0]']  \n",
            "                                                                                                  \n",
            " add_6 (Add)                    (None, 256, 64)      0           ['multi_head_attention_3[0][0]', \n",
            "                                                                  'add_5[0][0]']                  \n",
            "                                                                                                  \n",
            " layer_normalization_7 (LayerNo  (None, 256, 64)     128         ['add_6[0][0]']                  \n",
            " rmalization)                                                                                     \n",
            "                                                                                                  \n",
            " dense_7 (Dense)                (None, 256, 128)     8320        ['layer_normalization_7[0][0]']  \n",
            "                                                                                                  \n",
            " dropout_6 (Dropout)            (None, 256, 128)     0           ['dense_7[0][0]']                \n",
            "                                                                                                  \n",
            " dense_8 (Dense)                (None, 256, 64)      8256        ['dropout_6[0][0]']              \n",
            "                                                                                                  \n",
            " dropout_7 (Dropout)            (None, 256, 64)      0           ['dense_8[0][0]']                \n",
            "                                                                                                  \n",
            " add_7 (Add)                    (None, 256, 64)      0           ['dropout_7[0][0]',              \n",
            "                                                                  'add_6[0][0]']                  \n",
            "                                                                                                  \n",
            " layer_normalization_8 (LayerNo  (None, 256, 64)     128         ['add_7[0][0]']                  \n",
            " rmalization)                                                                                     \n",
            "                                                                                                  \n",
            " flatten (Flatten)              (None, 16384)        0           ['layer_normalization_8[0][0]']  \n",
            "                                                                                                  \n",
            " dropout_8 (Dropout)            (None, 16384)        0           ['flatten[0][0]']                \n",
            "                                                                                                  \n",
            " dense_9 (Dense)                (None, 2048)         33556480    ['dropout_8[0][0]']              \n",
            "                                                                                                  \n",
            " dropout_9 (Dropout)            (None, 2048)         0           ['dense_9[0][0]']                \n",
            "                                                                                                  \n",
            " dense_10 (Dense)               (None, 1024)         2098176     ['dropout_9[0][0]']              \n",
            "                                                                                                  \n",
            " dropout_10 (Dropout)           (None, 1024)         0           ['dense_10[0][0]']               \n",
            "                                                                                                  \n",
            " dense_11 (Dense)               (None, 512)          524800      ['dropout_10[0][0]']             \n",
            "                                                                                                  \n",
            " dropout_11 (Dropout)           (None, 512)          0           ['dense_11[0][0]']               \n",
            "                                                                                                  \n",
            " dense_12 (Dense)               (None, 64)           32832       ['dropout_11[0][0]']             \n",
            "                                                                                                  \n",
            " dropout_12 (Dropout)           (None, 64)           0           ['dense_12[0][0]']               \n",
            "                                                                                                  \n",
            " dense_13 (Dense)               (None, 32)           2080        ['dropout_12[0][0]']             \n",
            "                                                                                                  \n",
            " dropout_13 (Dropout)           (None, 32)           0           ['dense_13[0][0]']               \n",
            "                                                                                                  \n",
            " dense_14 (Dense)               (None, 1)            33          ['dropout_13[0][0]']             \n",
            "                                                                                                  \n",
            "==================================================================================================\n",
            "Total params: 36,878,145\n",
            "Trainable params: 36,878,145\n",
            "Non-trainable params: 0\n",
            "__________________________________________________________________________________________________\n",
            "None\n"
          ]
        }
      ]
    },
    {
      "cell_type": "markdown",
      "source": [
        "## Data Generator"
      ],
      "metadata": {
        "id": "6Pa2Imksq8dG"
      }
    },
    {
      "cell_type": "markdown",
      "source": [
        "## Normalize total_calories\n",
        "* Divide it by total_mass of the dish "
      ],
      "metadata": {
        "id": "X947354mwJNR"
      }
    },
    {
      "cell_type": "code",
      "source": [
        "sample50_data[\"total_calories_norm\"] = round(sample50_data[\"total_calories\"]/sample50_data[\"total_mass\"],2)"
      ],
      "metadata": {
        "id": "PfzaNmy-wEng"
      },
      "execution_count": 35,
      "outputs": []
    },
    {
      "cell_type": "code",
      "source": [
        "sample50_data.info()"
      ],
      "metadata": {
        "colab": {
          "base_uri": "https://localhost:8080/"
        },
        "id": "9I6A4uxtxecr",
        "outputId": "419e3cd9-1bbd-4d2c-e4ce-db75ac92a310"
      },
      "execution_count": 36,
      "outputs": [
        {
          "output_type": "stream",
          "name": "stdout",
          "text": [
            "<class 'pandas.core.frame.DataFrame'>\n",
            "Int64Index: 45 entries, 2105 to 3253\n",
            "Data columns (total 9 columns):\n",
            " #   Column               Non-Null Count  Dtype  \n",
            "---  ------               --------------  -----  \n",
            " 0   dish_id              45 non-null     object \n",
            " 1   total_calories       45 non-null     float32\n",
            " 2   total_mass           45 non-null     float32\n",
            " 3   total_fat            45 non-null     float32\n",
            " 4   total_carb           45 non-null     float32\n",
            " 5   total_protein        45 non-null     float32\n",
            " 6   image_path           45 non-null     object \n",
            " 7   cropped_image_path   45 non-null     object \n",
            " 8   total_calories_norm  45 non-null     float32\n",
            "dtypes: float32(6), object(3)\n",
            "memory usage: 2.5+ KB\n"
          ]
        }
      ]
    },
    {
      "cell_type": "code",
      "source": [
        "generator = tf.keras.preprocessing.image.ImageDataGenerator(validation_split=0.2,\n",
        "                                                            horizontal_flip=True,\n",
        "                                                            vertical_flip=True,\n",
        "                                                            zoom_range=0.25,\n",
        "                                                            rotation_range=30,\n",
        "                                                            brightness_range=[0.6,1.0])"
      ],
      "metadata": {
        "id": "jys71vBpqNMK"
      },
      "execution_count": 37,
      "outputs": []
    },
    {
      "cell_type": "code",
      "source": [
        "sample50_train_gen  = generator.flow_from_dataframe(dataframe=sample50_data,\n",
        "                              target_size=(256,256),\n",
        "                              x_col=\"cropped_image_path\",\n",
        "                              class_mode =\"raw\",\n",
        "                              directory=None,\n",
        "                              y_col = \"total_calories_norm\",\n",
        "                              batch_size=1,\n",
        "                              shuffle=True,\n",
        "                              subset=\"training\",\n",
        "                              seed=123,\n",
        "                              rescale=1.0/255)\n",
        "sample50_test_gen  = generator.flow_from_dataframe(dataframe=sample50_data,\n",
        "                              target_size=(256,256),\n",
        "                              x_col=\"cropped_image_path\",\n",
        "                              class_mode =\"raw\",\n",
        "                              directory=None,\n",
        "                              batch_size=1,\n",
        "                              seed=123,\n",
        "                              y_col = \"total_calories_norm\",\n",
        "                              subset=\"validation\",\n",
        "                              rescale=1.0/255)"
      ],
      "metadata": {
        "colab": {
          "base_uri": "https://localhost:8080/"
        },
        "id": "y2NO7GQ6rCn1",
        "outputId": "7a4f7bc7-2a16-4f1d-f155-3d579ae0402f"
      },
      "execution_count": 38,
      "outputs": [
        {
          "output_type": "stream",
          "name": "stdout",
          "text": [
            "Found 36 validated image filenames.\n",
            "Found 9 validated image filenames.\n"
          ]
        }
      ]
    },
    {
      "cell_type": "code",
      "source": [],
      "metadata": {
        "id": "F4jNrg55xlrJ"
      },
      "execution_count": 38,
      "outputs": []
    },
    {
      "cell_type": "markdown",
      "source": [
        "## Sample Batch Train Images"
      ],
      "metadata": {
        "id": "kbEwyjKXELpK"
      }
    },
    {
      "cell_type": "code",
      "source": [
        "plt.figure(figsize=(6, 4))\n",
        "for i in range(2):\n",
        "  iterator = next(sample50_train_gen)\n",
        "  image = iterator[0]\n",
        "  tc = iterator[1]\n",
        "  image = np.squeeze(image)\n",
        "  plt.subplot(1,2,i+1)\n",
        "  plt.imshow(image.astype('uint8'))\n",
        "  plt.title(\"Total Calories = \" + str(tc))\n",
        "  plt.axis(\"off\")"
      ],
      "metadata": {
        "colab": {
          "base_uri": "https://localhost:8080/",
          "height": 199
        },
        "id": "Prd0XPOWEPsq",
        "outputId": "5a3cfb45-2bd7-49f1-e7af-2341b210375e"
      },
      "execution_count": 39,
      "outputs": [
        {
          "output_type": "display_data",
          "data": {
            "text/plain": [
              "<Figure size 432x288 with 2 Axes>"
            ],
            "image/png": "[encoded data removed]"
          },
          "metadata": {
            "needs_background": "light"
          }
        }
      ]
    },
    {
      "cell_type": "markdown",
      "source": [
        "## Sample Batch Validation Images"
      ],
      "metadata": {
        "id": "g44YGCGs5SFz"
      }
    },
    {
      "cell_type": "code",
      "source": [
        "plt.figure(figsize=(6, 4))\n",
        "for i in range(2):\n",
        "  iterator = next(sample50_test_gen)\n",
        "  image = iterator[0]\n",
        "  tc = iterator[1]\n",
        "  image = np.squeeze(image)\n",
        "  plt.subplot(1,2,i+1)\n",
        "  plt.imshow(image.astype('uint8'))\n",
        "  label = round(tc[0] ,2)\n",
        "  plt.title(\"Total Calories = \" + str(label))\n",
        "  plt.axis(\"off\")"
      ],
      "metadata": {
        "colab": {
          "base_uri": "https://localhost:8080/",
          "height": 199
        },
        "outputId": "42ee8bbd-f01e-4cfe-f336-0882fda279bd",
        "id": "1-OKaL085SFz"
      },
      "execution_count": 40,
      "outputs": [
        {
          "output_type": "display_data",
          "data": {
            "text/plain": [
              "<Figure size 432x288 with 2 Axes>"
            ],
            "image/png": "[encoded data removed]"
          },
          "metadata": {
            "needs_background": "light"
          }
        }
      ]
    },
    {
      "cell_type": "markdown",
      "source": [
        "## Sample Patches (16 * 16)"
      ],
      "metadata": {
        "id": "x7vde9WMEyG4"
      }
    },
    {
      "cell_type": "code",
      "source": [
        "patch_size = 16  # Size of the patches to be extracted from the input images\n",
        "image = next(sample50_train_gen)[0]\n",
        "image = np.squeeze(image)\n",
        "plt.figure(figsize=(4, 4))\n",
        "plt.imshow(image.astype('uint8'))\n",
        "plt.axis(\"off\")\n",
        "\n",
        "patches = Patches(vit_config_1)(tf.convert_to_tensor([image]))\n",
        "print(f\"Image size: {vit_config_1.image_size} X {vit_config_1.image_size}\")\n",
        "print(f\"Patch size: {vit_config_1.patch_size} X {vit_config_1.patch_size}\")\n",
        "print(f\"{patches.shape[1]} patches per image \\n{patches.shape[-1]} elements per patch\")\n",
        "\n",
        "\n",
        "n = int(np.sqrt(patches.shape[1]))\n",
        "plt.figure(figsize=(4, 4))\n",
        "for i, patch in enumerate(patches[0]):\n",
        "    ax = plt.subplot(n, n, i + 1)\n",
        "    patch_img = tf.reshape(patch, (patch_size, patch_size, 3))\n",
        "    plt.imshow(patch_img.numpy().astype(\"uint8\"))\n",
        "    plt.axis(\"off\")"
      ],
      "metadata": {
        "colab": {
          "base_uri": "https://localhost:8080/",
          "height": 550
        },
        "id": "zP3zYp_RE3Bf",
        "outputId": "972475a2-a53f-4de6-9ec7-8d933c4a1d4c"
      },
      "execution_count": 41,
      "outputs": [
        {
          "output_type": "stream",
          "name": "stdout",
          "text": [
            "Image size: 256 X 256\n",
            "Patch size: 16 X 16\n",
            "256 patches per image \n",
            "768 elements per patch\n"
          ]
        },
        {
          "output_type": "display_data",
          "data": {
            "text/plain": [
              "<Figure size 288x288 with 1 Axes>"
            ],
            "image/png": "[encoded data removed]"
          },
          "metadata": {
            "needs_background": "light"
          }
        },
        {
          "output_type": "display_data",
          "data": {
            "text/plain": [
              "<Figure size 288x288 with 256 Axes>"
            ],
            "image/png": "[encoded data removed]"
          },
          "metadata": {
            "needs_background": "light"
          }
        }
      ]
    },
    {
      "cell_type": "markdown",
      "source": [
        "## Training Model - 1"
      ],
      "metadata": {
        "id": "04BCTZXL3VuO"
      }
    },
    {
      "cell_type": "markdown",
      "source": [
        "### Callbacks"
      ],
      "metadata": {
        "id": "Gj6fpevH4EGo"
      }
    },
    {
      "cell_type": "code",
      "source": [
        "callbackHelper = CallbackHelper(workspace)\n",
        "model_checkpoint = callbackHelper.create_callback(callback_name=\"MC\",experiment=\"/model-1\")\n",
        "tensorboard_callback = callbackHelper.create_callback(callback_name=\"TB\",experiment=\"/model-1\")\n",
        "early_stop_callback = callbackHelper.create_callback(callback_name=\"ES\")\n",
        "tqdm_callback = callbackHelper.create_callback(callback_name=\"TQDM\")\n",
        "callback_list = [tqdm_callback,model_checkpoint,tensorboard_callback,early_stop_callback,early_stop_callback]"
      ],
      "metadata": {
        "colab": {
          "base_uri": "https://localhost:8080/"
        },
        "id": "COD3pNl1VFas",
        "outputId": "41a70274-b209-487e-ff38-a30729a33d03"
      },
      "execution_count": 42,
      "outputs": [
        {
          "output_type": "stream",
          "name": "stdout",
          "text": [
            "Log file used =  /content/drive/MyDrive/01_LJMU_UPGRAD/experiments/final-thesis-lab/workspace/logs/model-1/20221124-143239/MC\n",
            "Log file used =  /content/drive/MyDrive/01_LJMU_UPGRAD/experiments/final-thesis-lab/workspace/logs/model-1/20221124-143239/TB\n"
          ]
        }
      ]
    },
    {
      "cell_type": "markdown",
      "source": [
        "### Compile"
      ],
      "metadata": {
        "id": "fSVn2GUs97S1"
      }
    },
    {
      "cell_type": "code",
      "source": [
        "callback_list"
      ],
      "metadata": {
        "colab": {
          "base_uri": "https://localhost:8080/"
        },
        "id": "lBMbiFLv-9rT",
        "outputId": "4f377119-bc8c-4b23-ad40-1f489e057571"
      },
      "execution_count": 43,
      "outputs": [
        {
          "output_type": "execute_result",
          "data": {
            "text/plain": [
              "[<tensorflow_addons.callbacks.tqdm_progress_bar.TQDMProgressBar at 0x7fa3cc61cd90>,\n",
              " <keras.callbacks.ModelCheckpoint at 0x7fa3cc62a450>,\n",
              " <keras.callbacks.TensorBoard at 0x7fa3f3882650>,\n",
              " <keras.callbacks.EarlyStopping at 0x7fa3cc561fd0>,\n",
              " <keras.callbacks.EarlyStopping at 0x7fa3cc561fd0>]"
            ]
          },
          "metadata": {},
          "execution_count": 43
        }
      ]
    },
    {
      "cell_type": "code",
      "source": [
        "vm_lr_1 = 1e-4\n",
        "vit_model_1.compile(optimizer=tf.keras.optimizers.RMSprop(learning_rate=vm_lr_1),\n",
        "              loss=\"mean_squared_error\",\n",
        "              metrics=\"mean_absolute_error\")"
      ],
      "metadata": {
        "id": "YtvfjkFIx9kz"
      },
      "execution_count": 44,
      "outputs": []
    },
    {
      "cell_type": "markdown",
      "source": [
        "### Fit Model"
      ],
      "metadata": {
        "id": "eHKdJwcj91tw"
      }
    },
    {
      "cell_type": "code",
      "source": [
        "batch = 10\n",
        "num_epochs = 20\n",
        "\n",
        "hist_model_1 = vit_model_1.fit(\n",
        "        sample50_train_gen,\n",
        "        validation_data = sample50_test_gen,\n",
        "        batch_size=batch,\n",
        "        epochs=num_epochs,\n",
        "        callbacks= callback_list\n",
        "    )"
      ],
      "metadata": {
        "colab": {
          "base_uri": "https://localhost:8080/",
          "height": 793,
          "referenced_widgets": [
            "4942fd87a8dd4db6bde34772544e33ea",
            "cbe0bb4d7fd844f59b1c140cee10dbdd",
            "c69e581a240f4c3ab437336bf01faa6d",
            "a8a28474b366423ca1fe46d9660b153d",
            "eb39f9fc6065464aa2c7c4ebfec7bf7d",
            "c6ee45d71be04ac394ca3561489fd6d2",
            "3f98117b84fe4380a7e99fb775e685d0",
            "0073c5712c6e4d04b1bf74946ab4044c",
            "d3c2293d08f94cdebdd79e33d7600fde",
            "2dac55d0c72e4e0280ac50d9238d98fc",
            "0fe52a8ab37746da8b1dc7b0625563e0",
            "4b5ff4dff9b14136af5edd4c5bf13819",
            "ee17df8632404392b9d411495261b364",
            "71f29b752d6040919c5d43b87ba32157",
            "21572977fe0c4d75b3f1e5fdebb45d7d",
            "22215fb412914712bccca9772910bdb0",
            "85f239bbe3b049f890fffba52066d197",
            "e517197cb55148e0b356a39ae8ba9328",
            "9f4b4682e3694ede8dc5abf6140bb309",
            "6e4cee4b29234b5bb6e8f8bcff2f42ed",
            "9cf0515b91f6414cba3eac730dc1abc5",
            "5c60a58ef9304a419d7c9b9e2d4f4478",
            "14f6e8af721b41dc9cdc547a3b031e6e",
            "409803d12cbd421c9215ac6b6be01ab7",
            "4784bcacf43e4eb6b13c20cc6d124094",
            "e2d3f8442d134eb28f8a95e6d500ed8e",
            "a8cf46f913984af6b91972691918be0e",
            "5d0957f21ca3488c95410b77dda7fabb",
            "69d4f043a2d54d5cac90919634d170a8",
            "40807c3719ff409596519e244c54ed3c",
            "33921484abdf46aa9c1c21b98d590c4b",
            "4902bd0c28254cce988772c98f836cef",
            "73a19a72178842ce8f6b50106bbb9c76",
            "e126e8b866f2401996fcb510f2ece154",
            "8876d9326487422989c94b986b8f008e",
            "be928391587f4f58854966363a2189bd",
            "10a6e2b3dddf42da8e044ca10079e324",
            "8da3afaa09ec41bea97fbab8cc15c78f",
            "ca123859ba8e4f45a300ae1e3be86e67",
            "e516c923ca5c43589840055a2e8285f7",
            "5398661649e44977ba18fe059cb0d557",
            "d37135a222fc45a69aa2092f83c3dece",
            "6858c90aaa6047cbb81f8d50a7563980",
            "540a5bd9234b48219334780519a3f12d",
            "8f2dc5c7620a4873af64889130d642cd",
            "cf78fa11a2804d26a47e5fd9d91ca3c4",
            "6abbb9bc64ff44ce9142185ba6f51aa0",
            "e94d1861029f4a3e9e6e2ebc910abdf5",
            "a4e92c325d0f42a6aac437ba93bc2c95",
            "b985a433beca49cc910e1c80aed8be3c",
            "2e130680f9ec4413b2a4b49f7497ee77",
            "4eed59190f6847039630afd52a6b460a",
            "58828cf940864f66b61025da58be4697",
            "6c7fd8a892b341209e1e1d29a70079be",
            "b308f2c37be9456db079e3d654e22a08",
            "03b8eb6475334b40bdb659033573ea34",
            "0f37f141f2dc4fd1b353f5e4a6200780",
            "59a3b92efd064aa38728befae8557b36",
            "458667decba7438cb1421c659eb49ce4",
            "069e8d147eba46ad877ee6ce3546cfd8",
            "98f711fd49cc405889f92f02c91782d3",
            "4e25c2f926ce4b89b97ec48b17327bdd",
            "57683ba057584b96bcc2dbee015a3e6c",
            "823103e9f54f4b16ba0928cbb8788dc1",
            "fa61f6e027894bc4a9ec1a8c7eda69f9",
            "2d7b86c42599489dbdca324122a2dce7",
            "23e0c8a2cee24f7ca844a9bf82bc37b8",
            "2cbf44bf94004b3ab9a4293ba87f0b9f",
            "6b7205e84d1c410583708e18a2f0cf7d",
            "0a4aec3557e94621b2359d370383512f",
            "443021aa6cea402bbe1e9927cd5272f5",
            "f7faca4216274bdd8a54ff99fc48d78c",
            "7caeb3bfd98346d3b741874d1f831fef",
            "6594c4e2b0da42a4b83e0d61076699d6",
            "bdf62450959e4e26ab9fdd06070a03ab",
            "8b199dab530f4b11b3bf5681433cde68",
            "869e8f0c83524f83a94e0f7ddcf17771",
            "717472d2e56e42e0a4ab23493caad358",
            "9e8dd7a3e53c4fbb945e40229cc7c01e",
            "e6125259c2cd4a8087b1e4508de551d5",
            "e8a1e75329e146d69a16af6bc4f4fe24",
            "655e1fd4dc15407c92f20e58246c0044",
            "41200885c8c54e889fb8ec3b9ac130ca",
            "33ddb9bc4ff04be1aa45c0f9b1457460",
            "1f14d1a7525243b2bb707eb2db3389e9",
            "ec8d3a6bc8ba4de6929f38f597704e1d",
            "43b080f50c82474380be4f4fcfe23803",
            "0256f114e97f4dad90b78c5467af8e8f"
          ]
        },
        "id": "c2T-VaKR790A",
        "outputId": "2bfa24c6-8f30-4f5f-ec37-9a3f6dc74778"
      },
      "execution_count": 45,
      "outputs": [
        {
          "output_type": "display_data",
          "data": {
            "text/plain": [
              "Training:   0%|           0/20 ETA: ?s,  ?epochs/s"
            ],
            "application/vnd.jupyter.widget-view+json": {
              "version_major": 2,
              "version_minor": 0,
              "model_id": "4942fd87a8dd4db6bde34772544e33ea"
            }
          },
          "metadata": {}
        },
        {
          "output_type": "stream",
          "name": "stdout",
          "text": [
            "Epoch 1/20\n"
          ]
        },
        {
          "output_type": "display_data",
          "data": {
            "text/plain": [
              "0/36           ETA: ?s - "
            ],
            "application/vnd.jupyter.widget-view+json": {
              "version_major": 2,
              "version_minor": 0,
              "model_id": "4b5ff4dff9b14136af5edd4c5bf13819"
            }
          },
          "metadata": {}
        },
        {
          "output_type": "stream",
          "name": "stdout",
          "text": [
            "Epoch 1/20\n",
            "36/36 [==============================] - ETA: 0s - loss: 22.3503 - mean_absolute_error: 3.8873"
          ]
        },
        {
          "output_type": "stream",
          "name": "stderr",
          "text": [
            "WARNING:absl:Found untraced functions such as dense_layer_call_fn, dense_layer_call_and_return_conditional_losses, embedding_layer_call_fn, embedding_layer_call_and_return_conditional_losses, query_layer_call_fn while saving (showing 5 of 52). These functions will not be directly callable after loading.\n"
          ]
        },
        {
          "output_type": "stream",
          "name": "stdout",
          "text": [
            "\b\b\b\b\b\b\b\b\b\b\b\b\b\b\b\b\b\b\b\b\b\b\b\b\b\b\b\b\b\b\b\b\b\b\b\b\b\b\b\b\b\b\b\b\b\b\b\b\b\b\b\b\b\b\b\b\b\b\b\b\b\b\b\b\b\b\b\b\b\b\b\b\b\b\b\b\b\b\b\b\b\b\b\b\b\b\b\b\b\b\b\b\b\b\r36/36 [==============================] - 43s 946ms/step - loss: 22.3503 - mean_absolute_error: 3.8873 - val_loss: 1.4547 - val_mean_absolute_error: 1.0726\n",
            "Epoch 2/20\n"
          ]
        },
        {
          "output_type": "display_data",
          "data": {
            "text/plain": [
              "0/36           ETA: ?s - "
            ],
            "application/vnd.jupyter.widget-view+json": {
              "version_major": 2,
              "version_minor": 0,
              "model_id": "14f6e8af721b41dc9cdc547a3b031e6e"
            }
          },
          "metadata": {}
        },
        {
          "output_type": "stream",
          "name": "stdout",
          "text": [
            "Epoch 2/20\n",
            "36/36 [==============================] - ETA: 0s - loss: 12.3798 - mean_absolute_error: 2.8575"
          ]
        },
        {
          "output_type": "stream",
          "name": "stderr",
          "text": [
            "WARNING:absl:Found untraced functions such as dense_layer_call_fn, dense_layer_call_and_return_conditional_losses, embedding_layer_call_fn, embedding_layer_call_and_return_conditional_losses, query_layer_call_fn while saving (showing 5 of 52). These functions will not be directly callable after loading.\n"
          ]
        },
        {
          "output_type": "stream",
          "name": "stdout",
          "text": [
            "\b\b\b\b\b\b\b\b\b\b\b\b\b\b\b\b\b\b\b\b\b\b\b\b\b\b\b\b\b\b\b\b\b\b\b\b\b\b\b\b\b\b\b\b\b\b\b\b\b\b\b\b\b\b\b\b\b\b\b\b\b\b\b\b\b\b\b\b\b\b\b\b\b\b\b\b\b\b\b\b\b\b\b\b\b\b\b\b\b\b\b\b\b\b\r36/36 [==============================] - 32s 896ms/step - loss: 12.3798 - mean_absolute_error: 2.8575 - val_loss: 0.9731 - val_mean_absolute_error: 0.7624\n",
            "Epoch 3/20\n"
          ]
        },
        {
          "output_type": "display_data",
          "data": {
            "text/plain": [
              "0/36           ETA: ?s - "
            ],
            "application/vnd.jupyter.widget-view+json": {
              "version_major": 2,
              "version_minor": 0,
              "model_id": "e126e8b866f2401996fcb510f2ece154"
            }
          },
          "metadata": {}
        },
        {
          "output_type": "stream",
          "name": "stdout",
          "text": [
            "Epoch 3/20\n",
            "36/36 [==============================] - ETA: 0s - loss: 5.4256 - mean_absolute_error: 1.8478"
          ]
        },
        {
          "output_type": "stream",
          "name": "stderr",
          "text": [
            "WARNING:absl:Found untraced functions such as dense_layer_call_fn, dense_layer_call_and_return_conditional_losses, embedding_layer_call_fn, embedding_layer_call_and_return_conditional_losses, query_layer_call_fn while saving (showing 5 of 52). These functions will not be directly callable after loading.\n"
          ]
        },
        {
          "output_type": "stream",
          "name": "stdout",
          "text": [
            "\b\b\b\b\b\b\b\b\b\b\b\b\b\b\b\b\b\b\b\b\b\b\b\b\b\b\b\b\b\b\b\b\b\b\b\b\b\b\b\b\b\b\b\b\b\b\b\b\b\b\b\b\b\b\b\b\b\b\b\b\b\b\b\b\b\b\b\b\b\b\b\b\b\b\b\b\b\b\b\b\b\b\b\b\b\b\b\b\b\b\b\b\b\r36/36 [==============================] - 32s 894ms/step - loss: 5.4256 - mean_absolute_error: 1.8478 - val_loss: 1.6064 - val_mean_absolute_error: 0.8868\n",
            "Epoch 4/20\n"
          ]
        },
        {
          "output_type": "display_data",
          "data": {
            "text/plain": [
              "0/36           ETA: ?s - "
            ],
            "application/vnd.jupyter.widget-view+json": {
              "version_major": 2,
              "version_minor": 0,
              "model_id": "8f2dc5c7620a4873af64889130d642cd"
            }
          },
          "metadata": {}
        },
        {
          "output_type": "stream",
          "name": "stdout",
          "text": [
            "Epoch 4/20\n",
            "36/36 [==============================] - ETA: 0s - loss: 3.3589 - mean_absolute_error: 1.4640"
          ]
        },
        {
          "output_type": "stream",
          "name": "stderr",
          "text": [
            "WARNING:absl:Found untraced functions such as dense_layer_call_fn, dense_layer_call_and_return_conditional_losses, embedding_layer_call_fn, embedding_layer_call_and_return_conditional_losses, query_layer_call_fn while saving (showing 5 of 52). These functions will not be directly callable after loading.\n"
          ]
        },
        {
          "output_type": "stream",
          "name": "stdout",
          "text": [
            "\b\b\b\b\b\b\b\b\b\b\b\b\b\b\b\b\b\b\b\b\b\b\b\b\b\b\b\b\b\b\b\b\b\b\b\b\b\b\b\b\b\b\b\b\b\b\b\b\b\b\b\b\b\b\b\b\b\b\b\b\b\b\b\b\b\b\b\b\b\b\b\b\b\b\b\b\b\b\b\b\b\b\b\b\b\b\b\b\b\b\b\b\b\r36/36 [==============================] - 32s 894ms/step - loss: 3.3589 - mean_absolute_error: 1.4640 - val_loss: 1.7880 - val_mean_absolute_error: 0.9541\n",
            "Epoch 5/20\n"
          ]
        },
        {
          "output_type": "display_data",
          "data": {
            "text/plain": [
              "0/36           ETA: ?s - "
            ],
            "application/vnd.jupyter.widget-view+json": {
              "version_major": 2,
              "version_minor": 0,
              "model_id": "03b8eb6475334b40bdb659033573ea34"
            }
          },
          "metadata": {}
        },
        {
          "output_type": "stream",
          "name": "stdout",
          "text": [
            "Epoch 5/20\n",
            "36/36 [==============================] - ETA: 0s - loss: 3.5791 - mean_absolute_error: 1.5124"
          ]
        },
        {
          "output_type": "stream",
          "name": "stderr",
          "text": [
            "WARNING:absl:Found untraced functions such as dense_layer_call_fn, dense_layer_call_and_return_conditional_losses, embedding_layer_call_fn, embedding_layer_call_and_return_conditional_losses, query_layer_call_fn while saving (showing 5 of 52). These functions will not be directly callable after loading.\n"
          ]
        },
        {
          "output_type": "stream",
          "name": "stdout",
          "text": [
            "\b\b\b\b\b\b\b\b\b\b\b\b\b\b\b\b\b\b\b\b\b\b\b\b\b\b\b\b\b\b\b\b\b\b\b\b\b\b\b\b\b\b\b\b\b\b\b\b\b\b\b\b\b\b\b\b\b\b\b\b\b\b\b\b\b\b\b\b\b\b\b\b\b\b\b\b\b\b\b\b\b\b\b\b\b\b\b\b\b\b\b\b\b\r36/36 [==============================] - 31s 888ms/step - loss: 3.5791 - mean_absolute_error: 1.5124 - val_loss: 1.9023 - val_mean_absolute_error: 1.2530\n",
            "Epoch 6/20\n"
          ]
        },
        {
          "output_type": "display_data",
          "data": {
            "text/plain": [
              "0/36           ETA: ?s - "
            ],
            "application/vnd.jupyter.widget-view+json": {
              "version_major": 2,
              "version_minor": 0,
              "model_id": "23e0c8a2cee24f7ca844a9bf82bc37b8"
            }
          },
          "metadata": {}
        },
        {
          "output_type": "stream",
          "name": "stdout",
          "text": [
            "Epoch 6/20\n",
            "36/36 [==============================] - ETA: 0s - loss: 3.1531 - mean_absolute_error: 1.4048"
          ]
        },
        {
          "output_type": "stream",
          "name": "stderr",
          "text": [
            "WARNING:absl:Found untraced functions such as dense_layer_call_fn, dense_layer_call_and_return_conditional_losses, embedding_layer_call_fn, embedding_layer_call_and_return_conditional_losses, query_layer_call_fn while saving (showing 5 of 52). These functions will not be directly callable after loading.\n"
          ]
        },
        {
          "output_type": "stream",
          "name": "stdout",
          "text": [
            "\b\b\b\b\b\b\b\b\b\b\b\b\b\b\b\b\b\b\b\b\b\b\b\b\b\b\b\b\b\b\b\b\b\b\b\b\b\b\b\b\b\b\b\b\b\b\b\b\b\b\b\b\b\b\b\b\b\b\b\b\b\b\b\b\b\b\b\b\b\b\b\b\b\b\b\b\b\b\b\b\b\b\b\b\b\b\b\b\b\b\b\b\b\r36/36 [==============================] - 33s 924ms/step - loss: 3.1531 - mean_absolute_error: 1.4048 - val_loss: 1.7975 - val_mean_absolute_error: 0.9653\n",
            "Epoch 7/20\n"
          ]
        },
        {
          "output_type": "display_data",
          "data": {
            "text/plain": [
              "0/36           ETA: ?s - "
            ],
            "application/vnd.jupyter.widget-view+json": {
              "version_major": 2,
              "version_minor": 0,
              "model_id": "717472d2e56e42e0a4ab23493caad358"
            }
          },
          "metadata": {}
        },
        {
          "output_type": "stream",
          "name": "stdout",
          "text": [
            "Epoch 7/20\n",
            "36/36 [==============================] - ETA: 0s - loss: 2.7122 - mean_absolute_error: 1.2739"
          ]
        },
        {
          "output_type": "stream",
          "name": "stderr",
          "text": [
            "WARNING:absl:Found untraced functions such as dense_layer_call_fn, dense_layer_call_and_return_conditional_losses, embedding_layer_call_fn, embedding_layer_call_and_return_conditional_losses, query_layer_call_fn while saving (showing 5 of 52). These functions will not be directly callable after loading.\n"
          ]
        },
        {
          "output_type": "stream",
          "name": "stdout",
          "text": [
            "\b\b\b\b\b\b\b\b\b\b\b\b\b\b\b\b\b\b\b\b\b\b\b\b\b\b\b\b\b\b\b\b\b\b\b\b\b\b\b\b\b\b\b\b\b\b\b\b\b\b\b\b\b\b\b\b\b\b\b\b\b\b\b\b\b\b\b\b\b\b\b\b\b\b\b\b\b\b\b\b\b\b\b\b\b\b\b\b\b\b\b\b\b\r36/36 [==============================] - 32s 909ms/step - loss: 2.7122 - mean_absolute_error: 1.2739 - val_loss: 1.1268 - val_mean_absolute_error: 0.7840\n"
          ]
        }
      ]
    },
    {
      "cell_type": "code",
      "source": [
        "print(STOP HERE)"
      ],
      "metadata": {
        "colab": {
          "base_uri": "https://localhost:8080/",
          "height": 134
        },
        "id": "qDmgcaZ7bXRY",
        "outputId": "04aaf76c-c1c3-4b44-9c01-f1d249f2a36f"
      },
      "execution_count": 46,
      "outputs": [
        {
          "output_type": "error",
          "ename": "SyntaxError",
          "evalue": "ignored",
          "traceback": [
            "\u001b[0;36m  File \u001b[0;32m\"<ipython-input-46-0f3958852a5c>\"\u001b[0;36m, line \u001b[0;32m1\u001b[0m\n\u001b[0;31m    print(STOP HERE)\u001b[0m\n\u001b[0m                  ^\u001b[0m\n\u001b[0;31mSyntaxError\u001b[0m\u001b[0;31m:\u001b[0m invalid syntax\n"
          ]
        }
      ]
    },
    {
      "cell_type": "markdown",
      "source": [
        "## Tensorboard"
      ],
      "metadata": {
        "id": "aRd6Mia3OmRZ"
      }
    },
    {
      "cell_type": "markdown",
      "source": [
        "### Upload to tensorboard"
      ],
      "metadata": {
        "id": "VHl63Ow8-Bbw"
      }
    },
    {
      "cell_type": "code",
      "source": [
        "%load_ext tensorboard"
      ],
      "metadata": {
        "id": "u4YKezbZFg1e"
      },
      "execution_count": null,
      "outputs": []
    },
    {
      "cell_type": "code",
      "source": [
        "%tensorboard --logdir '/content/drive/MyDrive/01_LJMU_UPGRAD/experiments/final-thesis-lab/workspace/logs/model_1/20221124-091938/tensorboard/' "
      ],
      "metadata": {
        "id": "5Z9_usNWOOkZ"
      },
      "execution_count": null,
      "outputs": []
    },
    {
      "cell_type": "code",
      "source": [
        "!tensorboard dev upload --logdir '/content/drive/MyDrive/01_LJMU_UPGRAD/experiments/final-thesis-lab/workspace/logs/model_1/20221124-091938/tensorboard/' --name \"Prototype - 50\" --description \"Training on 50 sample dish images\" "
      ],
      "metadata": {
        "id": "_dbaPXSo9nDP"
      },
      "execution_count": null,
      "outputs": []
    },
    {
      "cell_type": "code",
      "source": [
        "hist_model_1"
      ],
      "metadata": {
        "id": "l_90ItN69SED"
      },
      "execution_count": null,
      "outputs": []
    },
    {
      "cell_type": "markdown",
      "source": [
        "### Plot Function"
      ],
      "metadata": {
        "id": "XRVt3Dzx8jvI"
      }
    },
    {
      "cell_type": "code",
      "source": [
        "plt.plot(hist_model_1.history[\"loss\"], label=\"train_loss\")\n",
        "plt.plot(hist_model_1.history[\"val_loss\"], label=\"val_loss\")\n",
        "plt.plot(hist_model_1.history[\"mean_absolute_error\"], label=\"MAE\")\n",
        "plt.plot(hist_model_1.history[\"val_mean_absolute_error\"], label=\"VAL MAE\")\n",
        "plt.xlabel(\"Epochs\")\n",
        "plt.ylabel(\"Loss\")\n",
        "plt.title(\"Train and Validation Losses Over Epochs\", fontsize=14)\n",
        "plt.legend()\n",
        "plt.grid()\n",
        "plt.show()\n",
        "plt.show()"
      ],
      "metadata": {
        "id": "HxDj0Bb79HHy"
      },
      "execution_count": null,
      "outputs": []
    },
    {
      "cell_type": "code",
      "source": [],
      "metadata": {
        "id": "hZK3JkDu88DR"
      },
      "execution_count": null,
      "outputs": []
    }
  ]
}